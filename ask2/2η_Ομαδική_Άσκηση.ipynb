{
  "cells": [
    {
      "cell_type": "markdown",
      "metadata": {
        "id": "LpnEVMCYYlnD"
      },
      "source": [
        "#2η ομαδική εργασία στη Τεχνολογία και Ανάλυση Εικόνων και Βίντεο"
      ]
    },
    {
      "cell_type": "markdown",
      "metadata": {
        "id": "KcMSgYIbjZgu"
      },
      "source": [
        "# Θεωριτικό μέρος."
      ]
    },
    {
      "cell_type": "markdown",
      "metadata": {
        "id": "lvG4W5FmjZgu"
      },
      "source": [
        "## Άρθρο 1 - US AI Letters in post office.\n",
        "1. Όλα τα συνολα του πραγματικού κόσμου , train & test  , έχουν λάθη.\n",
        "2. Προεργασία: Κάνει την κάθε εικόνα-αριθμό απο 40 εως 60 pixel που ήταν σε 16*16 pixel. Επιπλέον κάθε εικόνα λόγω αυτης της αλλαγής γίνεται γκρί με κλίματα απο -1(ασπρο) έως 1 (μαύρο).\n",
        "3. Network: Μετά την αλλαγή του μεγέθους και της κανονικοποίησης -> κατατάσετε σε 10 κλάσεις . \n",
        "Διαδικασία της πρόβλεψης/αναγνώρησης της εικόνας:\n",
        "\n",
        "<img src=\"./network_in_a_nutshell.png\" alt=\"drawing\" width=\"800\"/>\n",
        "\n",
        "    1. weighted vector (like convolution)\n",
        "    2. 5 level of layers.\n",
        "    3. H1 & H3: shared weights\n",
        "    4. H2 & H4 : averaging/subsampling layers.\n",
        "    5. Η εικόνα ειναι 28επι28 για να υπάρχει επαρκώς χόρος αναγώρησης.\n",
        "    6. \n",
        "    7. \n",
        "\n",
        "\n",
        "    "
      ]
    },
    {
      "cell_type": "markdown",
      "metadata": {
        "id": "z7Pj3hOijZgv"
      },
      "source": [
        "## Ερώτηση 1:\n",
        "#### Περιγράψτε τη λειτουργία της Rectified Linear Unit (ReLU) :\n",
        "Η ReLU χρησιμοποιείται σαν ένας εναλλακτικός τρόπος μοντελοποίησης της εξόδου ενός νευρώνα, παρά της κλασσικής συνάρτησης \n",
        "$$f(x) = tanh(x) ή f(x) = {(1+e^{-x})}^{-1}$$ \n",
        "Ο λόγος είναι ότι οι συναρτήσεις αυτές αντί της ReLU απαιτούν περισσότερο χρόνο εκπαίδευσης αφού οι μη κορεσμένες αυτές γραμμικότητες είναι πολύ πιο αργές από την κορεσμένη μη γραμμικότητα της συνάρτησης που χρησιμοποιεί η ReLU (f(x) = max(0,x)). Έτσι, με τη χρήση της ReLU, η εκπαίδευση των βαθιών συνελικτικών νευρωνικών δικτύων γίνεται αρκετές φορές γρηγορότερα από ότι αν χρησιμοποιείτο κάποια ισοδύναμη tanh συνάρτηση. Όπως αναφέρεται και στο άρθρο (https://papers.nips.cc/paper/2012/file/c399862d3b9d6b76c8436e924a68c45b-Paper.pdf) στην παράγραφο 3.1, χωρίς τη χρήση της ReLU δε θα ήμασταν σε θέση να πειραματιστούμε με τόσο μεγάλα νευρωνικά δίκτυα εαν έπρεπε να χρησιμοποιήσουμε παραδοσιακά κορεσμένα νευρωνικά μοντέλα. Εν κατακλείδι, χρησιμοποιούμε ReLU διότι μπορούμε να εκπαιδεύσουμε γρηγορότερα κάποιο νευρωνικό δίκτυο, κάτι που έχει μεγάλο αντίκτυπο στην απόδοση μεγάλων μοντέλων που θα εκπαιδευτούν σε μεγάλα datasets.\n",
        "\n",
        "\n",
        "#### Παρουσιάστε ένα συγκριτικό πίνακα με τα επίπεδα, το μέγεθος των φίλτρων, συνάρτηση ενεργοποίησης, πλήθος παραμέτρων και τεχνικές pooling και dropout που χρησιμοποιούν τα 3 διαφορετικά δίκτυα που παρουσιάζονται στα προαναφερθέντα άρθρα και σχολιάστε επαρκώς τις διαφορές τους. Ποια χαρακτηριστικά αυτών των τριών δικτύων είναι κατά τη γνώμη σας αυτά που συνέβαλαν στη σταδιακή αύξηση της ακρίβειας ταξινόμησης.\n",
        "\n",
        "| Network's Name | Small Description| Levels| Initial Image Size| Filter's |  Function | Network's Parameters | Pooling | Dropout |\n",
        "|----------------|------------------|-------|-------------------|----------|-----------|----------------------|---------|---------|\n",
        "|LeNet           |                  |   5   |    28x28          |         |    Sigmoid|   2578 (indipendent) | Yes     |   No    |\n",
        "|AlexNet         |                  |   8   |   224x224x3       |  11x11x3, 5x5x3, 3x3x3        |    Relu   |         60 millions  |  Yes    |   Yes   | \n",
        "|VGG             |                  |   16  |   224x224x1       |          |    Relu   |        144 millions  |  Yes    |   Yes   |"
      ]
    },
    {
      "cell_type": "markdown",
      "metadata": {
        "id": "DfEMjsB4Yurm"
      },
      "source": [
        "## Εισαγωγή και επισκόπηση του συνόλου δεδομένων"
      ]
    },
    {
      "cell_type": "code",
      "execution_count": 1,
      "metadata": {
        "colab": {
          "base_uri": "https://localhost:8080/"
        },
        "id": "xqz96jwyjZgw",
        "outputId": "8688e67f-e469-4ff7-97fa-882b1016bdd7"
      },
      "outputs": [
        {
          "output_type": "stream",
          "name": "stdout",
          "text": [
            "Looking in indexes: https://pypi.org/simple, https://us-python.pkg.dev/colab-wheels/public/simple/\n",
            "Requirement already satisfied: pandas in /usr/local/lib/python3.7/dist-packages (1.3.5)\n",
            "Requirement already satisfied: pytz>=2017.3 in /usr/local/lib/python3.7/dist-packages (from pandas) (2022.1)\n",
            "Requirement already satisfied: python-dateutil>=2.7.3 in /usr/local/lib/python3.7/dist-packages (from pandas) (2.8.2)\n",
            "Requirement already satisfied: numpy>=1.17.3 in /usr/local/lib/python3.7/dist-packages (from pandas) (1.21.6)\n",
            "Requirement already satisfied: six>=1.5 in /usr/local/lib/python3.7/dist-packages (from python-dateutil>=2.7.3->pandas) (1.15.0)\n"
          ]
        }
      ],
      "source": [
        "# GPU enablen in jupeter\n",
        "%pip install pandas"
      ]
    },
    {
      "cell_type": "code",
      "execution_count": 2,
      "metadata": {
        "id": "STXQMBuN3nZ6"
      },
      "outputs": [],
      "source": [
        "from __future__ import absolute_import, division, print_function, unicode_literals # legacy compatibility\n",
        "\n",
        "import numpy as np\n",
        "import pandas as pd\n",
        "import matplotlib.pyplot as plt"
      ]
    },
    {
      "cell_type": "code",
      "execution_count": 3,
      "metadata": {
        "id": "2WSEGPI9Q7tW"
      },
      "outputs": [],
      "source": [
        "# helper functions\n",
        "\n",
        "# select from from_list elements with index in index_list\n",
        "def select_from_list(from_list, index_list):\n",
        "  filtered_list= [from_list[i] for i in index_list]\n",
        "  return(filtered_list)\n",
        "\n",
        "# append in filtered_list the index of each element of unfilterd_list if it exists in in target_list\n",
        "def get_ds_index(unfiliterd_list, target_list):\n",
        "  index = 0\n",
        "  filtered_list=[]\n",
        "  for i_ in unfiliterd_list:\n",
        "    if i_[0] in target_list:\n",
        "      filtered_list.append(index)\n",
        "    index += 1\n",
        "  return(filtered_list)\n"
      ]
    },
    {
      "cell_type": "code",
      "execution_count": 4,
      "metadata": {
        "colab": {
          "base_uri": "https://localhost:8080/"
        },
        "id": "OCW71UaGzz0Q",
        "outputId": "51adb9ab-8b5a-4492-a8bb-92a486e9c462"
      },
      "outputs": [
        {
          "output_type": "stream",
          "name": "stdout",
          "text": [
            "Downloading data from https://www.cs.toronto.edu/~kriz/cifar-100-python.tar.gz\n",
            "169009152/169001437 [==============================] - 2s 0us/step\n",
            "169017344/169001437 [==============================] - 2s 0us/step\n"
          ]
        }
      ],
      "source": [
        "# load the entire dataset\n",
        "import tensorflow as tf\n",
        "from tensorflow.keras import datasets, layers, models\n",
        "\n",
        "(x_train_all, y_train_all), (x_test_all, y_test_all) = tf.keras.datasets.cifar100.load_data(label_mode='fine')"
      ]
    },
    {
      "cell_type": "code",
      "execution_count": 5,
      "metadata": {
        "colab": {
          "base_uri": "https://localhost:8080/"
        },
        "id": "kGKYHffEE1do",
        "outputId": "bfa920c3-9ffd-43dc-80a9-e2a8c773c75c"
      },
      "outputs": [
        {
          "output_type": "stream",
          "name": "stdout",
          "text": [
            "(50000, 32, 32, 3)\n"
          ]
        }
      ],
      "source": [
        "print(x_train_all.shape)"
      ]
    },
    {
      "cell_type": "markdown",
      "metadata": {
        "id": "9PO9wIwYUf0R"
      },
      "source": [
        "Η κάθε ομάδα θα δουλέψει με διαφορετικό υποσύνολο του dataset.\n",
        "Στο επόμενο κελί, αντικαταστήστε την τιμή της μεταβλητής `team_seed` με τον αριθμό που αντιστοιχεί στην ομάδας σας. "
      ]
    },
    {
      "cell_type": "code",
      "execution_count": 6,
      "metadata": {
        "id": "NN0kEze7uZ_G"
      },
      "outputs": [],
      "source": [
        "# REPLACE WITH YOUR TEAM NUMBER\n",
        "team_seed = 88"
      ]
    },
    {
      "cell_type": "code",
      "execution_count": 7,
      "metadata": {
        "id": "RhbZJW6PxUDJ"
      },
      "outputs": [],
      "source": [
        "# select from CIFAR100 20 classes\n",
        "cifar100_classes_url = \"https://pastebin.com/raw/nzE1n98V\""
      ]
    },
    {
      "cell_type": "markdown",
      "metadata": {
        "id": "yO9f6wb0Wi0H"
      },
      "source": [
        "Δημιουργούμε το μοναδικό dataset της ομάδας μας:"
      ]
    },
    {
      "cell_type": "code",
      "execution_count": 8,
      "metadata": {
        "id": "PgIN2h_KuCp_"
      },
      "outputs": [],
      "source": [
        "team_classes = pd.read_csv(cifar100_classes_url, sep=',', header=None)\n",
        "CIFAR100_LABELS_LIST = pd.read_csv('https://pastebin.com/raw/qgDaNggt', sep=',', header=None).astype(str).values.tolist()[0]\n",
        "\n",
        "our_index = team_classes.iloc[team_seed,:].values.tolist()\n",
        "our_classes = select_from_list(CIFAR100_LABELS_LIST, our_index)\n",
        "train_index = get_ds_index(y_train_all, our_index)\n",
        "test_index = get_ds_index(y_test_all, our_index)\n",
        "\n",
        "x_train_ds = np.asarray(select_from_list(x_train_all, train_index))\n",
        "y_train_ds = np.asarray(select_from_list(y_train_all, train_index))\n",
        "x_test_ds = np.asarray(select_from_list(x_test_all, test_index))\n",
        "y_test_ds = np.asarray(select_from_list(y_test_all, test_index))"
      ]
    },
    {
      "cell_type": "code",
      "execution_count": 9,
      "metadata": {
        "colab": {
          "base_uri": "https://localhost:8080/"
        },
        "id": "_B4-tvVOQq3j",
        "outputId": "e3020382-3c54-4ac0-c982-7e913bbcdb31"
      },
      "outputs": [
        {
          "output_type": "stream",
          "name": "stdout",
          "text": [
            "[' baby', ' bowl', ' bridge', ' crab', ' cup', ' dinosaur', ' fox', ' hamster', ' maple_tree', ' poppy', ' rabbit', ' road', ' streetcar', ' tank', ' television', ' tractor', ' train', ' turtle', ' whale', ' worm']\n"
          ]
        }
      ],
      "source": [
        "# print our classes\n",
        "print(our_classes)"
      ]
    },
    {
      "cell_type": "code",
      "execution_count": 10,
      "metadata": {
        "colab": {
          "base_uri": "https://localhost:8080/"
        },
        "id": "bk5wy0u7GGMj",
        "outputId": "16c6e964-0a46-478b-fc93-74f4adff0add"
      },
      "outputs": [
        {
          "output_type": "stream",
          "name": "stdout",
          "text": [
            "(32, 32, 3)\n"
          ]
        }
      ],
      "source": [
        "print(x_train_ds[1].shape)"
      ]
    },
    {
      "cell_type": "code",
      "execution_count": 11,
      "metadata": {
        "colab": {
          "base_uri": "https://localhost:8080/",
          "height": 442
        },
        "id": "QpGXgTs_5ZCk",
        "outputId": "06a5dbbf-8ed0-4b72-8066-b5a2c2e342ed"
      },
      "outputs": [
        {
          "output_type": "stream",
          "name": "stdout",
          "text": [
            "Train: X=(8500, 32, 32, 3), y=(8500, 1)\n",
            "Validation: X=(1500, 32, 32, 3), y=(1500, 1)\n",
            "Test: X=(2000, 32, 32, 3), y=(2000, 1)\n"
          ]
        },
        {
          "output_type": "display_data",
          "data": {
            "text/plain": [
              "<Figure size 432x432 with 9 Axes>"
            ],
            "image/png": "[encoded data removed]"
          },
          "metadata": {
            "needs_background": "light"
          }
        }
      ],
      "source": [
        "# get (train) dataset dimensions\n",
        "data_size, img_rows, img_cols, img_channels = x_train_ds.shape\n",
        "\n",
        "# set validation set percentage (wrt the training set size)\n",
        "validation_percentage = 0.15\n",
        "val_size = round(validation_percentage * data_size)\n",
        "\n",
        "# Reserve val_size samples for validation and normalize all values\n",
        "x_val = x_train_ds[-val_size:]/255\n",
        "y_val = y_train_ds[-val_size:]\n",
        "x_train = x_train_ds[:-val_size]/255\n",
        "y_train = y_train_ds[:-val_size]\n",
        "x_test = x_test_ds/255\n",
        "y_test = y_test_ds\n",
        "\n",
        "# summarize loaded dataset\n",
        "print('Train: X=%s, y=%s' % (x_train.shape, y_train.shape))\n",
        "print('Validation: X=%s, y=%s' % (x_val.shape, y_val.shape))\n",
        "print('Test: X=%s, y=%s' % (x_test.shape, y_test.shape))\n",
        "\n",
        "# get class label from class index\n",
        "def class_label_from_index(fine_category):\n",
        "  return(CIFAR100_LABELS_LIST[fine_category.item(0)])\n",
        "\n",
        "# plot first few images\n",
        "plt.figure(figsize=(6, 6))\n",
        "for i in range(9):\n",
        "\t# define subplot\n",
        "  plt.subplot(330 + 1 + i).set_title(class_label_from_index(y_train[i]))\n",
        "\t# plot raw pixel data\n",
        "  plt.imshow(x_train[i], cmap=plt.get_cmap('gray'))\n",
        "  #show the figure\n",
        "plt.show()"
      ]
    },
    {
      "cell_type": "markdown",
      "metadata": {
        "id": "iAgowxR8oJH7"
      },
      "source": [
        "## Ερώτημα 1\n",
        "---\n",
        "#### Βήμα 1: Σχεδίαση, μεταγλώττιση και εκπαίδευση των μοντέλων\n",
        "\n",
        " 1. Σχεδίαστε, μεταγλωττίστε και εκπαιδεύστε τα μοντέλα  **LeNet, AlexNet και  VGG**, καθώς και ένα δικό σας μοντέλο (ονομάστε το π.χ. **MyCNN**) χρησιμοποιώντας διαφορετικούς συνδυασμούς (τουλάχιστον 2 ανά μοντέλο) για [optimizer](https://keras.io/api/optimizers/), [loss](https://keras.io/api/losses/), batch size και epoch.  Για [metrics](https://keras.io/api/metrics/) να χρησιμοποιήσετε την ορθότητα (όπως στο Lab8.1).\n",
        "---\n"
      ]
    },
    {
      "cell_type": "code",
      "execution_count": 12,
      "metadata": {
        "colab": {
          "base_uri": "https://localhost:8080/"
        },
        "id": "9BWewfk9jZg2",
        "outputId": "a9ceec34-6f5d-4f2d-c9ba-2354669429c0"
      },
      "outputs": [
        {
          "output_type": "stream",
          "name": "stdout",
          "text": [
            "ternsorflow:  2.8.0\n",
            "WARNING:tensorflow:From <ipython-input-12-8cc37c5731bf>:6: is_gpu_available (from tensorflow.python.framework.test_util) is deprecated and will be removed in a future version.\n",
            "Instructions for updating:\n",
            "Use `tf.config.list_physical_devices('GPU')` instead.\n",
            "GPU:  True\n"
          ]
        }
      ],
      "source": [
        "import tensorflow as tf\n",
        "from tensorflow.keras import datasets, layers, models\n",
        "import matplotlib.pyplot as plt\n",
        "print(\"ternsorflow: \",tf.__version__)\n",
        "# print GPU\n",
        "print(\"GPU: \", tf.test.is_gpu_available())"
      ]
    },
    {
      "cell_type": "markdown",
      "metadata": {
        "id": "kwlzouDVjZg2"
      },
      "source": [
        "LeNet"
      ]
    },
    {
      "cell_type": "code",
      "execution_count": 13,
      "metadata": {
        "colab": {
          "base_uri": "https://localhost:8080/"
        },
        "id": "mvz8ad5XjZg2",
        "outputId": "5204a5c7-2a89-4d9c-c032-b4319373f4cc"
      },
      "outputs": [
        {
          "output_type": "stream",
          "name": "stdout",
          "text": [
            "Conv2D output shape: \t (1, 32, 32, 6)\n",
            "AveragePooling2D output shape: \t (1, 16, 16, 6)\n",
            "Conv2D output shape: \t (1, 12, 12, 16)\n",
            "AveragePooling2D output shape: \t (1, 6, 6, 16)\n",
            "Flatten output shape: \t (1, 576)\n",
            "Dense output shape: \t (1, 120)\n",
            "Dense output shape: \t (1, 84)\n",
            "Dense output shape: \t (1, 20)\n",
            "Model: \"sequential_1\"\n",
            "_________________________________________________________________\n",
            " Layer (type)                Output Shape              Param #   \n",
            "=================================================================\n",
            " conv2d_2 (Conv2D)           (None, 32, 32, 6)         456       \n",
            "                                                                 \n",
            " average_pooling2d_2 (Averag  (None, 16, 16, 6)        0         \n",
            " ePooling2D)                                                     \n",
            "                                                                 \n",
            " conv2d_3 (Conv2D)           (None, 12, 12, 16)        2416      \n",
            "                                                                 \n",
            " average_pooling2d_3 (Averag  (None, 6, 6, 16)         0         \n",
            " ePooling2D)                                                     \n",
            "                                                                 \n",
            " flatten_1 (Flatten)         (None, 576)               0         \n",
            "                                                                 \n",
            " dense_3 (Dense)             (None, 120)               69240     \n",
            "                                                                 \n",
            " dense_4 (Dense)             (None, 84)                10164     \n",
            "                                                                 \n",
            " dense_5 (Dense)             (None, 20)                1700      \n",
            "                                                                 \n",
            "=================================================================\n",
            "Total params: 83,976\n",
            "Trainable params: 83,976\n",
            "Non-trainable params: 0\n",
            "_________________________________________________________________\n"
          ]
        }
      ],
      "source": [
        "#LeNet Architecture\n",
        "def LeNet_with_parameters ():\n",
        "    model =models.Sequential()\n",
        "    model.add(layers.Conv2D(filters=6, kernel_size=5, activation='sigmoid', padding='same', input_shape=(32,32,3)))\n",
        "    model.add(layers.AvgPool2D(pool_size=2, strides=2))\n",
        "    model.add(layers.Conv2D(filters=16, kernel_size=5, activation='sigmoid'))\n",
        "    model.add(layers.AvgPool2D(pool_size=2, strides=2))\n",
        "    model.add(layers.Flatten())\n",
        "    model.add(layers.Dense(units=120, activation='sigmoid'))\n",
        "    model.add(layers.Dense(units=84, activation='sigmoid'))\n",
        "    model.add(layers.Dense(20))\n",
        "    return model\n",
        "\n",
        "X = tf.random.uniform((1, 32, 32, 3))\n",
        "for layer in LeNet_with_parameters().layers:\n",
        "    X = layer(X)\n",
        "    print(layer.__class__.__name__,'output shape: \\t',X.shape)\n",
        "LeNet_model_1 = LeNet_with_parameters()\n",
        "LeNet_model_2 = LeNet_with_parameters()\n",
        "LeNet_model_1.summary()\n",
        "    "
      ]
    },
    {
      "cell_type": "markdown",
      "metadata": {
        "id": "oFQT4U8fjZg3"
      },
      "source": [
        "AlexNet"
      ]
    },
    {
      "cell_type": "code",
      "execution_count": 19,
      "metadata": {
        "colab": {
          "base_uri": "https://localhost:8080/"
        },
        "id": "t11BL6vujZg3",
        "outputId": "0997cf53-c969-416d-b0b7-1786a9a25d05"
      },
      "outputs": [
        {
          "output_type": "stream",
          "name": "stdout",
          "text": [
            "Resizing output shape: \t tf.Tensor(\n",
            "[[[[0.26269174 0.57237935 0.9484023 ]\n",
            "   [0.19953251 0.8115425  0.45670342]\n",
            "   [0.37724686 0.86958754 0.8006377 ]\n",
            "   ...\n",
            "   [0.86128116 0.3754208  0.38462126]\n",
            "   [0.81995    0.9513794  0.5424113 ]\n",
            "   [0.38869107 0.8292707  0.02490008]]\n",
            "\n",
            "  [[0.97986317 0.15530682 0.9319197 ]\n",
            "   [0.9347427  0.02088857 0.07632518]\n",
            "   [0.55485773 0.05260277 0.694476  ]\n",
            "   ...\n",
            "   [0.64632905 0.03781676 0.93455327]\n",
            "   [0.6890873  0.6143385  0.4371704 ]\n",
            "   [0.5058937  0.565225   0.00911558]]\n",
            "\n",
            "  [[0.5353975  0.9871676  0.8962358 ]\n",
            "   [0.38331723 0.954376   0.6794319 ]\n",
            "   [0.40625572 0.8360653  0.83970654]\n",
            "   ...\n",
            "   [0.1246891  0.04382682 0.9226687 ]\n",
            "   [0.2467153  0.7640904  0.2225895 ]\n",
            "   [0.47643316 0.18764246 0.8871051 ]]\n",
            "\n",
            "  ...\n",
            "\n",
            "  [[0.73098457 0.32882988 0.75743234]\n",
            "   [0.81158066 0.41287255 0.68509245]\n",
            "   [0.01742506 0.28405035 0.09353864]\n",
            "   ...\n",
            "   [0.3404572  0.9654064  0.06774545]\n",
            "   [0.74818003 0.6297407  0.2789111 ]\n",
            "   [0.38748288 0.6365783  0.2540363 ]]\n",
            "\n",
            "  [[0.82008433 0.3308612  0.15417385]\n",
            "   [0.6562438  0.53323877 0.7846217 ]\n",
            "   [0.13081121 0.83716154 0.67051935]\n",
            "   ...\n",
            "   [0.45316362 0.5810729  0.6410564 ]\n",
            "   [0.00887132 0.1138953  0.18690908]\n",
            "   [0.58724546 0.8286079  0.4447981 ]]\n",
            "\n",
            "  [[0.18534732 0.11555398 0.51604307]\n",
            "   [0.99162173 0.7393724  0.72682357]\n",
            "   [0.42671776 0.9009217  0.3997041 ]\n",
            "   ...\n",
            "   [0.9823446  0.25814712 0.72624636]\n",
            "   [0.9554868  0.48816514 0.54288507]\n",
            "   [0.58641803 0.803576   0.84221745]]]], shape=(1, 224, 224, 3), dtype=float32)\n",
            "Conv2D output shape: \t tf.Tensor(\n",
            "[[[[0.         0.06923182 0.         ... 0.         0.09188902\n",
            "    0.05208412]\n",
            "   [0.         0.09729593 0.02691457 ... 0.         0.10538314\n",
            "    0.09448935]\n",
            "   [0.         0.15332709 0.         ... 0.         0.\n",
            "    0.00637116]\n",
            "   ...\n",
            "   [0.         0.1355486  0.01807563 ... 0.         0.04598402\n",
            "    0.        ]\n",
            "   [0.         0.06639744 0.         ... 0.         0.1084936\n",
            "    0.        ]\n",
            "   [0.         0.11617408 0.         ... 0.         0.01662272\n",
            "    0.        ]]\n",
            "\n",
            "  [[0.         0.10892083 0.         ... 0.         0.04583242\n",
            "    0.        ]\n",
            "   [0.         0.17093945 0.03847643 ... 0.         0.00374842\n",
            "    0.        ]\n",
            "   [0.         0.1734054  0.03233941 ... 0.         0.04542327\n",
            "    0.        ]\n",
            "   ...\n",
            "   [0.         0.19238955 0.06567081 ... 0.         0.\n",
            "    0.        ]\n",
            "   [0.         0.16720957 0.         ... 0.         0.07229243\n",
            "    0.        ]\n",
            "   [0.         0.11105089 0.00224781 ... 0.         0.\n",
            "    0.        ]]\n",
            "\n",
            "  [[0.         0.16275868 0.04885982 ... 0.         0.08364417\n",
            "    0.        ]\n",
            "   [0.         0.13774829 0.02932207 ... 0.0264687  0.\n",
            "    0.07250311]\n",
            "   [0.         0.12232773 0.         ... 0.05065291 0.04908415\n",
            "    0.        ]\n",
            "   ...\n",
            "   [0.         0.12497009 0.         ... 0.         0.02068668\n",
            "    0.        ]\n",
            "   [0.         0.15066281 0.         ... 0.         0.\n",
            "    0.        ]\n",
            "   [0.         0.10082018 0.03303723 ... 0.         0.\n",
            "    0.        ]]\n",
            "\n",
            "  ...\n",
            "\n",
            "  [[0.         0.12227495 0.         ... 0.         0.\n",
            "    0.        ]\n",
            "   [0.         0.08346187 0.         ... 0.         0.03905392\n",
            "    0.        ]\n",
            "   [0.         0.15278809 0.         ... 0.         0.\n",
            "    0.        ]\n",
            "   ...\n",
            "   [0.         0.15195031 0.         ... 0.         0.\n",
            "    0.        ]\n",
            "   [0.         0.10900406 0.         ... 0.         0.04948803\n",
            "    0.        ]\n",
            "   [0.         0.2586637  0.         ... 0.         0.\n",
            "    0.        ]]\n",
            "\n",
            "  [[0.         0.09511299 0.         ... 0.00949658 0.\n",
            "    0.        ]\n",
            "   [0.         0.03635423 0.         ... 0.         0.00990797\n",
            "    0.        ]\n",
            "   [0.         0.17138334 0.         ... 0.         0.\n",
            "    0.        ]\n",
            "   ...\n",
            "   [0.         0.1412983  0.01087785 ... 0.         0.06545587\n",
            "    0.        ]\n",
            "   [0.         0.16781248 0.         ... 0.         0.09974357\n",
            "    0.04424942]\n",
            "   [0.         0.03989816 0.         ... 0.         0.\n",
            "    0.03055621]]\n",
            "\n",
            "  [[0.         0.16171815 0.         ... 0.         0.0327967\n",
            "    0.01612089]\n",
            "   [0.         0.09342878 0.         ... 0.         0.0739116\n",
            "    0.        ]\n",
            "   [0.         0.1271378  0.         ... 0.         0.\n",
            "    0.        ]\n",
            "   ...\n",
            "   [0.         0.23169456 0.         ... 0.         0.03364098\n",
            "    0.        ]\n",
            "   [0.         0.15574008 0.         ... 0.08887846 0.\n",
            "    0.        ]\n",
            "   [0.         0.20509557 0.         ... 0.         0.\n",
            "    0.        ]]]], shape=(1, 54, 54, 96), dtype=float32)\n",
            "MaxPooling2D output shape: \t tf.Tensor(\n",
            "[[[[0.         0.1734054  0.04885982 ... 0.05065291 0.10538314\n",
            "    0.09448935]\n",
            "   [0.         0.21233068 0.06220398 ... 0.05065291 0.11837807\n",
            "    0.04566412]\n",
            "   [0.         0.21233068 0.1531477  ... 0.         0.11837807\n",
            "    0.        ]\n",
            "   ...\n",
            "   [0.         0.1659635  0.05269314 ... 0.01104032 0.06497679\n",
            "    0.00887488]\n",
            "   [0.         0.22064474 0.0362862  ... 0.         0.06497679\n",
            "    0.06935312]\n",
            "   [0.         0.19238955 0.06567081 ... 0.         0.1084936\n",
            "    0.        ]]\n",
            "\n",
            "  [[0.         0.17815992 0.04885982 ... 0.05065291 0.08364417\n",
            "    0.07250311]\n",
            "   [0.         0.21664588 0.020121   ... 0.05065291 0.11837807\n",
            "    0.04814894]\n",
            "   [0.         0.21448708 0.1531477  ... 0.         0.11837807\n",
            "    0.00481849]\n",
            "   ...\n",
            "   [0.         0.1659635  0.06206429 ... 0.01104032 0.06556919\n",
            "    0.01804288]\n",
            "   [0.         0.20818579 0.0362862  ... 0.         0.06556919\n",
            "    0.07073377]\n",
            "   [0.00611307 0.20818579 0.07664706 ... 0.00997052 0.07528332\n",
            "    0.07073377]]\n",
            "\n",
            "  [[0.         0.2515525  0.03832314 ... 0.         0.12375361\n",
            "    0.01716008]\n",
            "   [0.         0.31869817 0.06641485 ... 0.03976822 0.03891046\n",
            "    0.01716008]\n",
            "   [0.         0.2387046  0.03100882 ... 0.         0.10690063\n",
            "    0.02643389]\n",
            "   ...\n",
            "   [0.         0.20136617 0.06675426 ... 0.         0.06556919\n",
            "    0.03178015]\n",
            "   [0.         0.20818579 0.06504532 ... 0.05175437 0.08372771\n",
            "    0.        ]\n",
            "   [0.         0.21550307 0.09722862 ... 0.05175437 0.10763811\n",
            "    0.        ]]\n",
            "\n",
            "  ...\n",
            "\n",
            "  [[0.         0.24579014 0.03432684 ... 0.03783002 0.10242472\n",
            "    0.00367805]\n",
            "   [0.         0.24579014 0.03486271 ... 0.         0.13588254\n",
            "    0.06124446]\n",
            "   [0.         0.33895585 0.08395776 ... 0.         0.13588254\n",
            "    0.03825207]\n",
            "   ...\n",
            "   [0.00925666 0.31560257 0.04222494 ... 0.02437868 0.06486057\n",
            "    0.01688842]\n",
            "   [0.         0.21773249 0.03982409 ... 0.02166794 0.10715709\n",
            "    0.01742767]\n",
            "   [0.         0.21773249 0.0416854  ... 0.02305854 0.1101094\n",
            "    0.04561302]]\n",
            "\n",
            "  [[0.         0.28111494 0.05557812 ... 0.12229135 0.10242472\n",
            "    0.08117324]\n",
            "   [0.         0.20047995 0.05557812 ... 0.08717133 0.13588254\n",
            "    0.00367805]\n",
            "   [0.         0.21952622 0.08395776 ... 0.04259709 0.13588254\n",
            "    0.0451819 ]\n",
            "   ...\n",
            "   [0.         0.16942234 0.03982409 ... 0.03639623 0.0570447\n",
            "    0.0408798 ]\n",
            "   [0.         0.2058293  0.03982409 ... 0.03639623 0.10715709\n",
            "    0.0881925 ]\n",
            "   [0.         0.22010176 0.07055018 ... 0.01034142 0.10715709\n",
            "    0.04561302]]\n",
            "\n",
            "  [[0.         0.17138334 0.01692718 ... 0.00949658 0.03905392\n",
            "    0.        ]\n",
            "   [0.         0.2518432  0.02509915 ... 0.04259709 0.\n",
            "    0.        ]\n",
            "   [0.         0.2518432  0.03356736 ... 0.04259709 0.11645507\n",
            "    0.09263988]\n",
            "   ...\n",
            "   [0.         0.1565865  0.0555052  ... 0.03639623 0.09675533\n",
            "    0.01680673]\n",
            "   [0.         0.1802567  0.0125704  ... 0.03639623 0.09675533\n",
            "    0.06433653]\n",
            "   [0.         0.16781248 0.01087785 ... 0.01034142 0.09974357\n",
            "    0.04424942]]]], shape=(1, 26, 26, 96), dtype=float32)\n",
            "Conv2D output shape: \t tf.Tensor(\n",
            "[[[[1.05729    0.999452   0.8938023  ... 1.0216693  1.064661\n",
            "    1.0299673 ]\n",
            "   [1.0363122  1.0247993  0.9091805  ... 1.0171397  1.0589528\n",
            "    1.0601779 ]\n",
            "   [1.0458502  1.0034424  0.8892491  ... 1.0168523  1.0293338\n",
            "    1.0393087 ]\n",
            "   ...\n",
            "   [1.0261167  0.9773069  0.9101007  ... 1.0412478  1.0320278\n",
            "    1.0426905 ]\n",
            "   [1.051231   0.9602731  0.91282284 ... 1.050335   1.0576019\n",
            "    1.0497035 ]\n",
            "   [1.0425264  0.98931324 0.9107624  ... 1.0435436  1.0671813\n",
            "    1.0473491 ]]\n",
            "\n",
            "  [[1.0667543  1.0257683  0.9247946  ... 1.0201513  1.0472989\n",
            "    1.0147583 ]\n",
            "   [1.0396725  1.0440027  0.90697134 ... 1.0260587  1.0512121\n",
            "    1.0520808 ]\n",
            "   [1.0541515  1.0077116  0.9008811  ... 1.0069779  1.0318934\n",
            "    1.0574995 ]\n",
            "   ...\n",
            "   [1.0225847  0.98166037 0.93599653 ... 1.0305303  1.0424931\n",
            "    1.0190248 ]\n",
            "   [1.0580516  0.9927562  0.9182509  ... 1.038089   1.0566705\n",
            "    1.0402148 ]\n",
            "   [1.0423371  0.99925506 0.92214215 ... 1.0325128  1.0424525\n",
            "    1.0312842 ]]\n",
            "\n",
            "  [[1.0704898  1.0198574  0.93655396 ... 1.0127484  1.0714309\n",
            "    1.0394852 ]\n",
            "   [1.0574927  1.0078197  0.9122791  ... 1.0173631  1.0513119\n",
            "    1.0462615 ]\n",
            "   [1.0530894  0.9858248  0.908211   ... 1.0455978  1.048309\n",
            "    1.0406504 ]\n",
            "   ...\n",
            "   [1.0508072  0.9879208  0.9175944  ... 1.0247496  1.0447755\n",
            "    1.0396092 ]\n",
            "   [1.0509254  0.99511904 0.909267   ... 1.0176935  1.0491924\n",
            "    1.0153939 ]\n",
            "   [1.0306423  0.98615474 0.9098476  ... 1.0156335  1.0468453\n",
            "    1.0423162 ]]\n",
            "\n",
            "  ...\n",
            "\n",
            "  [[1.0773252  1.0170623  0.9002206  ... 1.0096358  1.0595999\n",
            "    1.0382346 ]\n",
            "   [1.0622736  1.0104227  0.88896924 ... 1.011212   1.0570323\n",
            "    1.039058  ]\n",
            "   [1.0629348  0.99676704 0.87946415 ... 0.9863602  1.0571755\n",
            "    1.0396056 ]\n",
            "   ...\n",
            "   [1.0482662  0.9915638  0.8867326  ... 1.0122157  1.050299\n",
            "    1.0515645 ]\n",
            "   [1.0614767  0.99688196 0.8947474  ... 1.0098823  1.0577664\n",
            "    1.0542008 ]\n",
            "   [1.0738817  0.99087435 0.90751684 ... 1.0145979  1.0571753\n",
            "    1.0507137 ]]\n",
            "\n",
            "  [[1.0203762  1.0146915  0.903083   ... 1.01363    1.0673882\n",
            "    1.0348116 ]\n",
            "   [1.0586485  1.0018691  0.8909465  ... 1.0298789  1.0694096\n",
            "    1.0445716 ]\n",
            "   [1.0748796  1.0061355  0.9194641  ... 1.0007328  1.0792667\n",
            "    1.0141966 ]\n",
            "   ...\n",
            "   [1.0558947  1.0010939  0.90921825 ... 1.0267184  1.0797962\n",
            "    1.0255826 ]\n",
            "   [1.0421028  0.9856315  0.88422406 ... 1.0404649  1.0440025\n",
            "    1.0235741 ]\n",
            "   [1.0607917  0.9985759  0.8930521  ... 1.0194967  1.0458621\n",
            "    1.043152  ]]\n",
            "\n",
            "  [[1.0239993  1.0059801  0.8922286  ... 1.0407308  1.0430871\n",
            "    1.0437701 ]\n",
            "   [1.0475442  1.0129191  0.86184514 ... 1.0305859  1.0461485\n",
            "    1.0521547 ]\n",
            "   [1.0583361  1.0018357  0.89511126 ... 1.0172033  1.0655912\n",
            "    1.0064362 ]\n",
            "   ...\n",
            "   [1.0562593  1.0070354  0.91121364 ... 1.0118567  1.0620064\n",
            "    1.0076686 ]\n",
            "   [1.037087   0.9910465  0.90334845 ... 1.0423026  1.0501509\n",
            "    1.0048313 ]\n",
            "   [1.064678   0.9926328  0.90730226 ... 1.0077137  1.0498614\n",
            "    1.0470554 ]]]], shape=(1, 22, 22, 256), dtype=float32)\n",
            "MaxPooling2D output shape: \t tf.Tensor(\n",
            "[[[[1.0704898  1.0440027  0.93655396 ... 1.0455978  1.0714309\n",
            "    1.0601779 ]\n",
            "   [1.0657948  1.0405495  0.9251696  ... 1.0455978  1.060192\n",
            "    1.0574995 ]\n",
            "   [1.0665812  1.039345   0.92043746 ... 1.0328794  1.08739\n",
            "    1.0565788 ]\n",
            "   ...\n",
            "   [1.0648074  1.030104   0.9164704  ... 1.0385832  1.0698375\n",
            "    1.0607122 ]\n",
            "   [1.0650119  1.0186157  0.9167757  ... 1.0349047  1.0637102\n",
            "    1.0553182 ]\n",
            "   [1.0624847  1.0129431  0.93599653 ... 1.050335   1.0583091\n",
            "    1.0553182 ]]\n",
            "\n",
            "  [[1.0704898  1.0198574  0.9367851  ... 1.0455978  1.0714309\n",
            "    1.0698409 ]\n",
            "   [1.0635314  1.039345   0.9251696  ... 1.0511699  1.0719358\n",
            "    1.0698409 ]\n",
            "   [1.0838759  1.039345   0.91928464 ... 1.0511699  1.08739\n",
            "    1.0677156 ]\n",
            "   ...\n",
            "   [1.0669013  1.0125508  0.9231869  ... 1.0369987  1.0715642\n",
            "    1.0684186 ]\n",
            "   [1.0681727  1.0125508  0.91856253 ... 1.0349252  1.0767615\n",
            "    1.0606747 ]\n",
            "   [1.0552957  1.0110164  0.93378735 ... 1.0339752  1.0672933\n",
            "    1.0633849 ]]\n",
            "\n",
            "  [[1.0597334  1.025702   0.9367851  ... 1.0303494  1.0699753\n",
            "    1.0698409 ]\n",
            "   [1.0690347  1.009797   0.91694164 ... 1.031981   1.0719358\n",
            "    1.0698409 ]\n",
            "   [1.0737722  1.0163182  0.92973745 ... 1.0324584  1.0700893\n",
            "    1.0677156 ]\n",
            "   ...\n",
            "   [1.0815535  1.0212021  0.9179076  ... 1.0369987  1.0668\n",
            "    1.0684186 ]\n",
            "   [1.0815535  1.0123633  0.92143416 ... 1.0457777  1.0659022\n",
            "    1.0606747 ]\n",
            "   [1.071356   1.0113473  0.93092126 ... 1.0515612  1.0546242\n",
            "    1.0633849 ]]\n",
            "\n",
            "  ...\n",
            "\n",
            "  [[1.0869408  1.0006447  0.9235524  ... 1.0281818  1.0819925\n",
            "    1.0843451 ]\n",
            "   [1.0869408  1.0108972  0.9235524  ... 1.0434041  1.0819925\n",
            "    1.0762165 ]\n",
            "   [1.0771142  1.025887   0.94255626 ... 1.0434041  1.0685544\n",
            "    1.0725567 ]\n",
            "   ...\n",
            "   [1.0673696  1.0229503  0.9257806  ... 1.0338922  1.0571947\n",
            "    1.0545906 ]\n",
            "   [1.0582514  1.0413808  0.9285175  ... 1.0352373  1.0710435\n",
            "    1.066937  ]\n",
            "   [1.0647943  1.0240675  0.9187775  ... 1.0359844  1.0550407\n",
            "    1.0752423 ]]\n",
            "\n",
            "  [[1.0746593  1.0209707  0.9409722  ... 1.041392   1.0795726\n",
            "    1.0843451 ]\n",
            "   [1.085217   1.015483   0.9409722  ... 1.041392   1.0635617\n",
            "    1.060723  ]\n",
            "   [1.0812979  1.0321484  0.94255626 ... 1.0424389  1.0692239\n",
            "    1.0725567 ]\n",
            "   ...\n",
            "   [1.0860946  1.0229503  0.92527574 ... 1.0338922  1.0667362\n",
            "    1.0732034 ]\n",
            "   [1.093324   1.0229503  0.92527574 ... 1.0636857  1.0656668\n",
            "    1.0732034 ]\n",
            "   [1.0767035  1.0060811  0.9088401  ... 1.043318   1.0603968\n",
            "    1.0672978 ]]\n",
            "\n",
            "  [[1.0773252  1.0209707  0.9214858  ... 1.0298789  1.0795726\n",
            "    1.0445716 ]\n",
            "   [1.0748796  1.015483   0.9214858  ... 1.0260739  1.0792667\n",
            "    1.0688084 ]\n",
            "   [1.0666118  1.0321484  0.9105998  ... 1.0315557  1.0657337\n",
            "    1.0714108 ]\n",
            "   ...\n",
            "   [1.0652106  1.0170482  0.9277031  ... 1.0668868  1.074111\n",
            "    1.0615015 ]\n",
            "   [1.0609952  1.0083839  0.9201652  ... 1.0428677  1.074111\n",
            "    1.0621779 ]\n",
            "   [1.0614767  1.0083839  0.91468126 ... 1.0404649  1.0797962\n",
            "    1.0542008 ]]]], shape=(1, 10, 10, 256), dtype=float32)\n",
            "Conv2D output shape: \t tf.Tensor(\n",
            "[[[[0.         0.16374023 0.23691635 ... 0.10432862 0.11213638\n",
            "    0.        ]\n",
            "   [0.         0.57810664 0.03459536 ... 0.         0.08821178\n",
            "    0.        ]\n",
            "   [0.         0.57453775 0.0364944  ... 0.         0.0938882\n",
            "    0.        ]\n",
            "   ...\n",
            "   [0.         0.5638618  0.03381353 ... 0.         0.08895778\n",
            "    0.        ]\n",
            "   [0.         0.5725997  0.03918545 ... 0.         0.08324719\n",
            "    0.        ]\n",
            "   [0.         0.6003112  0.         ... 0.         0.19144931\n",
            "    0.        ]]\n",
            "\n",
            "  [[0.11201992 0.         0.4891893  ... 0.         0.\n",
            "    0.        ]\n",
            "   [0.02540864 0.39436933 0.4406976  ... 0.         0.02573385\n",
            "    0.        ]\n",
            "   [0.02381567 0.39086932 0.4346383  ... 0.         0.02396329\n",
            "    0.        ]\n",
            "   ...\n",
            "   [0.02146235 0.39060324 0.43515712 ... 0.         0.02012541\n",
            "    0.        ]\n",
            "   [0.02903773 0.39236227 0.43826598 ... 0.         0.01221543\n",
            "    0.        ]\n",
            "   [0.         0.61858    0.04522443 ... 0.         0.16638434\n",
            "    0.        ]]\n",
            "\n",
            "  [[0.11079681 0.         0.4901103  ... 0.         0.\n",
            "    0.        ]\n",
            "   [0.02672886 0.39402467 0.44186473 ... 0.         0.01783514\n",
            "    0.        ]\n",
            "   [0.02637834 0.38532868 0.4393507  ... 0.         0.02160961\n",
            "    0.        ]\n",
            "   ...\n",
            "   [0.02704341 0.395039   0.4438345  ... 0.         0.02784257\n",
            "    0.        ]\n",
            "   [0.03315848 0.39091486 0.44544584 ... 0.         0.01921467\n",
            "    0.        ]\n",
            "   [0.         0.61243093 0.04729509 ... 0.         0.16580454\n",
            "    0.        ]]\n",
            "\n",
            "  ...\n",
            "\n",
            "  [[0.11406941 0.         0.49309653 ... 0.         0.\n",
            "    0.        ]\n",
            "   [0.02220148 0.38742417 0.43639642 ... 0.         0.02241291\n",
            "    0.        ]\n",
            "   [0.01847274 0.39202377 0.44034648 ... 0.         0.02465014\n",
            "    0.        ]\n",
            "   ...\n",
            "   [0.02545078 0.39132515 0.4378369  ... 0.         0.02503876\n",
            "    0.        ]\n",
            "   [0.03347183 0.39261967 0.4429586  ... 0.         0.03070396\n",
            "    0.        ]\n",
            "   [0.         0.6168066  0.04626724 ... 0.         0.16923766\n",
            "    0.        ]]\n",
            "\n",
            "  [[0.116686   0.         0.49226302 ... 0.         0.\n",
            "    0.        ]\n",
            "   [0.02376005 0.40030342 0.4442586  ... 0.         0.02320943\n",
            "    0.        ]\n",
            "   [0.02737692 0.39538163 0.4398883  ... 0.         0.02336435\n",
            "    0.        ]\n",
            "   ...\n",
            "   [0.02081587 0.39479187 0.4378656  ... 0.         0.02903826\n",
            "    0.        ]\n",
            "   [0.02499418 0.3978903  0.4429432  ... 0.         0.02621978\n",
            "    0.        ]\n",
            "   [0.         0.6174972  0.04305941 ... 0.         0.17280886\n",
            "    0.        ]]\n",
            "\n",
            "  [[0.30141726 0.         0.69645315 ... 0.         0.\n",
            "    0.        ]\n",
            "   [0.12578773 0.20914394 0.58768016 ... 0.         0.04087637\n",
            "    0.        ]\n",
            "   [0.12748475 0.21422516 0.5930542  ... 0.         0.04125196\n",
            "    0.        ]\n",
            "   ...\n",
            "   [0.12598157 0.20612554 0.59596837 ... 0.         0.04102715\n",
            "    0.        ]\n",
            "   [0.12397156 0.21378876 0.58742994 ... 0.         0.0394981\n",
            "    0.        ]\n",
            "   [0.         0.50886524 0.19866964 ... 0.12211037 0.11561422\n",
            "    0.        ]]]], shape=(1, 10, 10, 384), dtype=float32)\n",
            "Conv2D output shape: \t tf.Tensor(\n",
            "[[[[0.9635672  0.9976388  1.1558443  ... 0.8511325  0.93113285\n",
            "    1.2763869 ]\n",
            "   [1.002434   0.9321917  1.2026088  ... 0.8819213  0.9789038\n",
            "    1.2157507 ]\n",
            "   [0.9914061  0.92321527 1.1680806  ... 0.8791733  1.0552999\n",
            "    1.1589589 ]\n",
            "   ...\n",
            "   [0.9900914  0.9231401  1.1702222  ... 0.88094985 1.0546478\n",
            "    1.1578367 ]\n",
            "   [0.97469497 0.90714    1.0875529  ... 0.83776927 1.0174415\n",
            "    1.0823894 ]\n",
            "   [0.98528504 0.8936868  1.0809481  ... 0.9993869  1.1049812\n",
            "    0.9301596 ]]\n",
            "\n",
            "  [[0.9432798  0.8498071  1.234368   ... 0.95291305 0.8627626\n",
            "    1.2805979 ]\n",
            "   [0.86196715 0.65062785 1.24354    ... 0.98765826 0.95083827\n",
            "    1.2848791 ]\n",
            "   [0.8685887  0.6539879  1.2567595  ... 0.97539973 1.0901047\n",
            "    1.2322022 ]\n",
            "   ...\n",
            "   [0.8646452  0.6516101  1.2602594  ... 0.9769721  1.0899723\n",
            "    1.2292993 ]\n",
            "   [0.7922826  0.6829686  1.1805303  ... 0.89050037 1.0180261\n",
            "    1.1613007 ]\n",
            "   [0.8490102  0.75900793 1.0681962  ... 1.0550221  1.2418926\n",
            "    0.96433955]]\n",
            "\n",
            "  [[0.92694753 0.8264081  1.245251   ... 0.93368864 0.923081\n",
            "    1.2773473 ]\n",
            "   [0.81126726 0.6830325  1.2885051  ... 0.9759539  0.9912602\n",
            "    1.2425697 ]\n",
            "   [0.8254807  0.6947113  1.2595263  ... 0.93915606 1.1114578\n",
            "    1.1922138 ]\n",
            "   ...\n",
            "   [0.82168245 0.6939695  1.2645297  ... 0.9422086  1.1144061\n",
            "    1.1865878 ]\n",
            "   [0.7692352  0.7137744  1.195824   ... 0.84388494 1.0527583\n",
            "    1.0926182 ]\n",
            "   [0.8288474  0.80092454 1.0460058  ... 1.0052946  1.1992409\n",
            "    0.94794095]]\n",
            "\n",
            "  ...\n",
            "\n",
            "  [[0.92777723 0.8286395  1.2463796  ... 0.93024415 0.9254518\n",
            "    1.2783026 ]\n",
            "   [0.8121213  0.6840842  1.2892494  ... 0.9706529  0.99149877\n",
            "    1.2421315 ]\n",
            "   [0.8224853  0.69422483 1.2663901  ... 0.93721265 1.1130201\n",
            "    1.1872686 ]\n",
            "   ...\n",
            "   [0.8244271  0.6949079  1.2629509  ... 0.9365593  1.1166306\n",
            "    1.1898415 ]\n",
            "   [0.77110577 0.71024907 1.1936468  ... 0.84171104 1.0549562\n",
            "    1.0917332 ]\n",
            "   [0.83075285 0.802251   1.0460365  ... 1.0057707  1.1998969\n",
            "    0.94770116]]\n",
            "\n",
            "  [[0.88264847 0.8522749  1.2428547  ... 0.9630495  0.9191947\n",
            "    1.2492899 ]\n",
            "   [0.7797468  0.7631139  1.2982445  ... 1.0058533  0.9789448\n",
            "    1.2766696 ]\n",
            "   [0.7965806  0.726365   1.2827404  ... 0.965584   1.0725933\n",
            "    1.2453426 ]\n",
            "   ...\n",
            "   [0.7926439  0.7260476  1.2848808  ... 0.9646083  1.0780231\n",
            "    1.2443368 ]\n",
            "   [0.73749506 0.74493927 1.2590088  ... 0.8894196  1.0369952\n",
            "    1.143121  ]\n",
            "   [0.86197007 0.79808426 1.0060383  ... 0.997211   1.1516913\n",
            "    1.0448302 ]]\n",
            "\n",
            "  [[0.9140233  0.88855916 1.0616033  ... 1.1308128  1.0024309\n",
            "    1.0536104 ]\n",
            "   [0.79925346 0.86841583 1.0879421  ... 1.1361369  1.0779532\n",
            "    1.052037  ]\n",
            "   [0.85269314 0.86156505 1.0807016  ... 1.103378   1.174641\n",
            "    1.0811467 ]\n",
            "   ...\n",
            "   [0.85298294 0.8617082  1.0786682  ... 1.1028109  1.1715502\n",
            "    1.0830773 ]\n",
            "   [0.8305998  0.85556614 1.0562087  ... 1.0327508  1.1460354\n",
            "    1.0378091 ]\n",
            "   [0.85760605 0.9547686  0.92971796 ... 1.0298182  1.1867306\n",
            "    1.020676  ]]]], shape=(1, 10, 10, 384), dtype=float32)\n",
            "Conv2D output shape: \t tf.Tensor(\n",
            "[[[[1.1859623  1.4603162  0.7327621  ... 0.5622636  1.586436\n",
            "    1.4400377 ]\n",
            "   [1.1161147  1.7065617  0.38469195 ... 0.7130861  1.9504018\n",
            "    1.4297624 ]\n",
            "   [1.1644359  1.704735   0.34791565 ... 0.7418661  1.9552245\n",
            "    1.4331256 ]\n",
            "   ...\n",
            "   [1.1400939  1.6837635  0.34113276 ... 0.7368516  1.9543799\n",
            "    1.417482  ]\n",
            "   [1.0978245  1.6618283  0.3416143  ... 0.73294246 1.9625841\n",
            "    1.408447  ]\n",
            "   [0.9600812  1.551106   0.06674039 ... 0.74967945 2.0060673\n",
            "    1.3932189 ]]\n",
            "\n",
            "  [[1.7378837  1.3745115  1.098975   ... 0.6929023  2.2881\n",
            "    1.5744312 ]\n",
            "   [1.8480756  1.6501503  0.6361814  ... 0.62508667 2.7723665\n",
            "    1.2690234 ]\n",
            "   [1.8829093  1.6589602  0.60355306 ... 0.6727869  2.8301802\n",
            "    1.2432271 ]\n",
            "   ...\n",
            "   [1.8438156  1.6726336  0.5818938  ... 0.62813306 2.8494234\n",
            "    1.2267861 ]\n",
            "   [1.7542351  1.679584   0.59202677 ... 0.6340687  2.903598\n",
            "    1.2010577 ]\n",
            "   [1.2833061  1.5440521  0.         ... 0.68445885 2.7057776\n",
            "    1.3103808 ]]\n",
            "\n",
            "  [[1.7343287  1.2815957  1.0920101  ... 0.70353115 2.2712598\n",
            "    1.5182676 ]\n",
            "   [1.7918732  1.547277   0.60860753 ... 0.6588243  2.766626\n",
            "    1.2046547 ]\n",
            "   [1.7966948  1.530114   0.57908463 ... 0.69852304 2.8100219\n",
            "    1.1693193 ]\n",
            "   ...\n",
            "   [1.7719951  1.5486017  0.5713352  ... 0.64572585 2.8463607\n",
            "    1.1661258 ]\n",
            "   [1.6960765  1.5904381  0.5875888  ... 0.6458178  2.9140127\n",
            "    1.1484679 ]\n",
            "   [1.2248819  1.5121641  0.         ... 0.67614293 2.6720767\n",
            "    1.2945309 ]]\n",
            "\n",
            "  ...\n",
            "\n",
            "  [[1.7497762  1.2945392  1.0881633  ... 0.6980246  2.2417417\n",
            "    1.4891108 ]\n",
            "   [1.7992667  1.5642276  0.59864324 ... 0.62546027 2.738637\n",
            "    1.191441  ]\n",
            "   [1.8128101  1.5543711  0.57078564 ... 0.6730308  2.783858\n",
            "    1.1537576 ]\n",
            "   ...\n",
            "   [1.7922349  1.5784433  0.5758004  ... 0.6239185  2.8305361\n",
            "    1.158159  ]\n",
            "   [1.7049352  1.6046833  0.5947281  ... 0.6367969  2.899137\n",
            "    1.1568192 ]\n",
            "   [1.2243271  1.5258713  0.         ... 0.672609   2.6815636\n",
            "    1.3105125 ]]\n",
            "\n",
            "  [[1.734408   1.2451884  1.1216538  ... 0.71217185 2.2747521\n",
            "    1.4942675 ]\n",
            "   [1.780297   1.5210667  0.6658658  ... 0.67195034 2.7847793\n",
            "    1.2115566 ]\n",
            "   [1.7863487  1.5098535  0.64611197 ... 0.69503886 2.8170266\n",
            "    1.1655651 ]\n",
            "   ...\n",
            "   [1.7676849  1.5585282  0.6579727  ... 0.65352756 2.8608003\n",
            "    1.1479803 ]\n",
            "   [1.6850235  1.5777874  0.6478605  ... 0.6719294  2.9206338\n",
            "    1.1409912 ]\n",
            "   [1.2096261  1.53769    0.         ... 0.6890812  2.68533\n",
            "    1.3123171 ]]\n",
            "\n",
            "  [[1.687716   1.0033082  1.072416   ... 1.0158439  1.6235843\n",
            "    1.1822844 ]\n",
            "   [1.8541775  1.2575307  0.99227536 ... 1.2169182  2.2400868\n",
            "    1.0552082 ]\n",
            "   [1.8114175  1.2352453  0.96566504 ... 1.2302487  2.2621913\n",
            "    1.0300505 ]\n",
            "   ...\n",
            "   [1.7955737  1.2672043  0.96481156 ... 1.1912426  2.3044643\n",
            "    1.0381732 ]\n",
            "   [1.7782739  1.3139676  0.9817475  ... 1.2142888  2.340124\n",
            "    1.054212  ]\n",
            "   [1.5057578  1.3622086  0.3853913  ... 1.1309992  2.2567244\n",
            "    1.2623452 ]]]], shape=(1, 10, 10, 256), dtype=float32)\n",
            "MaxPooling2D output shape: \t tf.Tensor(\n",
            "[[[[1.8829093  1.7065617  1.098975   ... 0.7418661  2.8301802\n",
            "    1.5744312 ]\n",
            "   [1.8829093  1.704735   0.60355306 ... 0.7418661  2.8375516\n",
            "    1.4331256 ]\n",
            "   [1.8680015  1.6919485  0.5911511  ... 0.7176813  2.8395329\n",
            "    1.4177825 ]\n",
            "   [1.866232   1.6919485  0.59202677 ... 0.7368516  2.9140127\n",
            "    1.4177825 ]]\n",
            "\n",
            "  [[1.8085002  1.5594662  1.0920101  ... 0.7106333  2.8100219\n",
            "    1.5182676 ]\n",
            "   [1.8096216  1.572846   0.57908463 ... 0.69852304 2.8228135\n",
            "    1.1693193 ]\n",
            "   [1.811654   1.5711627  0.57283926 ... 0.65025073 2.8231535\n",
            "    1.146657  ]\n",
            "   [1.811654   1.6094761  0.5875888  ... 0.65890765 2.9140127\n",
            "    1.1661258 ]]\n",
            "\n",
            "  [[1.8082445  1.5616229  1.0818441  ... 0.71200526 2.808271\n",
            "    1.5018702 ]\n",
            "   [1.8099833  1.5719036  0.57488286 ... 0.69271946 2.824502\n",
            "    1.163234  ]\n",
            "   [1.811654   1.5712936  0.5716572  ... 0.6502559  2.8241777\n",
            "    1.142599  ]\n",
            "   [1.811654   1.6096554  0.5861945  ... 0.6599653  2.9121919\n",
            "    1.1629158 ]]\n",
            "\n",
            "  [[1.8128101  1.5642276  1.1216538  ... 0.71217185 2.8170266\n",
            "    1.5011264 ]\n",
            "   [1.8262703  1.5746105  0.6481725  ... 0.69503886 2.833628\n",
            "    1.1655651 ]\n",
            "   [1.8264786  1.5761633  0.6491326  ... 0.66431475 2.8336487\n",
            "    1.1416501 ]\n",
            "   [1.8264786  1.6087613  0.6579727  ... 0.6719294  2.9206338\n",
            "    1.1619164 ]]]], shape=(1, 4, 4, 256), dtype=float32)\n",
            "Flatten output shape: \t tf.Tensor([[1.8829093 1.7065617 1.098975  ... 0.6719294 2.9206338 1.1619164]], shape=(1, 4096), dtype=float32)\n",
            "Dense output shape: \t tf.Tensor([[0.24809515 1.3403928  2.5016162  ... 1.2123466  0.9022003  1.8988624 ]], shape=(1, 4096), dtype=float32)\n",
            "Dropout output shape: \t tf.Tensor([[0.24809515 1.3403928  2.5016162  ... 1.2123466  0.9022003  1.8988624 ]], shape=(1, 4096), dtype=float32)\n",
            "Dense output shape: \t tf.Tensor(\n",
            "[[ 1.6062094   1.5425556  -0.19369411 ...  1.6163554   0.8448493\n",
            "   1.484653  ]], shape=(1, 4096), dtype=float32)\n",
            "Dropout output shape: \t tf.Tensor(\n",
            "[[ 1.6062094   1.5425556  -0.19369411 ...  1.6163554   0.8448493\n",
            "   1.484653  ]], shape=(1, 4096), dtype=float32)\n",
            "Dense output shape: \t tf.Tensor(\n",
            "[[0.02071198 0.0532748  0.00591588 0.01150987 0.04188303 0.03904255\n",
            "  0.04222421 0.03309545 0.10492277 0.038199   0.04474593 0.05557982\n",
            "  0.01586385 0.04455731 0.03240231 0.06529736 0.02748529 0.22615094\n",
            "  0.03741524 0.05972234]], shape=(1, 20), dtype=float32)\n",
            "Model: \"sequential_7\"\n",
            "_________________________________________________________________\n",
            " Layer (type)                Output Shape              Param #   \n",
            "=================================================================\n",
            " resizing_4 (Resizing)       (None, 224, 224, 3)       0         \n",
            "                                                                 \n",
            " conv2d_26 (Conv2D)          (None, 54, 54, 96)        34944     \n",
            "                                                                 \n",
            " max_pooling2d_12 (MaxPoolin  (None, 26, 26, 96)       0         \n",
            " g2D)                                                            \n",
            "                                                                 \n",
            " conv2d_27 (Conv2D)          (None, 22, 22, 256)       614656    \n",
            "                                                                 \n",
            " max_pooling2d_13 (MaxPoolin  (None, 10, 10, 256)      0         \n",
            " g2D)                                                            \n",
            "                                                                 \n",
            " conv2d_28 (Conv2D)          (None, 10, 10, 384)       885120    \n",
            "                                                                 \n",
            " conv2d_29 (Conv2D)          (None, 10, 10, 384)       1327488   \n",
            "                                                                 \n",
            " conv2d_30 (Conv2D)          (None, 10, 10, 256)       884992    \n",
            "                                                                 \n",
            " max_pooling2d_14 (MaxPoolin  (None, 4, 4, 256)        0         \n",
            " g2D)                                                            \n",
            "                                                                 \n",
            " flatten_7 (Flatten)         (None, 4096)              0         \n",
            "                                                                 \n",
            " dense_21 (Dense)            (None, 4096)              16781312  \n",
            "                                                                 \n",
            " dropout_8 (Dropout)         (None, 4096)              0         \n",
            "                                                                 \n",
            " dense_22 (Dense)            (None, 4096)              16781312  \n",
            "                                                                 \n",
            " dropout_9 (Dropout)         (None, 4096)              0         \n",
            "                                                                 \n",
            " dense_23 (Dense)            (None, 20)                81940     \n",
            "                                                                 \n",
            "=================================================================\n",
            "Total params: 37,391,764\n",
            "Trainable params: 37,391,764\n",
            "Non-trainable params: 0\n",
            "_________________________________________________________________\n"
          ]
        }
      ],
      "source": [
        "\n",
        "# AlexNet arhcitecture\n",
        "def AlexNet():\n",
        "    model = models.Sequential()\n",
        "    # model add layer to resize image\n",
        "    model.add(layers.experimental.preprocessing.Resizing(224, 224, interpolation=\"bilinear\", input_shape=x_train.shape[1:]))\n",
        "    model.add(tf.keras.layers.Conv2D(96, (11, 11), strides=(4, 4), activation='relu',kernel_initializer=tf.random_normal_initializer(mean=0.0, stddev=0.01),input_shape=(224, 224, 3)))\n",
        "    model.add(tf.keras.layers.MaxPooling2D(3, strides=2))\n",
        "    model.add(tf.keras.layers.Conv2D(256, (5, 5), activation='relu', kernel_initializer=tf.random_normal_initializer(mean=0.0, stddev=0.01), bias_initializer='ones'))\n",
        "    model.add(tf.keras.layers.MaxPooling2D(3, strides=2))\n",
        "    model.add(tf.keras.layers.Conv2D(384, (3, 3), activation='relu', padding=\"same\",kernel_initializer=tf.random_normal_initializer(mean=0.0, stddev=0.01)))\n",
        "    model.add(tf.keras.layers.Conv2D(384, (3, 3), activation='relu', padding=\"same\", kernel_initializer=tf.random_normal_initializer(mean=0.0, stddev=0.01),bias_initializer='ones'))\n",
        "    model.add(tf.keras.layers.Conv2D(256, (3, 3), activation='relu', padding=\"same\",kernel_initializer=tf.random_normal_initializer(mean=0.0, stddev=0.01), bias_initializer='ones'))\n",
        "    model.add(tf.keras.layers.MaxPooling2D(pool_size=3, strides=2))\n",
        "    model.add(tf.keras.layers.Flatten())\n",
        "    model.add(tf.keras.layers.Dense(4096, kernel_initializer = tf.random_normal_initializer(mean=0.0, stddev=0.01), bias_initializer='ones'))\n",
        "    model.add(tf.keras.layers.Dropout(0.5))\n",
        "    model.add(tf.keras.layers.Dense(4096, kernel_initializer = tf.random_normal_initializer(mean=0.0, stddev=0.01), bias_initializer='ones'))\n",
        "    model.add(tf.keras.layers.Dropout(0.5))\n",
        "    model.add(tf.keras.layers.Dense(20, activation='softmax', kernel_initializer= tf.random_normal_initializer(mean=0.0, stddev=0.01)))\n",
        "    return model\n",
        "\n",
        "Y = tf.random.uniform((1,224, 224, 3)) \n",
        "# resize image \n",
        "\n",
        "for layer in AlexNet().layers:\n",
        "    Y = layer(Y)\n",
        "    print(layer.__class__.__name__, 'output shape: \\t', Y)\n",
        "AlexNet_model_1 = AlexNet()\n",
        "AlexNet_model_2 = AlexNet()\n",
        "AlexNet_model_1.summary()"
      ]
    },
    {
      "cell_type": "markdown",
      "metadata": {
        "id": "MdJnAa6KjZg3"
      },
      "source": [
        "VGG"
      ]
    },
    {
      "cell_type": "code",
      "execution_count": 46,
      "metadata": {
        "id": "VCyyQLuIjZg3"
      },
      "outputs": [],
      "source": [
        "def vgg_block(num_convs, num_channels):\n",
        "  block = models.Sequential()\n",
        "  for _ in range(num_convs):\n",
        "    block.add(layers.Conv2D(num_channels, kernel_size=3, padding='same', activation='relu'))\n",
        "  block.add(layers.MaxPool2D(pool_size=2, strides=2))\n",
        "  return block"
      ]
    },
    {
      "cell_type": "code",
      "execution_count": 47,
      "metadata": {
        "colab": {
          "base_uri": "https://localhost:8080/"
        },
        "id": "0rD4wbLxjZg3",
        "outputId": "56983ca0-a5b8-41e3-cfde-ecd3cceb5903"
      },
      "outputs": [
        {
          "output_type": "stream",
          "name": "stdout",
          "text": [
            "Conv2D output shape:\t (1, 32, 32, 64)\n",
            "Sequential output shape:\t (1, 16, 16, 64)\n",
            "Sequential output shape:\t (1, 20)\n",
            "Model: \"sequential_29\"\n",
            "_________________________________________________________________\n",
            " Layer (type)                Output Shape              Param #   \n",
            "=================================================================\n",
            " conv2d_123 (Conv2D)         (None, 32, 32, 64)        1792      \n",
            "                                                                 \n",
            " sequential_30 (Sequential)  (None, 16, 16, 64)        36928     \n",
            "                                                                 \n",
            " sequential_31 (Sequential)  (None, 20)                83976212  \n",
            "                                                                 \n",
            "=================================================================\n",
            "Total params: 84,014,932\n",
            "Trainable params: 84,014,932\n",
            "Non-trainable params: 0\n",
            "_________________________________________________________________\n"
          ]
        }
      ],
      "source": [
        "conv_arch = ((1, 64), (1, 128), (2, 256), (2, 512), (2, 512))\n",
        "def VGG():\n",
        "    # original VGG model for pictures 224x224\n",
        "    model = models.Sequential() \n",
        "    model.add(layers.Conv2D(conv_arch[0][1], kernel_size=3, padding='same', activation='relu', input_shape=(32, 32, 3)))\n",
        "    for(num_convs, num_channels) in conv_arch:\n",
        "        model.add(vgg_block(num_convs, num_channels))\n",
        "    # The fully-connected part\n",
        "        model.add(tf.keras.models.Sequential([\n",
        "        tf.keras.layers.Flatten(),\n",
        "        tf.keras.layers.Dense(4096, activation='relu'),\n",
        "        tf.keras.layers.Dropout(0.5),\n",
        "        tf.keras.layers.Dense(4096, activation='relu'),\n",
        "        tf.keras.layers.Dropout(0.5),\n",
        "        tf.keras.layers.Dense(20, activation='softmax')]))\n",
        "        return model\n",
        "\n",
        "X = tf.random.uniform((1, 32, 32, 3))\n",
        "\n",
        "for blk in VGG().layers:\n",
        "    X = blk(X)\n",
        "    print(blk.__class__.__name__,'output shape:\\t', X.shape)\n",
        "VGG_model_1 = VGG()\n",
        "VGG_model_2 = VGG()\n",
        "VGG_model_1.summary()\n",
        "\n"
      ]
    },
    {
      "cell_type": "markdown",
      "metadata": {
        "id": "JD5axriTjZg4"
      },
      "source": [
        "### Εκπαίδευση των μοντέλων\n",
        "\n"
      ]
    },
    {
      "cell_type": "code",
      "execution_count": 25,
      "metadata": {
        "id": "JN4qttCbjZg4"
      },
      "outputs": [],
      "source": [
        "# print graph \n",
        "def print_graph(history, model):\n",
        "    fig = plt.figure()\n",
        "    plt.plot(history.history['accuracy'], label='accuracy')\n",
        "    plt.plot(history.history['val_accuracy'], label = 'val_accuracy')\n",
        "    plt.xlabel('Epoch')\n",
        "    plt.ylabel('Accuracy')\n",
        "    plt.ylim([0, 1])\n",
        "    plt.legend(loc='lower right')\n",
        "    test_loss, test_acc = model.evaluate(x_test,  y_test_to20, verbose=2)\n",
        "    plt.show()"
      ]
    },
    {
      "cell_type": "code",
      "execution_count": 22,
      "metadata": {
        "id": "AX23Uf9YjZg4"
      },
      "outputs": [],
      "source": [
        "import numpy as np\n",
        "\n",
        "values = np.unique(y_val)\n",
        "values = np.sort(values)\n",
        "\n",
        "y_val_to20 = np.zeros(len(y_val), dtype=int)\n",
        "for i in range (y_val.shape[0]):\n",
        "  y_val_to20[i] =  np.where(values == y_val[i])[0][0]\n",
        "\n",
        "y_train_to20 = np.zeros(len(y_train), dtype=int)\n",
        "for i in range (y_train.shape[0]):\n",
        "  y_train_to20[i] =  np.where(values == y_train[i])[0][0]\n",
        "\n",
        "y_test_to20 = np.zeros(len(y_test), dtype=int)\n",
        "for i in range (y_test.shape[0]):\n",
        "  y_test_to20[i] =  np.where(values == y_test[i])[0][0]"
      ]
    },
    {
      "cell_type": "code",
      "execution_count": null,
      "metadata": {
        "id": "Fe_zj4_IjZg4",
        "outputId": "b8a77c77-a154-46d6-c8f0-e8f8da68350c"
      },
      "outputs": [
        {
          "name": "stdout",
          "output_type": "stream",
          "text": [
            "Train on 8500 samples, validate on 1500 samples\n",
            "Epoch 1/50\n",
            "8500/8500 [==============================] - 6s 662us/sample - loss: 2.9353 - acc: 0.0842 - val_loss: 2.6800 - val_acc: 0.1693\n",
            "Epoch 2/50\n",
            "8500/8500 [==============================] - 5s 535us/sample - loss: 2.5565 - acc: 0.1985 - val_loss: 2.4748 - val_acc: 0.2267\n",
            "Epoch 3/50\n",
            "8500/8500 [==============================] - 4s 527us/sample - loss: 2.3820 - acc: 0.2552 - val_loss: 2.3390 - val_acc: 0.2747\n",
            "Epoch 4/50\n",
            "8500/8500 [==============================] - 4s 526us/sample - loss: 2.2790 - acc: 0.2851 - val_loss: 2.2902 - val_acc: 0.2860\n",
            "Epoch 5/50\n",
            "8500/8500 [==============================] - 4s 522us/sample - loss: 2.2224 - acc: 0.3035 - val_loss: 2.2139 - val_acc: 0.3080\n",
            "Epoch 6/50\n",
            "8500/8500 [==============================] - 5s 538us/sample - loss: 2.1767 - acc: 0.3218 - val_loss: 2.1850 - val_acc: 0.3200\n",
            "Epoch 7/50\n",
            "8500/8500 [==============================] - 4s 521us/sample - loss: 2.1394 - acc: 0.3278 - val_loss: 2.1532 - val_acc: 0.3213\n",
            "Epoch 8/50\n",
            "8500/8500 [==============================] - 4s 503us/sample - loss: 2.1044 - acc: 0.3406 - val_loss: 2.1292 - val_acc: 0.3427\n",
            "Epoch 9/50\n",
            "8500/8500 [==============================] - 4s 501us/sample - loss: 2.0704 - acc: 0.3505 - val_loss: 2.1289 - val_acc: 0.3367\n",
            "Epoch 10/50\n",
            "8500/8500 [==============================] - 4s 496us/sample - loss: 2.0449 - acc: 0.3545 - val_loss: 2.0937 - val_acc: 0.3407\n",
            "Epoch 11/50\n",
            "8500/8500 [==============================] - 4s 528us/sample - loss: 2.0130 - acc: 0.3682 - val_loss: 2.0749 - val_acc: 0.3587\n",
            "Epoch 12/50\n",
            "8500/8500 [==============================] - 5s 541us/sample - loss: 1.9835 - acc: 0.3762 - val_loss: 2.0571 - val_acc: 0.3520\n",
            "Epoch 13/50\n",
            "8500/8500 [==============================] - 4s 518us/sample - loss: 1.9533 - acc: 0.3847 - val_loss: 2.0355 - val_acc: 0.3567\n",
            "Epoch 14/50\n",
            "8500/8500 [==============================] - 4s 524us/sample - loss: 1.9270 - acc: 0.3926 - val_loss: 1.9875 - val_acc: 0.3773\n",
            "Epoch 15/50\n",
            "8500/8500 [==============================] - 4s 521us/sample - loss: 1.8973 - acc: 0.3995 - val_loss: 1.9622 - val_acc: 0.3753\n",
            "Epoch 16/50\n",
            "8500/8500 [==============================] - 4s 523us/sample - loss: 1.8731 - acc: 0.4109 - val_loss: 1.9814 - val_acc: 0.3873\n",
            "Epoch 17/50\n",
            "8500/8500 [==============================] - 4s 523us/sample - loss: 1.8446 - acc: 0.4240 - val_loss: 1.9604 - val_acc: 0.3893\n",
            "Epoch 18/50\n",
            "8500/8500 [==============================] - 5s 530us/sample - loss: 1.8152 - acc: 0.4288 - val_loss: 1.9422 - val_acc: 0.4033\n",
            "Epoch 19/50\n",
            "8500/8500 [==============================] - 4s 523us/sample - loss: 1.7872 - acc: 0.4367 - val_loss: 1.9465 - val_acc: 0.3880\n",
            "Epoch 20/50\n",
            "8500/8500 [==============================] - 4s 523us/sample - loss: 1.7530 - acc: 0.4507 - val_loss: 1.9363 - val_acc: 0.3980\n",
            "Epoch 21/50\n",
            "8500/8500 [==============================] - 4s 527us/sample - loss: 1.7248 - acc: 0.4574 - val_loss: 1.8923 - val_acc: 0.4200\n",
            "Epoch 22/50\n",
            "8500/8500 [==============================] - 4s 523us/sample - loss: 1.6980 - acc: 0.4682 - val_loss: 1.8815 - val_acc: 0.4207\n",
            "Epoch 23/50\n",
            "8500/8500 [==============================] - 4s 524us/sample - loss: 1.6674 - acc: 0.4741 - val_loss: 1.9298 - val_acc: 0.4040\n",
            "Epoch 24/50\n",
            "8500/8500 [==============================] - 4s 523us/sample - loss: 1.6409 - acc: 0.4786 - val_loss: 1.9098 - val_acc: 0.4207\n",
            "Epoch 25/50\n",
            "8500/8500 [==============================] - 4s 525us/sample - loss: 1.6129 - acc: 0.4964 - val_loss: 1.8761 - val_acc: 0.4280\n",
            "Epoch 26/50\n",
            "8500/8500 [==============================] - 4s 528us/sample - loss: 1.5888 - acc: 0.5019 - val_loss: 1.8481 - val_acc: 0.4387\n",
            "Epoch 27/50\n",
            "8500/8500 [==============================] - 4s 523us/sample - loss: 1.5645 - acc: 0.5046 - val_loss: 1.8669 - val_acc: 0.4393\n",
            "Epoch 28/50\n",
            "8500/8500 [==============================] - 4s 520us/sample - loss: 1.5424 - acc: 0.5119 - val_loss: 1.9192 - val_acc: 0.4267\n",
            "Epoch 29/50\n",
            "8500/8500 [==============================] - 4s 525us/sample - loss: 1.5174 - acc: 0.5221 - val_loss: 1.8545 - val_acc: 0.4500\n",
            "Epoch 30/50\n",
            "8500/8500 [==============================] - 4s 523us/sample - loss: 1.4926 - acc: 0.5282 - val_loss: 1.8901 - val_acc: 0.4340\n",
            "Epoch 31/50\n",
            "8500/8500 [==============================] - 4s 527us/sample - loss: 1.4676 - acc: 0.5349 - val_loss: 1.9839 - val_acc: 0.4233\n",
            "Epoch 32/50\n",
            "8500/8500 [==============================] - 4s 527us/sample - loss: 1.4444 - acc: 0.5424 - val_loss: 1.9261 - val_acc: 0.4373\n",
            "Epoch 33/50\n",
            "8500/8500 [==============================] - 4s 526us/sample - loss: 1.4234 - acc: 0.5522 - val_loss: 1.8786 - val_acc: 0.4473\n",
            "Epoch 34/50\n",
            "8500/8500 [==============================] - 4s 525us/sample - loss: 1.4002 - acc: 0.5600 - val_loss: 1.9129 - val_acc: 0.4540\n",
            "Epoch 35/50\n",
            "8500/8500 [==============================] - 4s 527us/sample - loss: 1.3775 - acc: 0.5649 - val_loss: 1.8980 - val_acc: 0.4453\n",
            "Epoch 36/50\n",
            "8500/8500 [==============================] - 4s 521us/sample - loss: 1.3486 - acc: 0.5759 - val_loss: 1.9390 - val_acc: 0.4560\n",
            "Epoch 37/50\n",
            "8500/8500 [==============================] - 4s 523us/sample - loss: 1.3290 - acc: 0.5793 - val_loss: 1.9160 - val_acc: 0.4547\n",
            "Epoch 38/50\n",
            "8500/8500 [==============================] - 4s 527us/sample - loss: 1.3033 - acc: 0.5901 - val_loss: 1.9628 - val_acc: 0.4513\n",
            "Epoch 39/50\n",
            "8500/8500 [==============================] - 4s 519us/sample - loss: 1.2857 - acc: 0.5969 - val_loss: 2.0068 - val_acc: 0.4373\n",
            "Epoch 40/50\n",
            "8500/8500 [==============================] - 4s 518us/sample - loss: 1.2558 - acc: 0.6001 - val_loss: 1.9605 - val_acc: 0.4487\n",
            "Epoch 41/50\n",
            "8500/8500 [==============================] - 4s 519us/sample - loss: 1.2382 - acc: 0.6107 - val_loss: 2.0256 - val_acc: 0.4620\n",
            "Epoch 42/50\n",
            "8500/8500 [==============================] - 4s 520us/sample - loss: 1.2175 - acc: 0.6164 - val_loss: 2.0126 - val_acc: 0.4567\n",
            "Epoch 43/50\n",
            "8500/8500 [==============================] - 4s 528us/sample - loss: 1.1881 - acc: 0.6202 - val_loss: 2.0544 - val_acc: 0.4420\n",
            "Epoch 44/50\n",
            "8500/8500 [==============================] - 4s 525us/sample - loss: 1.1701 - acc: 0.6264 - val_loss: 2.0369 - val_acc: 0.4513\n",
            "Epoch 45/50\n",
            "8500/8500 [==============================] - 4s 525us/sample - loss: 1.1462 - acc: 0.6366 - val_loss: 1.9982 - val_acc: 0.4520\n",
            "Epoch 46/50\n",
            "8500/8500 [==============================] - 4s 529us/sample - loss: 1.1281 - acc: 0.6438 - val_loss: 2.0351 - val_acc: 0.4593\n",
            "Epoch 47/50\n",
            "8500/8500 [==============================] - 4s 521us/sample - loss: 1.1074 - acc: 0.6476 - val_loss: 2.0546 - val_acc: 0.4700\n",
            "Epoch 48/50\n",
            "8500/8500 [==============================] - 4s 523us/sample - loss: 1.0791 - acc: 0.6560 - val_loss: 2.1168 - val_acc: 0.4473\n",
            "Epoch 49/50\n",
            "8500/8500 [==============================] - 4s 518us/sample - loss: 1.0570 - acc: 0.6634 - val_loss: 2.0935 - val_acc: 0.4453\n",
            "Epoch 50/50\n",
            "8500/8500 [==============================] - 4s 524us/sample - loss: 1.0389 - acc: 0.6702 - val_loss: 2.1264 - val_acc: 0.4520\n"
          ]
        }
      ],
      "source": [
        "LeNet_model_1 = LeNet_with_parameters()\n",
        "LeNet_model_1.compile(optimizer=\"RMSprop\",\n",
        "              loss=tf.keras.losses.SparseCategoricalCrossentropy(from_logits=True),\n",
        "              metrics=['accuracy'])\n",
        "\n",
        "LeNet_history_1 = LeNet_model_1.fit(x_train, y_train_to20, epochs=50, batch_size=10,\n",
        "                    validation_data=(x_val, y_val_to20))"
      ]
    },
    {
      "cell_type": "code",
      "execution_count": null,
      "metadata": {
        "id": "FK8AP3PLjZg4",
        "outputId": "3b2389cc-a239-428d-d455-62ff598c48d1"
      },
      "outputs": [
        {
          "name": "stdout",
          "output_type": "stream",
          "text": [
            "2000/2000 - 0s - loss: 1.9971 - acc: 0.4585\n"
          ]
        },
        {
          "data": {
            "image/png": "[encoded data removed]",
            "text/plain": [
              "<Figure size 432x288 with 1 Axes>"
            ]
          },
          "metadata": {
            "needs_background": "light"
          },
          "output_type": "display_data"
        }
      ],
      "source": [
        "LeNet_model_1.save('LeNet_model_1.h5')\n",
        "print_graph(LeNet_history_1, LeNet_model_1)"
      ]
    },
    {
      "cell_type": "code",
      "execution_count": null,
      "metadata": {
        "id": "e4liSH5cjZg5",
        "outputId": "42c60ee7-4182-4149-e70d-fe5da1eab83d"
      },
      "outputs": [
        {
          "name": "stdout",
          "output_type": "stream",
          "text": [
            "Train on 8500 samples, validate on 1500 samples\n",
            "Epoch 1/50\n",
            "8500/8500 [==============================] - 2s 239us/sample - loss: 3.0117 - acc: 0.0488 - val_loss: 3.0007 - val_acc: 0.0453\n",
            "Epoch 2/50\n",
            "8500/8500 [==============================] - 1s 103us/sample - loss: 2.9284 - acc: 0.0922 - val_loss: 2.8261 - val_acc: 0.1253\n",
            "Epoch 3/50\n",
            "8500/8500 [==============================] - 1s 102us/sample - loss: 2.7157 - acc: 0.1638 - val_loss: 2.6592 - val_acc: 0.1733\n",
            "Epoch 4/50\n",
            "8500/8500 [==============================] - 1s 109us/sample - loss: 2.6021 - acc: 0.1921 - val_loss: 2.6064 - val_acc: 0.1713\n",
            "Epoch 5/50\n",
            "8500/8500 [==============================] - 1s 113us/sample - loss: 2.5433 - acc: 0.2048 - val_loss: 2.5311 - val_acc: 0.2093\n",
            "Epoch 6/50\n",
            "8500/8500 [==============================] - 1s 102us/sample - loss: 2.5001 - acc: 0.2135 - val_loss: 2.4822 - val_acc: 0.2240\n",
            "Epoch 7/50\n",
            "8500/8500 [==============================] - 1s 104us/sample - loss: 2.4617 - acc: 0.2306 - val_loss: 2.4709 - val_acc: 0.2300\n",
            "Epoch 8/50\n",
            "8500/8500 [==============================] - 1s 102us/sample - loss: 2.4307 - acc: 0.2436 - val_loss: 2.4373 - val_acc: 0.2460\n",
            "Epoch 9/50\n",
            "8500/8500 [==============================] - 1s 103us/sample - loss: 2.3986 - acc: 0.2507 - val_loss: 2.4158 - val_acc: 0.2427\n",
            "Epoch 10/50\n",
            "8500/8500 [==============================] - 1s 109us/sample - loss: 2.3680 - acc: 0.2581 - val_loss: 2.3821 - val_acc: 0.2640\n",
            "Epoch 11/50\n",
            "8500/8500 [==============================] - 1s 108us/sample - loss: 2.3394 - acc: 0.2724 - val_loss: 2.3581 - val_acc: 0.2547\n",
            "Epoch 12/50\n",
            "8500/8500 [==============================] - 1s 112us/sample - loss: 2.3128 - acc: 0.2747 - val_loss: 2.3267 - val_acc: 0.2687\n",
            "Epoch 13/50\n",
            "8500/8500 [==============================] - 1s 112us/sample - loss: 2.2888 - acc: 0.2786 - val_loss: 2.3201 - val_acc: 0.2687\n",
            "Epoch 14/50\n",
            "8500/8500 [==============================] - 1s 111us/sample - loss: 2.2644 - acc: 0.2880 - val_loss: 2.2894 - val_acc: 0.2847\n",
            "Epoch 15/50\n",
            "8500/8500 [==============================] - 1s 112us/sample - loss: 2.2397 - acc: 0.2966 - val_loss: 2.2910 - val_acc: 0.2807\n",
            "Epoch 16/50\n",
            "8500/8500 [==============================] - 1s 112us/sample - loss: 2.2206 - acc: 0.3005 - val_loss: 2.2481 - val_acc: 0.2773\n",
            "Epoch 17/50\n",
            "8500/8500 [==============================] - 1s 110us/sample - loss: 2.2004 - acc: 0.3065 - val_loss: 2.2453 - val_acc: 0.3007\n",
            "Epoch 18/50\n",
            "8500/8500 [==============================] - 1s 113us/sample - loss: 2.1820 - acc: 0.3115 - val_loss: 2.2289 - val_acc: 0.2967\n",
            "Epoch 19/50\n",
            "8500/8500 [==============================] - 1s 110us/sample - loss: 2.1596 - acc: 0.3205 - val_loss: 2.2151 - val_acc: 0.3073\n",
            "Epoch 20/50\n",
            "8500/8500 [==============================] - 1s 118us/sample - loss: 2.1432 - acc: 0.3295 - val_loss: 2.1875 - val_acc: 0.3213\n",
            "Epoch 21/50\n",
            "8500/8500 [==============================] - 1s 111us/sample - loss: 2.1275 - acc: 0.3298 - val_loss: 2.1883 - val_acc: 0.3187\n",
            "Epoch 22/50\n",
            "8500/8500 [==============================] - 1s 104us/sample - loss: 2.1080 - acc: 0.3408 - val_loss: 2.1638 - val_acc: 0.3400\n",
            "Epoch 23/50\n",
            "8500/8500 [==============================] - 1s 103us/sample - loss: 2.0906 - acc: 0.3448 - val_loss: 2.1533 - val_acc: 0.3267\n",
            "Epoch 24/50\n",
            "8500/8500 [==============================] - 1s 108us/sample - loss: 2.0734 - acc: 0.3473 - val_loss: 2.1335 - val_acc: 0.3253\n",
            "Epoch 25/50\n",
            "8500/8500 [==============================] - 1s 102us/sample - loss: 2.0582 - acc: 0.3527 - val_loss: 2.1260 - val_acc: 0.3333\n",
            "Epoch 26/50\n",
            "8500/8500 [==============================] - 1s 106us/sample - loss: 2.0454 - acc: 0.3554 - val_loss: 2.1163 - val_acc: 0.3413\n",
            "Epoch 27/50\n",
            "8500/8500 [==============================] - 1s 111us/sample - loss: 2.0252 - acc: 0.3671 - val_loss: 2.0999 - val_acc: 0.3453\n",
            "Epoch 28/50\n",
            "8500/8500 [==============================] - 1s 103us/sample - loss: 2.0123 - acc: 0.3681 - val_loss: 2.0933 - val_acc: 0.3473\n",
            "Epoch 29/50\n",
            "8500/8500 [==============================] - 1s 107us/sample - loss: 2.0007 - acc: 0.3679 - val_loss: 2.0850 - val_acc: 0.3493\n",
            "Epoch 30/50\n",
            "8500/8500 [==============================] - 1s 102us/sample - loss: 1.9836 - acc: 0.3756 - val_loss: 2.0651 - val_acc: 0.3573\n",
            "Epoch 31/50\n",
            "8500/8500 [==============================] - 1s 105us/sample - loss: 1.9714 - acc: 0.3798 - val_loss: 2.0659 - val_acc: 0.3547\n",
            "Epoch 32/50\n",
            "8500/8500 [==============================] - 1s 103us/sample - loss: 1.9572 - acc: 0.3862 - val_loss: 2.0490 - val_acc: 0.3567\n",
            "Epoch 33/50\n",
            "8500/8500 [==============================] - 1s 104us/sample - loss: 1.9435 - acc: 0.3881 - val_loss: 2.0510 - val_acc: 0.3527\n",
            "Epoch 34/50\n",
            "8500/8500 [==============================] - 1s 107us/sample - loss: 1.9283 - acc: 0.3904 - val_loss: 2.0260 - val_acc: 0.3653\n",
            "Epoch 35/50\n",
            "8500/8500 [==============================] - 1s 102us/sample - loss: 1.9182 - acc: 0.3948 - val_loss: 2.0270 - val_acc: 0.3520\n",
            "Epoch 36/50\n",
            "8500/8500 [==============================] - 1s 102us/sample - loss: 1.9027 - acc: 0.4038 - val_loss: 2.0151 - val_acc: 0.3653\n",
            "Epoch 37/50\n",
            "8500/8500 [==============================] - 1s 104us/sample - loss: 1.8910 - acc: 0.4054 - val_loss: 2.0176 - val_acc: 0.3567\n",
            "Epoch 38/50\n",
            "8500/8500 [==============================] - 1s 103us/sample - loss: 1.8809 - acc: 0.4068 - val_loss: 1.9891 - val_acc: 0.3720\n",
            "Epoch 39/50\n",
            "8500/8500 [==============================] - 1s 105us/sample - loss: 1.8670 - acc: 0.4119 - val_loss: 1.9964 - val_acc: 0.3727\n",
            "Epoch 40/50\n",
            "8500/8500 [==============================] - 1s 107us/sample - loss: 1.8518 - acc: 0.4193 - val_loss: 1.9898 - val_acc: 0.3667\n",
            "Epoch 41/50\n",
            "8500/8500 [==============================] - 1s 104us/sample - loss: 1.8405 - acc: 0.4242 - val_loss: 1.9780 - val_acc: 0.3720\n",
            "Epoch 42/50\n",
            "8500/8500 [==============================] - 1s 106us/sample - loss: 1.8275 - acc: 0.4293 - val_loss: 1.9896 - val_acc: 0.3733\n",
            "Epoch 43/50\n",
            "8500/8500 [==============================] - 1s 103us/sample - loss: 1.8199 - acc: 0.4295 - val_loss: 1.9646 - val_acc: 0.3767\n",
            "Epoch 44/50\n",
            "8500/8500 [==============================] - 1s 103us/sample - loss: 1.8058 - acc: 0.4356 - val_loss: 1.9506 - val_acc: 0.3813\n",
            "Epoch 45/50\n",
            "8500/8500 [==============================] - 1s 103us/sample - loss: 1.7959 - acc: 0.4361 - val_loss: 1.9662 - val_acc: 0.3740\n",
            "Epoch 46/50\n",
            "8500/8500 [==============================] - 1s 103us/sample - loss: 1.7850 - acc: 0.4420 - val_loss: 1.9498 - val_acc: 0.3813\n",
            "Epoch 47/50\n",
            "8500/8500 [==============================] - 1s 104us/sample - loss: 1.7744 - acc: 0.4432 - val_loss: 1.9607 - val_acc: 0.3820\n",
            "Epoch 48/50\n",
            "8500/8500 [==============================] - 1s 107us/sample - loss: 1.7628 - acc: 0.4493 - val_loss: 1.9264 - val_acc: 0.3873\n",
            "Epoch 49/50\n",
            "8500/8500 [==============================] - 1s 105us/sample - loss: 1.7512 - acc: 0.4520 - val_loss: 1.9637 - val_acc: 0.3820\n",
            "Epoch 50/50\n",
            "8500/8500 [==============================] - 1s 104us/sample - loss: 1.7421 - acc: 0.4536 - val_loss: 1.9165 - val_acc: 0.3947\n"
          ]
        }
      ],
      "source": [
        "LeNet_model_2 = LeNet_with_parameters()\n",
        "LeNet_model_2.compile(optimizer=\"Nadam\",\n",
        "              loss=tf.keras.losses.SparseCategoricalCrossentropy(from_logits=True),\n",
        "              metrics=['accuracy'])\n",
        "\n",
        "LeNet_history_2 = LeNet_model_2.fit(x_train, y_train_to20, epochs=50, batch_size=85,\n",
        "                    validation_data=(x_val, y_val_to20))"
      ]
    },
    {
      "cell_type": "code",
      "execution_count": null,
      "metadata": {
        "id": "AD5x9qfKjZg5",
        "outputId": "d32cae5f-1838-40d2-cb2f-65f7317279d1"
      },
      "outputs": [
        {
          "name": "stdout",
          "output_type": "stream",
          "text": [
            "2000/2000 - 0s - loss: 1.9319 - acc: 0.4020\n"
          ]
        },
        {
          "data": {
            "image/png": "[encoded data removed]",
            "text/plain": [
              "<Figure size 432x288 with 1 Axes>"
            ]
          },
          "metadata": {
            "needs_background": "light"
          },
          "output_type": "display_data"
        }
      ],
      "source": [
        "LeNet_model_2.save('LeNet_model_2.h5')\n",
        "print_graph(LeNet_history_2, LeNet_model_2)"
      ]
    },
    {
      "cell_type": "code",
      "execution_count": 23,
      "metadata": {
        "colab": {
          "base_uri": "https://localhost:8080/"
        },
        "id": "w_yOL8kfjZg5",
        "outputId": "2865761f-1cec-4fcf-bca4-7919f60c1d43"
      },
      "outputs": [
        {
          "output_type": "stream",
          "name": "stdout",
          "text": [
            "Epoch 1/50\n",
            "100/100 [==============================] - 15s 104ms/step - loss: 14.0182 - accuracy: 0.0514 - val_loss: 3.0449 - val_accuracy: 0.0500\n",
            "Epoch 2/50\n",
            "100/100 [==============================] - 10s 99ms/step - loss: 3.1623 - accuracy: 0.0634 - val_loss: 3.0552 - val_accuracy: 0.0667\n",
            "Epoch 3/50\n",
            "100/100 [==============================] - 10s 102ms/step - loss: 3.0627 - accuracy: 0.0828 - val_loss: 2.9622 - val_accuracy: 0.0933\n",
            "Epoch 4/50\n",
            "100/100 [==============================] - 10s 103ms/step - loss: 2.9265 - accuracy: 0.1162 - val_loss: 3.0113 - val_accuracy: 0.0800\n",
            "Epoch 5/50\n",
            "100/100 [==============================] - 10s 103ms/step - loss: 2.9301 - accuracy: 0.1275 - val_loss: 2.7481 - val_accuracy: 0.1400\n",
            "Epoch 6/50\n",
            "100/100 [==============================] - 10s 105ms/step - loss: 2.7643 - accuracy: 0.1638 - val_loss: 2.5418 - val_accuracy: 0.2187\n",
            "Epoch 7/50\n",
            "100/100 [==============================] - 11s 107ms/step - loss: 2.6316 - accuracy: 0.2018 - val_loss: 2.7708 - val_accuracy: 0.1787\n",
            "Epoch 8/50\n",
            "100/100 [==============================] - 11s 106ms/step - loss: 2.5627 - accuracy: 0.2184 - val_loss: 2.5519 - val_accuracy: 0.2013\n",
            "Epoch 9/50\n",
            "100/100 [==============================] - 10s 105ms/step - loss: 2.5033 - accuracy: 0.2414 - val_loss: 2.6785 - val_accuracy: 0.2180\n",
            "Epoch 10/50\n",
            "100/100 [==============================] - 10s 104ms/step - loss: 2.3667 - accuracy: 0.2786 - val_loss: 2.4003 - val_accuracy: 0.2553\n",
            "Epoch 11/50\n",
            "100/100 [==============================] - 10s 105ms/step - loss: 2.3389 - accuracy: 0.2839 - val_loss: 2.2473 - val_accuracy: 0.3200\n",
            "Epoch 12/50\n",
            "100/100 [==============================] - 11s 106ms/step - loss: 270.2792 - accuracy: 0.2058 - val_loss: 132.3378 - val_accuracy: 0.0580\n",
            "Epoch 13/50\n",
            "100/100 [==============================] - 10s 101ms/step - loss: 89.2734 - accuracy: 0.0519 - val_loss: 68.7711 - val_accuracy: 0.0407\n",
            "Epoch 14/50\n",
            "100/100 [==============================] - 10s 101ms/step - loss: 36.8765 - accuracy: 0.0484 - val_loss: 11.6240 - val_accuracy: 0.0620\n",
            "Epoch 15/50\n",
            "100/100 [==============================] - 10s 102ms/step - loss: 21.6694 - accuracy: 0.0475 - val_loss: 9.9264 - val_accuracy: 0.0580\n",
            "Epoch 16/50\n",
            "100/100 [==============================] - 10s 102ms/step - loss: 17.1186 - accuracy: 0.0511 - val_loss: 26.3813 - val_accuracy: 0.0467\n",
            "Epoch 17/50\n",
            "100/100 [==============================] - 10s 102ms/step - loss: 14.4792 - accuracy: 0.0518 - val_loss: 11.3212 - val_accuracy: 0.0580\n",
            "Epoch 18/50\n",
            "100/100 [==============================] - 10s 102ms/step - loss: 10.2112 - accuracy: 0.0455 - val_loss: 12.4750 - val_accuracy: 0.0407\n",
            "Epoch 19/50\n",
            "100/100 [==============================] - 10s 102ms/step - loss: 13.6286 - accuracy: 0.0535 - val_loss: 5.1800 - val_accuracy: 0.0440\n",
            "Epoch 20/50\n",
            "100/100 [==============================] - 10s 101ms/step - loss: 10.0765 - accuracy: 0.0492 - val_loss: 6.0251 - val_accuracy: 0.0593\n",
            "Epoch 21/50\n",
            "100/100 [==============================] - 10s 101ms/step - loss: 8.9227 - accuracy: 0.0531 - val_loss: 5.3986 - val_accuracy: 0.0593\n",
            "Epoch 22/50\n",
            "100/100 [==============================] - 10s 101ms/step - loss: 10.3030 - accuracy: 0.0502 - val_loss: 9.9717 - val_accuracy: 0.0593\n",
            "Epoch 23/50\n",
            "100/100 [==============================] - 10s 101ms/step - loss: 11.2419 - accuracy: 0.0515 - val_loss: 8.4378 - val_accuracy: 0.0507\n",
            "Epoch 24/50\n",
            "100/100 [==============================] - 10s 101ms/step - loss: 6.7660 - accuracy: 0.0474 - val_loss: 5.1264 - val_accuracy: 0.0467\n",
            "Epoch 25/50\n",
            "100/100 [==============================] - 10s 101ms/step - loss: 8.1744 - accuracy: 0.0560 - val_loss: 3.6804 - val_accuracy: 0.0580\n",
            "Epoch 26/50\n",
            "100/100 [==============================] - 11s 106ms/step - loss: 6.0718 - accuracy: 0.0484 - val_loss: 18.9275 - val_accuracy: 0.0407\n",
            "Epoch 27/50\n",
            "100/100 [==============================] - 10s 103ms/step - loss: 7.3294 - accuracy: 0.0458 - val_loss: 11.5587 - val_accuracy: 0.0593\n",
            "Epoch 28/50\n",
            "100/100 [==============================] - 10s 101ms/step - loss: 6.0332 - accuracy: 0.0506 - val_loss: 3.5567 - val_accuracy: 0.0407\n",
            "Epoch 29/50\n",
            "100/100 [==============================] - 10s 102ms/step - loss: 6.1483 - accuracy: 0.0445 - val_loss: 8.5605 - val_accuracy: 0.0453\n",
            "Epoch 30/50\n",
            "100/100 [==============================] - 10s 103ms/step - loss: 4.6154 - accuracy: 0.0542 - val_loss: 4.1717 - val_accuracy: 0.0453\n",
            "Epoch 31/50\n",
            "100/100 [==============================] - 10s 102ms/step - loss: 4.5315 - accuracy: 0.0478 - val_loss: 4.2212 - val_accuracy: 0.0500\n",
            "Epoch 32/50\n",
            "100/100 [==============================] - 11s 107ms/step - loss: 4.0832 - accuracy: 0.0512 - val_loss: 3.1733 - val_accuracy: 0.0567\n",
            "Epoch 33/50\n",
            "100/100 [==============================] - 10s 104ms/step - loss: 4.0059 - accuracy: 0.0493 - val_loss: 3.1716 - val_accuracy: 0.0593\n",
            "Epoch 34/50\n",
            "100/100 [==============================] - 10s 104ms/step - loss: 4.0150 - accuracy: 0.0531 - val_loss: 3.2912 - val_accuracy: 0.0507\n",
            "Epoch 35/50\n",
            "100/100 [==============================] - 10s 104ms/step - loss: 3.9814 - accuracy: 0.0493 - val_loss: 3.1497 - val_accuracy: 0.0513\n",
            "Epoch 36/50\n",
            "100/100 [==============================] - 10s 104ms/step - loss: 3.6088 - accuracy: 0.0504 - val_loss: 3.1397 - val_accuracy: 0.0467\n",
            "Epoch 37/50\n",
            "100/100 [==============================] - 11s 106ms/step - loss: 3.5121 - accuracy: 0.0525 - val_loss: 3.3261 - val_accuracy: 0.0407\n",
            "Epoch 38/50\n",
            "100/100 [==============================] - 10s 105ms/step - loss: 3.5781 - accuracy: 0.0475 - val_loss: 3.9167 - val_accuracy: 0.0453\n",
            "Epoch 39/50\n",
            "100/100 [==============================] - 11s 107ms/step - loss: 3.3824 - accuracy: 0.0498 - val_loss: 3.1185 - val_accuracy: 0.0533\n",
            "Epoch 40/50\n",
            "100/100 [==============================] - 10s 102ms/step - loss: 3.4427 - accuracy: 0.0480 - val_loss: 3.2344 - val_accuracy: 0.0407\n",
            "Epoch 41/50\n",
            "100/100 [==============================] - 10s 102ms/step - loss: 3.3743 - accuracy: 0.0491 - val_loss: 3.4328 - val_accuracy: 0.0453\n",
            "Epoch 42/50\n",
            "100/100 [==============================] - 10s 103ms/step - loss: 3.4563 - accuracy: 0.0496 - val_loss: 3.2581 - val_accuracy: 0.0520\n",
            "Epoch 43/50\n",
            "100/100 [==============================] - 10s 104ms/step - loss: 3.3658 - accuracy: 0.0488 - val_loss: 3.2710 - val_accuracy: 0.0453\n",
            "Epoch 44/50\n",
            "100/100 [==============================] - 10s 102ms/step - loss: 3.3773 - accuracy: 0.0484 - val_loss: 3.3725 - val_accuracy: 0.0520\n",
            "Epoch 45/50\n",
            "100/100 [==============================] - 10s 101ms/step - loss: 3.3774 - accuracy: 0.0447 - val_loss: 3.3736 - val_accuracy: 0.0453\n",
            "Epoch 46/50\n",
            "100/100 [==============================] - 10s 102ms/step - loss: 3.4101 - accuracy: 0.0524 - val_loss: 3.4787 - val_accuracy: 0.0573\n",
            "Epoch 47/50\n",
            "100/100 [==============================] - 10s 101ms/step - loss: 3.3942 - accuracy: 0.0538 - val_loss: 3.2362 - val_accuracy: 0.0573\n",
            "Epoch 48/50\n",
            "100/100 [==============================] - 10s 102ms/step - loss: 3.4352 - accuracy: 0.0511 - val_loss: 3.3428 - val_accuracy: 0.0440\n",
            "Epoch 49/50\n",
            "100/100 [==============================] - 10s 102ms/step - loss: 3.4426 - accuracy: 0.0538 - val_loss: 3.1586 - val_accuracy: 0.0507\n",
            "Epoch 50/50\n",
            "100/100 [==============================] - 10s 102ms/step - loss: 3.5317 - accuracy: 0.0466 - val_loss: 3.2486 - val_accuracy: 0.0467\n"
          ]
        }
      ],
      "source": [
        "\n",
        "AlexNet_model_1 = AlexNet()\n",
        "AlexNet_model_1.compile(optimizer=tf.keras.optimizers.Nadam(),\n",
        "                loss= tf.keras.losses.SparseCategoricalCrossentropy(),\n",
        "                metrics=['accuracy'])\n",
        "AlexNet_history_1 = AlexNet_model_1.fit(x_train, y_train_to20, epochs=50, batch_size=85,validation_data=(x_val, y_val_to20))"
      ]
    },
    {
      "cell_type": "code",
      "execution_count": 26,
      "metadata": {
        "colab": {
          "base_uri": "https://localhost:8080/",
          "height": 300
        },
        "id": "WNPBqC89jZg5",
        "outputId": "b7a027bf-b8ac-4578-8984-59f329b2a13e"
      },
      "outputs": [
        {
          "output_type": "stream",
          "name": "stdout",
          "text": [
            "63/63 - 1s - loss: 3.2626 - accuracy: 0.0500 - 1s/epoch - 18ms/step\n"
          ]
        },
        {
          "output_type": "display_data",
          "data": {
            "text/plain": [
              "<Figure size 432x288 with 1 Axes>"
            ],
            "image/png": "[encoded data removed]"
          },
          "metadata": {
            "needs_background": "light"
          }
        }
      ],
      "source": [
        "AlexNet_model_1.save('AlexNet_model_1.h5')\n",
        "print_graph(AlexNet_history_1, AlexNet_model_1)"
      ]
    },
    {
      "cell_type": "code",
      "execution_count": 43,
      "metadata": {
        "colab": {
          "base_uri": "https://localhost:8080/"
        },
        "id": "gHWCKu8mjZg5",
        "outputId": "245852c5-f0d2-45d3-d0fb-dab836287c50"
      },
      "outputs": [
        {
          "output_type": "stream",
          "name": "stdout",
          "text": [
            "Epoch 1/50\n",
            "266/266 [==============================] - 9s 33ms/step - loss: 3.8003 - accuracy: 0.0509 - val_loss: 3.1859 - val_accuracy: 0.0507\n",
            "Epoch 2/50\n",
            "266/266 [==============================] - 9s 33ms/step - loss: 3.2002 - accuracy: 0.0494 - val_loss: 3.1129 - val_accuracy: 0.0513\n",
            "Epoch 3/50\n",
            "266/266 [==============================] - 9s 33ms/step - loss: 3.1495 - accuracy: 0.0505 - val_loss: 3.1074 - val_accuracy: 0.0513\n",
            "Epoch 4/50\n",
            "266/266 [==============================] - 9s 34ms/step - loss: 3.1212 - accuracy: 0.0511 - val_loss: 3.0674 - val_accuracy: 0.0467\n",
            "Epoch 5/50\n",
            "266/266 [==============================] - 9s 34ms/step - loss: 3.1150 - accuracy: 0.0469 - val_loss: 3.0719 - val_accuracy: 0.0467\n",
            "Epoch 6/50\n",
            "266/266 [==============================] - 9s 33ms/step - loss: 3.1076 - accuracy: 0.0468 - val_loss: 3.0850 - val_accuracy: 0.0513\n",
            "Epoch 7/50\n",
            "266/266 [==============================] - 9s 33ms/step - loss: 3.0942 - accuracy: 0.0501 - val_loss: 3.0519 - val_accuracy: 0.0533\n",
            "Epoch 8/50\n",
            "266/266 [==============================] - 9s 33ms/step - loss: 3.0896 - accuracy: 0.0495 - val_loss: 3.0661 - val_accuracy: 0.0453\n",
            "Epoch 9/50\n",
            "266/266 [==============================] - 9s 33ms/step - loss: 3.0793 - accuracy: 0.0474 - val_loss: 3.0757 - val_accuracy: 0.0407\n",
            "Epoch 10/50\n",
            "266/266 [==============================] - 9s 33ms/step - loss: 3.0731 - accuracy: 0.0494 - val_loss: 3.0426 - val_accuracy: 0.0567\n",
            "Epoch 11/50\n",
            "266/266 [==============================] - 9s 33ms/step - loss: 3.0708 - accuracy: 0.0487 - val_loss: 3.0283 - val_accuracy: 0.0433\n",
            "Epoch 12/50\n",
            "266/266 [==============================] - 9s 33ms/step - loss: 3.0711 - accuracy: 0.0479 - val_loss: 3.0858 - val_accuracy: 0.0580\n",
            "Epoch 13/50\n",
            "266/266 [==============================] - 9s 33ms/step - loss: 3.0624 - accuracy: 0.0501 - val_loss: 3.0148 - val_accuracy: 0.0453\n",
            "Epoch 14/50\n",
            "266/266 [==============================] - 9s 33ms/step - loss: 3.0657 - accuracy: 0.0498 - val_loss: 3.0470 - val_accuracy: 0.0440\n",
            "Epoch 15/50\n",
            "266/266 [==============================] - 9s 33ms/step - loss: 3.0570 - accuracy: 0.0493 - val_loss: 3.0534 - val_accuracy: 0.0433\n",
            "Epoch 16/50\n",
            "266/266 [==============================] - 9s 33ms/step - loss: 2.9773 - accuracy: 0.0778 - val_loss: 2.8485 - val_accuracy: 0.1327\n",
            "Epoch 17/50\n",
            "266/266 [==============================] - 9s 33ms/step - loss: 2.7892 - accuracy: 0.1379 - val_loss: 2.7462 - val_accuracy: 0.1627\n",
            "Epoch 18/50\n",
            "266/266 [==============================] - 9s 33ms/step - loss: 2.6988 - accuracy: 0.1652 - val_loss: 2.6668 - val_accuracy: 0.1967\n",
            "Epoch 19/50\n",
            "266/266 [==============================] - 9s 33ms/step - loss: 2.6278 - accuracy: 0.1852 - val_loss: 2.6336 - val_accuracy: 0.1873\n",
            "Epoch 20/50\n",
            "266/266 [==============================] - 9s 33ms/step - loss: 2.5602 - accuracy: 0.2132 - val_loss: 2.7131 - val_accuracy: 0.1967\n",
            "Epoch 21/50\n",
            "266/266 [==============================] - 9s 33ms/step - loss: 2.5059 - accuracy: 0.2196 - val_loss: 2.3882 - val_accuracy: 0.2700\n",
            "Epoch 22/50\n",
            "266/266 [==============================] - 9s 33ms/step - loss: 2.4184 - accuracy: 0.2475 - val_loss: 2.4363 - val_accuracy: 0.2667\n",
            "Epoch 23/50\n",
            "266/266 [==============================] - 9s 33ms/step - loss: 2.3461 - accuracy: 0.2709 - val_loss: 2.3251 - val_accuracy: 0.2813\n",
            "Epoch 24/50\n",
            "266/266 [==============================] - 9s 33ms/step - loss: 2.2771 - accuracy: 0.2886 - val_loss: 2.3368 - val_accuracy: 0.2773\n",
            "Epoch 25/50\n",
            "266/266 [==============================] - 9s 33ms/step - loss: 2.2439 - accuracy: 0.3106 - val_loss: 2.2158 - val_accuracy: 0.3193\n",
            "Epoch 26/50\n",
            "266/266 [==============================] - 9s 33ms/step - loss: 2.1796 - accuracy: 0.3258 - val_loss: 2.3360 - val_accuracy: 0.2767\n",
            "Epoch 27/50\n",
            "266/266 [==============================] - 9s 33ms/step - loss: 2.1368 - accuracy: 0.3351 - val_loss: 2.1289 - val_accuracy: 0.3347\n",
            "Epoch 28/50\n",
            "266/266 [==============================] - 9s 33ms/step - loss: 2.0848 - accuracy: 0.3568 - val_loss: 2.2287 - val_accuracy: 0.3167\n",
            "Epoch 29/50\n",
            "266/266 [==============================] - 9s 33ms/step - loss: 2.0417 - accuracy: 0.3626 - val_loss: 2.1192 - val_accuracy: 0.3367\n",
            "Epoch 30/50\n",
            "266/266 [==============================] - 9s 33ms/step - loss: 2.0069 - accuracy: 0.3769 - val_loss: 2.1448 - val_accuracy: 0.3207\n",
            "Epoch 31/50\n",
            "266/266 [==============================] - 9s 33ms/step - loss: 1.9644 - accuracy: 0.3827 - val_loss: 2.0773 - val_accuracy: 0.3760\n",
            "Epoch 32/50\n",
            "266/266 [==============================] - 9s 33ms/step - loss: 1.9295 - accuracy: 0.3979 - val_loss: 2.0532 - val_accuracy: 0.3740\n",
            "Epoch 33/50\n",
            "266/266 [==============================] - 9s 34ms/step - loss: 1.8825 - accuracy: 0.4128 - val_loss: 1.9059 - val_accuracy: 0.4020\n",
            "Epoch 34/50\n",
            "266/266 [==============================] - 9s 33ms/step - loss: 1.8502 - accuracy: 0.4273 - val_loss: 1.9147 - val_accuracy: 0.3847\n",
            "Epoch 35/50\n",
            "266/266 [==============================] - 9s 33ms/step - loss: 1.8052 - accuracy: 0.4389 - val_loss: 1.9851 - val_accuracy: 0.3947\n",
            "Epoch 36/50\n",
            "266/266 [==============================] - 9s 33ms/step - loss: 1.7829 - accuracy: 0.4440 - val_loss: 1.9224 - val_accuracy: 0.4080\n",
            "Epoch 37/50\n",
            "266/266 [==============================] - 9s 33ms/step - loss: 1.7290 - accuracy: 0.4560 - val_loss: 1.8727 - val_accuracy: 0.4313\n",
            "Epoch 38/50\n",
            "266/266 [==============================] - 9s 33ms/step - loss: 1.7010 - accuracy: 0.4686 - val_loss: 1.8826 - val_accuracy: 0.4293\n",
            "Epoch 39/50\n",
            "266/266 [==============================] - 9s 34ms/step - loss: 1.6315 - accuracy: 0.4846 - val_loss: 1.8628 - val_accuracy: 0.4407\n",
            "Epoch 40/50\n",
            "266/266 [==============================] - 9s 33ms/step - loss: 1.6093 - accuracy: 0.4969 - val_loss: 1.8728 - val_accuracy: 0.4333\n",
            "Epoch 41/50\n",
            "266/266 [==============================] - 9s 33ms/step - loss: 1.5625 - accuracy: 0.5109 - val_loss: 1.8823 - val_accuracy: 0.4507\n",
            "Epoch 42/50\n",
            "266/266 [==============================] - 9s 33ms/step - loss: 1.5156 - accuracy: 0.5265 - val_loss: 1.9255 - val_accuracy: 0.4167\n",
            "Epoch 43/50\n",
            "266/266 [==============================] - 9s 33ms/step - loss: 1.4663 - accuracy: 0.5361 - val_loss: 1.8234 - val_accuracy: 0.4680\n",
            "Epoch 44/50\n",
            "266/266 [==============================] - 9s 34ms/step - loss: 1.4246 - accuracy: 0.5495 - val_loss: 1.8526 - val_accuracy: 0.4400\n",
            "Epoch 45/50\n",
            "266/266 [==============================] - 9s 33ms/step - loss: 1.3669 - accuracy: 0.5665 - val_loss: 1.8254 - val_accuracy: 0.4600\n",
            "Epoch 46/50\n",
            "266/266 [==============================] - 9s 33ms/step - loss: 1.3209 - accuracy: 0.5771 - val_loss: 1.8394 - val_accuracy: 0.4880\n",
            "Epoch 47/50\n",
            "266/266 [==============================] - 9s 33ms/step - loss: 1.2642 - accuracy: 0.5920 - val_loss: 1.8046 - val_accuracy: 0.4827\n",
            "Epoch 48/50\n",
            "266/266 [==============================] - 9s 34ms/step - loss: 1.2083 - accuracy: 0.6120 - val_loss: 1.8619 - val_accuracy: 0.4600\n",
            "Epoch 49/50\n",
            "266/266 [==============================] - 9s 33ms/step - loss: 1.1467 - accuracy: 0.6333 - val_loss: 1.9251 - val_accuracy: 0.4560\n",
            "Epoch 50/50\n",
            "266/266 [==============================] - 9s 33ms/step - loss: 1.0734 - accuracy: 0.6532 - val_loss: 1.9247 - val_accuracy: 0.4913\n"
          ]
        }
      ],
      "source": [
        "AlexNet_model_2 = AlexNet()\n",
        "AlexNet_model_2.compile(optimizer='sgd', loss= tf.keras.losses.sparse_categorical_crossentropy, metrics=['accuracy'])\n",
        "AlexNet_history_2 = AlexNet_model_2.fit(x_train, y_train_to20, epochs=50 , validation_data=(x_val, y_val_to20))"
      ]
    },
    {
      "cell_type": "code",
      "execution_count": 44,
      "metadata": {
        "colab": {
          "base_uri": "https://localhost:8080/",
          "height": 300
        },
        "id": "0WWV5u9FjZg6",
        "outputId": "0ccc66d8-402d-46b1-ec70-ea8a116fb836"
      },
      "outputs": [
        {
          "output_type": "stream",
          "name": "stdout",
          "text": [
            "63/63 - 1s - loss: 1.8756 - accuracy: 0.4870 - 680ms/epoch - 11ms/step\n"
          ]
        },
        {
          "output_type": "display_data",
          "data": {
            "text/plain": [
              "<Figure size 432x288 with 1 Axes>"
            ],
            "image/png": "[encoded data removed]"
          },
          "metadata": {
            "needs_background": "light"
          }
        }
      ],
      "source": [
        "AlexNet_model_2.save('AlexNet_model_2.h5')\n",
        "print_graph(AlexNet_history_2, AlexNet_model_2)"
      ]
    },
    {
      "cell_type": "code",
      "source": [
        "VGG_model_1 = VGG()\n",
        "VGG_model_1.compile(optimizer='RMSprop',\n",
        "              loss=tf.keras.losses.SparseCategoricalCrossentropy(),\n",
        "              metrics=['accuracy'])\n",
        "\n",
        "VGG_history_1 = VGG_model_1.fit(x_train, y_train_to20, epochs=50, batch_size=128,\n",
        "                    validation_data=(x_val, y_val_to20))"
      ],
      "metadata": {
        "colab": {
          "base_uri": "https://localhost:8080/"
        },
        "id": "forM1WijtquL",
        "outputId": "1fef1cbf-0b11-4ab2-9d03-e42c03be860f"
      },
      "execution_count": 49,
      "outputs": [
        {
          "output_type": "stream",
          "name": "stdout",
          "text": [
            "Epoch 1/50\n",
            "67/67 [==============================] - 5s 59ms/step - loss: 3.9298 - accuracy: 0.1465 - val_loss: 2.5578 - val_accuracy: 0.1887\n",
            "Epoch 2/50\n",
            "67/67 [==============================] - 4s 57ms/step - loss: 2.3844 - accuracy: 0.2761 - val_loss: 2.0694 - val_accuracy: 0.3727\n",
            "Epoch 3/50\n",
            "67/67 [==============================] - 4s 57ms/step - loss: 1.9017 - accuracy: 0.4196 - val_loss: 1.7755 - val_accuracy: 0.4693\n",
            "Epoch 4/50\n",
            "67/67 [==============================] - 4s 57ms/step - loss: 1.5546 - accuracy: 0.5259 - val_loss: 2.0045 - val_accuracy: 0.4013\n",
            "Epoch 5/50\n",
            "67/67 [==============================] - 4s 57ms/step - loss: 1.1775 - accuracy: 0.6381 - val_loss: 1.6977 - val_accuracy: 0.5260\n",
            "Epoch 6/50\n",
            "67/67 [==============================] - 4s 57ms/step - loss: 0.8488 - accuracy: 0.7389 - val_loss: 1.5427 - val_accuracy: 0.5753\n",
            "Epoch 7/50\n",
            "67/67 [==============================] - 4s 58ms/step - loss: 0.5197 - accuracy: 0.8415 - val_loss: 1.7265 - val_accuracy: 0.5633\n",
            "Epoch 8/50\n",
            "67/67 [==============================] - 4s 58ms/step - loss: 0.3354 - accuracy: 0.9001 - val_loss: 2.1721 - val_accuracy: 0.5547\n",
            "Epoch 9/50\n",
            "67/67 [==============================] - 4s 59ms/step - loss: 0.2258 - accuracy: 0.9351 - val_loss: 2.0999 - val_accuracy: 0.5880\n",
            "Epoch 10/50\n",
            "67/67 [==============================] - 4s 60ms/step - loss: 0.1742 - accuracy: 0.9486 - val_loss: 2.2820 - val_accuracy: 0.5640\n",
            "Epoch 11/50\n",
            "67/67 [==============================] - 4s 64ms/step - loss: 0.1314 - accuracy: 0.9645 - val_loss: 3.1065 - val_accuracy: 0.5240\n",
            "Epoch 12/50\n",
            "67/67 [==============================] - 4s 65ms/step - loss: 0.1094 - accuracy: 0.9681 - val_loss: 2.7983 - val_accuracy: 0.5620\n",
            "Epoch 13/50\n",
            "67/67 [==============================] - 4s 63ms/step - loss: 0.1242 - accuracy: 0.9694 - val_loss: 2.8380 - val_accuracy: 0.5860\n",
            "Epoch 14/50\n",
            "67/67 [==============================] - 4s 60ms/step - loss: 0.1004 - accuracy: 0.9735 - val_loss: 3.3243 - val_accuracy: 0.5593\n",
            "Epoch 15/50\n",
            "67/67 [==============================] - 4s 58ms/step - loss: 0.0685 - accuracy: 0.9819 - val_loss: 3.9028 - val_accuracy: 0.5480\n",
            "Epoch 16/50\n",
            "67/67 [==============================] - 4s 58ms/step - loss: 0.0997 - accuracy: 0.9736 - val_loss: 3.6028 - val_accuracy: 0.5593\n",
            "Epoch 17/50\n",
            "67/67 [==============================] - 4s 58ms/step - loss: 0.0808 - accuracy: 0.9792 - val_loss: 3.4052 - val_accuracy: 0.5560\n",
            "Epoch 18/50\n",
            "67/67 [==============================] - 4s 58ms/step - loss: 0.0717 - accuracy: 0.9809 - val_loss: 3.5935 - val_accuracy: 0.5813\n",
            "Epoch 19/50\n",
            "67/67 [==============================] - 4s 58ms/step - loss: 0.0682 - accuracy: 0.9826 - val_loss: 5.3949 - val_accuracy: 0.4960\n",
            "Epoch 20/50\n",
            "67/67 [==============================] - 4s 58ms/step - loss: 0.0972 - accuracy: 0.9768 - val_loss: 4.0302 - val_accuracy: 0.5593\n",
            "Epoch 21/50\n",
            "67/67 [==============================] - 4s 58ms/step - loss: 0.0611 - accuracy: 0.9846 - val_loss: 4.1777 - val_accuracy: 0.5567\n",
            "Epoch 22/50\n",
            "67/67 [==============================] - 4s 57ms/step - loss: 0.0849 - accuracy: 0.9801 - val_loss: 4.0252 - val_accuracy: 0.5633\n",
            "Epoch 23/50\n",
            "67/67 [==============================] - 4s 58ms/step - loss: 0.0610 - accuracy: 0.9867 - val_loss: 4.5262 - val_accuracy: 0.5500\n",
            "Epoch 24/50\n",
            "67/67 [==============================] - 4s 58ms/step - loss: 0.0862 - accuracy: 0.9807 - val_loss: 4.4861 - val_accuracy: 0.5667\n",
            "Epoch 25/50\n",
            "67/67 [==============================] - 4s 58ms/step - loss: 0.0528 - accuracy: 0.9878 - val_loss: 5.4810 - val_accuracy: 0.5407\n",
            "Epoch 26/50\n",
            "67/67 [==============================] - 4s 58ms/step - loss: 0.0636 - accuracy: 0.9878 - val_loss: 5.2449 - val_accuracy: 0.5467\n",
            "Epoch 27/50\n",
            "67/67 [==============================] - 4s 58ms/step - loss: 0.0771 - accuracy: 0.9848 - val_loss: 4.8778 - val_accuracy: 0.5613\n",
            "Epoch 28/50\n",
            "67/67 [==============================] - 4s 57ms/step - loss: 0.0940 - accuracy: 0.9818 - val_loss: 6.2351 - val_accuracy: 0.5407\n",
            "Epoch 29/50\n",
            "67/67 [==============================] - 4s 58ms/step - loss: 0.0703 - accuracy: 0.9864 - val_loss: 6.4035 - val_accuracy: 0.5107\n",
            "Epoch 30/50\n",
            "67/67 [==============================] - 4s 58ms/step - loss: 0.0956 - accuracy: 0.9829 - val_loss: 4.9357 - val_accuracy: 0.5540\n",
            "Epoch 31/50\n",
            "67/67 [==============================] - 4s 58ms/step - loss: 0.0786 - accuracy: 0.9839 - val_loss: 4.9813 - val_accuracy: 0.5573\n",
            "Epoch 32/50\n",
            "67/67 [==============================] - 4s 58ms/step - loss: 0.0755 - accuracy: 0.9847 - val_loss: 5.6362 - val_accuracy: 0.5680\n",
            "Epoch 33/50\n",
            "67/67 [==============================] - 4s 58ms/step - loss: 0.0557 - accuracy: 0.9882 - val_loss: 5.5674 - val_accuracy: 0.5827\n",
            "Epoch 34/50\n",
            "67/67 [==============================] - 4s 58ms/step - loss: 0.0736 - accuracy: 0.9866 - val_loss: 5.6290 - val_accuracy: 0.5760\n",
            "Epoch 35/50\n",
            "67/67 [==============================] - 4s 58ms/step - loss: 0.0880 - accuracy: 0.9856 - val_loss: 5.9669 - val_accuracy: 0.5647\n",
            "Epoch 36/50\n",
            "67/67 [==============================] - 4s 58ms/step - loss: 0.0785 - accuracy: 0.9867 - val_loss: 5.7710 - val_accuracy: 0.5520\n",
            "Epoch 37/50\n",
            "67/67 [==============================] - 4s 58ms/step - loss: 0.0570 - accuracy: 0.9894 - val_loss: 6.2922 - val_accuracy: 0.5420\n",
            "Epoch 38/50\n",
            "67/67 [==============================] - 4s 58ms/step - loss: 0.0668 - accuracy: 0.9879 - val_loss: 6.0278 - val_accuracy: 0.5513\n",
            "Epoch 39/50\n",
            "67/67 [==============================] - 4s 59ms/step - loss: 0.0816 - accuracy: 0.9878 - val_loss: 7.0053 - val_accuracy: 0.5567\n",
            "Epoch 40/50\n",
            "67/67 [==============================] - 4s 59ms/step - loss: 0.0982 - accuracy: 0.9858 - val_loss: 6.3256 - val_accuracy: 0.5633\n",
            "Epoch 41/50\n",
            "67/67 [==============================] - 4s 57ms/step - loss: 0.0741 - accuracy: 0.9876 - val_loss: 6.2194 - val_accuracy: 0.5760\n",
            "Epoch 42/50\n",
            "67/67 [==============================] - 4s 57ms/step - loss: 0.0965 - accuracy: 0.9874 - val_loss: 7.2898 - val_accuracy: 0.5413\n",
            "Epoch 43/50\n",
            "67/67 [==============================] - 4s 58ms/step - loss: 0.0676 - accuracy: 0.9889 - val_loss: 7.0599 - val_accuracy: 0.5313\n",
            "Epoch 44/50\n",
            "67/67 [==============================] - 4s 58ms/step - loss: 0.0719 - accuracy: 0.9875 - val_loss: 7.3986 - val_accuracy: 0.5313\n",
            "Epoch 45/50\n",
            "67/67 [==============================] - 4s 58ms/step - loss: 0.0731 - accuracy: 0.9889 - val_loss: 6.3746 - val_accuracy: 0.5533\n",
            "Epoch 46/50\n",
            "67/67 [==============================] - 4s 58ms/step - loss: 0.0624 - accuracy: 0.9900 - val_loss: 7.2298 - val_accuracy: 0.5447\n",
            "Epoch 47/50\n",
            "67/67 [==============================] - 4s 58ms/step - loss: 0.0695 - accuracy: 0.9893 - val_loss: 7.1622 - val_accuracy: 0.5613\n",
            "Epoch 48/50\n",
            "67/67 [==============================] - 4s 59ms/step - loss: 0.0942 - accuracy: 0.9880 - val_loss: 6.7666 - val_accuracy: 0.5653\n",
            "Epoch 49/50\n",
            "67/67 [==============================] - 4s 60ms/step - loss: 0.0880 - accuracy: 0.9892 - val_loss: 6.8059 - val_accuracy: 0.5773\n",
            "Epoch 50/50\n",
            "67/67 [==============================] - 4s 58ms/step - loss: 0.0541 - accuracy: 0.9916 - val_loss: 7.2828 - val_accuracy: 0.5527\n"
          ]
        }
      ]
    },
    {
      "cell_type": "code",
      "source": [
        "VGG_model_1.save('VGG_model_1.h5')\n",
        "print_graph(VGG_history_1, VGG_model_1)"
      ],
      "metadata": {
        "colab": {
          "base_uri": "https://localhost:8080/",
          "height": 300
        },
        "id": "OC6jcr5wu447",
        "outputId": "bd099d9b-ae2f-4e15-9eed-0229cd2abc45"
      },
      "execution_count": 51,
      "outputs": [
        {
          "output_type": "stream",
          "name": "stdout",
          "text": [
            "63/63 - 1s - loss: 7.3113 - accuracy: 0.5645 - 503ms/epoch - 8ms/step\n"
          ]
        },
        {
          "output_type": "display_data",
          "data": {
            "text/plain": [
              "<Figure size 432x288 with 1 Axes>"
            ],
            "image/png": "[encoded data removed]"
          },
          "metadata": {
            "needs_background": "light"
          }
        }
      ]
    },
    {
      "cell_type": "code",
      "source": [
        "VGG_model_2 = VGG()\n",
        "VGG_model_2.compile(optimizer='Adam',\n",
        "              loss=tf.keras.losses.sparse_categorical_crossentropy,\n",
        "              metrics=['accuracy'])\n",
        "\n",
        "VGG_history_2 = VGG_model_2.fit(x_train, y_train_to20, epochs=50, batch_size=128,\n",
        "                    validation_data=(x_val, y_val_to20))"
      ],
      "metadata": {
        "colab": {
          "base_uri": "https://localhost:8080/"
        },
        "id": "AfjKu8uQts7D",
        "outputId": "668cd26d-140f-496c-e96b-b09000426cda"
      },
      "execution_count": 52,
      "outputs": [
        {
          "output_type": "stream",
          "name": "stdout",
          "text": [
            "Epoch 1/50\n",
            "67/67 [==============================] - 4s 47ms/step - loss: 2.8650 - accuracy: 0.1460 - val_loss: 2.4057 - val_accuracy: 0.2467\n",
            "Epoch 2/50\n",
            "67/67 [==============================] - 3s 49ms/step - loss: 2.1882 - accuracy: 0.3185 - val_loss: 1.9354 - val_accuracy: 0.4000\n",
            "Epoch 3/50\n",
            "67/67 [==============================] - 3s 42ms/step - loss: 1.7493 - accuracy: 0.4547 - val_loss: 1.7746 - val_accuracy: 0.4607\n",
            "Epoch 4/50\n",
            "67/67 [==============================] - 3s 44ms/step - loss: 1.4424 - accuracy: 0.5531 - val_loss: 1.5769 - val_accuracy: 0.5253\n",
            "Epoch 5/50\n",
            "67/67 [==============================] - 3s 46ms/step - loss: 1.1493 - accuracy: 0.6365 - val_loss: 1.5056 - val_accuracy: 0.5573\n",
            "Epoch 6/50\n",
            "67/67 [==============================] - 3s 47ms/step - loss: 0.8529 - accuracy: 0.7313 - val_loss: 1.5859 - val_accuracy: 0.5367\n",
            "Epoch 7/50\n",
            "67/67 [==============================] - 3s 48ms/step - loss: 0.5924 - accuracy: 0.8151 - val_loss: 1.6316 - val_accuracy: 0.5680\n",
            "Epoch 8/50\n",
            "67/67 [==============================] - 3s 43ms/step - loss: 0.4296 - accuracy: 0.8678 - val_loss: 1.7777 - val_accuracy: 0.5393\n",
            "Epoch 9/50\n",
            "67/67 [==============================] - 3s 43ms/step - loss: 0.3114 - accuracy: 0.9045 - val_loss: 1.9020 - val_accuracy: 0.5760\n",
            "Epoch 10/50\n",
            "67/67 [==============================] - 3s 43ms/step - loss: 0.2113 - accuracy: 0.9328 - val_loss: 2.1054 - val_accuracy: 0.5587\n",
            "Epoch 11/50\n",
            "67/67 [==============================] - 3s 43ms/step - loss: 0.1676 - accuracy: 0.9504 - val_loss: 2.0856 - val_accuracy: 0.5700\n",
            "Epoch 12/50\n",
            "67/67 [==============================] - 3s 42ms/step - loss: 0.1327 - accuracy: 0.9605 - val_loss: 2.2632 - val_accuracy: 0.5433\n",
            "Epoch 13/50\n",
            "67/67 [==============================] - 3s 42ms/step - loss: 0.1139 - accuracy: 0.9652 - val_loss: 2.4715 - val_accuracy: 0.5513\n",
            "Epoch 14/50\n",
            "67/67 [==============================] - 3s 43ms/step - loss: 0.1183 - accuracy: 0.9642 - val_loss: 2.4630 - val_accuracy: 0.5473\n",
            "Epoch 15/50\n",
            "67/67 [==============================] - 3s 42ms/step - loss: 0.1089 - accuracy: 0.9672 - val_loss: 2.4378 - val_accuracy: 0.5460\n",
            "Epoch 16/50\n",
            "67/67 [==============================] - 3s 43ms/step - loss: 0.1215 - accuracy: 0.9636 - val_loss: 2.5149 - val_accuracy: 0.5453\n",
            "Epoch 17/50\n",
            "67/67 [==============================] - 3s 42ms/step - loss: 0.0862 - accuracy: 0.9731 - val_loss: 2.5111 - val_accuracy: 0.5667\n",
            "Epoch 18/50\n",
            "67/67 [==============================] - 3s 42ms/step - loss: 0.0852 - accuracy: 0.9760 - val_loss: 2.5656 - val_accuracy: 0.5620\n",
            "Epoch 19/50\n",
            "67/67 [==============================] - 3s 44ms/step - loss: 0.0776 - accuracy: 0.9787 - val_loss: 2.4731 - val_accuracy: 0.5760\n",
            "Epoch 20/50\n",
            "67/67 [==============================] - 3s 47ms/step - loss: 0.0703 - accuracy: 0.9780 - val_loss: 2.7519 - val_accuracy: 0.5700\n",
            "Epoch 21/50\n",
            "67/67 [==============================] - 3s 42ms/step - loss: 0.0566 - accuracy: 0.9842 - val_loss: 2.6652 - val_accuracy: 0.5547\n",
            "Epoch 22/50\n",
            "67/67 [==============================] - 3s 43ms/step - loss: 0.0748 - accuracy: 0.9788 - val_loss: 2.7243 - val_accuracy: 0.5627\n",
            "Epoch 23/50\n",
            "67/67 [==============================] - 3s 42ms/step - loss: 0.0633 - accuracy: 0.9812 - val_loss: 2.6892 - val_accuracy: 0.5613\n",
            "Epoch 24/50\n",
            "67/67 [==============================] - 3s 42ms/step - loss: 0.0635 - accuracy: 0.9818 - val_loss: 2.8463 - val_accuracy: 0.5433\n",
            "Epoch 25/50\n",
            "67/67 [==============================] - 3s 42ms/step - loss: 0.0602 - accuracy: 0.9818 - val_loss: 2.7805 - val_accuracy: 0.5640\n",
            "Epoch 26/50\n",
            "67/67 [==============================] - 3s 42ms/step - loss: 0.0435 - accuracy: 0.9871 - val_loss: 2.7955 - val_accuracy: 0.5680\n",
            "Epoch 27/50\n",
            "67/67 [==============================] - 3s 41ms/step - loss: 0.0396 - accuracy: 0.9884 - val_loss: 2.8158 - val_accuracy: 0.5507\n",
            "Epoch 28/50\n",
            "67/67 [==============================] - 3s 42ms/step - loss: 0.0626 - accuracy: 0.9819 - val_loss: 2.7085 - val_accuracy: 0.5653\n",
            "Epoch 29/50\n",
            "67/67 [==============================] - 3s 42ms/step - loss: 0.0585 - accuracy: 0.9822 - val_loss: 2.9215 - val_accuracy: 0.5540\n",
            "Epoch 30/50\n",
            "67/67 [==============================] - 3s 41ms/step - loss: 0.0449 - accuracy: 0.9873 - val_loss: 3.0567 - val_accuracy: 0.5407\n",
            "Epoch 31/50\n",
            "67/67 [==============================] - 3s 42ms/step - loss: 0.0372 - accuracy: 0.9881 - val_loss: 2.9363 - val_accuracy: 0.5507\n",
            "Epoch 32/50\n",
            "67/67 [==============================] - 3s 42ms/step - loss: 0.0296 - accuracy: 0.9911 - val_loss: 2.9912 - val_accuracy: 0.5647\n",
            "Epoch 33/50\n",
            "67/67 [==============================] - 3s 42ms/step - loss: 0.0325 - accuracy: 0.9899 - val_loss: 3.0353 - val_accuracy: 0.5553\n",
            "Epoch 34/50\n",
            "67/67 [==============================] - 3s 42ms/step - loss: 0.0434 - accuracy: 0.9866 - val_loss: 3.0512 - val_accuracy: 0.5547\n",
            "Epoch 35/50\n",
            "67/67 [==============================] - 3s 42ms/step - loss: 0.0512 - accuracy: 0.9848 - val_loss: 2.9559 - val_accuracy: 0.5460\n",
            "Epoch 36/50\n",
            "67/67 [==============================] - 3s 41ms/step - loss: 0.0537 - accuracy: 0.9853 - val_loss: 3.0641 - val_accuracy: 0.5340\n",
            "Epoch 37/50\n",
            "67/67 [==============================] - 3s 41ms/step - loss: 0.0574 - accuracy: 0.9840 - val_loss: 3.0791 - val_accuracy: 0.5400\n",
            "Epoch 38/50\n",
            "67/67 [==============================] - 3s 42ms/step - loss: 0.0610 - accuracy: 0.9827 - val_loss: 3.0376 - val_accuracy: 0.5367\n",
            "Epoch 39/50\n",
            "67/67 [==============================] - 3s 41ms/step - loss: 0.0539 - accuracy: 0.9842 - val_loss: 3.1595 - val_accuracy: 0.5340\n",
            "Epoch 40/50\n",
            "67/67 [==============================] - 3s 42ms/step - loss: 0.0332 - accuracy: 0.9899 - val_loss: 3.0845 - val_accuracy: 0.5673\n",
            "Epoch 41/50\n",
            "67/67 [==============================] - 3s 42ms/step - loss: 0.0306 - accuracy: 0.9915 - val_loss: 3.5711 - val_accuracy: 0.5507\n",
            "Epoch 42/50\n",
            "67/67 [==============================] - 3s 42ms/step - loss: 0.0474 - accuracy: 0.9871 - val_loss: 3.2397 - val_accuracy: 0.5347\n",
            "Epoch 43/50\n",
            "67/67 [==============================] - 3s 42ms/step - loss: 0.0449 - accuracy: 0.9880 - val_loss: 3.1014 - val_accuracy: 0.5620\n",
            "Epoch 44/50\n",
            "67/67 [==============================] - 3s 42ms/step - loss: 0.0387 - accuracy: 0.9901 - val_loss: 3.0246 - val_accuracy: 0.5500\n",
            "Epoch 45/50\n",
            "67/67 [==============================] - 3s 42ms/step - loss: 0.0311 - accuracy: 0.9909 - val_loss: 3.3266 - val_accuracy: 0.5400\n",
            "Epoch 46/50\n",
            "67/67 [==============================] - 3s 42ms/step - loss: 0.0313 - accuracy: 0.9908 - val_loss: 3.3829 - val_accuracy: 0.5493\n",
            "Epoch 47/50\n",
            "67/67 [==============================] - 3s 42ms/step - loss: 0.0446 - accuracy: 0.9879 - val_loss: 3.1581 - val_accuracy: 0.5467\n",
            "Epoch 48/50\n",
            "67/67 [==============================] - 3s 42ms/step - loss: 0.0366 - accuracy: 0.9896 - val_loss: 3.1082 - val_accuracy: 0.5433\n",
            "Epoch 49/50\n",
            "67/67 [==============================] - 3s 42ms/step - loss: 0.0397 - accuracy: 0.9887 - val_loss: 3.4465 - val_accuracy: 0.5420\n",
            "Epoch 50/50\n",
            "67/67 [==============================] - 3s 42ms/step - loss: 0.0268 - accuracy: 0.9913 - val_loss: 3.2581 - val_accuracy: 0.5467\n"
          ]
        }
      ]
    },
    {
      "cell_type": "code",
      "source": [
        "VGG_model_2.save('VGG_model_2.h5')\n",
        "print_graph(VGG_history_2, VGG_model_2)"
      ],
      "metadata": {
        "colab": {
          "base_uri": "https://localhost:8080/",
          "height": 300
        },
        "id": "w0utCMUavQ4_",
        "outputId": "f45efa50-69ef-47c7-ef37-5be8189889c8"
      },
      "execution_count": 53,
      "outputs": [
        {
          "output_type": "stream",
          "name": "stdout",
          "text": [
            "63/63 - 0s - loss: 3.2060 - accuracy: 0.5640 - 338ms/epoch - 5ms/step\n"
          ]
        },
        {
          "output_type": "display_data",
          "data": {
            "text/plain": [
              "<Figure size 432x288 with 1 Axes>"
            ],
            "image/png": "[encoded data removed]"
          },
          "metadata": {
            "needs_background": "light"
          }
        }
      ]
    },
    {
      "cell_type": "markdown",
      "metadata": {
        "id": "xE_I_I1vjZg6"
      },
      "source": [
        "  \n",
        "#### Βήμα 2: Αξιολόγηση των μοντέλων\n",
        "\n",
        "1. Για κάθε ένα από τα μοντέλα που εκπαιδεύσατε, απεικονίστε σε κοινό διάγραμμα την ορθότητα εκπαίδευσης και την ορθότητα επικύρωσης στο σύνολο των εποχών, για κάθε διαφορετικό συνδυασμό του βήματος 1 και επιλέξτε αυτό με την καλύτερη ορθότητα από κάθε μοντέλο (ένα από κάθε αρχιτεκτονική, συνολικά 4).\n",
        "2. Για κάθε ένα από τα μοντέλα με την καλύτερη ορθότητα (συνολικά **4**), απεικονίστε σε κοινό διάγραμμα την ορθότητα εκπαίδευσης και την ορθότητα επικύρωσης στο σύνολο των εποχών.\n",
        "3. Αξιολογήστε, αναλυτικά, τα αποτελέσματά σας ως προς τα εξής:\n",
        " - Επίδραση του πλήθους των δεδομένων/κλάσεων στην απόδοση του μοντέλου\n",
        " - Επίδραση του αλγόριθμου βελτιστοποίησης (optimizer)\n",
        " - Επίδραση του μεγέθους δέσμης (batch size)\n",
        " \n",
        "---\n",
        "\n",
        "#### Βήμα 3: Αξιολόγηση ορθότητας\n",
        "Αξιολογήστε την ορθότητα για το test set σας.\n"
      ]
    },
    {
      "cell_type": "code",
      "execution_count": null,
      "metadata": {
        "id": "b2eBXfrpjZg6"
      },
      "outputs": [],
      "source": [
        ""
      ]
    },
    {
      "cell_type": "markdown",
      "metadata": {
        "id": "v8rhgSGOV5pm"
      },
      "source": [
        "\n",
        "## Ερώτημα 2\n",
        "---\n",
        "### Βήμα 1: Έλεγχος υπερεκπαίδευσης\n",
        "\n",
        "Για τον καλύτερο συνδυασμό που λάβατε από το Ερώτημα 1 για μοντέλο σας  (**MyCNN**) και μόνο, δοκιμάστε διάφορους συνδυασμούς των ακόλουθων τεχνικών για τον έλεγχο της υπερεκπαίδευσης (overfitting), όπως: \n",
        "- Πρόωρος τερματισμός (early stopping [tf.keras.callbacks.EarlyStopping](https://www.tensorflow.org/api_docs/python/tf/keras/callbacks/EarlyStoppinghttps://)) \n",
        "\n",
        "- Dropout ([Dropout](https://www.tensorflow.org/tutorials/images/classification#dropout))\n",
        "\n",
        "- Επαύξηση δεδομένων ([Data augmentation](https://www.tensorflow.org/tutorials/images/classification#data_augmentation), [ImageDataGenerator](https://www.tensorflow.org/api_docs/python/tf/keras/preprocessing/image/ImageDataGenerator#class_imagedatagenerator)) \n",
        "\n",
        "\\\\\n",
        ", ώστε το μοντέλο σας να γενικεύει καλύτερα.\n",
        "\n",
        "---\n",
        "### Βήμα 2: Αξιολόγηση\n",
        "Αξιολογήστε της ορθότητας για το validation και το test set σας."
      ]
    },
    {
      "cell_type": "markdown",
      "metadata": {
        "id": "jTxKRNEHWfGs"
      },
      "source": [
        "## Ερώτημα 3\n",
        "---\n",
        "### Βήμα 1: Μεταφορά γνώσης\n",
        "Εφαρμόστε μεταφορά γνώσης (transfer learning) στο δικό σας μοντέλο (**MyCNN**), που αξιολογήσατε ως καλύτερο προς την ορθότητα στην αντιμετώπιση της υπερεκπαίδεσης. \n",
        "\n",
        "Για το transfer learning, επιλέξτε το [VGG16](https://www.tensorflow.org/api_docs/python/tf/keras/applications/vgg16) για μεταφορά μάθησης.\n",
        "\n",
        "1. \"Παγώστε\" τη συνελικτική βάση και εκπαιδεύστε την κεφαλή ταξινόμησης (classification head - σημαία trainable = False).  \n",
        "\n",
        "2. Εκπαιδέστε μόνο ένα ποσοστό των επιπέδων, το οποίο βρίσκεται προς την έξοδο του δικτύου. Οι σημαίες trainable εδώ θα πρέπει να οριστούν ανά επίπεδο.\n",
        "\n",
        "3. Αξιολογήστε τα αποτελέσματά σας, βάσει της ορθότητας του validation set και του test set σας."
      ]
    },
    {
      "cell_type": "markdown",
      "metadata": {
        "id": "M_T6Y9EJDuOu"
      },
      "source": [
        "## Διαχείριση μνήμης (TFRecord)\n",
        "Η φόρτωση δεδομένων με τον τρόπο που το κάναμε παραπάνω στο απλό παράδειγμα υλοποίησης είναι πολύ βολική αλλά δεν είναι αποτελεσματική ως προς τη διαχείριση της μνήμης. Συγκεκριμένα, με τον τρόπο αυτό, τα δεδομένα αποθηκεύονται απευθείας σε μεταβλητές, οι οποίες όλες μαζί καταλαμβάνουν τη RAM της CPU ή της GPU, κάτι που κάνει αδύνατη τη διαχείριση μεγάλων datasets ή τον μεταχηματισμό των δεδομένων όπως όταν κάνουμε αύξηση δεδομένων (data augmentation).\n",
        "\n",
        "Για να παρακαμφθεί αυτό το πρόβλημα, υπάρχει η δυνατότητα της σειριοποίησης των δεδομένων (serialization) και της αποθήκευσής τους σε αρχεία μεσαίου μεγέθους (κάποιων MB) τα οποία μπορούν να αναγνωστούν γραμμικά.\n",
        "\n",
        "Το φορμάτ TFRecord είναι ένα φορμάτ που επιτρέπει την αποθήκευση σειράς δυαδικών εγγραφών. Διαβάστε σχετικά για το [TFRecord and tf.Example](https://www.tensorflow.org/tutorials/load_data/tfrecord) και [tf.data: Build TensorFlow input pipelines](https://www.tensorflow.org/guide/data). \n",
        "\n",
        "Σημειώστε ότι με τη μέθοδο αυτή θα πρέπει να γίνει import η `tensorflow_datasets` και να χρησιμοποιήσουμε την `tfds.load` ώστε να αποθηκευθεί το σύνολο δεδομένων σε αρχεία tfrecord στο δίσκο (δείτε [εδώ](https://colab.research.google.com/github/tensorflow/datasets/blob/master/docs/overview.ipynb) ένα παράδειγμα). Φυσικά μπορούμε να μετατρέψουμε και τα πρωτογενή δεδομένα (raw data) του dataset όπως αρχεία jpg σε φορματ tfrecord όπως [εδώ](https://towardsdatascience.com/working-with-tfrecords-and-tf-train-example-36d111b3ff4d).\n"
      ]
    }
  ],
  "metadata": {
    "colab": {
      "name": "2η_Ομαδική_Άσκηση.ipynb",
      "provenance": []
    },
    "interpreter": {
      "hash": "6605cacf7427ce5e1d20d0f8d1af538fb4f7d781cf70596898a52975d0ae077a"
    },
    "kernelspec": {
      "display_name": "Python 3.6.13 ('directml')",
      "language": "python",
      "name": "python3"
    },
    "language_info": {
      "codemirror_mode": {
        "name": "ipython",
        "version": 3
      },
      "file_extension": ".py",
      "mimetype": "text/x-python",
      "name": "python",
      "nbconvert_exporter": "python",
      "pygments_lexer": "ipython3",
      "version": "3.6.13"
    },
    "accelerator": "GPU"
  },
  "nbformat": 4,
  "nbformat_minor": 0
}