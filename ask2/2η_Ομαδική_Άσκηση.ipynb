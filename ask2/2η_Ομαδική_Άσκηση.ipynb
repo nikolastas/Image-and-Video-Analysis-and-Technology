{
  "cells": [
    {
      "cell_type": "markdown",
      "metadata": {
        "id": "LpnEVMCYYlnD"
      },
      "source": [
        "#2η ομαδική εργασία στη Τεχνολογία και Ανάλυση Εικόνων και Βίντεο"
      ]
    },
    {
      "cell_type": "markdown",
      "metadata": {},
      "source": [
        "Ομάδα 88\n",
        "\n",
        "Γρηγοριάδου Ναταλία-Μαρία 03118940\n",
        "\n",
        "Τασιόπουλος Νικόλαος 03118858"
      ]
    },
    {
      "cell_type": "markdown",
      "metadata": {
        "id": "MO6YawrYcrLE"
      },
      "source": [
        "# Θεωρητικό μέρος"
      ]
    },
    {
      "cell_type": "markdown",
      "metadata": {
        "id": "z7Pj3hOijZgv"
      },
      "source": [
        "## Ερώτηση 1:\n",
        "#### Περιγράψτε τη λειτουργία της Rectified Linear Unit (ReLU) :\n",
        "Η ReLU είναι συνάρτηση που ορίζεται ως f(x)=max(0,x) και χρησιμοποιείται ως εναλλακτικός τρόπος μοντελοποίησης της εξόδου ενός νευρώνα, αντί της κλασσικής συνάρτησης: \n",
        "$$f(x) = tanh(x) ή f(x) = {(1+e^{-x})}^{-1}$$ \n",
        "\n",
        "Η ReLU, ως μη γραμμική και μη κορεσμένη, επιτυγχάνει αισθητά μικρότερο χρόνο εκπαίδευσης συγκριτικά με τις μη γραμμικές και κορεσμένες συναρτήσεις που αναφέρθηκαν παραπάνω και χρησιμοποιούνται παραδοσιακά. Η διαφορά, αυτή στον χρόνο εκπαίδευσης, συμβάλλει στην δυνατότητα διαχείρισης μεγάλων νευρωνικών δικτύων, τα οποία με την χρήση των παραδοσιακών συναρτήσεων είναι πρακτικά αδύνατο να εκπαιδεύσουμε.\n",
        "Ολοκληρώνοντας, χρησιμοποιούμε την συνάρτηση ReLU όχι μόνο λόγω της γρηγορότερης εκπαίδευσης, αλλά και επειδή η κανονικοποίηση στην είσοδο δεν είναι απαραίτητη για να αποφευχθεί ο κορεσμός, καθιστώντας έτσι υπολογιστικά πιο αποδοτική την εκπαίδευση.\n",
        "\n",
        "\n",
        "#### Παρουσιάστε ένα συγκριτικό πίνακα με τα επίπεδα, το μέγεθος των φίλτρων, συνάρτηση ενεργοποίησης, πλήθος παραμέτρων και τεχνικές pooling και dropout που χρησιμοποιούν τα 3 διαφορετικά δίκτυα που παρουσιάζονται στα προαναφερθέντα άρθρα και σχολιάστε επαρκώς τις διαφορές τους. Ποια χαρακτηριστικά αυτών των τριών δικτύων είναι κατά τη γνώμη σας αυτά που συνέβαλαν στη σταδιακή αύξηση της ακρίβειας ταξινόμησης.\n",
        "\n",
        "| Network's Name |  Levels| Initial Image Size| Filter's |  Function | Network's Parameters | Pooling | Dropout |\n",
        "|----------------|-------|-------------------|----------|-----------|----------------------|---------|---------|\n",
        "|LeNet           |   7 :2xConv, 2xPool, 3FC  |    28x28          |   5x5      |    Sigmoid|   2578 (indipendent) | Yes     |   No    |\n",
        "|AlexNet         |   11: 5xConv, 3xPool, 3FC   |   224x224x3       |  11x11x3, 5x5x3, 3x3x3        |    Relu   |         60 millions  |  Yes    |   Yes   | \n",
        "|VGG             |   16: 8xConv, 5xPool, 3FC  |   224x224x1       |      3x3    |    Relu   |        144 millions  |  Yes    |   Yes   |\n",
        "\n",
        "\n",
        "* Σημείωση: στο παραπάνω πινακάκι Conv= convolutional layer, Pool=pooling layer, FC= fully-connected layer.\n",
        "* Σχολιασμός:\n",
        "1. ΔΙΑΦΟΡΕΣ:\n",
        "\n",
        "    Οι διαφορές ως προς τα επίπεδα αφορούν μόνο τα convolutional και pooling επίπεδα, αφού και τα 3 δίκτυα έχουν 3 fully-connected επίπεδα. Τα φίλτρα διαφέρουν και ως προς το μέγεθος αλλά και ως προς το επίπεδο του δικτύου που εφαρμόζονται. Συγκεκριμένα το δίκτυο LeNet εφαρμόζει φίλτρο μεγέθους 5x5 σε όλα τα επίπεδα, το δίκτυο AlexNet 11x11 στο πρώτο επίπεδο, 5x5 στο δεύτερο και 3x3 στα επόμενα 3 επίπεδα. \n",
        "\n",
        "    Παρατηρούμε ότι το δίκτυο LeNet έχει τις μεγαλύτερες διαφορές καθώς έχει μικρότερο βάθος (λίγοτερα επίπεδα), δεν χρησιμοποιεί τεχνική Dropout, η οποία συμβάλλει στην μείωση του overfitting και είναι το μοναδικό που δεν χρησιμοποιεί την συνάρτηση ReLU.\n",
        "2. ΧΑΡΑΚΤΗΡΙΣΤΙΚΑ ΠΟΥ ΣΥΜΒΑΛΛΟΥΝ ΣΤΗΝ ΑΚΡΙΒΕΙΑ:\n",
        "\n",
        "    Το κυριότερο χαρακτηριστικό που συμβάλλει στην ακρίβεια είναι η χρήση της συνάρτησης ReLU. Η ταχύτητα εκπαίδευσης που προσφέρει αυτή η συνάρτηση, όπως αναφέρθηκε και παραπάνω, έδωσε την δυνατότητα να χρησιμοποιηθούν μεγαλύτερα σε βάθος νευρωνικά δίκτυα τα οποία οδηγούν σε μεγαλύτερη ακρίβεια.\n",
        "\n",
        "    Εκτός από αυτό, οι τεχνικές Dropout που εφαρμόζονται στα δύο τελευταία δίκτυα, αφαιρώντας τυχαίους κόμβους κατά την εκπαίδευση, έχει ως αποτέλεσμα την ανεξαρτητοποίηση των νευρώνων μειώνοντας σημαντικά το πρόβλημα του overfitting, αυξάνοντας έτσι την ακρίβεια.\n",
        "\n",
        "    Τέλος, η χρήση πολλαπλών και μικρότερων σε μέγεθος φίλτρων αντί ενός μεγάλου ισοδυναμεί με κανονικοποίηση το οποίο οδηγεί σε μεγαλύτερη ακρίβεια. \n"
      ]
    },
    {
      "cell_type": "markdown",
      "metadata": {
        "id": "IHeeD-CRTVzV"
      },
      "source": [
        "# Εργαστηριακό μέρος"
      ]
    },
    {
      "cell_type": "markdown",
      "metadata": {
        "id": "DfEMjsB4Yurm"
      },
      "source": [
        "## Εισαγωγή και επισκόπηση του συνόλου δεδομένων"
      ]
    },
    {
      "cell_type": "code",
      "execution_count": 87,
      "metadata": {
        "colab": {
          "base_uri": "https://localhost:8080/"
        },
        "id": "xqz96jwyjZgw",
        "outputId": "6d02f70f-21d8-4741-cd07-d6a795ab31da"
      },
      "outputs": [
        {
          "name": "stdout",
          "output_type": "stream",
          "text": [
            "Looking in indexes: https://pypi.org/simple, https://us-python.pkg.dev/colab-wheels/public/simple/\n",
            "Requirement already satisfied: pandas in /usr/local/lib/python3.7/dist-packages (1.3.5)\n",
            "Requirement already satisfied: pytz>=2017.3 in /usr/local/lib/python3.7/dist-packages (from pandas) (2022.1)\n",
            "Requirement already satisfied: python-dateutil>=2.7.3 in /usr/local/lib/python3.7/dist-packages (from pandas) (2.8.2)\n",
            "Requirement already satisfied: numpy>=1.17.3 in /usr/local/lib/python3.7/dist-packages (from pandas) (1.21.6)\n",
            "Requirement already satisfied: six>=1.5 in /usr/local/lib/python3.7/dist-packages (from python-dateutil>=2.7.3->pandas) (1.15.0)\n"
          ]
        }
      ],
      "source": [
        "# GPU enablen in jupeter\n",
        "%pip install pandas"
      ]
    },
    {
      "cell_type": "code",
      "execution_count": 88,
      "metadata": {
        "id": "STXQMBuN3nZ6"
      },
      "outputs": [],
      "source": [
        "from __future__ import absolute_import, division, print_function, unicode_literals # legacy compatibility\n",
        "\n",
        "import numpy as np\n",
        "import pandas as pd\n",
        "import matplotlib.pyplot as plt"
      ]
    },
    {
      "cell_type": "code",
      "execution_count": 89,
      "metadata": {
        "id": "2WSEGPI9Q7tW"
      },
      "outputs": [],
      "source": [
        "# helper functions\n",
        "\n",
        "# select from from_list elements with index in index_list\n",
        "def select_from_list(from_list, index_list):\n",
        "  filtered_list= [from_list[i] for i in index_list]\n",
        "  return(filtered_list)\n",
        "\n",
        "# append in filtered_list the index of each element of unfilterd_list if it exists in in target_list\n",
        "def get_ds_index(unfiliterd_list, target_list):\n",
        "  index = 0\n",
        "  filtered_list=[]\n",
        "  for i_ in unfiliterd_list:\n",
        "    if i_[0] in target_list:\n",
        "      filtered_list.append(index)\n",
        "    index += 1\n",
        "  return(filtered_list)\n"
      ]
    },
    {
      "cell_type": "code",
      "execution_count": 90,
      "metadata": {
        "id": "OCW71UaGzz0Q"
      },
      "outputs": [],
      "source": [
        "# load the entire dataset\n",
        "import tensorflow as tf\n",
        "from tensorflow.keras import datasets, layers, models\n",
        "\n",
        "(x_train_all, y_train_all), (x_test_all, y_test_all) = tf.keras.datasets.cifar100.load_data(label_mode='fine')"
      ]
    },
    {
      "cell_type": "code",
      "execution_count": 91,
      "metadata": {
        "colab": {
          "base_uri": "https://localhost:8080/"
        },
        "id": "kGKYHffEE1do",
        "outputId": "20d0e78d-609c-4ec9-bf83-a790b4a817a8"
      },
      "outputs": [
        {
          "name": "stdout",
          "output_type": "stream",
          "text": [
            "(50000, 32, 32, 3)\n"
          ]
        }
      ],
      "source": [
        "print(x_train_all.shape)"
      ]
    },
    {
      "cell_type": "markdown",
      "metadata": {
        "id": "9PO9wIwYUf0R"
      },
      "source": [
        "Η κάθε ομάδα θα δουλέψει με διαφορετικό υποσύνολο του dataset.\n",
        "Στο επόμενο κελί, αντικαταστήστε την τιμή της μεταβλητής `team_seed` με τον αριθμό που αντιστοιχεί στην ομάδας σας. "
      ]
    },
    {
      "cell_type": "code",
      "execution_count": 92,
      "metadata": {
        "id": "NN0kEze7uZ_G"
      },
      "outputs": [],
      "source": [
        "# REPLACE WITH YOUR TEAM NUMBER\n",
        "team_seed = 88"
      ]
    },
    {
      "cell_type": "code",
      "execution_count": 93,
      "metadata": {
        "id": "RhbZJW6PxUDJ"
      },
      "outputs": [],
      "source": [
        "# select from CIFAR100 20 classes\n",
        "cifar100_classes_url = \"https://pastebin.com/raw/nzE1n98V\""
      ]
    },
    {
      "cell_type": "markdown",
      "metadata": {
        "id": "yO9f6wb0Wi0H"
      },
      "source": [
        "Δημιουργούμε το μοναδικό dataset της ομάδας μας:"
      ]
    },
    {
      "cell_type": "code",
      "execution_count": 94,
      "metadata": {
        "id": "PgIN2h_KuCp_"
      },
      "outputs": [],
      "source": [
        "team_classes = pd.read_csv(cifar100_classes_url, sep=',', header=None)\n",
        "CIFAR100_LABELS_LIST = pd.read_csv('https://pastebin.com/raw/qgDaNggt', sep=',', header=None).astype(str).values.tolist()[0]\n",
        "\n",
        "our_index = team_classes.iloc[team_seed,:].values.tolist()\n",
        "our_classes = select_from_list(CIFAR100_LABELS_LIST, our_index)\n",
        "train_index = get_ds_index(y_train_all, our_index)\n",
        "test_index = get_ds_index(y_test_all, our_index)\n",
        "\n",
        "x_train_ds = np.asarray(select_from_list(x_train_all, train_index))\n",
        "y_train_ds = np.asarray(select_from_list(y_train_all, train_index))\n",
        "x_test_ds = np.asarray(select_from_list(x_test_all, test_index))\n",
        "y_test_ds = np.asarray(select_from_list(y_test_all, test_index))"
      ]
    },
    {
      "cell_type": "code",
      "execution_count": 95,
      "metadata": {
        "colab": {
          "base_uri": "https://localhost:8080/"
        },
        "id": "_B4-tvVOQq3j",
        "outputId": "16da3b1d-72ec-4eac-b246-c27f0a18e8fe"
      },
      "outputs": [
        {
          "name": "stdout",
          "output_type": "stream",
          "text": [
            "[' baby', ' bowl', ' bridge', ' crab', ' cup', ' dinosaur', ' fox', ' hamster', ' maple_tree', ' poppy', ' rabbit', ' road', ' streetcar', ' tank', ' television', ' tractor', ' train', ' turtle', ' whale', ' worm']\n"
          ]
        }
      ],
      "source": [
        "# print our classes\n",
        "print(our_classes)"
      ]
    },
    {
      "cell_type": "code",
      "execution_count": 96,
      "metadata": {
        "colab": {
          "base_uri": "https://localhost:8080/"
        },
        "id": "bk5wy0u7GGMj",
        "outputId": "f44d6f70-7923-4a68-d799-7639e20d52c5"
      },
      "outputs": [
        {
          "name": "stdout",
          "output_type": "stream",
          "text": [
            "(32, 32, 3)\n"
          ]
        }
      ],
      "source": [
        "print(x_train_ds[1].shape)"
      ]
    },
    {
      "cell_type": "code",
      "execution_count": 97,
      "metadata": {
        "colab": {
          "base_uri": "https://localhost:8080/",
          "height": 0
        },
        "id": "QpGXgTs_5ZCk",
        "outputId": "36de7f5e-410e-4d7c-9977-8e52b285c43e"
      },
      "outputs": [
        {
          "name": "stdout",
          "output_type": "stream",
          "text": [
            "Train: X=(8500, 32, 32, 3), y=(8500, 1)\n",
            "Validation: X=(1500, 32, 32, 3), y=(1500, 1)\n",
            "Test: X=(2000, 32, 32, 3), y=(2000, 1)\n"
          ]
        },
        {
          "data": {
            "image/png": "[encoded data removed]",
            "text/plain": [
              "<Figure size 432x432 with 9 Axes>"
            ]
          },
          "metadata": {
            "needs_background": "light"
          },
          "output_type": "display_data"
        }
      ],
      "source": [
        "# get (train) dataset dimensions\n",
        "data_size, img_rows, img_cols, img_channels = x_train_ds.shape\n",
        "\n",
        "# set validation set percentage (wrt the training set size)\n",
        "validation_percentage = 0.15\n",
        "val_size = round(validation_percentage * data_size)\n",
        "\n",
        "# Reserve val_size samples for validation and normalize all values\n",
        "x_val = x_train_ds[-val_size:]/255\n",
        "y_val = y_train_ds[-val_size:]\n",
        "x_train = x_train_ds[:-val_size]/255\n",
        "y_train = y_train_ds[:-val_size]\n",
        "x_test = x_test_ds/255\n",
        "y_test = y_test_ds\n",
        "\n",
        "# summarize loaded dataset\n",
        "print('Train: X=%s, y=%s' % (x_train.shape, y_train.shape))\n",
        "print('Validation: X=%s, y=%s' % (x_val.shape, y_val.shape))\n",
        "print('Test: X=%s, y=%s' % (x_test.shape, y_test.shape))\n",
        "\n",
        "# get class label from class index\n",
        "def class_label_from_index(fine_category):\n",
        "  return(CIFAR100_LABELS_LIST[fine_category.item(0)])\n",
        "\n",
        "# plot first few images\n",
        "plt.figure(figsize=(6, 6))\n",
        "for i in range(9):\n",
        "\t# define subplot\n",
        "  plt.subplot(330 + 1 + i).set_title(class_label_from_index(y_train[i]))\n",
        "\t# plot raw pixel data\n",
        "  plt.imshow(x_train[i], cmap=plt.get_cmap('gray'))\n",
        "  #show the figure\n",
        "plt.show()"
      ]
    },
    {
      "cell_type": "markdown",
      "metadata": {
        "id": "iAgowxR8oJH7"
      },
      "source": [
        "## Ερώτημα 1\n",
        "---\n",
        "#### Βήμα 1: Σχεδίαση, μεταγλώττιση και εκπαίδευση των μοντέλων\n",
        "\n",
        " 1. Σχεδίαστε, μεταγλωττίστε και εκπαιδεύστε τα μοντέλα  **LeNet, AlexNet και  VGG**, καθώς και ένα δικό σας μοντέλο (ονομάστε το π.χ. **MyCNN**) χρησιμοποιώντας διαφορετικούς συνδυασμούς (τουλάχιστον 2 ανά μοντέλο) για [optimizer](https://keras.io/api/optimizers/), [loss](https://keras.io/api/losses/), batch size και epoch.  Για [metrics](https://keras.io/api/metrics/) να χρησιμοποιήσετε την ορθότητα (όπως στο Lab8.1).\n",
        "---\n"
      ]
    },
    {
      "cell_type": "markdown",
      "metadata": {
        "id": "C3ARu5UkRQoG"
      },
      "source": [
        "### Ορισμός των μοντέλων"
      ]
    },
    {
      "cell_type": "code",
      "execution_count": 13,
      "metadata": {
        "colab": {
          "base_uri": "https://localhost:8080/"
        },
        "id": "9BWewfk9jZg2",
        "outputId": "edb178ae-c978-4461-ebf0-847486b4a091"
      },
      "outputs": [
        {
          "name": "stdout",
          "output_type": "stream",
          "text": [
            "ternsorflow:  2.8.0\n",
            "WARNING:tensorflow:From <ipython-input-13-8cc37c5731bf>:6: is_gpu_available (from tensorflow.python.framework.test_util) is deprecated and will be removed in a future version.\n",
            "Instructions for updating:\n",
            "Use `tf.config.list_physical_devices('GPU')` instead.\n",
            "GPU:  True\n"
          ]
        }
      ],
      "source": [
        "import tensorflow as tf\n",
        "from tensorflow.keras import datasets, layers, models\n",
        "import matplotlib.pyplot as plt\n",
        "print(\"ternsorflow: \",tf.__version__)\n",
        "# print GPU\n",
        "print(\"GPU: \", tf.test.is_gpu_available())"
      ]
    },
    {
      "cell_type": "markdown",
      "metadata": {
        "id": "kwlzouDVjZg2"
      },
      "source": [
        "#### LeNet"
      ]
    },
    {
      "cell_type": "code",
      "execution_count": null,
      "metadata": {
        "colab": {
          "base_uri": "https://localhost:8080/"
        },
        "id": "mvz8ad5XjZg2",
        "outputId": "5d7b51b5-3e0f-423d-a720-7467433f9edb"
      },
      "outputs": [
        {
          "name": "stdout",
          "output_type": "stream",
          "text": [
            "Conv2D output shape: \t (1, 32, 32, 6)\n",
            "AveragePooling2D output shape: \t (1, 16, 16, 6)\n",
            "Conv2D output shape: \t (1, 12, 12, 16)\n",
            "AveragePooling2D output shape: \t (1, 6, 6, 16)\n",
            "Flatten output shape: \t (1, 576)\n",
            "Dense output shape: \t (1, 120)\n",
            "Dense output shape: \t (1, 84)\n",
            "Dense output shape: \t (1, 20)\n",
            "Model: \"sequential_1\"\n",
            "_________________________________________________________________\n",
            " Layer (type)                Output Shape              Param #   \n",
            "=================================================================\n",
            " conv2d_2 (Conv2D)           (None, 32, 32, 6)         456       \n",
            "                                                                 \n",
            " average_pooling2d_2 (Averag  (None, 16, 16, 6)        0         \n",
            " ePooling2D)                                                     \n",
            "                                                                 \n",
            " conv2d_3 (Conv2D)           (None, 12, 12, 16)        2416      \n",
            "                                                                 \n",
            " average_pooling2d_3 (Averag  (None, 6, 6, 16)         0         \n",
            " ePooling2D)                                                     \n",
            "                                                                 \n",
            " flatten_1 (Flatten)         (None, 576)               0         \n",
            "                                                                 \n",
            " dense_3 (Dense)             (None, 120)               69240     \n",
            "                                                                 \n",
            " dense_4 (Dense)             (None, 84)                10164     \n",
            "                                                                 \n",
            " dense_5 (Dense)             (None, 20)                1700      \n",
            "                                                                 \n",
            "=================================================================\n",
            "Total params: 83,976\n",
            "Trainable params: 83,976\n",
            "Non-trainable params: 0\n",
            "_________________________________________________________________\n"
          ]
        }
      ],
      "source": [
        "#LeNet Architecture\n",
        "def LeNet_with_parameters ():\n",
        "    model =models.Sequential()\n",
        "    model.add(layers.Conv2D(filters=6, kernel_size=5, activation='sigmoid', padding='same', input_shape=(32,32,3)))\n",
        "    model.add(layers.AvgPool2D(pool_size=2, strides=2))\n",
        "    model.add(layers.Conv2D(filters=16, kernel_size=5, activation='sigmoid'))\n",
        "    model.add(layers.AvgPool2D(pool_size=2, strides=2))\n",
        "    model.add(layers.Flatten())\n",
        "    model.add(layers.Dense(units=120, activation='sigmoid'))\n",
        "    model.add(layers.Dense(units=84, activation='sigmoid'))\n",
        "    model.add(layers.Dense(20))\n",
        "    return model\n",
        "\n",
        "X = tf.random.uniform((1, 32, 32, 3))\n",
        "for layer in LeNet_with_parameters().layers:\n",
        "    X = layer(X)\n",
        "    print(layer.__class__.__name__,'output shape: \\t',X.shape)\n",
        "LeNet_model_1 = LeNet_with_parameters()\n",
        "LeNet_model_2 = LeNet_with_parameters()\n",
        "LeNet_model_1.summary()\n",
        "    "
      ]
    },
    {
      "cell_type": "markdown",
      "metadata": {
        "id": "oFQT4U8fjZg3"
      },
      "source": [
        "#### AlexNet"
      ]
    },
    {
      "cell_type": "code",
      "execution_count": null,
      "metadata": {
        "colab": {
          "base_uri": "https://localhost:8080/"
        },
        "id": "t11BL6vujZg3",
        "outputId": "3b773bf3-b1a2-4983-a2b8-c51a0c6be7e9"
      },
      "outputs": [
        {
          "name": "stdout",
          "output_type": "stream",
          "text": [
            "Resizing output shape: \t tf.Tensor(\n",
            "[[[[3.15005898e-01 5.52913308e-01 3.50345373e-02]\n",
            "   [6.19054914e-01 8.23921204e-01 8.82738113e-01]\n",
            "   [8.88688564e-01 1.02818608e-01 1.24157667e-02]\n",
            "   ...\n",
            "   [5.47989368e-01 8.54342699e-01 9.21962738e-01]\n",
            "   [7.94950724e-02 2.80612469e-01 3.62605095e-01]\n",
            "   [1.97443962e-01 4.88795280e-01 2.95943022e-02]]\n",
            "\n",
            "  [[3.91720057e-01 8.97202730e-01 3.75942230e-01]\n",
            "   [2.11965322e-01 7.95454860e-01 1.20076060e-01]\n",
            "   [7.16489077e-01 5.17727256e-01 9.79146838e-01]\n",
            "   ...\n",
            "   [4.87066269e-01 1.31212950e-01 9.26701546e-01]\n",
            "   [7.30892777e-01 7.88853645e-01 2.28426456e-01]\n",
            "   [5.26466370e-01 1.41879559e-01 3.27124119e-01]]\n",
            "\n",
            "  [[4.75508571e-01 6.95220709e-01 6.10634446e-01]\n",
            "   [1.58530474e-02 7.60753989e-01 9.75953102e-01]\n",
            "   [7.07435608e-03 4.77154255e-02 4.99011874e-01]\n",
            "   ...\n",
            "   [4.44348216e-01 1.47457004e-01 2.33292580e-01]\n",
            "   [7.74114370e-01 2.59703398e-01 9.45314765e-01]\n",
            "   [9.11824346e-01 1.13887191e-01 3.67778301e-01]]\n",
            "\n",
            "  ...\n",
            "\n",
            "  [[1.05895996e-01 6.93441153e-01 6.98715806e-01]\n",
            "   [3.52224946e-01 4.76827621e-02 6.99849725e-01]\n",
            "   [6.85359836e-01 3.46788645e-01 3.77925396e-01]\n",
            "   ...\n",
            "   [9.30608511e-01 6.15478992e-01 1.84072137e-01]\n",
            "   [4.99216080e-01 3.85547400e-01 8.72991204e-01]\n",
            "   [7.21016765e-01 3.23618770e-01 1.96371078e-01]]\n",
            "\n",
            "  [[4.05989766e-01 2.73393393e-01 7.03846574e-01]\n",
            "   [5.00104427e-01 9.67245102e-02 6.50013685e-01]\n",
            "   [7.69618511e-01 8.05790424e-02 6.86861753e-01]\n",
            "   ...\n",
            "   [1.35027170e-02 7.15255737e-06 1.28107071e-02]\n",
            "   [6.58663750e-01 6.99439049e-01 2.17893243e-01]\n",
            "   [8.85690808e-01 6.44813061e-01 5.39520979e-01]]\n",
            "\n",
            "  [[8.27380776e-01 6.02186918e-01 6.52734995e-01]\n",
            "   [8.01803112e-01 6.33881807e-01 7.91217685e-01]\n",
            "   [7.49712586e-01 8.30516338e-01 3.66943002e-01]\n",
            "   ...\n",
            "   [9.26338553e-01 3.48554730e-01 9.71740246e-01]\n",
            "   [1.31064534e-01 2.83870220e-01 9.92095947e-01]\n",
            "   [8.20259809e-01 7.50063062e-01 9.23092484e-01]]]], shape=(1, 224, 224, 3), dtype=float32)\n",
            "Conv2D output shape: \t tf.Tensor(\n",
            "[[[[3.0019119e-02 0.0000000e+00 2.6589772e-02 ... 0.0000000e+00\n",
            "    0.0000000e+00 0.0000000e+00]\n",
            "   [0.0000000e+00 0.0000000e+00 1.2212545e-01 ... 0.0000000e+00\n",
            "    0.0000000e+00 2.1644726e-02]\n",
            "   [0.0000000e+00 0.0000000e+00 7.1504012e-02 ... 0.0000000e+00\n",
            "    0.0000000e+00 6.6804783e-03]\n",
            "   ...\n",
            "   [5.9695203e-02 0.0000000e+00 9.0200529e-02 ... 0.0000000e+00\n",
            "    0.0000000e+00 2.9645126e-02]\n",
            "   [5.1704563e-02 0.0000000e+00 0.0000000e+00 ... 0.0000000e+00\n",
            "    0.0000000e+00 0.0000000e+00]\n",
            "   [0.0000000e+00 0.0000000e+00 4.1797940e-02 ... 0.0000000e+00\n",
            "    0.0000000e+00 8.1556877e-03]]\n",
            "\n",
            "  [[0.0000000e+00 0.0000000e+00 5.4978766e-02 ... 0.0000000e+00\n",
            "    0.0000000e+00 4.0005740e-02]\n",
            "   [3.4555737e-02 0.0000000e+00 1.4576958e-01 ... 0.0000000e+00\n",
            "    0.0000000e+00 4.1789245e-02]\n",
            "   [0.0000000e+00 0.0000000e+00 0.0000000e+00 ... 0.0000000e+00\n",
            "    0.0000000e+00 0.0000000e+00]\n",
            "   ...\n",
            "   [0.0000000e+00 0.0000000e+00 2.5159625e-02 ... 0.0000000e+00\n",
            "    0.0000000e+00 0.0000000e+00]\n",
            "   [1.2471677e-02 0.0000000e+00 0.0000000e+00 ... 0.0000000e+00\n",
            "    0.0000000e+00 0.0000000e+00]\n",
            "   [0.0000000e+00 0.0000000e+00 7.1534682e-03 ... 0.0000000e+00\n",
            "    0.0000000e+00 7.6834336e-02]]\n",
            "\n",
            "  [[7.5686492e-02 0.0000000e+00 0.0000000e+00 ... 0.0000000e+00\n",
            "    0.0000000e+00 0.0000000e+00]\n",
            "   [0.0000000e+00 0.0000000e+00 0.0000000e+00 ... 0.0000000e+00\n",
            "    0.0000000e+00 5.4431863e-02]\n",
            "   [0.0000000e+00 0.0000000e+00 7.6523699e-02 ... 0.0000000e+00\n",
            "    0.0000000e+00 0.0000000e+00]\n",
            "   ...\n",
            "   [0.0000000e+00 0.0000000e+00 6.4984962e-02 ... 0.0000000e+00\n",
            "    0.0000000e+00 2.4241054e-02]\n",
            "   [0.0000000e+00 0.0000000e+00 5.3943340e-02 ... 0.0000000e+00\n",
            "    0.0000000e+00 7.8498550e-02]\n",
            "   [0.0000000e+00 0.0000000e+00 5.1064786e-02 ... 0.0000000e+00\n",
            "    0.0000000e+00 5.7553641e-02]]\n",
            "\n",
            "  ...\n",
            "\n",
            "  [[6.8941540e-03 0.0000000e+00 9.1975451e-02 ... 0.0000000e+00\n",
            "    0.0000000e+00 3.9336588e-02]\n",
            "   [0.0000000e+00 0.0000000e+00 5.8448985e-02 ... 0.0000000e+00\n",
            "    0.0000000e+00 3.8812313e-02]\n",
            "   [0.0000000e+00 0.0000000e+00 0.0000000e+00 ... 0.0000000e+00\n",
            "    0.0000000e+00 3.6258601e-02]\n",
            "   ...\n",
            "   [0.0000000e+00 0.0000000e+00 0.0000000e+00 ... 0.0000000e+00\n",
            "    0.0000000e+00 8.3895035e-02]\n",
            "   [0.0000000e+00 0.0000000e+00 7.7465527e-02 ... 0.0000000e+00\n",
            "    0.0000000e+00 6.9483526e-02]\n",
            "   [0.0000000e+00 0.0000000e+00 1.3798270e-01 ... 0.0000000e+00\n",
            "    0.0000000e+00 0.0000000e+00]]\n",
            "\n",
            "  [[0.0000000e+00 0.0000000e+00 5.8834001e-05 ... 0.0000000e+00\n",
            "    0.0000000e+00 4.5539860e-02]\n",
            "   [0.0000000e+00 0.0000000e+00 1.5386868e-02 ... 0.0000000e+00\n",
            "    0.0000000e+00 5.3559080e-02]\n",
            "   [0.0000000e+00 0.0000000e+00 7.4142918e-02 ... 0.0000000e+00\n",
            "    0.0000000e+00 6.0526952e-03]\n",
            "   ...\n",
            "   [5.1112879e-02 0.0000000e+00 6.6026829e-02 ... 0.0000000e+00\n",
            "    0.0000000e+00 0.0000000e+00]\n",
            "   [0.0000000e+00 0.0000000e+00 7.2371930e-02 ... 0.0000000e+00\n",
            "    0.0000000e+00 0.0000000e+00]\n",
            "   [5.6764185e-02 0.0000000e+00 4.7799330e-02 ... 0.0000000e+00\n",
            "    0.0000000e+00 0.0000000e+00]]\n",
            "\n",
            "  [[1.5322928e-02 0.0000000e+00 4.4809226e-02 ... 0.0000000e+00\n",
            "    0.0000000e+00 4.4008654e-02]\n",
            "   [0.0000000e+00 0.0000000e+00 3.9614297e-02 ... 0.0000000e+00\n",
            "    0.0000000e+00 9.7068241e-03]\n",
            "   [6.4709179e-02 0.0000000e+00 9.6306935e-02 ... 0.0000000e+00\n",
            "    0.0000000e+00 0.0000000e+00]\n",
            "   ...\n",
            "   [0.0000000e+00 0.0000000e+00 1.6983435e-01 ... 0.0000000e+00\n",
            "    0.0000000e+00 9.8936688e-03]\n",
            "   [4.1015055e-02 0.0000000e+00 1.2152085e-01 ... 0.0000000e+00\n",
            "    0.0000000e+00 0.0000000e+00]\n",
            "   [0.0000000e+00 0.0000000e+00 0.0000000e+00 ... 0.0000000e+00\n",
            "    0.0000000e+00 3.7719216e-02]]]], shape=(1, 54, 54, 96), dtype=float32)\n",
            "MaxPooling2D output shape: \t tf.Tensor(\n",
            "[[[[0.07568649 0.         0.14576958 ... 0.         0.\n",
            "    0.05443186]\n",
            "   [0.02859952 0.         0.09863836 ... 0.         0.\n",
            "    0.06373908]\n",
            "   [0.07853657 0.         0.09863836 ... 0.         0.\n",
            "    0.06373908]\n",
            "   ...\n",
            "   [0.02561775 0.         0.04419984 ... 0.         0.\n",
            "    0.07346586]\n",
            "   [0.10026398 0.         0.09263251 ... 0.         0.\n",
            "    0.08970364]\n",
            "   [0.10026398 0.         0.09020053 ... 0.         0.\n",
            "    0.08970364]]\n",
            "\n",
            "  [[0.07568649 0.         0.0765237  ... 0.         0.\n",
            "    0.13428631]\n",
            "   [0.06749786 0.         0.0765237  ... 0.         0.\n",
            "    0.03733047]\n",
            "   [0.03615224 0.02013193 0.05877235 ... 0.         0.\n",
            "    0.04877556]\n",
            "   ...\n",
            "   [0.02561775 0.         0.13929684 ... 0.         0.\n",
            "    0.11884747]\n",
            "   [0.02561775 0.         0.09876154 ... 0.         0.\n",
            "    0.04784318]\n",
            "   [0.00508131 0.         0.09876154 ... 0.         0.\n",
            "    0.07849855]]\n",
            "\n",
            "  [[0.06296228 0.         0.1590564  ... 0.         0.\n",
            "    0.07620945]\n",
            "   [0.0558392  0.01114413 0.1590564  ... 0.         0.\n",
            "    0.02955616]\n",
            "   [0.03615224 0.02013193 0.13266784 ... 0.02619603 0.\n",
            "    0.04073486]\n",
            "   ...\n",
            "   [0.11873341 0.         0.1428071  ... 0.         0.\n",
            "    0.10417575]\n",
            "   [0.11873341 0.         0.08692581 ... 0.         0.\n",
            "    0.10417575]\n",
            "   [0.03544646 0.         0.08816997 ... 0.         0.\n",
            "    0.09484796]]\n",
            "\n",
            "  ...\n",
            "\n",
            "  [[0.10188976 0.         0.09214766 ... 0.         0.\n",
            "    0.13346583]\n",
            "   [0.03668228 0.         0.12438878 ... 0.03376682 0.\n",
            "    0.11218628]\n",
            "   [0.03741667 0.         0.11499952 ... 0.         0.00441771\n",
            "    0.064217  ]\n",
            "   ...\n",
            "   [0.04217959 0.         0.12128389 ... 0.         0.\n",
            "    0.12452372]\n",
            "   [0.06867764 0.         0.09371845 ... 0.         0.\n",
            "    0.12452372]\n",
            "   [0.12240102 0.04178992 0.0817413  ... 0.         0.\n",
            "    0.06708552]]\n",
            "\n",
            "  [[0.04314552 0.         0.09272355 ... 0.         0.\n",
            "    0.13839836]\n",
            "   [0.08482163 0.         0.09768167 ... 0.         0.\n",
            "    0.13839836]\n",
            "   [0.08482163 0.         0.11328106 ... 0.0364317  0.00441771\n",
            "    0.05096953]\n",
            "   ...\n",
            "   [0.06481888 0.         0.14248355 ... 0.         0.\n",
            "    0.06408099]\n",
            "   [0.01683954 0.         0.07652225 ... 0.         0.\n",
            "    0.08629032]\n",
            "   [0.08083421 0.         0.14231351 ... 0.         0.\n",
            "    0.09410714]]\n",
            "\n",
            "  [[0.02543762 0.         0.09272355 ... 0.         0.\n",
            "    0.13839836]\n",
            "   [0.0582508  0.         0.13763417 ... 0.         0.\n",
            "    0.13839836]\n",
            "   [0.0582508  0.         0.13763417 ... 0.01398232 0.\n",
            "    0.07181185]\n",
            "   ...\n",
            "   [0.06481888 0.         0.14248355 ... 0.         0.\n",
            "    0.10259672]\n",
            "   [0.01449    0.         0.09332331 ... 0.         0.\n",
            "    0.10259672]\n",
            "   [0.08083421 0.         0.14231351 ... 0.         0.\n",
            "    0.08629032]]]], shape=(1, 26, 26, 96), dtype=float32)\n",
            "Conv2D output shape: \t tf.Tensor(\n",
            "[[[[0.9879049  1.0551018  0.98030895 ... 0.9691434  1.0300837\n",
            "    0.95170754]\n",
            "   [0.9877842  1.050793   0.9579848  ... 0.99181396 1.0404192\n",
            "    0.95118475]\n",
            "   [0.9790998  1.0640192  1.0013782  ... 0.982746   1.0396786\n",
            "    0.95232385]\n",
            "   ...\n",
            "   [1.0078238  1.0372376  1.0077158  ... 0.9771845  1.046813\n",
            "    0.95143265]\n",
            "   [1.0196644  1.0575652  1.0023544  ... 0.9728285  1.0607412\n",
            "    0.9646941 ]\n",
            "   [1.0063856  1.0793029  0.99572235 ... 0.9746046  1.0405749\n",
            "    0.95338166]]\n",
            "\n",
            "  [[1.0004648  1.052464   0.98328    ... 0.97628266 1.0518452\n",
            "    0.95332587]\n",
            "   [0.99813616 1.0348171  0.9920814  ... 0.9750349  1.0437121\n",
            "    0.9521624 ]\n",
            "   [0.98133236 1.0567511  1.0016164  ... 0.9788847  1.0540452\n",
            "    0.9565044 ]\n",
            "   ...\n",
            "   [0.99327546 1.0448226  1.0126154  ... 0.9790486  1.0272241\n",
            "    0.9474088 ]\n",
            "   [1.0035248  1.0673982  1.0027654  ... 0.98981965 1.0351689\n",
            "    0.9437582 ]\n",
            "   [0.9734438  1.0573574  0.99750316 ... 0.9858547  1.052306\n",
            "    0.92778844]]\n",
            "\n",
            "  [[1.0153087  1.061948   0.98468906 ... 0.961191   1.0370094\n",
            "    0.9583123 ]\n",
            "   [0.99884474 1.0467695  0.9959451  ... 0.9787585  1.0307343\n",
            "    0.95076036]\n",
            "   [0.99400276 1.0688652  0.981966   ... 0.990792   1.0447209\n",
            "    0.94181675]\n",
            "   ...\n",
            "   [0.9896441  1.0702316  0.9769508  ... 1.0032086  1.0336838\n",
            "    0.94245267]\n",
            "   [0.97747886 1.0606558  0.9535966  ... 0.9763078  1.0362487\n",
            "    0.9556081 ]\n",
            "   [1.0021142  1.077566   0.982736   ... 0.9616165  1.0247208\n",
            "    0.95347023]]\n",
            "\n",
            "  ...\n",
            "\n",
            "  [[1.004108   1.0548666  0.966989   ... 0.97056764 1.0225042\n",
            "    0.9655396 ]\n",
            "   [0.98228335 1.0673535  0.9797769  ... 0.98625493 1.0259534\n",
            "    0.9715058 ]\n",
            "   [0.99174196 1.0522431  1.0075991  ... 0.9723359  1.0364809\n",
            "    0.95282215]\n",
            "   ...\n",
            "   [0.97942865 1.071716   1.0030509  ... 1.0067015  1.033092\n",
            "    0.9456925 ]\n",
            "   [0.9792229  1.0555886  1.0014381  ... 0.98522025 1.0368518\n",
            "    0.9476467 ]\n",
            "   [0.9876814  1.0465556  0.99877846 ... 0.97780806 1.0280321\n",
            "    0.9350639 ]]\n",
            "\n",
            "  [[1.0048472  1.0623434  0.99440557 ... 0.9939728  1.0420026\n",
            "    0.96038675]\n",
            "   [1.0052693  1.0549418  0.97305614 ... 0.9773787  1.0195869\n",
            "    0.95383936]\n",
            "   [1.0075487  1.0592821  0.96468383 ... 0.9770246  1.0577005\n",
            "    0.94861245]\n",
            "   ...\n",
            "   [0.98536247 1.0641035  0.9983148  ... 0.99755466 1.0486362\n",
            "    0.9511806 ]\n",
            "   [0.9866134  1.0495276  0.99054945 ... 0.98026353 1.0370266\n",
            "    0.9528267 ]\n",
            "   [1.0247618  1.0683852  0.9910968  ... 0.9789007  1.0157089\n",
            "    0.9310375 ]]\n",
            "\n",
            "  [[1.0127085  1.0388055  0.98938066 ... 1.0000769  1.0541775\n",
            "    0.9562148 ]\n",
            "   [0.9929639  1.03866    0.95447433 ... 0.99548954 1.0418779\n",
            "    0.95224345]\n",
            "   [1.0042875  1.0598924  0.9993356  ... 0.9996591  1.0393046\n",
            "    0.9384251 ]\n",
            "   ...\n",
            "   [0.9937972  1.0556929  1.0067161  ... 0.98896664 1.0281993\n",
            "    0.9424247 ]\n",
            "   [0.9849601  1.0653678  0.9995675  ... 1.0096694  1.0366572\n",
            "    0.93593615]\n",
            "   [1.0212238  1.0382115  1.0001376  ... 0.9871174  1.0642517\n",
            "    0.95192945]]]], shape=(1, 22, 22, 256), dtype=float32)\n",
            "MaxPooling2D output shape: \t tf.Tensor(\n",
            "[[[[1.0153087  1.0688652  1.0016164  ... 0.99181396 1.0540452\n",
            "    0.9583123 ]\n",
            "   [1.0220104  1.0688652  1.0016164  ... 0.990792   1.0540726\n",
            "    0.96331733]\n",
            "   [1.0244682  1.0674498  1.0012758  ... 1.010523   1.070618\n",
            "    0.96331733]\n",
            "   ...\n",
            "   [1.0303218  1.071513   1.0172533  ... 1.0028404  1.0463277\n",
            "    0.9573398 ]\n",
            "   [1.0303218  1.0819293  1.0213332  ... 1.0028404  1.059689\n",
            "    0.9593056 ]\n",
            "   [1.0196644  1.0819293  1.01749    ... 1.0032086  1.0607412\n",
            "    0.9646941 ]]\n",
            "\n",
            "  [[1.0153087  1.092092   1.0032287  ... 1.0040402  1.0585295\n",
            "    0.9692595 ]\n",
            "   [1.0295414  1.092092   1.0032287  ... 1.0110246  1.0494832\n",
            "    0.9641159 ]\n",
            "   [1.0226532  1.0674498  1.0012758  ... 1.010523   1.0551251\n",
            "    0.96331733]\n",
            "   ...\n",
            "   [1.0303218  1.0710968  1.0035776  ... 0.99449986 1.042923\n",
            "    0.9810516 ]\n",
            "   [1.0303218  1.0819293  1.0144521  ... 1.0066187  1.0461607\n",
            "    0.9593056 ]\n",
            "   [1.0129418  1.0907238  1.0144521  ... 1.0032086  1.0465367\n",
            "    0.97563994]]\n",
            "\n",
            "  [[1.0112714  1.0732644  1.0032287  ... 1.0234752  1.0482873\n",
            "    0.9706015 ]\n",
            "   [1.0114194  1.0732644  1.0032287  ... 1.0234752  1.0490842\n",
            "    0.9706015 ]\n",
            "   [1.0150111  1.0669488  1.0096573  ... 0.99256915 1.0551251\n",
            "    0.9701658 ]\n",
            "   ...\n",
            "   [1.0099548  1.0612029  1.0028116  ... 0.9986128  1.0620928\n",
            "    0.9721806 ]\n",
            "   [1.0287883  1.0612029  1.0185118  ... 1.0066187  1.0461607\n",
            "    0.96577805]\n",
            "   [1.0167246  1.0802125  1.0185118  ... 0.9917793  1.0461607\n",
            "    0.97563994]]\n",
            "\n",
            "  ...\n",
            "\n",
            "  [[1.0153207  1.0672345  1.0128064  ... 1.0038067  1.0422889\n",
            "    0.9609135 ]\n",
            "   [1.0128325  1.0647725  1.0072547  ... 1.0001768  1.0513095\n",
            "    0.9626158 ]\n",
            "   [1.0126903  1.0714498  1.019064   ... 1.0160298  1.0505451\n",
            "    0.9558315 ]\n",
            "   ...\n",
            "   [1.0063609  1.0686476  0.9987913  ... 1.0108508  1.0744737\n",
            "    0.97515064]\n",
            "   [1.0100732  1.0897274  1.0013132  ... 1.0140702  1.0744737\n",
            "    0.9711694 ]\n",
            "   [1.0098091  1.0897274  1.0025866  ... 1.012929   1.049492\n",
            "    0.97748804]]\n",
            "\n",
            "  [[1.018873   1.0609428  1.0047863  ... 1.0025362  1.0416026\n",
            "    0.9637431 ]\n",
            "   [1.0128325  1.0774771  1.0054533  ... 1.0098703  1.0513095\n",
            "    0.9626158 ]\n",
            "   [1.0321113  1.0774771  1.0137933  ... 1.0065918  1.0460386\n",
            "    0.9565234 ]\n",
            "   ...\n",
            "   [1.0063596  1.0642493  1.0001296  ... 1.0201323  1.0557148\n",
            "    0.96315527]\n",
            "   [1.0098091  1.0730863  0.99944353 ... 1.015167   1.0557148\n",
            "    0.96315527]\n",
            "   [1.0098091  1.0829731  1.0038904  ... 1.0026442  1.049492\n",
            "    0.96436983]]\n",
            "\n",
            "  [[1.0075487  1.0673535  1.0075991  ... 0.9967131  1.0577005\n",
            "    0.9715058 ]\n",
            "   [1.0075487  1.0774771  1.0075991  ... 1.0098703  1.0577005\n",
            "    0.9720121 ]\n",
            "   [1.0111045  1.0774771  1.0054533  ... 0.99873626 1.0607343\n",
            "    0.97163135]\n",
            "   ...\n",
            "   [1.0043452  1.0844164  1.0138682  ... 1.0201323  1.0499855\n",
            "    0.96506   ]\n",
            "   [1.0371433  1.0687789  1.0112573  ... 1.0022612  1.045028\n",
            "    0.9816832 ]\n",
            "   [1.0371433  1.071716   1.0112573  ... 1.0067015  1.0486362\n",
            "    0.96436983]]]], shape=(1, 10, 10, 256), dtype=float32)\n",
            "Conv2D output shape: \t tf.Tensor(\n",
            "[[[[0.22699608 0.3061229  0.32892618 ... 0.13635649 0.29912576\n",
            "    0.05771445]\n",
            "   [0.4015031  0.64642155 0.5352423  ... 0.4511962  0.36611447\n",
            "    0.        ]\n",
            "   [0.40848705 0.6503767  0.54032904 ... 0.45575672 0.36049244\n",
            "    0.        ]\n",
            "   ...\n",
            "   [0.4040029  0.64375496 0.5388394  ... 0.44975582 0.36485904\n",
            "    0.        ]\n",
            "   [0.39746347 0.6469267  0.53774524 ... 0.45152956 0.36045355\n",
            "    0.        ]\n",
            "   [0.6462184  0.64644873 0.3301593  ... 0.35015386 0.13352147\n",
            "    0.        ]]\n",
            "\n",
            "  [[0.5302923  0.36269563 0.5569614  ... 0.21114838 0.19576587\n",
            "    0.33029193]\n",
            "   [0.6441761  0.71396035 0.92080224 ... 0.31513855 0.07048973\n",
            "    0.32877988]\n",
            "   [0.6511143  0.7194634  0.92452985 ... 0.3156314  0.06592864\n",
            "    0.32068396]\n",
            "   ...\n",
            "   [0.64677763 0.7274576  0.92228377 ... 0.31437024 0.06692483\n",
            "    0.31526947]\n",
            "   [0.63647586 0.71553457 0.91937107 ... 0.32011306 0.06981313\n",
            "    0.32244447]\n",
            "   [0.96455574 0.565933   0.5556887  ... 0.22395277 0.\n",
            "    0.08002943]]\n",
            "\n",
            "  [[0.52710044 0.35637856 0.55712503 ... 0.21100077 0.2019762\n",
            "    0.33197063]\n",
            "   [0.6437625  0.7180216  0.92004925 ... 0.31992766 0.06368191\n",
            "    0.32538086]\n",
            "   [0.64618933 0.7130604  0.92890936 ... 0.3166754  0.06011557\n",
            "    0.32184434]\n",
            "   ...\n",
            "   [0.6446655  0.7229771  0.9240133  ... 0.31642613 0.06956182\n",
            "    0.31676945]\n",
            "   [0.6343545  0.7163615  0.9247038  ... 0.31287983 0.06875182\n",
            "    0.3166821 ]\n",
            "   [0.96050674 0.57000446 0.5605999  ... 0.2262286  0.\n",
            "    0.08809064]]\n",
            "\n",
            "  ...\n",
            "\n",
            "  [[0.52821255 0.355094   0.56238294 ... 0.20939067 0.19804318\n",
            "    0.31911337]\n",
            "   [0.64510643 0.713556   0.91777426 ... 0.3154618  0.07014354\n",
            "    0.3263724 ]\n",
            "   [0.6447092  0.7174302  0.91982293 ... 0.32984602 0.06590649\n",
            "    0.32780248]\n",
            "   ...\n",
            "   [0.64338213 0.7118097  0.92166024 ... 0.31343845 0.06650293\n",
            "    0.31646794]\n",
            "   [0.6452156  0.71249413 0.9185143  ... 0.3071944  0.0666052\n",
            "    0.3193664 ]\n",
            "   [0.95418435 0.5604733  0.55822814 ... 0.22216508 0.\n",
            "    0.0840828 ]]\n",
            "\n",
            "  [[0.52526605 0.36035967 0.55579156 ... 0.21439788 0.2010719\n",
            "    0.32983834]\n",
            "   [0.64949375 0.7118909  0.9211706  ... 0.31189993 0.0672118\n",
            "    0.3262641 ]\n",
            "   [0.64798725 0.71850055 0.93177605 ... 0.3171939  0.06294581\n",
            "    0.32442373]\n",
            "   ...\n",
            "   [0.6430452  0.7152881  0.92435825 ... 0.31725124 0.06130264\n",
            "    0.32006326]\n",
            "   [0.6490969  0.7159471  0.92384213 ... 0.3099728  0.06640532\n",
            "    0.32589808]\n",
            "   [0.96019036 0.57330817 0.56126404 ... 0.22571817 0.\n",
            "    0.0870776 ]]\n",
            "\n",
            "  [[0.55163604 0.33276942 0.18103717 ... 0.12404042 0.20587522\n",
            "    0.20112355]\n",
            "   [0.6660544  0.83066064 0.56842864 ... 0.07179315 0.11174531\n",
            "    0.03543743]\n",
            "   [0.6606647  0.8322163  0.5634876  ... 0.07155938 0.10969487\n",
            "    0.03373149]\n",
            "   ...\n",
            "   [0.66512847 0.82675654 0.56246233 ... 0.07439921 0.11936314\n",
            "    0.0303258 ]\n",
            "   [0.66193575 0.8326581  0.56719357 ... 0.07361033 0.11367276\n",
            "    0.03793907]\n",
            "   [0.7955215  0.7794926  0.52478    ... 0.23467642 0.\n",
            "    0.        ]]]], shape=(1, 10, 10, 384), dtype=float32)\n",
            "Conv2D output shape: \t tf.Tensor(\n",
            "[[[[0.9376961  0.82452375 1.0269384  ... 0.94966733 0.9782513\n",
            "    0.9968708 ]\n",
            "   [0.9248707  0.80412006 0.9657244  ... 0.8840984  1.0550369\n",
            "    0.93268496]\n",
            "   [0.9282135  0.8233702  0.93393975 ... 0.91887355 1.0380036\n",
            "    1.0080653 ]\n",
            "   ...\n",
            "   [0.9276544  0.82189745 0.93609285 ... 0.91737866 1.0371168\n",
            "    1.0055975 ]\n",
            "   [0.8550211  0.815278   0.98424244 ... 0.87896353 1.0412986\n",
            "    1.0568825 ]\n",
            "   [0.88346666 0.94451964 0.9701807  ... 0.93597245 1.0562897\n",
            "    1.0879948 ]]\n",
            "\n",
            "  [[0.9501816  0.7905309  1.048258   ... 0.9673399  0.91573364\n",
            "    0.93555796]\n",
            "   [0.8132649  0.83105886 0.9278112  ... 0.87573224 1.0165992\n",
            "    0.96030337]\n",
            "   [0.8265834  0.8675313  0.87761384 ... 0.8918815  1.0339499\n",
            "    1.0403186 ]\n",
            "   ...\n",
            "   [0.825474   0.86393905 0.8756557  ... 0.8909162  1.0362058\n",
            "    1.0391034 ]\n",
            "   [0.77845263 0.82537144 0.913877   ... 0.8649554  1.0042982\n",
            "    1.1544312 ]\n",
            "   [0.74001235 1.0010582  0.87830347 ... 0.83636844 1.0644224\n",
            "    1.1730778 ]]\n",
            "\n",
            "  [[0.8582574  0.74295443 1.0241127  ... 0.9715985  1.00615\n",
            "    0.8694347 ]\n",
            "   [0.7300477  0.80742806 0.94960237 ... 0.8204643  1.1426531\n",
            "    0.85156465]\n",
            "   [0.74890363 0.90330505 0.8588608  ... 0.84490544 1.1790708\n",
            "    0.91307163]\n",
            "   ...\n",
            "   [0.74563366 0.89983815 0.85566026 ... 0.84735304 1.1788113\n",
            "    0.91111827]\n",
            "   [0.73188734 0.8954152  0.8921802  ... 0.8348656  1.1392654\n",
            "    1.0020096 ]\n",
            "   [0.7108512  1.084042   0.87277985 ... 0.8060662  1.122186\n",
            "    1.1416438 ]]\n",
            "\n",
            "  ...\n",
            "\n",
            "  [[0.85910034 0.7405577  1.0227691  ... 0.9715312  1.007281\n",
            "    0.86915773]\n",
            "   [0.72667885 0.80849063 0.9514366  ... 0.819917   1.1433502\n",
            "    0.8534037 ]\n",
            "   [0.7488455  0.9041964  0.8579996  ... 0.84680516 1.1804588\n",
            "    0.91117895]\n",
            "   ...\n",
            "   [0.7486806  0.9072553  0.8554971  ... 0.8477938  1.1847019\n",
            "    0.9122708 ]\n",
            "   [0.731677   0.9003054  0.8887915  ... 0.83736634 1.1451676\n",
            "    1.0024786 ]\n",
            "   [0.71183443 1.0838662  0.8740139  ... 0.80954754 1.1237838\n",
            "    1.1410993 ]]\n",
            "\n",
            "  [[0.8779795  0.8033338  1.0323426  ... 0.9437063  1.033568\n",
            "    0.8717154 ]\n",
            "   [0.71467894 0.8074813  0.9307752  ... 0.7610109  1.1412102\n",
            "    0.85711664]\n",
            "   [0.75174123 0.88107866 0.8448702  ... 0.75522834 1.1496944\n",
            "    0.89424646]\n",
            "   ...\n",
            "   [0.7492608  0.8826648  0.8449512  ... 0.75458956 1.1486095\n",
            "    0.8948944 ]\n",
            "   [0.7141213  0.87051606 0.8536844  ... 0.7696564  1.0889\n",
            "    0.98234427]\n",
            "   [0.74250454 1.0742811  0.81355774 ... 0.7707798  1.1187466\n",
            "    1.0892843 ]]\n",
            "\n",
            "  [[0.8308421  0.8230412  0.98472863 ... 1.0657612  1.036416\n",
            "    0.9848525 ]\n",
            "   [0.6971137  0.8912924  0.8980808  ... 0.9899249  1.1214074\n",
            "    0.98643166]\n",
            "   [0.69979006 0.98746186 0.8508768  ... 0.98061985 1.1458342\n",
            "    0.9934599 ]\n",
            "   ...\n",
            "   [0.6971412  0.9879705  0.8515081  ... 0.9832589  1.1421285\n",
            "    0.9900831 ]\n",
            "   [0.7324586  1.0051886  0.8501391  ... 0.99249065 1.0872508\n",
            "    0.9960257 ]\n",
            "   [0.76416504 1.1486369  0.8384267  ... 0.88483953 1.0211166\n",
            "    1.0413648 ]]]], shape=(1, 10, 10, 384), dtype=float32)\n",
            "Conv2D output shape: \t tf.Tensor(\n",
            "[[[[1.3283069  1.6131027  0.7257253  ... 1.5811851  1.2705535\n",
            "    1.2379391 ]\n",
            "   [1.4822077  1.9032346  0.89229786 ... 1.7975938  1.4956579\n",
            "    1.4528704 ]\n",
            "   [1.4484138  1.9317172  0.8993514  ... 1.7939539  1.4670194\n",
            "    1.447298  ]\n",
            "   ...\n",
            "   [1.4352543  1.9238617  0.89665097 ... 1.7957948  1.4686867\n",
            "    1.422317  ]\n",
            "   [1.4717963  1.9106723  0.9012521  ... 1.7935407  1.4528302\n",
            "    1.4268993 ]\n",
            "   [1.0184393  1.7262846  1.0792232  ... 1.8277733  1.1778804\n",
            "    1.2106531 ]]\n",
            "\n",
            "  [[1.038583   1.2710571  1.1755193  ... 1.6144209  1.2428688\n",
            "    1.7050867 ]\n",
            "   [1.289484   2.155466   1.076683   ... 1.5381219  1.2271653\n",
            "    2.0777574 ]\n",
            "   [1.2472382  2.1438758  1.0854806  ... 1.560187   1.232223\n",
            "    2.0830073 ]\n",
            "   ...\n",
            "   [1.2315296  2.1447268  1.119966   ... 1.5497248  1.2191197\n",
            "    2.0780447 ]\n",
            "   [1.2504752  2.1294074  1.1151199  ... 1.5286098  1.1424309\n",
            "    2.0908413 ]\n",
            "   [0.9223663  1.8924832  1.0167166  ... 1.4816558  0.9768477\n",
            "    1.5112032 ]]\n",
            "\n",
            "  [[1.0159614  1.2785659  1.1585284  ... 1.6297534  1.292871\n",
            "    1.6657255 ]\n",
            "   [1.2877636  2.1682954  1.0656228  ... 1.52735    1.2808646\n",
            "    2.020999  ]\n",
            "   [1.2376465  2.1534748  1.0950817  ... 1.5789173  1.2853838\n",
            "    2.0500855 ]\n",
            "   ...\n",
            "   [1.2134602  2.165231   1.1292549  ... 1.5599874  1.2521496\n",
            "    2.052958  ]\n",
            "   [1.2465315  2.143668   1.1433446  ... 1.5372987  1.1448239\n",
            "    2.092805  ]\n",
            "   [0.93306285 1.8849747  1.0499481  ... 1.4856637  0.9539093\n",
            "    1.5135195 ]]\n",
            "\n",
            "  ...\n",
            "\n",
            "  [[1.0576235  1.2823079  1.1557058  ... 1.6085315  1.312918\n",
            "    1.6717178 ]\n",
            "   [1.3145844  2.2014813  1.0962509  ... 1.5207098  1.3117524\n",
            "    2.026694  ]\n",
            "   [1.2916092  2.1893723  1.1409396  ... 1.5680501  1.3315998\n",
            "    2.049993  ]\n",
            "   ...\n",
            "   [1.2656169  2.196518   1.178677   ... 1.5790112  1.2911129\n",
            "    2.0508265 ]\n",
            "   [1.2873409  2.1793408  1.1749214  ... 1.5668356  1.1872039\n",
            "    2.087757  ]\n",
            "   [0.95865166 1.9382024  1.0874914  ... 1.5142952  0.98495317\n",
            "    1.5196607 ]]\n",
            "\n",
            "  [[1.0861675  1.2868575  1.1543006  ... 1.6237218  1.29515\n",
            "    1.6904968 ]\n",
            "   [1.330108   2.1632178  1.0826265  ... 1.5837052  1.3156197\n",
            "    2.0375142 ]\n",
            "   [1.3293079  2.158575   1.1305606  ... 1.634068   1.3419751\n",
            "    2.0669026 ]\n",
            "   ...\n",
            "   [1.3183765  2.1628423  1.1706103  ... 1.6540446  1.3213899\n",
            "    2.0795424 ]\n",
            "   [1.3225341  2.1519463  1.1787245  ... 1.641667   1.223353\n",
            "    2.1064782 ]\n",
            "   [0.9954034  1.8870826  1.0633473  ... 1.5435345  1.0062102\n",
            "    1.5195048 ]]\n",
            "\n",
            "  [[0.8459801  0.843046   1.4346694  ... 1.1431708  0.99585694\n",
            "    1.5717363 ]\n",
            "   [0.9808253  1.4727793  1.1598536  ... 0.91813755 1.1040708\n",
            "    1.8806677 ]\n",
            "   [1.0025275  1.4267201  1.1972775  ... 0.96148664 1.1393437\n",
            "    1.8787508 ]\n",
            "   ...\n",
            "   [1.0099998  1.4351888  1.2166483  ... 0.9571132  1.097321\n",
            "    1.8926024 ]\n",
            "   [0.99639195 1.4192631  1.219944   ... 0.92859054 1.0218\n",
            "    1.9290512 ]\n",
            "   [1.03752    1.3935866  1.0423251  ... 0.98139066 1.1963902\n",
            "    1.3762615 ]]]], shape=(1, 10, 10, 256), dtype=float32)\n",
            "MaxPooling2D output shape: \t tf.Tensor(\n",
            "[[[[1.4822077 2.1682954 1.1755193 ... 1.7975938 1.4956579 2.0830073]\n",
            "   [1.4484138 2.1534748 1.1070724 ... 1.7939539 1.467081  2.0830073]\n",
            "   [1.4400407 2.1300244 1.1070724 ... 1.7841904 1.4667578 2.06982  ]\n",
            "   [1.4717963 2.165231  1.1433446 ... 1.7957948 1.4686867 2.092805 ]]\n",
            "\n",
            "  [[1.3028505 2.1768851 1.1585284 ... 1.6297534 1.3235978 2.0500855]\n",
            "   [1.2693448 2.1549811 1.1128614 ... 1.5820124 1.3235978 2.0500855]\n",
            "   [1.2518781 2.1300244 1.1128614 ... 1.57144   1.3122447 2.046082 ]\n",
            "   [1.2664927 2.165231  1.1434597 ... 1.5798123 1.3111062 2.092805 ]]\n",
            "\n",
            "  [[1.3013885 2.1783438 1.1506189 ... 1.6252046 1.3235978 2.0459638]\n",
            "   [1.2691174 2.1559339 1.1130811 ... 1.5820124 1.3235978 2.0459638]\n",
            "   [1.251642  2.1310287 1.1130811 ... 1.57144   1.3117199 2.0408218]\n",
            "   [1.2671168 2.1617384 1.1434597 ... 1.5794592 1.3117199 2.0784454]]\n",
            "\n",
            "  [[1.330108  2.2014813 1.1557058 ... 1.634068  1.3419751 2.0669026]\n",
            "   [1.3293079 2.1893723 1.1603001 ... 1.6392779 1.3464003 2.0726867]\n",
            "   [1.3253195 2.169023  1.1602043 ... 1.6398846 1.3472368 2.0749645]\n",
            "   [1.3246279 2.196518  1.1787245 ... 1.6540446 1.3466887 2.1064782]]]], shape=(1, 4, 4, 256), dtype=float32)\n",
            "Flatten output shape: \t tf.Tensor([[1.4822077 2.1682954 1.1755193 ... 1.6540446 1.3466887 2.1064782]], shape=(1, 4096), dtype=float32)\n",
            "Dense output shape: \t tf.Tensor([[1.1747178  1.1131923  0.7908451  ... 0.15016139 0.492908   0.5849954 ]], shape=(1, 4096), dtype=float32)\n",
            "Dropout output shape: \t tf.Tensor([[1.1747178  1.1131923  0.7908451  ... 0.15016139 0.492908   0.5849954 ]], shape=(1, 4096), dtype=float32)\n",
            "Dense output shape: \t tf.Tensor([[0.9814762  0.7561992  2.3688114  ... 0.8038291  1.6513596  0.46540225]], shape=(1, 4096), dtype=float32)\n",
            "Dropout output shape: \t tf.Tensor([[0.9814762  0.7561992  2.3688114  ... 0.8038291  1.6513596  0.46540225]], shape=(1, 4096), dtype=float32)\n",
            "Dense output shape: \t tf.Tensor(\n",
            "[[0.06672387 0.03184803 0.13461201 0.02224733 0.02018165 0.02587586\n",
            "  0.10808003 0.06048954 0.01298391 0.0396069  0.06713783 0.01947852\n",
            "  0.07045549 0.02740292 0.03692498 0.04886753 0.01931952 0.01050097\n",
            "  0.07266466 0.10459848]], shape=(1, 20), dtype=float32)\n",
            "Model: \"sequential_6\"\n",
            "_________________________________________________________________\n",
            " Layer (type)                Output Shape              Param #   \n",
            "=================================================================\n",
            " resizing_1 (Resizing)       (None, 224, 224, 3)       0         \n",
            "                                                                 \n",
            " conv2d_15 (Conv2D)          (None, 54, 54, 96)        34944     \n",
            "                                                                 \n",
            " max_pooling2d_3 (MaxPooling  (None, 26, 26, 96)       0         \n",
            " 2D)                                                             \n",
            "                                                                 \n",
            " conv2d_16 (Conv2D)          (None, 22, 22, 256)       614656    \n",
            "                                                                 \n",
            " max_pooling2d_4 (MaxPooling  (None, 10, 10, 256)      0         \n",
            " 2D)                                                             \n",
            "                                                                 \n",
            " conv2d_17 (Conv2D)          (None, 10, 10, 384)       885120    \n",
            "                                                                 \n",
            " conv2d_18 (Conv2D)          (None, 10, 10, 384)       1327488   \n",
            "                                                                 \n",
            " conv2d_19 (Conv2D)          (None, 10, 10, 256)       884992    \n",
            "                                                                 \n",
            " max_pooling2d_5 (MaxPooling  (None, 4, 4, 256)        0         \n",
            " 2D)                                                             \n",
            "                                                                 \n",
            " flatten_6 (Flatten)         (None, 4096)              0         \n",
            "                                                                 \n",
            " dense_18 (Dense)            (None, 4096)              16781312  \n",
            "                                                                 \n",
            " dropout_2 (Dropout)         (None, 4096)              0         \n",
            "                                                                 \n",
            " dense_19 (Dense)            (None, 4096)              16781312  \n",
            "                                                                 \n",
            " dropout_3 (Dropout)         (None, 4096)              0         \n",
            "                                                                 \n",
            " dense_20 (Dense)            (None, 20)                81940     \n",
            "                                                                 \n",
            "=================================================================\n",
            "Total params: 37,391,764\n",
            "Trainable params: 37,391,764\n",
            "Non-trainable params: 0\n",
            "_________________________________________________________________\n"
          ]
        }
      ],
      "source": [
        "\n",
        "# AlexNet arhcitecture\n",
        "def AlexNet():\n",
        "    model = models.Sequential()\n",
        "    # model add layer to resize image\n",
        "    model.add(layers.experimental.preprocessing.Resizing(224, 224, interpolation=\"bilinear\", input_shape=x_train.shape[1:]))\n",
        "    model.add(tf.keras.layers.Conv2D(96, (11, 11), strides=(4, 4), activation='relu',kernel_initializer=tf.random_normal_initializer(mean=0.0, stddev=0.01),input_shape=(224, 224, 3)))\n",
        "    model.add(tf.keras.layers.MaxPooling2D(3, strides=2))\n",
        "    model.add(tf.keras.layers.Conv2D(256, (5, 5), activation='relu', kernel_initializer=tf.random_normal_initializer(mean=0.0, stddev=0.01), bias_initializer='ones'))\n",
        "    model.add(tf.keras.layers.MaxPooling2D(3, strides=2))\n",
        "    model.add(tf.keras.layers.Conv2D(384, (3, 3), activation='relu', padding=\"same\",kernel_initializer=tf.random_normal_initializer(mean=0.0, stddev=0.01)))\n",
        "    model.add(tf.keras.layers.Conv2D(384, (3, 3), activation='relu', padding=\"same\", kernel_initializer=tf.random_normal_initializer(mean=0.0, stddev=0.01),bias_initializer='ones'))\n",
        "    model.add(tf.keras.layers.Conv2D(256, (3, 3), activation='relu', padding=\"same\",kernel_initializer=tf.random_normal_initializer(mean=0.0, stddev=0.01), bias_initializer='ones'))\n",
        "    model.add(tf.keras.layers.MaxPooling2D(pool_size=3, strides=2))\n",
        "    model.add(tf.keras.layers.Flatten())\n",
        "    model.add(tf.keras.layers.Dense(4096, kernel_initializer = tf.random_normal_initializer(mean=0.0, stddev=0.01), bias_initializer='ones'))\n",
        "    model.add(tf.keras.layers.Dropout(0.5))\n",
        "    model.add(tf.keras.layers.Dense(4096, kernel_initializer = tf.random_normal_initializer(mean=0.0, stddev=0.01), bias_initializer='ones'))\n",
        "    model.add(tf.keras.layers.Dropout(0.5))\n",
        "    model.add(tf.keras.layers.Dense(20, activation='softmax', kernel_initializer= tf.random_normal_initializer(mean=0.0, stddev=0.01)))\n",
        "    return model\n",
        "\n",
        "Y = tf.random.uniform((1,224, 224, 3)) \n",
        "# resize image \n",
        "\n",
        "for layer in AlexNet().layers:\n",
        "    Y = layer(Y)\n",
        "    print(layer.__class__.__name__, 'output shape: \\t', Y)\n",
        "AlexNet_model_1 = AlexNet()\n",
        "AlexNet_model_2 = AlexNet()\n",
        "AlexNet_model_1.summary()"
      ]
    },
    {
      "cell_type": "markdown",
      "metadata": {
        "id": "MdJnAa6KjZg3"
      },
      "source": [
        "#### VGG"
      ]
    },
    {
      "cell_type": "code",
      "execution_count": null,
      "metadata": {
        "id": "VCyyQLuIjZg3"
      },
      "outputs": [],
      "source": [
        "def vgg_block(num_convs, num_channels):\n",
        "  block = models.Sequential()\n",
        "  for _ in range(num_convs):\n",
        "    block.add(layers.Conv2D(num_channels, kernel_size=3, padding='same', activation='relu'))\n",
        "  block.add(layers.MaxPool2D(pool_size=2, strides=2))\n",
        "  return block"
      ]
    },
    {
      "cell_type": "code",
      "execution_count": null,
      "metadata": {
        "colab": {
          "base_uri": "https://localhost:8080/"
        },
        "id": "0rD4wbLxjZg3",
        "outputId": "40830ada-a0fa-417e-9593-754715408023"
      },
      "outputs": [
        {
          "name": "stdout",
          "output_type": "stream",
          "text": [
            "Conv2D output shape:\t (1, 32, 32, 64)\n",
            "Sequential output shape:\t (1, 16, 16, 64)\n",
            "Sequential output shape:\t (1, 20)\n",
            "Model: \"sequential_11\"\n",
            "_________________________________________________________________\n",
            " Layer (type)                Output Shape              Param #   \n",
            "=================================================================\n",
            " conv2d_27 (Conv2D)          (None, 32, 32, 64)        1792      \n",
            "                                                                 \n",
            " sequential_12 (Sequential)  (None, 16, 16, 64)        36928     \n",
            "                                                                 \n",
            " sequential_13 (Sequential)  (None, 20)                83976212  \n",
            "                                                                 \n",
            "=================================================================\n",
            "Total params: 84,014,932\n",
            "Trainable params: 84,014,932\n",
            "Non-trainable params: 0\n",
            "_________________________________________________________________\n"
          ]
        }
      ],
      "source": [
        "conv_arch = ((1, 64), (1, 128), (2, 256), (2, 512), (2, 512))\n",
        "def VGG():\n",
        "    # original VGG model for pictures 224x224\n",
        "    model = models.Sequential() \n",
        "    model.add(layers.Conv2D(conv_arch[0][1], kernel_size=3, padding='same', activation='relu', input_shape=(32, 32, 3)))\n",
        "    for(num_convs, num_channels) in conv_arch:\n",
        "        model.add(vgg_block(num_convs, num_channels))\n",
        "    # The fully-connected part\n",
        "        model.add(tf.keras.models.Sequential([\n",
        "        tf.keras.layers.Flatten(),\n",
        "        tf.keras.layers.Dense(4096, activation='relu'),\n",
        "        tf.keras.layers.Dropout(0.5),\n",
        "        tf.keras.layers.Dense(4096, activation='relu'),\n",
        "        tf.keras.layers.Dropout(0.5),\n",
        "        tf.keras.layers.Dense(20, activation='softmax')]))\n",
        "        return model\n",
        "\n",
        "X = tf.random.uniform((1, 32, 32, 3))\n",
        "\n",
        "for blk in VGG().layers:\n",
        "    X = blk(X)\n",
        "    print(blk.__class__.__name__,'output shape:\\t', X.shape)\n",
        "VGG_model_1 = VGG()\n",
        "VGG_model_2 = VGG()\n",
        "VGG_model_1.summary()\n",
        "\n"
      ]
    },
    {
      "cell_type": "markdown",
      "metadata": {
        "id": "qf9cstKRUnms"
      },
      "source": [
        "#### MyCNN"
      ]
    },
    {
      "cell_type": "code",
      "execution_count": 17,
      "metadata": {
        "colab": {
          "base_uri": "https://localhost:8080/"
        },
        "id": "YO77iTJYUmtU",
        "outputId": "280c1793-91f3-4ee9-f6e3-4557ad5d9e11"
      },
      "outputs": [
        {
          "name": "stdout",
          "output_type": "stream",
          "text": [
            "Conv2D output shape:\t (1, 32, 32, 50)\n",
            "Conv2D output shape:\t (1, 32, 32, 75)\n",
            "MaxPooling2D output shape:\t (1, 16, 16, 75)\n",
            "Conv2D output shape:\t (1, 16, 16, 125)\n",
            "MaxPooling2D output shape:\t (1, 8, 8, 125)\n",
            "Flatten output shape:\t (1, 8000)\n",
            "Dense output shape:\t (1, 500)\n",
            "Dense output shape:\t (1, 250)\n",
            "Dense output shape:\t (1, 20)\n",
            "Model: \"sequential_5\"\n",
            "_________________________________________________________________\n",
            " Layer (type)                Output Shape              Param #   \n",
            "=================================================================\n",
            " conv2d_12 (Conv2D)          (None, 32, 32, 50)        1400      \n",
            "                                                                 \n",
            " conv2d_13 (Conv2D)          (None, 32, 32, 75)        33825     \n",
            "                                                                 \n",
            " max_pooling2d_8 (MaxPooling  (None, 16, 16, 75)       0         \n",
            " 2D)                                                             \n",
            "                                                                 \n",
            " conv2d_14 (Conv2D)          (None, 16, 16, 125)       84500     \n",
            "                                                                 \n",
            " max_pooling2d_9 (MaxPooling  (None, 8, 8, 125)        0         \n",
            " 2D)                                                             \n",
            "                                                                 \n",
            " flatten_4 (Flatten)         (None, 8000)              0         \n",
            "                                                                 \n",
            " dense_12 (Dense)            (None, 500)               4000500   \n",
            "                                                                 \n",
            " dense_13 (Dense)            (None, 250)               125250    \n",
            "                                                                 \n",
            " dense_14 (Dense)            (None, 20)                5020      \n",
            "                                                                 \n",
            "=================================================================\n",
            "Total params: 4,250,495\n",
            "Trainable params: 4,250,495\n",
            "Non-trainable params: 0\n",
            "_________________________________________________________________\n"
          ]
        }
      ],
      "source": [
        "def MyCnn( flag_for_dropout=False, flag_for_data_augmentation=False):\n",
        "  # building a linear stack of layers with the sequential model\n",
        "  model = models.Sequential()\n",
        "\n",
        "  if(flag_for_data_augmentation):\n",
        "    model.add( layers.experimental.preprocessing.RandomFlip(\"horizontal\",input_shape=(32, 32, 3)))\n",
        "    model.add(layers.experimental.preprocessing.RandomRotation(0.1))\n",
        "    model.add(layers.experimental.preprocessing.RandomZoom(0.1))\n",
        "\n",
        "  # convolutional layer\n",
        "  model.add(layers.Conv2D(50, kernel_size=(3,3), strides=(1,1), padding='same', activation='relu', input_shape=(32, 32, 3) ))\n",
        "\n",
        "  # convolutional layer\n",
        "  model.add(layers.Conv2D(75, kernel_size=(3,3), strides=(1,1), padding='same', activation='relu'))\n",
        "  model.add(layers.MaxPool2D(pool_size=(2,2)))\n",
        "  if(flag_for_dropout):\n",
        "    model.add(layers.Dropout(0.25))\n",
        "\n",
        "  model.add(layers.Conv2D(125, kernel_size=(3,3), strides=(1,1), padding='same', activation='relu'))\n",
        "  model.add(layers.MaxPool2D(pool_size=(2,2)))\n",
        "  if(flag_for_dropout):\n",
        "    model.add(layers.Dropout(0.25))\n",
        "\n",
        "  # flatten output of conv\n",
        "  model.add(layers.Flatten())\n",
        "\n",
        "  # hidden layer\n",
        "  model.add(layers.Dense(500, activation='relu'))\n",
        "  if(flag_for_dropout):\n",
        "    model.add(layers.Dropout(0.4))\n",
        "  model.add(layers.Dense(250, activation='relu'))\n",
        "  if(flag_for_dropout):\n",
        "    model.add(layers.Dropout(0.3))\n",
        "  # output layer\n",
        "  model.add(layers.Dense(20))\n",
        "  return model\n",
        "\n",
        "X = tf.random.uniform((1, 32, 32, 3))\n",
        "\n",
        "for blk in MyCnn().layers:\n",
        "    X = blk(X)\n",
        "    print(blk.__class__.__name__,'output shape:\\t', X.shape)\n",
        "MyCnn_model_1 = MyCnn()\n",
        "MyCnn_model_2 = MyCnn()\n",
        "MyCnn_model_1.summary()\n",
        "\n"
      ]
    },
    {
      "cell_type": "markdown",
      "metadata": {
        "id": "JD5axriTjZg4"
      },
      "source": [
        "### Εκπαίδευση των μοντέλων\n",
        "\n"
      ]
    },
    {
      "cell_type": "markdown",
      "metadata": {
        "id": "lRLB3TQwYQSG"
      },
      "source": [
        "#### 0 εως 19 κλάσεις"
      ]
    },
    {
      "cell_type": "code",
      "execution_count": 19,
      "metadata": {
        "id": "AX23Uf9YjZg4"
      },
      "outputs": [],
      "source": [
        "import numpy as np\n",
        "\n",
        "values = np.unique(y_val)\n",
        "values = np.sort(values)\n",
        "\n",
        "y_val_to20 = np.zeros(len(y_val), dtype=int)\n",
        "for i in range (y_val.shape[0]):\n",
        "  y_val_to20[i] =  np.where(values == y_val[i])[0][0]\n",
        "\n",
        "y_train_to20 = np.zeros(len(y_train), dtype=int)\n",
        "for i in range (y_train.shape[0]):\n",
        "  y_train_to20[i] =  np.where(values == y_train[i])[0][0]\n",
        "\n",
        "y_test_to20 = np.zeros(len(y_test), dtype=int)\n",
        "for i in range (y_test.shape[0]):\n",
        "  y_test_to20[i] =  np.where(values == y_test[i])[0][0]"
      ]
    },
    {
      "cell_type": "markdown",
      "metadata": {
        "id": "TOjGBWzzYNb9"
      },
      "source": [
        "#### LeNet"
      ]
    },
    {
      "cell_type": "code",
      "execution_count": null,
      "metadata": {
        "colab": {
          "base_uri": "https://localhost:8080/"
        },
        "id": "Fe_zj4_IjZg4",
        "outputId": "9ab397a0-cd7b-4887-e9ef-c2d1773243f1"
      },
      "outputs": [
        {
          "name": "stdout",
          "output_type": "stream",
          "text": [
            "Epoch 1/50\n",
            "850/850 [==============================] - 6s 4ms/step - loss: 2.9358 - accuracy: 0.0844 - val_loss: 2.7385 - val_accuracy: 0.1500\n",
            "Epoch 2/50\n",
            "850/850 [==============================] - 3s 4ms/step - loss: 2.6093 - accuracy: 0.1789 - val_loss: 2.4971 - val_accuracy: 0.2173\n",
            "Epoch 3/50\n",
            "850/850 [==============================] - 3s 4ms/step - loss: 2.4335 - accuracy: 0.2362 - val_loss: 2.3661 - val_accuracy: 0.2400\n",
            "Epoch 4/50\n",
            "850/850 [==============================] - 3s 4ms/step - loss: 2.3246 - accuracy: 0.2731 - val_loss: 2.3048 - val_accuracy: 0.2907\n",
            "Epoch 5/50\n",
            "850/850 [==============================] - 3s 4ms/step - loss: 2.2620 - accuracy: 0.2864 - val_loss: 2.2610 - val_accuracy: 0.3007\n",
            "Epoch 6/50\n",
            "850/850 [==============================] - 3s 4ms/step - loss: 2.2123 - accuracy: 0.3054 - val_loss: 2.2058 - val_accuracy: 0.3100\n",
            "Epoch 7/50\n",
            "850/850 [==============================] - 3s 4ms/step - loss: 2.1781 - accuracy: 0.3172 - val_loss: 2.1880 - val_accuracy: 0.3260\n",
            "Epoch 8/50\n",
            "850/850 [==============================] - 5s 6ms/step - loss: 2.1456 - accuracy: 0.3245 - val_loss: 2.1554 - val_accuracy: 0.3313\n",
            "Epoch 9/50\n",
            "850/850 [==============================] - 6s 7ms/step - loss: 2.1155 - accuracy: 0.3374 - val_loss: 2.1801 - val_accuracy: 0.3193\n",
            "Epoch 10/50\n",
            "850/850 [==============================] - 5s 6ms/step - loss: 2.0901 - accuracy: 0.3378 - val_loss: 2.1050 - val_accuracy: 0.3407\n",
            "Epoch 11/50\n",
            "850/850 [==============================] - 5s 6ms/step - loss: 2.0565 - accuracy: 0.3544 - val_loss: 2.0969 - val_accuracy: 0.3380\n",
            "Epoch 12/50\n",
            "850/850 [==============================] - 5s 6ms/step - loss: 2.0300 - accuracy: 0.3573 - val_loss: 2.0967 - val_accuracy: 0.3407\n",
            "Epoch 13/50\n",
            "850/850 [==============================] - 5s 5ms/step - loss: 2.0025 - accuracy: 0.3749 - val_loss: 2.0797 - val_accuracy: 0.3320\n",
            "Epoch 14/50\n",
            "850/850 [==============================] - 5s 6ms/step - loss: 1.9817 - accuracy: 0.3774 - val_loss: 2.0675 - val_accuracy: 0.3673\n",
            "Epoch 15/50\n",
            "850/850 [==============================] - 4s 5ms/step - loss: 1.9636 - accuracy: 0.3834 - val_loss: 2.0524 - val_accuracy: 0.3533\n",
            "Epoch 16/50\n",
            "850/850 [==============================] - 4s 5ms/step - loss: 1.9375 - accuracy: 0.3901 - val_loss: 2.0819 - val_accuracy: 0.3607\n",
            "Epoch 17/50\n",
            "850/850 [==============================] - 3s 4ms/step - loss: 1.9206 - accuracy: 0.4002 - val_loss: 2.0256 - val_accuracy: 0.3667\n",
            "Epoch 18/50\n",
            "850/850 [==============================] - 3s 4ms/step - loss: 1.8839 - accuracy: 0.4040 - val_loss: 2.0289 - val_accuracy: 0.3620\n",
            "Epoch 19/50\n",
            "850/850 [==============================] - 3s 4ms/step - loss: 1.8717 - accuracy: 0.4106 - val_loss: 2.0181 - val_accuracy: 0.3740\n",
            "Epoch 20/50\n",
            "850/850 [==============================] - 3s 4ms/step - loss: 1.8487 - accuracy: 0.4175 - val_loss: 1.9796 - val_accuracy: 0.3787\n",
            "Epoch 21/50\n",
            "850/850 [==============================] - 3s 4ms/step - loss: 1.8300 - accuracy: 0.4249 - val_loss: 1.9819 - val_accuracy: 0.3807\n",
            "Epoch 22/50\n",
            "850/850 [==============================] - 3s 4ms/step - loss: 1.8059 - accuracy: 0.4342 - val_loss: 2.0017 - val_accuracy: 0.3720\n",
            "Epoch 23/50\n",
            "850/850 [==============================] - 3s 4ms/step - loss: 1.7870 - accuracy: 0.4420 - val_loss: 1.9589 - val_accuracy: 0.3940\n",
            "Epoch 24/50\n",
            "850/850 [==============================] - 3s 4ms/step - loss: 1.7617 - accuracy: 0.4425 - val_loss: 1.9742 - val_accuracy: 0.3933\n",
            "Epoch 25/50\n",
            "850/850 [==============================] - 3s 4ms/step - loss: 1.7442 - accuracy: 0.4540 - val_loss: 1.9582 - val_accuracy: 0.3833\n",
            "Epoch 26/50\n",
            "850/850 [==============================] - 3s 4ms/step - loss: 1.7232 - accuracy: 0.4611 - val_loss: 1.9931 - val_accuracy: 0.3920\n",
            "Epoch 27/50\n",
            "850/850 [==============================] - 3s 4ms/step - loss: 1.7064 - accuracy: 0.4608 - val_loss: 1.9257 - val_accuracy: 0.3980\n",
            "Epoch 28/50\n",
            "850/850 [==============================] - 3s 4ms/step - loss: 1.6915 - accuracy: 0.4704 - val_loss: 1.9401 - val_accuracy: 0.3913\n",
            "Epoch 29/50\n",
            "850/850 [==============================] - 3s 4ms/step - loss: 1.6632 - accuracy: 0.4805 - val_loss: 1.9965 - val_accuracy: 0.3933\n",
            "Epoch 30/50\n",
            "850/850 [==============================] - 3s 4ms/step - loss: 1.6449 - accuracy: 0.4860 - val_loss: 1.9988 - val_accuracy: 0.3933\n",
            "Epoch 31/50\n",
            "850/850 [==============================] - 3s 4ms/step - loss: 1.6236 - accuracy: 0.4916 - val_loss: 1.9473 - val_accuracy: 0.4120\n",
            "Epoch 32/50\n",
            "850/850 [==============================] - 3s 4ms/step - loss: 1.6001 - accuracy: 0.5016 - val_loss: 1.8918 - val_accuracy: 0.4113\n",
            "Epoch 33/50\n",
            "850/850 [==============================] - 3s 4ms/step - loss: 1.5730 - accuracy: 0.5067 - val_loss: 1.9619 - val_accuracy: 0.3993\n",
            "Epoch 34/50\n",
            "850/850 [==============================] - 3s 4ms/step - loss: 1.5554 - accuracy: 0.5075 - val_loss: 1.9156 - val_accuracy: 0.4153\n",
            "Epoch 35/50\n",
            "850/850 [==============================] - 3s 4ms/step - loss: 1.5389 - accuracy: 0.5148 - val_loss: 1.9465 - val_accuracy: 0.4047\n",
            "Epoch 36/50\n",
            "850/850 [==============================] - 3s 4ms/step - loss: 1.5073 - accuracy: 0.5252 - val_loss: 1.9439 - val_accuracy: 0.4180\n",
            "Epoch 37/50\n",
            "850/850 [==============================] - 3s 4ms/step - loss: 1.4963 - accuracy: 0.5293 - val_loss: 1.9622 - val_accuracy: 0.4160\n",
            "Epoch 38/50\n",
            "850/850 [==============================] - 3s 4ms/step - loss: 1.4722 - accuracy: 0.5389 - val_loss: 1.9786 - val_accuracy: 0.4120\n",
            "Epoch 39/50\n",
            "850/850 [==============================] - 3s 4ms/step - loss: 1.4522 - accuracy: 0.5401 - val_loss: 1.9801 - val_accuracy: 0.4167\n",
            "Epoch 40/50\n",
            "850/850 [==============================] - 3s 4ms/step - loss: 1.4325 - accuracy: 0.5515 - val_loss: 2.0061 - val_accuracy: 0.4200\n",
            "Epoch 41/50\n",
            "850/850 [==============================] - 3s 4ms/step - loss: 1.4118 - accuracy: 0.5541 - val_loss: 1.9403 - val_accuracy: 0.4273\n",
            "Epoch 42/50\n",
            "850/850 [==============================] - 3s 4ms/step - loss: 1.3847 - accuracy: 0.5641 - val_loss: 2.0027 - val_accuracy: 0.4313\n",
            "Epoch 43/50\n",
            "850/850 [==============================] - 3s 4ms/step - loss: 1.3646 - accuracy: 0.5741 - val_loss: 1.9336 - val_accuracy: 0.4347\n",
            "Epoch 44/50\n",
            "850/850 [==============================] - 3s 4ms/step - loss: 1.3450 - accuracy: 0.5804 - val_loss: 1.9958 - val_accuracy: 0.4313\n",
            "Epoch 45/50\n",
            "850/850 [==============================] - 4s 4ms/step - loss: 1.3193 - accuracy: 0.5812 - val_loss: 1.9671 - val_accuracy: 0.4260\n",
            "Epoch 46/50\n",
            "850/850 [==============================] - 3s 4ms/step - loss: 1.2971 - accuracy: 0.5915 - val_loss: 1.9783 - val_accuracy: 0.4327\n",
            "Epoch 47/50\n",
            "850/850 [==============================] - 3s 4ms/step - loss: 1.2754 - accuracy: 0.6001 - val_loss: 1.9666 - val_accuracy: 0.4460\n",
            "Epoch 48/50\n",
            "850/850 [==============================] - 3s 4ms/step - loss: 1.2529 - accuracy: 0.6056 - val_loss: 1.9708 - val_accuracy: 0.4353\n",
            "Epoch 49/50\n",
            "850/850 [==============================] - 3s 4ms/step - loss: 1.2278 - accuracy: 0.6162 - val_loss: 2.0418 - val_accuracy: 0.4360\n",
            "Epoch 50/50\n",
            "850/850 [==============================] - 3s 4ms/step - loss: 1.2071 - accuracy: 0.6220 - val_loss: 2.0465 - val_accuracy: 0.4400\n"
          ]
        }
      ],
      "source": [
        "LeNet_model_1 = LeNet_with_parameters()\n",
        "LeNet_model_1.compile(optimizer=\"RMSprop\",\n",
        "              loss=tf.keras.losses.SparseCategoricalCrossentropy(from_logits=True),\n",
        "              metrics=['accuracy'])\n",
        "\n",
        "LeNet_history_1 = LeNet_model_1.fit(x_train, y_train_to20, epochs=50, batch_size=10,\n",
        "                    validation_data=(x_val, y_val_to20))"
      ]
    },
    {
      "cell_type": "code",
      "execution_count": null,
      "metadata": {
        "colab": {
          "base_uri": "https://localhost:8080/"
        },
        "id": "e4liSH5cjZg5",
        "outputId": "c5ff2fc7-29cf-4c87-9b1a-6c0c9eff2811"
      },
      "outputs": [
        {
          "name": "stdout",
          "output_type": "stream",
          "text": [
            "Epoch 1/50\n",
            "100/100 [==============================] - 2s 8ms/step - loss: 3.0094 - accuracy: 0.0501 - val_loss: 3.0024 - val_accuracy: 0.0453\n",
            "Epoch 2/50\n",
            "100/100 [==============================] - 1s 5ms/step - loss: 2.8874 - accuracy: 0.1105 - val_loss: 2.7526 - val_accuracy: 0.1593\n",
            "Epoch 3/50\n",
            "100/100 [==============================] - 1s 5ms/step - loss: 2.6694 - accuracy: 0.1706 - val_loss: 2.6118 - val_accuracy: 0.1820\n",
            "Epoch 4/50\n",
            "100/100 [==============================] - 1s 5ms/step - loss: 2.5635 - accuracy: 0.1972 - val_loss: 2.5483 - val_accuracy: 0.2020\n",
            "Epoch 5/50\n",
            "100/100 [==============================] - 1s 5ms/step - loss: 2.4886 - accuracy: 0.2235 - val_loss: 2.4927 - val_accuracy: 0.2187\n",
            "Epoch 6/50\n",
            "100/100 [==============================] - 1s 5ms/step - loss: 2.4228 - accuracy: 0.2448 - val_loss: 2.4222 - val_accuracy: 0.2560\n",
            "Epoch 7/50\n",
            "100/100 [==============================] - 1s 5ms/step - loss: 2.3629 - accuracy: 0.2699 - val_loss: 2.3640 - val_accuracy: 0.2700\n",
            "Epoch 8/50\n",
            "100/100 [==============================] - 1s 5ms/step - loss: 2.3157 - accuracy: 0.2832 - val_loss: 2.3149 - val_accuracy: 0.2860\n",
            "Epoch 9/50\n",
            "100/100 [==============================] - 1s 6ms/step - loss: 2.2783 - accuracy: 0.2919 - val_loss: 2.3019 - val_accuracy: 0.3073\n",
            "Epoch 10/50\n",
            "100/100 [==============================] - 1s 5ms/step - loss: 2.2494 - accuracy: 0.3033 - val_loss: 2.2591 - val_accuracy: 0.3093\n",
            "Epoch 11/50\n",
            "100/100 [==============================] - 1s 6ms/step - loss: 2.2173 - accuracy: 0.3105 - val_loss: 2.2360 - val_accuracy: 0.3167\n",
            "Epoch 12/50\n",
            "100/100 [==============================] - 1s 5ms/step - loss: 2.1935 - accuracy: 0.3151 - val_loss: 2.2368 - val_accuracy: 0.3120\n",
            "Epoch 13/50\n",
            "100/100 [==============================] - 1s 5ms/step - loss: 2.1716 - accuracy: 0.3198 - val_loss: 2.2092 - val_accuracy: 0.3213\n",
            "Epoch 14/50\n",
            "100/100 [==============================] - 1s 5ms/step - loss: 2.1519 - accuracy: 0.3228 - val_loss: 2.2013 - val_accuracy: 0.3227\n",
            "Epoch 15/50\n",
            "100/100 [==============================] - 1s 5ms/step - loss: 2.1330 - accuracy: 0.3336 - val_loss: 2.1783 - val_accuracy: 0.3280\n",
            "Epoch 16/50\n",
            "100/100 [==============================] - 1s 5ms/step - loss: 2.1140 - accuracy: 0.3372 - val_loss: 2.1652 - val_accuracy: 0.3267\n",
            "Epoch 17/50\n",
            "100/100 [==============================] - 1s 5ms/step - loss: 2.1001 - accuracy: 0.3413 - val_loss: 2.1292 - val_accuracy: 0.3347\n",
            "Epoch 18/50\n",
            "100/100 [==============================] - 1s 6ms/step - loss: 2.0813 - accuracy: 0.3486 - val_loss: 2.1290 - val_accuracy: 0.3453\n",
            "Epoch 19/50\n",
            "100/100 [==============================] - 1s 6ms/step - loss: 2.0653 - accuracy: 0.3518 - val_loss: 2.1334 - val_accuracy: 0.3347\n",
            "Epoch 20/50\n",
            "100/100 [==============================] - 1s 5ms/step - loss: 2.0464 - accuracy: 0.3600 - val_loss: 2.1202 - val_accuracy: 0.3420\n",
            "Epoch 21/50\n",
            "100/100 [==============================] - 1s 6ms/step - loss: 2.0314 - accuracy: 0.3653 - val_loss: 2.0873 - val_accuracy: 0.3447\n",
            "Epoch 22/50\n",
            "100/100 [==============================] - 1s 5ms/step - loss: 2.0151 - accuracy: 0.3711 - val_loss: 2.0943 - val_accuracy: 0.3540\n",
            "Epoch 23/50\n",
            "100/100 [==============================] - 1s 5ms/step - loss: 2.0031 - accuracy: 0.3695 - val_loss: 2.0640 - val_accuracy: 0.3513\n",
            "Epoch 24/50\n",
            "100/100 [==============================] - 1s 5ms/step - loss: 1.9865 - accuracy: 0.3805 - val_loss: 2.0627 - val_accuracy: 0.3547\n",
            "Epoch 25/50\n",
            "100/100 [==============================] - 1s 5ms/step - loss: 1.9728 - accuracy: 0.3836 - val_loss: 2.0372 - val_accuracy: 0.3673\n",
            "Epoch 26/50\n",
            "100/100 [==============================] - 1s 5ms/step - loss: 1.9568 - accuracy: 0.3860 - val_loss: 2.0289 - val_accuracy: 0.3693\n",
            "Epoch 27/50\n",
            "100/100 [==============================] - 1s 6ms/step - loss: 1.9429 - accuracy: 0.3925 - val_loss: 2.0167 - val_accuracy: 0.3700\n",
            "Epoch 28/50\n",
            "100/100 [==============================] - 1s 5ms/step - loss: 1.9307 - accuracy: 0.3958 - val_loss: 2.0193 - val_accuracy: 0.3687\n",
            "Epoch 29/50\n",
            "100/100 [==============================] - 1s 5ms/step - loss: 1.9165 - accuracy: 0.3976 - val_loss: 2.0000 - val_accuracy: 0.3733\n",
            "Epoch 30/50\n",
            "100/100 [==============================] - 1s 5ms/step - loss: 1.9016 - accuracy: 0.4055 - val_loss: 1.9952 - val_accuracy: 0.3687\n",
            "Epoch 31/50\n",
            "100/100 [==============================] - 1s 5ms/step - loss: 1.8887 - accuracy: 0.4091 - val_loss: 1.9881 - val_accuracy: 0.3707\n",
            "Epoch 32/50\n",
            "100/100 [==============================] - 1s 6ms/step - loss: 1.8769 - accuracy: 0.4120 - val_loss: 1.9781 - val_accuracy: 0.3773\n",
            "Epoch 33/50\n",
            "100/100 [==============================] - 1s 6ms/step - loss: 1.8631 - accuracy: 0.4182 - val_loss: 1.9781 - val_accuracy: 0.3853\n",
            "Epoch 34/50\n",
            "100/100 [==============================] - 1s 6ms/step - loss: 1.8511 - accuracy: 0.4201 - val_loss: 1.9530 - val_accuracy: 0.3807\n",
            "Epoch 35/50\n",
            "100/100 [==============================] - 1s 6ms/step - loss: 1.8374 - accuracy: 0.4254 - val_loss: 1.9504 - val_accuracy: 0.3953\n",
            "Epoch 36/50\n",
            "100/100 [==============================] - 1s 5ms/step - loss: 1.8272 - accuracy: 0.4276 - val_loss: 1.9506 - val_accuracy: 0.3813\n",
            "Epoch 37/50\n",
            "100/100 [==============================] - 1s 5ms/step - loss: 1.8138 - accuracy: 0.4320 - val_loss: 1.9360 - val_accuracy: 0.3793\n",
            "Epoch 38/50\n",
            "100/100 [==============================] - 1s 5ms/step - loss: 1.8013 - accuracy: 0.4378 - val_loss: 1.9323 - val_accuracy: 0.3947\n",
            "Epoch 39/50\n",
            "100/100 [==============================] - 1s 5ms/step - loss: 1.7883 - accuracy: 0.4387 - val_loss: 1.9270 - val_accuracy: 0.3933\n",
            "Epoch 40/50\n",
            "100/100 [==============================] - 1s 5ms/step - loss: 1.7749 - accuracy: 0.4462 - val_loss: 1.9179 - val_accuracy: 0.4053\n",
            "Epoch 41/50\n",
            "100/100 [==============================] - 1s 6ms/step - loss: 1.7660 - accuracy: 0.4489 - val_loss: 1.9181 - val_accuracy: 0.3993\n",
            "Epoch 42/50\n",
            "100/100 [==============================] - 1s 6ms/step - loss: 1.7527 - accuracy: 0.4504 - val_loss: 1.9136 - val_accuracy: 0.3967\n",
            "Epoch 43/50\n",
            "100/100 [==============================] - 1s 5ms/step - loss: 1.7403 - accuracy: 0.4529 - val_loss: 1.9002 - val_accuracy: 0.3987\n",
            "Epoch 44/50\n",
            "100/100 [==============================] - 1s 5ms/step - loss: 1.7290 - accuracy: 0.4588 - val_loss: 1.8837 - val_accuracy: 0.4067\n",
            "Epoch 45/50\n",
            "100/100 [==============================] - 1s 5ms/step - loss: 1.7148 - accuracy: 0.4648 - val_loss: 1.9043 - val_accuracy: 0.4013\n",
            "Epoch 46/50\n",
            "100/100 [==============================] - 1s 6ms/step - loss: 1.7021 - accuracy: 0.4689 - val_loss: 1.8966 - val_accuracy: 0.4087\n",
            "Epoch 47/50\n",
            "100/100 [==============================] - 1s 6ms/step - loss: 1.6928 - accuracy: 0.4696 - val_loss: 1.8905 - val_accuracy: 0.4047\n",
            "Epoch 48/50\n",
            "100/100 [==============================] - 1s 5ms/step - loss: 1.6793 - accuracy: 0.4758 - val_loss: 1.8846 - val_accuracy: 0.3980\n",
            "Epoch 49/50\n",
            "100/100 [==============================] - 1s 6ms/step - loss: 1.6655 - accuracy: 0.4759 - val_loss: 1.8849 - val_accuracy: 0.4073\n",
            "Epoch 50/50\n",
            "100/100 [==============================] - 1s 5ms/step - loss: 1.6532 - accuracy: 0.4835 - val_loss: 1.8598 - val_accuracy: 0.4193\n"
          ]
        }
      ],
      "source": [
        "LeNet_model_2 = LeNet_with_parameters()\n",
        "LeNet_model_2.compile(optimizer=\"Nadam\",\n",
        "              loss=tf.keras.losses.SparseCategoricalCrossentropy(from_logits=True),\n",
        "              metrics=['accuracy'])\n",
        "\n",
        "LeNet_history_2 = LeNet_model_2.fit(x_train, y_train_to20, epochs=50, batch_size=85,\n",
        "                    validation_data=(x_val, y_val_to20))"
      ]
    },
    {
      "cell_type": "markdown",
      "metadata": {
        "id": "4wYqOOdfYJVJ"
      },
      "source": [
        "#### AlexNet"
      ]
    },
    {
      "cell_type": "code",
      "execution_count": null,
      "metadata": {
        "colab": {
          "base_uri": "https://localhost:8080/"
        },
        "id": "w_yOL8kfjZg5",
        "outputId": "34b68f09-d482-46d5-cd12-89479e7dab13"
      },
      "outputs": [
        {
          "name": "stdout",
          "output_type": "stream",
          "text": [
            "Epoch 1/50\n",
            "100/100 [==============================] - 11s 90ms/step - loss: 12.4863 - accuracy: 0.0489 - val_loss: 6.1270 - val_accuracy: 0.0520\n",
            "Epoch 2/50\n",
            "100/100 [==============================] - 9s 85ms/step - loss: 5.5409 - accuracy: 0.0475 - val_loss: 4.8646 - val_accuracy: 0.0500\n",
            "Epoch 3/50\n",
            "100/100 [==============================] - 9s 86ms/step - loss: 4.5894 - accuracy: 0.0502 - val_loss: 4.0582 - val_accuracy: 0.0433\n",
            "Epoch 4/50\n",
            "100/100 [==============================] - 8s 84ms/step - loss: 3.9092 - accuracy: 0.0519 - val_loss: 3.3111 - val_accuracy: 0.0513\n",
            "Epoch 5/50\n",
            "100/100 [==============================] - 8s 84ms/step - loss: 3.6359 - accuracy: 0.0522 - val_loss: 3.5142 - val_accuracy: 0.0467\n",
            "Epoch 6/50\n",
            "100/100 [==============================] - 8s 83ms/step - loss: 3.6395 - accuracy: 0.0529 - val_loss: 3.5758 - val_accuracy: 0.0453\n",
            "Epoch 7/50\n",
            "100/100 [==============================] - 8s 84ms/step - loss: 3.5357 - accuracy: 0.0482 - val_loss: 3.5497 - val_accuracy: 0.0593\n",
            "Epoch 8/50\n",
            "100/100 [==============================] - 8s 83ms/step - loss: 3.5683 - accuracy: 0.0453 - val_loss: 3.2092 - val_accuracy: 0.0520\n",
            "Epoch 9/50\n",
            "100/100 [==============================] - 8s 83ms/step - loss: 3.5909 - accuracy: 0.0480 - val_loss: 3.2997 - val_accuracy: 0.0593\n",
            "Epoch 10/50\n",
            "100/100 [==============================] - 8s 84ms/step - loss: 3.5695 - accuracy: 0.0449 - val_loss: 3.3236 - val_accuracy: 0.0573\n",
            "Epoch 11/50\n",
            "100/100 [==============================] - 8s 85ms/step - loss: 3.8423 - accuracy: 0.0519 - val_loss: 3.7540 - val_accuracy: 0.0440\n",
            "Epoch 12/50\n",
            "100/100 [==============================] - 8s 84ms/step - loss: 3.7958 - accuracy: 0.0520 - val_loss: 3.5836 - val_accuracy: 0.0513\n",
            "Epoch 13/50\n",
            "100/100 [==============================] - 8s 84ms/step - loss: 3.7379 - accuracy: 0.0513 - val_loss: 4.3352 - val_accuracy: 0.0533\n",
            "Epoch 14/50\n",
            "100/100 [==============================] - 8s 84ms/step - loss: 6.4067 - accuracy: 0.0496 - val_loss: 20.3213 - val_accuracy: 0.0533\n",
            "Epoch 15/50\n",
            "100/100 [==============================] - 8s 85ms/step - loss: 81.0717 - accuracy: 0.0525 - val_loss: 71.7895 - val_accuracy: 0.0407\n",
            "Epoch 16/50\n",
            "100/100 [==============================] - 8s 85ms/step - loss: 26.3635 - accuracy: 0.0506 - val_loss: 5.4565 - val_accuracy: 0.0453\n",
            "Epoch 17/50\n",
            "100/100 [==============================] - 8s 83ms/step - loss: 6.4969 - accuracy: 0.0502 - val_loss: 3.4269 - val_accuracy: 0.0533\n",
            "Epoch 18/50\n",
            "100/100 [==============================] - 8s 83ms/step - loss: 5.2557 - accuracy: 0.0498 - val_loss: 3.8587 - val_accuracy: 0.0467\n",
            "Epoch 19/50\n",
            "100/100 [==============================] - 8s 83ms/step - loss: 4.3046 - accuracy: 0.0473 - val_loss: 3.5984 - val_accuracy: 0.0407\n",
            "Epoch 20/50\n",
            "100/100 [==============================] - 8s 83ms/step - loss: 4.1226 - accuracy: 0.0473 - val_loss: 3.3657 - val_accuracy: 0.0440\n",
            "Epoch 21/50\n",
            "100/100 [==============================] - 8s 84ms/step - loss: 3.6867 - accuracy: 0.0504 - val_loss: 3.3546 - val_accuracy: 0.0407\n",
            "Epoch 22/50\n",
            "100/100 [==============================] - 8s 84ms/step - loss: 3.5750 - accuracy: 0.0528 - val_loss: 3.1917 - val_accuracy: 0.0433\n",
            "Epoch 23/50\n",
            "100/100 [==============================] - 8s 84ms/step - loss: 3.4710 - accuracy: 0.0491 - val_loss: 3.2235 - val_accuracy: 0.0453\n",
            "Epoch 24/50\n",
            "100/100 [==============================] - 8s 84ms/step - loss: 3.3946 - accuracy: 0.0476 - val_loss: 3.1939 - val_accuracy: 0.0407\n",
            "Epoch 25/50\n",
            "100/100 [==============================] - 8s 84ms/step - loss: 3.3359 - accuracy: 0.0513 - val_loss: 3.1800 - val_accuracy: 0.0440\n",
            "Epoch 26/50\n",
            "100/100 [==============================] - 8s 84ms/step - loss: 3.3171 - accuracy: 0.0492 - val_loss: 3.2825 - val_accuracy: 0.0593\n",
            "Epoch 27/50\n",
            "100/100 [==============================] - 8s 84ms/step - loss: 3.2500 - accuracy: 0.0531 - val_loss: 3.1623 - val_accuracy: 0.0467\n",
            "Epoch 28/50\n",
            "100/100 [==============================] - 8s 84ms/step - loss: 3.2392 - accuracy: 0.0516 - val_loss: 3.1201 - val_accuracy: 0.0507\n",
            "Epoch 29/50\n",
            "100/100 [==============================] - 8s 84ms/step - loss: 3.2112 - accuracy: 0.0496 - val_loss: 3.0881 - val_accuracy: 0.0500\n",
            "Epoch 30/50\n",
            "100/100 [==============================] - 8s 84ms/step - loss: 3.1731 - accuracy: 0.0492 - val_loss: 3.1392 - val_accuracy: 0.0533\n",
            "Epoch 31/50\n",
            "100/100 [==============================] - 8s 84ms/step - loss: 3.2004 - accuracy: 0.0485 - val_loss: 3.1702 - val_accuracy: 0.0513\n",
            "Epoch 32/50\n",
            "100/100 [==============================] - 8s 84ms/step - loss: 3.2125 - accuracy: 0.0526 - val_loss: 3.2654 - val_accuracy: 0.0407\n",
            "Epoch 33/50\n",
            "100/100 [==============================] - 8s 85ms/step - loss: 3.2344 - accuracy: 0.0499 - val_loss: 3.0898 - val_accuracy: 0.0593\n",
            "Epoch 34/50\n",
            "100/100 [==============================] - 8s 84ms/step - loss: 3.1821 - accuracy: 0.0522 - val_loss: 3.1286 - val_accuracy: 0.0407\n",
            "Epoch 35/50\n",
            "100/100 [==============================] - 8s 84ms/step - loss: 3.2123 - accuracy: 0.0506 - val_loss: 3.0532 - val_accuracy: 0.0500\n",
            "Epoch 36/50\n",
            "100/100 [==============================] - 8s 83ms/step - loss: 3.2338 - accuracy: 0.0485 - val_loss: 3.1143 - val_accuracy: 0.0467\n",
            "Epoch 37/50\n",
            "100/100 [==============================] - 8s 83ms/step - loss: 3.2429 - accuracy: 0.0480 - val_loss: 3.1332 - val_accuracy: 0.0507\n",
            "Epoch 38/50\n",
            "100/100 [==============================] - 8s 84ms/step - loss: 3.2389 - accuracy: 0.0485 - val_loss: 3.1252 - val_accuracy: 0.0407\n",
            "Epoch 39/50\n",
            "100/100 [==============================] - 8s 84ms/step - loss: 3.2613 - accuracy: 0.0467 - val_loss: 3.2321 - val_accuracy: 0.0453\n",
            "Epoch 40/50\n",
            "100/100 [==============================] - 8s 83ms/step - loss: 3.3097 - accuracy: 0.0502 - val_loss: 3.1246 - val_accuracy: 0.0567\n",
            "Epoch 41/50\n",
            "100/100 [==============================] - 8s 84ms/step - loss: 3.3550 - accuracy: 0.0493 - val_loss: 3.2423 - val_accuracy: 0.0500\n",
            "Epoch 42/50\n",
            "100/100 [==============================] - 8s 83ms/step - loss: 3.3344 - accuracy: 0.0476 - val_loss: 3.3531 - val_accuracy: 0.0453\n",
            "Epoch 43/50\n",
            "100/100 [==============================] - 8s 84ms/step - loss: 3.3906 - accuracy: 0.0531 - val_loss: 3.3317 - val_accuracy: 0.0453\n",
            "Epoch 44/50\n",
            "100/100 [==============================] - 8s 84ms/step - loss: 3.4211 - accuracy: 0.0524 - val_loss: 3.4269 - val_accuracy: 0.0513\n",
            "Epoch 45/50\n",
            "100/100 [==============================] - 8s 83ms/step - loss: 3.3933 - accuracy: 0.0440 - val_loss: 3.2948 - val_accuracy: 0.0513\n",
            "Epoch 46/50\n",
            "100/100 [==============================] - 8s 83ms/step - loss: 3.4518 - accuracy: 0.0512 - val_loss: 3.2636 - val_accuracy: 0.0453\n",
            "Epoch 47/50\n",
            "100/100 [==============================] - 8s 84ms/step - loss: 3.4321 - accuracy: 0.0491 - val_loss: 3.2825 - val_accuracy: 0.0593\n",
            "Epoch 48/50\n",
            "100/100 [==============================] - 8s 83ms/step - loss: 3.4343 - accuracy: 0.0533 - val_loss: 3.2080 - val_accuracy: 0.0453\n",
            "Epoch 49/50\n",
            "100/100 [==============================] - 8s 83ms/step - loss: 3.4804 - accuracy: 0.0551 - val_loss: 3.2390 - val_accuracy: 0.0580\n",
            "Epoch 50/50\n",
            "100/100 [==============================] - 8s 83ms/step - loss: 3.4879 - accuracy: 0.0482 - val_loss: 3.2646 - val_accuracy: 0.0580\n"
          ]
        }
      ],
      "source": [
        "\n",
        "AlexNet_model_1 = AlexNet()\n",
        "AlexNet_model_1.compile('adam',\n",
        "                loss= tf.keras.losses.SparseCategoricalCrossentropy(),\n",
        "                metrics=['accuracy'])\n",
        "AlexNet_history_1 = AlexNet_model_1.fit(x_train, y_train_to20, epochs=50, batch_size=85,validation_data=(x_val, y_val_to20))"
      ]
    },
    {
      "cell_type": "code",
      "execution_count": null,
      "metadata": {
        "colab": {
          "base_uri": "https://localhost:8080/"
        },
        "id": "gHWCKu8mjZg5",
        "outputId": "67733ea3-84ac-49c2-8826-b008796cb50e"
      },
      "outputs": [
        {
          "name": "stdout",
          "output_type": "stream",
          "text": [
            "Epoch 1/50\n",
            "266/266 [==============================] - 11s 36ms/step - loss: 3.8030 - accuracy: 0.0518 - val_loss: 3.2573 - val_accuracy: 0.0440\n",
            "Epoch 2/50\n",
            "266/266 [==============================] - 9s 34ms/step - loss: 3.2001 - accuracy: 0.0494 - val_loss: 3.1342 - val_accuracy: 0.0500\n",
            "Epoch 3/50\n",
            "266/266 [==============================] - 9s 34ms/step - loss: 3.1492 - accuracy: 0.0485 - val_loss: 3.1022 - val_accuracy: 0.0507\n",
            "Epoch 4/50\n",
            "266/266 [==============================] - 9s 34ms/step - loss: 3.1204 - accuracy: 0.0512 - val_loss: 3.0552 - val_accuracy: 0.0513\n",
            "Epoch 5/50\n",
            "266/266 [==============================] - 9s 33ms/step - loss: 3.1040 - accuracy: 0.0522 - val_loss: 3.2094 - val_accuracy: 0.0533\n",
            "Epoch 6/50\n",
            "266/266 [==============================] - 9s 33ms/step - loss: 3.1071 - accuracy: 0.0464 - val_loss: 3.0509 - val_accuracy: 0.0440\n",
            "Epoch 7/50\n",
            "266/266 [==============================] - 9s 33ms/step - loss: 3.0910 - accuracy: 0.0479 - val_loss: 3.0894 - val_accuracy: 0.0467\n",
            "Epoch 8/50\n",
            "266/266 [==============================] - 9s 33ms/step - loss: 3.0878 - accuracy: 0.0466 - val_loss: 3.0451 - val_accuracy: 0.0467\n",
            "Epoch 9/50\n",
            "266/266 [==============================] - 9s 32ms/step - loss: 3.0815 - accuracy: 0.0474 - val_loss: 3.0560 - val_accuracy: 0.0533\n",
            "Epoch 10/50\n",
            "266/266 [==============================] - 9s 33ms/step - loss: 3.0739 - accuracy: 0.0471 - val_loss: 3.0266 - val_accuracy: 0.0593\n",
            "Epoch 11/50\n",
            "266/266 [==============================] - 9s 33ms/step - loss: 3.0765 - accuracy: 0.0481 - val_loss: 3.0767 - val_accuracy: 0.0453\n",
            "Epoch 12/50\n",
            "266/266 [==============================] - 9s 33ms/step - loss: 3.0690 - accuracy: 0.0545 - val_loss: 3.0580 - val_accuracy: 0.0567\n",
            "Epoch 13/50\n",
            "266/266 [==============================] - 9s 34ms/step - loss: 3.0615 - accuracy: 0.0487 - val_loss: 3.0302 - val_accuracy: 0.0407\n",
            "Epoch 14/50\n",
            "266/266 [==============================] - 9s 33ms/step - loss: 3.0461 - accuracy: 0.0566 - val_loss: 2.9565 - val_accuracy: 0.0687\n",
            "Epoch 15/50\n",
            "266/266 [==============================] - 9s 34ms/step - loss: 2.8659 - accuracy: 0.1131 - val_loss: 2.7749 - val_accuracy: 0.1427\n",
            "Epoch 16/50\n",
            "266/266 [==============================] - 9s 34ms/step - loss: 2.7332 - accuracy: 0.1549 - val_loss: 2.6127 - val_accuracy: 0.1720\n",
            "Epoch 17/50\n",
            "266/266 [==============================] - 9s 33ms/step - loss: 2.6800 - accuracy: 0.1635 - val_loss: 2.7188 - val_accuracy: 0.1447\n",
            "Epoch 18/50\n",
            "266/266 [==============================] - 9s 33ms/step - loss: 2.5777 - accuracy: 0.1949 - val_loss: 2.5727 - val_accuracy: 0.2127\n",
            "Epoch 19/50\n",
            "266/266 [==============================] - 9s 33ms/step - loss: 2.4956 - accuracy: 0.2272 - val_loss: 2.3940 - val_accuracy: 0.2560\n",
            "Epoch 20/50\n",
            "266/266 [==============================] - 9s 33ms/step - loss: 2.4093 - accuracy: 0.2531 - val_loss: 2.4132 - val_accuracy: 0.2620\n",
            "Epoch 21/50\n",
            "266/266 [==============================] - 9s 33ms/step - loss: 2.3566 - accuracy: 0.2716 - val_loss: 2.4176 - val_accuracy: 0.2720\n",
            "Epoch 22/50\n",
            "266/266 [==============================] - 9s 33ms/step - loss: 2.2903 - accuracy: 0.2872 - val_loss: 2.3676 - val_accuracy: 0.2780\n",
            "Epoch 23/50\n",
            "266/266 [==============================] - 9s 33ms/step - loss: 2.2355 - accuracy: 0.3081 - val_loss: 2.4288 - val_accuracy: 0.2453\n",
            "Epoch 24/50\n",
            "266/266 [==============================] - 10s 37ms/step - loss: 2.1818 - accuracy: 0.3236 - val_loss: 2.2609 - val_accuracy: 0.3093\n",
            "Epoch 25/50\n",
            "266/266 [==============================] - 9s 34ms/step - loss: 2.1381 - accuracy: 0.3409 - val_loss: 2.2024 - val_accuracy: 0.3427\n",
            "Epoch 26/50\n",
            "266/266 [==============================] - 9s 33ms/step - loss: 2.0876 - accuracy: 0.3542 - val_loss: 2.1398 - val_accuracy: 0.3273\n",
            "Epoch 27/50\n",
            "266/266 [==============================] - 9s 34ms/step - loss: 2.0516 - accuracy: 0.3656 - val_loss: 1.9825 - val_accuracy: 0.3720\n",
            "Epoch 28/50\n",
            "266/266 [==============================] - 9s 33ms/step - loss: 1.9900 - accuracy: 0.3828 - val_loss: 1.9809 - val_accuracy: 0.3807\n",
            "Epoch 29/50\n",
            "266/266 [==============================] - 9s 33ms/step - loss: 1.9598 - accuracy: 0.3858 - val_loss: 2.0387 - val_accuracy: 0.3447\n",
            "Epoch 30/50\n",
            "266/266 [==============================] - 9s 33ms/step - loss: 1.9104 - accuracy: 0.4088 - val_loss: 1.9594 - val_accuracy: 0.3820\n",
            "Epoch 31/50\n",
            "266/266 [==============================] - 9s 33ms/step - loss: 1.8739 - accuracy: 0.4111 - val_loss: 1.9030 - val_accuracy: 0.3940\n",
            "Epoch 32/50\n",
            "266/266 [==============================] - 9s 34ms/step - loss: 1.8399 - accuracy: 0.4265 - val_loss: 2.1256 - val_accuracy: 0.3680\n",
            "Epoch 33/50\n",
            "266/266 [==============================] - 9s 33ms/step - loss: 1.8071 - accuracy: 0.4364 - val_loss: 1.9118 - val_accuracy: 0.4227\n",
            "Epoch 34/50\n",
            "266/266 [==============================] - 9s 34ms/step - loss: 1.7351 - accuracy: 0.4554 - val_loss: 1.9210 - val_accuracy: 0.4300\n",
            "Epoch 35/50\n",
            "266/266 [==============================] - 10s 36ms/step - loss: 1.7177 - accuracy: 0.4680 - val_loss: 1.9364 - val_accuracy: 0.4140\n",
            "Epoch 36/50\n",
            "266/266 [==============================] - 9s 35ms/step - loss: 1.6504 - accuracy: 0.4785 - val_loss: 1.8833 - val_accuracy: 0.4067\n",
            "Epoch 37/50\n",
            "266/266 [==============================] - 9s 35ms/step - loss: 1.6105 - accuracy: 0.4940 - val_loss: 1.8231 - val_accuracy: 0.4467\n",
            "Epoch 38/50\n",
            "266/266 [==============================] - 9s 34ms/step - loss: 1.5707 - accuracy: 0.5056 - val_loss: 1.8314 - val_accuracy: 0.4387\n",
            "Epoch 39/50\n",
            "266/266 [==============================] - 9s 35ms/step - loss: 1.5219 - accuracy: 0.5160 - val_loss: 1.8307 - val_accuracy: 0.4693\n",
            "Epoch 40/50\n",
            "266/266 [==============================] - 9s 35ms/step - loss: 1.4566 - accuracy: 0.5392 - val_loss: 2.0592 - val_accuracy: 0.4093\n",
            "Epoch 41/50\n",
            "266/266 [==============================] - 9s 35ms/step - loss: 1.4199 - accuracy: 0.5506 - val_loss: 1.8227 - val_accuracy: 0.4907\n",
            "Epoch 42/50\n",
            "266/266 [==============================] - 9s 35ms/step - loss: 1.3626 - accuracy: 0.5715 - val_loss: 1.8230 - val_accuracy: 0.4760\n",
            "Epoch 43/50\n",
            "266/266 [==============================] - 9s 34ms/step - loss: 1.3160 - accuracy: 0.5793 - val_loss: 1.9155 - val_accuracy: 0.4540\n",
            "Epoch 44/50\n",
            "266/266 [==============================] - 9s 34ms/step - loss: 1.2271 - accuracy: 0.6069 - val_loss: 1.8900 - val_accuracy: 0.4633\n",
            "Epoch 45/50\n",
            "266/266 [==============================] - 9s 34ms/step - loss: 1.1826 - accuracy: 0.6165 - val_loss: 1.8708 - val_accuracy: 0.4760\n",
            "Epoch 46/50\n",
            "266/266 [==============================] - 9s 35ms/step - loss: 1.1370 - accuracy: 0.6298 - val_loss: 1.8167 - val_accuracy: 0.5053\n",
            "Epoch 47/50\n",
            "266/266 [==============================] - 10s 37ms/step - loss: 1.0838 - accuracy: 0.6551 - val_loss: 2.1998 - val_accuracy: 0.4520\n",
            "Epoch 48/50\n",
            "266/266 [==============================] - 10s 36ms/step - loss: 0.9928 - accuracy: 0.6839 - val_loss: 2.1477 - val_accuracy: 0.4520\n",
            "Epoch 49/50\n",
            "266/266 [==============================] - 9s 35ms/step - loss: 0.9369 - accuracy: 0.6988 - val_loss: 2.0350 - val_accuracy: 0.4847\n",
            "Epoch 50/50\n",
            "266/266 [==============================] - 9s 34ms/step - loss: 0.8970 - accuracy: 0.7128 - val_loss: 2.0747 - val_accuracy: 0.4940\n"
          ]
        }
      ],
      "source": [
        "AlexNet_model_2 = AlexNet()\n",
        "AlexNet_model_2.compile(optimizer='sgd', loss= tf.keras.losses.sparse_categorical_crossentropy, metrics=['accuracy'])\n",
        "AlexNet_history_2 = AlexNet_model_2.fit(x_train, y_train_to20, epochs=50 , validation_data=(x_val, y_val_to20))"
      ]
    },
    {
      "cell_type": "markdown",
      "metadata": {
        "id": "rKI_V64hYGre"
      },
      "source": [
        "#### VGG"
      ]
    },
    {
      "cell_type": "code",
      "execution_count": null,
      "metadata": {
        "colab": {
          "base_uri": "https://localhost:8080/"
        },
        "id": "forM1WijtquL",
        "outputId": "61087854-538f-49a2-8c94-f4ac19e18652"
      },
      "outputs": [
        {
          "name": "stdout",
          "output_type": "stream",
          "text": [
            "Epoch 1/50\n",
            "67/67 [==============================] - 5s 63ms/step - loss: 3.2320 - accuracy: 0.1467 - val_loss: 2.3251 - val_accuracy: 0.2960\n",
            "Epoch 2/50\n",
            "67/67 [==============================] - 4s 57ms/step - loss: 2.2453 - accuracy: 0.3148 - val_loss: 2.4081 - val_accuracy: 0.2620\n",
            "Epoch 3/50\n",
            "67/67 [==============================] - 4s 57ms/step - loss: 1.7576 - accuracy: 0.4666 - val_loss: 1.9044 - val_accuracy: 0.4353\n",
            "Epoch 4/50\n",
            "67/67 [==============================] - 4s 58ms/step - loss: 1.3538 - accuracy: 0.5874 - val_loss: 1.5313 - val_accuracy: 0.5507\n",
            "Epoch 5/50\n",
            "67/67 [==============================] - 4s 58ms/step - loss: 0.9313 - accuracy: 0.7106 - val_loss: 1.8361 - val_accuracy: 0.4780\n",
            "Epoch 6/50\n",
            "67/67 [==============================] - 4s 61ms/step - loss: 0.5617 - accuracy: 0.8281 - val_loss: 2.0149 - val_accuracy: 0.5053\n",
            "Epoch 7/50\n",
            "67/67 [==============================] - 4s 59ms/step - loss: 0.3834 - accuracy: 0.8968 - val_loss: 1.9639 - val_accuracy: 0.5473\n",
            "Epoch 8/50\n",
            "67/67 [==============================] - 4s 59ms/step - loss: 0.2109 - accuracy: 0.9345 - val_loss: 3.0329 - val_accuracy: 0.5187\n",
            "Epoch 9/50\n",
            "67/67 [==============================] - 4s 57ms/step - loss: 0.1712 - accuracy: 0.9518 - val_loss: 2.3657 - val_accuracy: 0.5573\n",
            "Epoch 10/50\n",
            "67/67 [==============================] - 4s 60ms/step - loss: 0.1380 - accuracy: 0.9639 - val_loss: 3.5260 - val_accuracy: 0.5180\n",
            "Epoch 11/50\n",
            "67/67 [==============================] - 4s 61ms/step - loss: 0.1510 - accuracy: 0.9622 - val_loss: 2.5689 - val_accuracy: 0.5907\n",
            "Epoch 12/50\n",
            "67/67 [==============================] - 4s 61ms/step - loss: 0.0937 - accuracy: 0.9732 - val_loss: 3.3106 - val_accuracy: 0.5013\n",
            "Epoch 13/50\n",
            "67/67 [==============================] - 4s 60ms/step - loss: 0.0862 - accuracy: 0.9755 - val_loss: 3.1245 - val_accuracy: 0.5673\n",
            "Epoch 14/50\n",
            "67/67 [==============================] - 4s 60ms/step - loss: 0.1021 - accuracy: 0.9731 - val_loss: 3.5925 - val_accuracy: 0.5567\n",
            "Epoch 15/50\n",
            "67/67 [==============================] - 4s 59ms/step - loss: 0.0904 - accuracy: 0.9796 - val_loss: 3.5315 - val_accuracy: 0.5567\n",
            "Epoch 16/50\n",
            "67/67 [==============================] - 4s 57ms/step - loss: 0.0816 - accuracy: 0.9796 - val_loss: 3.7947 - val_accuracy: 0.5487\n",
            "Epoch 17/50\n",
            "67/67 [==============================] - 4s 57ms/step - loss: 0.0849 - accuracy: 0.9787 - val_loss: 4.9068 - val_accuracy: 0.4740\n",
            "Epoch 18/50\n",
            "67/67 [==============================] - 4s 57ms/step - loss: 0.0784 - accuracy: 0.9813 - val_loss: 3.7499 - val_accuracy: 0.5760\n",
            "Epoch 19/50\n",
            "67/67 [==============================] - 4s 57ms/step - loss: 0.0788 - accuracy: 0.9820 - val_loss: 4.0264 - val_accuracy: 0.5653\n",
            "Epoch 20/50\n",
            "67/67 [==============================] - 4s 57ms/step - loss: 0.0782 - accuracy: 0.9819 - val_loss: 5.1669 - val_accuracy: 0.5413\n",
            "Epoch 21/50\n",
            "67/67 [==============================] - 4s 57ms/step - loss: 0.0604 - accuracy: 0.9874 - val_loss: 4.3750 - val_accuracy: 0.5547\n",
            "Epoch 22/50\n",
            "67/67 [==============================] - 4s 57ms/step - loss: 0.0669 - accuracy: 0.9849 - val_loss: 5.0017 - val_accuracy: 0.5427\n",
            "Epoch 23/50\n",
            "67/67 [==============================] - 4s 57ms/step - loss: 0.0608 - accuracy: 0.9860 - val_loss: 4.7335 - val_accuracy: 0.5540\n",
            "Epoch 24/50\n",
            "67/67 [==============================] - 4s 57ms/step - loss: 0.0713 - accuracy: 0.9851 - val_loss: 5.2041 - val_accuracy: 0.5653\n",
            "Epoch 25/50\n",
            "67/67 [==============================] - 4s 57ms/step - loss: 0.0849 - accuracy: 0.9825 - val_loss: 5.9358 - val_accuracy: 0.5553\n",
            "Epoch 26/50\n",
            "67/67 [==============================] - 4s 57ms/step - loss: 0.0560 - accuracy: 0.9888 - val_loss: 5.4248 - val_accuracy: 0.5600\n",
            "Epoch 27/50\n",
            "67/67 [==============================] - 4s 57ms/step - loss: 0.0661 - accuracy: 0.9859 - val_loss: 5.0560 - val_accuracy: 0.5473\n",
            "Epoch 28/50\n",
            "67/67 [==============================] - 4s 58ms/step - loss: 0.0592 - accuracy: 0.9874 - val_loss: 5.5465 - val_accuracy: 0.5713\n",
            "Epoch 29/50\n",
            "67/67 [==============================] - 4s 58ms/step - loss: 0.0813 - accuracy: 0.9871 - val_loss: 5.8812 - val_accuracy: 0.5633\n",
            "Epoch 30/50\n",
            "67/67 [==============================] - 4s 58ms/step - loss: 0.0785 - accuracy: 0.9867 - val_loss: 5.7940 - val_accuracy: 0.5580\n",
            "Epoch 31/50\n",
            "67/67 [==============================] - 4s 58ms/step - loss: 0.1994 - accuracy: 0.9780 - val_loss: 7.3365 - val_accuracy: 0.5547\n",
            "Epoch 32/50\n",
            "67/67 [==============================] - 4s 57ms/step - loss: 0.0785 - accuracy: 0.9881 - val_loss: 5.9681 - val_accuracy: 0.5467\n",
            "Epoch 33/50\n",
            "67/67 [==============================] - 4s 58ms/step - loss: 0.0723 - accuracy: 0.9866 - val_loss: 6.0065 - val_accuracy: 0.5620\n",
            "Epoch 34/50\n",
            "67/67 [==============================] - 4s 57ms/step - loss: 0.0596 - accuracy: 0.9887 - val_loss: 6.3286 - val_accuracy: 0.5373\n",
            "Epoch 35/50\n",
            "67/67 [==============================] - 4s 58ms/step - loss: 0.0621 - accuracy: 0.9891 - val_loss: 5.8950 - val_accuracy: 0.5613\n",
            "Epoch 36/50\n",
            "67/67 [==============================] - 4s 57ms/step - loss: 0.1004 - accuracy: 0.9848 - val_loss: 6.5528 - val_accuracy: 0.5573\n",
            "Epoch 37/50\n",
            "67/67 [==============================] - 4s 57ms/step - loss: 0.0658 - accuracy: 0.9889 - val_loss: 6.8213 - val_accuracy: 0.5213\n",
            "Epoch 38/50\n",
            "67/67 [==============================] - 4s 57ms/step - loss: 0.0699 - accuracy: 0.9876 - val_loss: 8.3845 - val_accuracy: 0.5413\n",
            "Epoch 39/50\n",
            "67/67 [==============================] - 4s 57ms/step - loss: 0.0908 - accuracy: 0.9896 - val_loss: 7.9423 - val_accuracy: 0.5507\n",
            "Epoch 40/50\n",
            "67/67 [==============================] - 4s 57ms/step - loss: 0.0747 - accuracy: 0.9881 - val_loss: 10.1330 - val_accuracy: 0.4960\n",
            "Epoch 41/50\n",
            "67/67 [==============================] - 4s 57ms/step - loss: 0.0937 - accuracy: 0.9868 - val_loss: 7.2064 - val_accuracy: 0.5420\n",
            "Epoch 42/50\n",
            "67/67 [==============================] - 4s 57ms/step - loss: 0.0775 - accuracy: 0.9878 - val_loss: 7.9340 - val_accuracy: 0.5113\n",
            "Epoch 43/50\n",
            "67/67 [==============================] - 4s 57ms/step - loss: 0.0913 - accuracy: 0.9872 - val_loss: 7.8343 - val_accuracy: 0.5433\n",
            "Epoch 44/50\n",
            "67/67 [==============================] - 4s 57ms/step - loss: 0.0781 - accuracy: 0.9898 - val_loss: 7.1167 - val_accuracy: 0.5547\n",
            "Epoch 45/50\n",
            "67/67 [==============================] - 4s 57ms/step - loss: 0.0705 - accuracy: 0.9906 - val_loss: 8.2764 - val_accuracy: 0.5453\n",
            "Epoch 46/50\n",
            "67/67 [==============================] - 4s 57ms/step - loss: 0.0690 - accuracy: 0.9892 - val_loss: 7.2745 - val_accuracy: 0.5553\n",
            "Epoch 47/50\n",
            "67/67 [==============================] - 4s 58ms/step - loss: 0.0727 - accuracy: 0.9884 - val_loss: 8.1513 - val_accuracy: 0.5647\n",
            "Epoch 48/50\n",
            "67/67 [==============================] - 4s 58ms/step - loss: 0.0964 - accuracy: 0.9885 - val_loss: 8.6235 - val_accuracy: 0.5473\n",
            "Epoch 49/50\n",
            "67/67 [==============================] - 4s 57ms/step - loss: 0.0662 - accuracy: 0.9898 - val_loss: 8.7924 - val_accuracy: 0.5500\n",
            "Epoch 50/50\n",
            "67/67 [==============================] - 4s 58ms/step - loss: 0.0792 - accuracy: 0.9895 - val_loss: 7.7378 - val_accuracy: 0.5360\n"
          ]
        }
      ],
      "source": [
        "VGG_model_1 = VGG()\n",
        "VGG_model_1.compile(optimizer='RMSprop',\n",
        "              loss=tf.keras.losses.SparseCategoricalCrossentropy(),\n",
        "              metrics=['accuracy'])\n",
        "\n",
        "VGG_history_1 = VGG_model_1.fit(x_train, y_train_to20, epochs=50, batch_size=128,\n",
        "                    validation_data=(x_val, y_val_to20))"
      ]
    },
    {
      "cell_type": "code",
      "execution_count": null,
      "metadata": {
        "colab": {
          "base_uri": "https://localhost:8080/"
        },
        "id": "AfjKu8uQts7D",
        "outputId": "a1a8e4ae-0837-488a-ba58-d501f32362ce"
      },
      "outputs": [
        {
          "name": "stdout",
          "output_type": "stream",
          "text": [
            "Epoch 1/50\n",
            "67/67 [==============================] - 3s 43ms/step - loss: 3.0867 - accuracy: 0.0836 - val_loss: 2.6204 - val_accuracy: 0.1827\n",
            "Epoch 2/50\n",
            "67/67 [==============================] - 3s 42ms/step - loss: 2.3747 - accuracy: 0.2574 - val_loss: 2.0986 - val_accuracy: 0.3720\n",
            "Epoch 3/50\n",
            "67/67 [==============================] - 3s 41ms/step - loss: 1.9426 - accuracy: 0.3962 - val_loss: 1.7524 - val_accuracy: 0.4427\n",
            "Epoch 4/50\n",
            "67/67 [==============================] - 3s 42ms/step - loss: 1.6106 - accuracy: 0.4954 - val_loss: 1.5818 - val_accuracy: 0.5053\n",
            "Epoch 5/50\n",
            "67/67 [==============================] - 3s 41ms/step - loss: 1.3374 - accuracy: 0.5859 - val_loss: 1.4895 - val_accuracy: 0.5567\n",
            "Epoch 6/50\n",
            "67/67 [==============================] - 3s 41ms/step - loss: 1.0311 - accuracy: 0.6744 - val_loss: 1.5347 - val_accuracy: 0.5407\n",
            "Epoch 7/50\n",
            "67/67 [==============================] - 3s 42ms/step - loss: 0.7653 - accuracy: 0.7566 - val_loss: 1.5775 - val_accuracy: 0.5587\n",
            "Epoch 8/50\n",
            "67/67 [==============================] - 3s 42ms/step - loss: 0.5448 - accuracy: 0.8306 - val_loss: 1.7505 - val_accuracy: 0.5413\n",
            "Epoch 9/50\n",
            "67/67 [==============================] - 3s 42ms/step - loss: 0.3675 - accuracy: 0.8845 - val_loss: 1.8950 - val_accuracy: 0.5607\n",
            "Epoch 10/50\n",
            "67/67 [==============================] - 3s 42ms/step - loss: 0.2485 - accuracy: 0.9225 - val_loss: 1.9737 - val_accuracy: 0.5680\n",
            "Epoch 11/50\n",
            "67/67 [==============================] - 3s 42ms/step - loss: 0.1896 - accuracy: 0.9434 - val_loss: 2.1102 - val_accuracy: 0.5673\n",
            "Epoch 12/50\n",
            "67/67 [==============================] - 3s 42ms/step - loss: 0.1434 - accuracy: 0.9559 - val_loss: 2.3253 - val_accuracy: 0.5633\n",
            "Epoch 13/50\n",
            "67/67 [==============================] - 3s 42ms/step - loss: 0.1506 - accuracy: 0.9535 - val_loss: 2.3353 - val_accuracy: 0.5427\n",
            "Epoch 14/50\n",
            "67/67 [==============================] - 3s 42ms/step - loss: 0.1499 - accuracy: 0.9552 - val_loss: 2.3627 - val_accuracy: 0.5460\n",
            "Epoch 15/50\n",
            "67/67 [==============================] - 3s 41ms/step - loss: 0.1035 - accuracy: 0.9696 - val_loss: 2.5219 - val_accuracy: 0.5653\n",
            "Epoch 16/50\n",
            "67/67 [==============================] - 3s 41ms/step - loss: 0.0738 - accuracy: 0.9758 - val_loss: 2.5203 - val_accuracy: 0.5527\n",
            "Epoch 17/50\n",
            "67/67 [==============================] - 3s 41ms/step - loss: 0.0864 - accuracy: 0.9751 - val_loss: 2.3495 - val_accuracy: 0.5660\n",
            "Epoch 18/50\n",
            "67/67 [==============================] - 3s 41ms/step - loss: 0.0821 - accuracy: 0.9762 - val_loss: 2.5466 - val_accuracy: 0.5573\n",
            "Epoch 19/50\n",
            "67/67 [==============================] - 3s 41ms/step - loss: 0.1023 - accuracy: 0.9705 - val_loss: 2.8032 - val_accuracy: 0.5413\n",
            "Epoch 20/50\n",
            "67/67 [==============================] - 3s 41ms/step - loss: 0.0688 - accuracy: 0.9775 - val_loss: 2.8284 - val_accuracy: 0.5393\n",
            "Epoch 21/50\n",
            "67/67 [==============================] - 3s 41ms/step - loss: 0.0676 - accuracy: 0.9809 - val_loss: 2.6979 - val_accuracy: 0.5493\n",
            "Epoch 22/50\n",
            "67/67 [==============================] - 3s 41ms/step - loss: 0.0682 - accuracy: 0.9820 - val_loss: 2.6417 - val_accuracy: 0.5647\n",
            "Epoch 23/50\n",
            "67/67 [==============================] - 3s 41ms/step - loss: 0.0642 - accuracy: 0.9826 - val_loss: 2.6607 - val_accuracy: 0.5500\n",
            "Epoch 24/50\n",
            "67/67 [==============================] - 3s 41ms/step - loss: 0.0675 - accuracy: 0.9801 - val_loss: 2.6858 - val_accuracy: 0.5513\n",
            "Epoch 25/50\n",
            "67/67 [==============================] - 3s 41ms/step - loss: 0.0590 - accuracy: 0.9829 - val_loss: 2.8075 - val_accuracy: 0.5580\n",
            "Epoch 26/50\n",
            "67/67 [==============================] - 3s 41ms/step - loss: 0.0636 - accuracy: 0.9826 - val_loss: 2.7987 - val_accuracy: 0.5547\n",
            "Epoch 27/50\n",
            "67/67 [==============================] - 3s 41ms/step - loss: 0.0418 - accuracy: 0.9872 - val_loss: 2.9707 - val_accuracy: 0.5513\n",
            "Epoch 28/50\n",
            "67/67 [==============================] - 3s 41ms/step - loss: 0.0485 - accuracy: 0.9862 - val_loss: 2.9028 - val_accuracy: 0.5467\n",
            "Epoch 29/50\n",
            "67/67 [==============================] - 3s 42ms/step - loss: 0.0347 - accuracy: 0.9884 - val_loss: 3.0339 - val_accuracy: 0.5447\n",
            "Epoch 30/50\n",
            "67/67 [==============================] - 3s 41ms/step - loss: 0.0569 - accuracy: 0.9827 - val_loss: 3.0585 - val_accuracy: 0.5440\n",
            "Epoch 31/50\n",
            "67/67 [==============================] - 3s 41ms/step - loss: 0.0650 - accuracy: 0.9812 - val_loss: 3.0191 - val_accuracy: 0.5273\n",
            "Epoch 32/50\n",
            "67/67 [==============================] - 3s 42ms/step - loss: 0.0665 - accuracy: 0.9812 - val_loss: 3.0376 - val_accuracy: 0.5373\n",
            "Epoch 33/50\n",
            "67/67 [==============================] - 3s 42ms/step - loss: 0.0587 - accuracy: 0.9836 - val_loss: 3.2433 - val_accuracy: 0.5233\n",
            "Epoch 34/50\n",
            "67/67 [==============================] - 3s 41ms/step - loss: 0.0555 - accuracy: 0.9864 - val_loss: 3.0827 - val_accuracy: 0.5153\n",
            "Epoch 35/50\n",
            "67/67 [==============================] - 3s 41ms/step - loss: 0.0522 - accuracy: 0.9853 - val_loss: 3.2488 - val_accuracy: 0.5320\n",
            "Epoch 36/50\n",
            "67/67 [==============================] - 3s 41ms/step - loss: 0.0426 - accuracy: 0.9878 - val_loss: 2.8478 - val_accuracy: 0.5633\n",
            "Epoch 37/50\n",
            "67/67 [==============================] - 3s 41ms/step - loss: 0.0233 - accuracy: 0.9924 - val_loss: 3.1634 - val_accuracy: 0.5500\n",
            "Epoch 38/50\n",
            "67/67 [==============================] - 3s 41ms/step - loss: 0.0468 - accuracy: 0.9867 - val_loss: 3.1272 - val_accuracy: 0.5367\n",
            "Epoch 39/50\n",
            "67/67 [==============================] - 3s 41ms/step - loss: 0.0369 - accuracy: 0.9904 - val_loss: 3.3000 - val_accuracy: 0.5367\n",
            "Epoch 40/50\n",
            "67/67 [==============================] - 3s 41ms/step - loss: 0.0394 - accuracy: 0.9878 - val_loss: 3.1094 - val_accuracy: 0.5433\n",
            "Epoch 41/50\n",
            "67/67 [==============================] - 3s 41ms/step - loss: 0.0499 - accuracy: 0.9855 - val_loss: 3.0538 - val_accuracy: 0.5527\n",
            "Epoch 42/50\n",
            "67/67 [==============================] - 3s 41ms/step - loss: 0.0349 - accuracy: 0.9901 - val_loss: 3.2953 - val_accuracy: 0.5407\n",
            "Epoch 43/50\n",
            "67/67 [==============================] - 3s 41ms/step - loss: 0.0441 - accuracy: 0.9885 - val_loss: 3.0432 - val_accuracy: 0.5500\n",
            "Epoch 44/50\n",
            "67/67 [==============================] - 3s 42ms/step - loss: 0.0446 - accuracy: 0.9869 - val_loss: 3.2166 - val_accuracy: 0.5367\n",
            "Epoch 45/50\n",
            "67/67 [==============================] - 3s 41ms/step - loss: 0.0351 - accuracy: 0.9900 - val_loss: 3.0402 - val_accuracy: 0.5533\n",
            "Epoch 46/50\n",
            "67/67 [==============================] - 3s 42ms/step - loss: 0.0300 - accuracy: 0.9914 - val_loss: 3.3138 - val_accuracy: 0.5433\n",
            "Epoch 47/50\n",
            "67/67 [==============================] - 3s 42ms/step - loss: 0.0236 - accuracy: 0.9922 - val_loss: 3.1385 - val_accuracy: 0.5667\n",
            "Epoch 48/50\n",
            "67/67 [==============================] - 3s 41ms/step - loss: 0.0360 - accuracy: 0.9884 - val_loss: 3.1555 - val_accuracy: 0.5540\n",
            "Epoch 49/50\n",
            "67/67 [==============================] - 3s 41ms/step - loss: 0.0414 - accuracy: 0.9885 - val_loss: 3.2720 - val_accuracy: 0.5420\n",
            "Epoch 50/50\n",
            "67/67 [==============================] - 3s 42ms/step - loss: 0.0332 - accuracy: 0.9919 - val_loss: 3.2936 - val_accuracy: 0.5460\n"
          ]
        }
      ],
      "source": [
        "VGG_model_2 = VGG()\n",
        "VGG_model_2.compile(optimizer='Adam',\n",
        "              loss=tf.keras.losses.sparse_categorical_crossentropy,\n",
        "              metrics=['accuracy'])\n",
        "\n",
        "VGG_history_2 = VGG_model_2.fit(x_train, y_train_to20, epochs=50, batch_size=128,\n",
        "                    validation_data=(x_val, y_val_to20))"
      ]
    },
    {
      "cell_type": "markdown",
      "metadata": {
        "id": "8ulZNwEPXhd0"
      },
      "source": [
        "#### MyCNN"
      ]
    },
    {
      "cell_type": "code",
      "execution_count": null,
      "metadata": {
        "colab": {
          "base_uri": "https://localhost:8080/"
        },
        "id": "PqLLuHMXX0lw",
        "outputId": "f7ec5a74-6b11-4a12-ff05-2fe5677358ca"
      },
      "outputs": [
        {
          "name": "stdout",
          "output_type": "stream",
          "text": [
            "Epoch 1/50\n",
            "67/67 [==============================] - 2s 25ms/step - loss: 2.5087 - accuracy: 0.2254 - val_loss: 2.1275 - val_accuracy: 0.3467\n",
            "Epoch 2/50\n",
            "67/67 [==============================] - 1s 22ms/step - loss: 1.9010 - accuracy: 0.4125 - val_loss: 1.8393 - val_accuracy: 0.4460\n",
            "Epoch 3/50\n",
            "67/67 [==============================] - 1s 22ms/step - loss: 1.5832 - accuracy: 0.5089 - val_loss: 1.6057 - val_accuracy: 0.5107\n",
            "Epoch 4/50\n",
            "67/67 [==============================] - 1s 22ms/step - loss: 1.2867 - accuracy: 0.5968 - val_loss: 1.5593 - val_accuracy: 0.5300\n",
            "Epoch 5/50\n",
            "67/67 [==============================] - 1s 21ms/step - loss: 1.0301 - accuracy: 0.6781 - val_loss: 1.5444 - val_accuracy: 0.5460\n",
            "Epoch 6/50\n",
            "67/67 [==============================] - 1s 22ms/step - loss: 0.7917 - accuracy: 0.7464 - val_loss: 1.5763 - val_accuracy: 0.5713\n",
            "Epoch 7/50\n",
            "67/67 [==============================] - 1s 22ms/step - loss: 0.5322 - accuracy: 0.8298 - val_loss: 1.6394 - val_accuracy: 0.5713\n",
            "Epoch 8/50\n",
            "67/67 [==============================] - 1s 21ms/step - loss: 0.3650 - accuracy: 0.8838 - val_loss: 2.0040 - val_accuracy: 0.5613\n",
            "Epoch 9/50\n",
            "67/67 [==============================] - 2s 23ms/step - loss: 0.2097 - accuracy: 0.9333 - val_loss: 2.1739 - val_accuracy: 0.5687\n",
            "Epoch 10/50\n",
            "67/67 [==============================] - 1s 22ms/step - loss: 0.1247 - accuracy: 0.9612 - val_loss: 2.3367 - val_accuracy: 0.5733\n",
            "Epoch 11/50\n",
            "67/67 [==============================] - 1s 21ms/step - loss: 0.0855 - accuracy: 0.9746 - val_loss: 2.4521 - val_accuracy: 0.5880\n",
            "Epoch 12/50\n",
            "67/67 [==============================] - 2s 23ms/step - loss: 0.0686 - accuracy: 0.9795 - val_loss: 2.6157 - val_accuracy: 0.5760\n",
            "Epoch 13/50\n",
            "67/67 [==============================] - 1s 22ms/step - loss: 0.0551 - accuracy: 0.9848 - val_loss: 2.7811 - val_accuracy: 0.5753\n",
            "Epoch 14/50\n",
            "67/67 [==============================] - 1s 22ms/step - loss: 0.0314 - accuracy: 0.9909 - val_loss: 2.8279 - val_accuracy: 0.5827\n",
            "Epoch 15/50\n",
            "67/67 [==============================] - 2s 23ms/step - loss: 0.0461 - accuracy: 0.9854 - val_loss: 2.9573 - val_accuracy: 0.5793\n",
            "Epoch 16/50\n",
            "67/67 [==============================] - 1s 22ms/step - loss: 0.0437 - accuracy: 0.9876 - val_loss: 2.9758 - val_accuracy: 0.5707\n",
            "Epoch 17/50\n",
            "67/67 [==============================] - 1s 22ms/step - loss: 0.0449 - accuracy: 0.9878 - val_loss: 3.0235 - val_accuracy: 0.5853\n",
            "Epoch 18/50\n",
            "67/67 [==============================] - 2s 23ms/step - loss: 0.0328 - accuracy: 0.9908 - val_loss: 3.1654 - val_accuracy: 0.5713\n",
            "Epoch 19/50\n",
            "67/67 [==============================] - 1s 22ms/step - loss: 0.0615 - accuracy: 0.9811 - val_loss: 3.1188 - val_accuracy: 0.5687\n",
            "Epoch 20/50\n",
            "67/67 [==============================] - 1s 22ms/step - loss: 0.0725 - accuracy: 0.9782 - val_loss: 2.9499 - val_accuracy: 0.5627\n",
            "Epoch 21/50\n",
            "67/67 [==============================] - 2s 24ms/step - loss: 0.0375 - accuracy: 0.9895 - val_loss: 2.9913 - val_accuracy: 0.5967\n",
            "Epoch 22/50\n",
            "67/67 [==============================] - 2s 23ms/step - loss: 0.0139 - accuracy: 0.9965 - val_loss: 3.3221 - val_accuracy: 0.6073\n",
            "Epoch 23/50\n",
            "67/67 [==============================] - 2s 24ms/step - loss: 0.0124 - accuracy: 0.9961 - val_loss: 3.6666 - val_accuracy: 0.5913\n",
            "Epoch 24/50\n",
            "67/67 [==============================] - 2s 27ms/step - loss: 0.0332 - accuracy: 0.9894 - val_loss: 3.4783 - val_accuracy: 0.5773\n",
            "Epoch 25/50\n",
            "67/67 [==============================] - 2s 22ms/step - loss: 0.0371 - accuracy: 0.9887 - val_loss: 3.4579 - val_accuracy: 0.5680\n",
            "Epoch 26/50\n",
            "67/67 [==============================] - 1s 22ms/step - loss: 0.0455 - accuracy: 0.9867 - val_loss: 3.3917 - val_accuracy: 0.5707\n",
            "Epoch 27/50\n",
            "67/67 [==============================] - 1s 21ms/step - loss: 0.0479 - accuracy: 0.9851 - val_loss: 3.2065 - val_accuracy: 0.5713\n",
            "Epoch 28/50\n",
            "67/67 [==============================] - 1s 22ms/step - loss: 0.0301 - accuracy: 0.9920 - val_loss: 3.4437 - val_accuracy: 0.5887\n",
            "Epoch 29/50\n",
            "67/67 [==============================] - 1s 22ms/step - loss: 0.0211 - accuracy: 0.9934 - val_loss: 3.4222 - val_accuracy: 0.5720\n",
            "Epoch 30/50\n",
            "67/67 [==============================] - 1s 22ms/step - loss: 0.0195 - accuracy: 0.9952 - val_loss: 3.4112 - val_accuracy: 0.5767\n",
            "Epoch 31/50\n",
            "67/67 [==============================] - 1s 22ms/step - loss: 0.0545 - accuracy: 0.9844 - val_loss: 3.1695 - val_accuracy: 0.5607\n",
            "Epoch 32/50\n",
            "67/67 [==============================] - 1s 22ms/step - loss: 0.0358 - accuracy: 0.9886 - val_loss: 3.3867 - val_accuracy: 0.5900\n",
            "Epoch 33/50\n",
            "67/67 [==============================] - 1s 21ms/step - loss: 0.0145 - accuracy: 0.9958 - val_loss: 3.4466 - val_accuracy: 0.5953\n",
            "Epoch 34/50\n",
            "67/67 [==============================] - 2s 23ms/step - loss: 0.0061 - accuracy: 0.9980 - val_loss: 3.6174 - val_accuracy: 0.5787\n",
            "Epoch 35/50\n",
            "67/67 [==============================] - 2s 26ms/step - loss: 0.0193 - accuracy: 0.9948 - val_loss: 3.2436 - val_accuracy: 0.5773\n",
            "Epoch 36/50\n",
            "67/67 [==============================] - 2s 32ms/step - loss: 0.0125 - accuracy: 0.9968 - val_loss: 3.5764 - val_accuracy: 0.5740\n",
            "Epoch 37/50\n",
            "67/67 [==============================] - 2s 33ms/step - loss: 0.0094 - accuracy: 0.9973 - val_loss: 3.5562 - val_accuracy: 0.5773\n",
            "Epoch 38/50\n",
            "67/67 [==============================] - 2s 31ms/step - loss: 0.0161 - accuracy: 0.9969 - val_loss: 3.4616 - val_accuracy: 0.5827\n",
            "Epoch 39/50\n",
            "67/67 [==============================] - 2s 24ms/step - loss: 0.0233 - accuracy: 0.9940 - val_loss: 3.9054 - val_accuracy: 0.5753\n",
            "Epoch 40/50\n",
            "67/67 [==============================] - 2s 24ms/step - loss: 0.0984 - accuracy: 0.9708 - val_loss: 3.4416 - val_accuracy: 0.5593\n",
            "Epoch 41/50\n",
            "67/67 [==============================] - 2s 22ms/step - loss: 0.0637 - accuracy: 0.9796 - val_loss: 3.3585 - val_accuracy: 0.5627\n",
            "Epoch 42/50\n",
            "67/67 [==============================] - 2s 25ms/step - loss: 0.0365 - accuracy: 0.9899 - val_loss: 3.3580 - val_accuracy: 0.5880\n",
            "Epoch 43/50\n",
            "67/67 [==============================] - 2s 23ms/step - loss: 0.0171 - accuracy: 0.9944 - val_loss: 3.7234 - val_accuracy: 0.5720\n",
            "Epoch 44/50\n",
            "67/67 [==============================] - 2s 25ms/step - loss: 0.0186 - accuracy: 0.9944 - val_loss: 3.8498 - val_accuracy: 0.5667\n",
            "Epoch 45/50\n",
            "67/67 [==============================] - 2s 24ms/step - loss: 0.0205 - accuracy: 0.9947 - val_loss: 3.8015 - val_accuracy: 0.5727\n",
            "Epoch 46/50\n",
            "67/67 [==============================] - 1s 22ms/step - loss: 0.0142 - accuracy: 0.9955 - val_loss: 3.7198 - val_accuracy: 0.5787\n",
            "Epoch 47/50\n",
            "67/67 [==============================] - 1s 22ms/step - loss: 0.0309 - accuracy: 0.9905 - val_loss: 3.8225 - val_accuracy: 0.5620\n",
            "Epoch 48/50\n",
            "67/67 [==============================] - 1s 22ms/step - loss: 0.0399 - accuracy: 0.9887 - val_loss: 3.5989 - val_accuracy: 0.5760\n",
            "Epoch 49/50\n",
            "67/67 [==============================] - 1s 22ms/step - loss: 0.0310 - accuracy: 0.9902 - val_loss: 3.5354 - val_accuracy: 0.5747\n",
            "Epoch 50/50\n",
            "67/67 [==============================] - 2s 23ms/step - loss: 0.0210 - accuracy: 0.9945 - val_loss: 3.7216 - val_accuracy: 0.5693\n"
          ]
        }
      ],
      "source": [
        "MyCnn_model_1.compile(optimizer='Adam',\n",
        "              loss=tf.keras.losses.SparseCategoricalCrossentropy(from_logits=True),\n",
        "              metrics=['accuracy'])\n",
        "MyCnn_history_1 = MyCnn_model_1.fit(x_train, y_train_to20, epochs=50, batch_size=128,\n",
        "                    validation_data=(x_val, y_val_to20))"
      ]
    },
    {
      "cell_type": "code",
      "execution_count": null,
      "metadata": {
        "colab": {
          "base_uri": "https://localhost:8080/"
        },
        "id": "3Y6mxL8lZaU0",
        "outputId": "a04604eb-9007-4b78-bbbf-749e054f5550"
      },
      "outputs": [
        {
          "name": "stdout",
          "output_type": "stream",
          "text": [
            "Epoch 1/50\n",
            "133/133 [==============================] - 4s 22ms/step - loss: 2.5559 - accuracy: 0.2172 - val_loss: 2.0272 - val_accuracy: 0.3827\n",
            "Epoch 2/50\n",
            "133/133 [==============================] - 2s 17ms/step - loss: 1.9242 - accuracy: 0.3991 - val_loss: 1.7619 - val_accuracy: 0.4473\n",
            "Epoch 3/50\n",
            "133/133 [==============================] - 2s 15ms/step - loss: 1.5345 - accuracy: 0.5235 - val_loss: 1.7554 - val_accuracy: 0.4800\n",
            "Epoch 4/50\n",
            "133/133 [==============================] - 2s 15ms/step - loss: 1.2293 - accuracy: 0.6174 - val_loss: 1.4415 - val_accuracy: 0.5673\n",
            "Epoch 5/50\n",
            "133/133 [==============================] - 2s 17ms/step - loss: 0.9338 - accuracy: 0.7009 - val_loss: 1.5042 - val_accuracy: 0.5713\n",
            "Epoch 6/50\n",
            "133/133 [==============================] - 2s 13ms/step - loss: 0.6318 - accuracy: 0.8011 - val_loss: 1.4449 - val_accuracy: 0.5973\n",
            "Epoch 7/50\n",
            "133/133 [==============================] - 2s 14ms/step - loss: 0.3902 - accuracy: 0.8722 - val_loss: 1.6379 - val_accuracy: 0.6280\n",
            "Epoch 8/50\n",
            "133/133 [==============================] - 2s 14ms/step - loss: 0.2329 - accuracy: 0.9287 - val_loss: 2.1756 - val_accuracy: 0.5727\n",
            "Epoch 9/50\n",
            "133/133 [==============================] - 2s 14ms/step - loss: 0.1717 - accuracy: 0.9499 - val_loss: 2.3270 - val_accuracy: 0.5687\n",
            "Epoch 10/50\n",
            "133/133 [==============================] - 2s 13ms/step - loss: 0.1166 - accuracy: 0.9676 - val_loss: 2.1920 - val_accuracy: 0.5993\n",
            "Epoch 11/50\n",
            "133/133 [==============================] - 2s 14ms/step - loss: 0.1003 - accuracy: 0.9687 - val_loss: 3.1602 - val_accuracy: 0.5840\n",
            "Epoch 12/50\n",
            "133/133 [==============================] - 2s 14ms/step - loss: 0.0903 - accuracy: 0.9739 - val_loss: 2.7933 - val_accuracy: 0.6073\n",
            "Epoch 13/50\n",
            "133/133 [==============================] - 2s 14ms/step - loss: 0.0766 - accuracy: 0.9765 - val_loss: 2.9496 - val_accuracy: 0.6193\n",
            "Epoch 14/50\n",
            "133/133 [==============================] - 2s 14ms/step - loss: 0.0779 - accuracy: 0.9805 - val_loss: 3.2648 - val_accuracy: 0.5753\n",
            "Epoch 15/50\n",
            "133/133 [==============================] - 2s 14ms/step - loss: 0.0793 - accuracy: 0.9776 - val_loss: 3.2259 - val_accuracy: 0.6060\n",
            "Epoch 16/50\n",
            "133/133 [==============================] - 2s 16ms/step - loss: 0.0643 - accuracy: 0.9834 - val_loss: 3.4755 - val_accuracy: 0.5927\n",
            "Epoch 17/50\n",
            "133/133 [==============================] - 2s 14ms/step - loss: 0.0626 - accuracy: 0.9828 - val_loss: 3.2541 - val_accuracy: 0.5973\n",
            "Epoch 18/50\n",
            "133/133 [==============================] - 2s 14ms/step - loss: 0.0538 - accuracy: 0.9854 - val_loss: 3.8278 - val_accuracy: 0.5773\n",
            "Epoch 19/50\n",
            "133/133 [==============================] - 2s 14ms/step - loss: 0.0585 - accuracy: 0.9828 - val_loss: 4.1019 - val_accuracy: 0.5893\n",
            "Epoch 20/50\n",
            "133/133 [==============================] - 2s 14ms/step - loss: 0.0566 - accuracy: 0.9841 - val_loss: 4.1737 - val_accuracy: 0.5913\n",
            "Epoch 21/50\n",
            "133/133 [==============================] - 2s 14ms/step - loss: 0.0497 - accuracy: 0.9874 - val_loss: 3.7107 - val_accuracy: 0.5953\n",
            "Epoch 22/50\n",
            "133/133 [==============================] - 2s 14ms/step - loss: 0.0513 - accuracy: 0.9852 - val_loss: 4.0310 - val_accuracy: 0.6087\n",
            "Epoch 23/50\n",
            "133/133 [==============================] - 2s 17ms/step - loss: 0.0500 - accuracy: 0.9868 - val_loss: 4.0631 - val_accuracy: 0.5927\n",
            "Epoch 24/50\n",
            "133/133 [==============================] - 3s 19ms/step - loss: 0.0489 - accuracy: 0.9876 - val_loss: 4.2158 - val_accuracy: 0.5800\n",
            "Epoch 25/50\n",
            "133/133 [==============================] - 2s 18ms/step - loss: 0.0526 - accuracy: 0.9872 - val_loss: 4.4463 - val_accuracy: 0.5933\n",
            "Epoch 26/50\n",
            "133/133 [==============================] - 3s 22ms/step - loss: 0.0540 - accuracy: 0.9882 - val_loss: 4.5588 - val_accuracy: 0.6020\n",
            "Epoch 27/50\n",
            "133/133 [==============================] - 2s 18ms/step - loss: 0.0440 - accuracy: 0.9885 - val_loss: 5.5615 - val_accuracy: 0.5947\n",
            "Epoch 28/50\n",
            "133/133 [==============================] - 2s 17ms/step - loss: 0.0442 - accuracy: 0.9872 - val_loss: 5.5653 - val_accuracy: 0.5760\n",
            "Epoch 29/50\n",
            "133/133 [==============================] - 2s 17ms/step - loss: 0.0523 - accuracy: 0.9885 - val_loss: 5.6347 - val_accuracy: 0.5980\n",
            "Epoch 30/50\n",
            "133/133 [==============================] - 2s 13ms/step - loss: 0.0466 - accuracy: 0.9901 - val_loss: 5.4842 - val_accuracy: 0.5947\n",
            "Epoch 31/50\n",
            "133/133 [==============================] - 2s 13ms/step - loss: 0.0508 - accuracy: 0.9884 - val_loss: 5.1836 - val_accuracy: 0.5907\n",
            "Epoch 32/50\n",
            "133/133 [==============================] - 2s 13ms/step - loss: 0.0531 - accuracy: 0.9889 - val_loss: 5.0783 - val_accuracy: 0.5940\n",
            "Epoch 33/50\n",
            "133/133 [==============================] - 2s 13ms/step - loss: 0.0503 - accuracy: 0.9886 - val_loss: 7.0709 - val_accuracy: 0.5820\n",
            "Epoch 34/50\n",
            "133/133 [==============================] - 2s 13ms/step - loss: 0.0586 - accuracy: 0.9874 - val_loss: 6.7355 - val_accuracy: 0.5967\n",
            "Epoch 35/50\n",
            "133/133 [==============================] - 2s 13ms/step - loss: 0.0457 - accuracy: 0.9915 - val_loss: 7.1996 - val_accuracy: 0.5667\n",
            "Epoch 36/50\n",
            "133/133 [==============================] - 2s 13ms/step - loss: 0.0402 - accuracy: 0.9902 - val_loss: 7.5310 - val_accuracy: 0.5633\n",
            "Epoch 37/50\n",
            "133/133 [==============================] - 2s 13ms/step - loss: 0.0570 - accuracy: 0.9892 - val_loss: 6.4713 - val_accuracy: 0.6153\n",
            "Epoch 38/50\n",
            "133/133 [==============================] - 2s 13ms/step - loss: 0.0444 - accuracy: 0.9898 - val_loss: 6.6169 - val_accuracy: 0.5967\n",
            "Epoch 39/50\n",
            "133/133 [==============================] - 2s 13ms/step - loss: 0.0506 - accuracy: 0.9909 - val_loss: 6.4271 - val_accuracy: 0.6013\n",
            "Epoch 40/50\n",
            "133/133 [==============================] - 2s 13ms/step - loss: 0.0498 - accuracy: 0.9906 - val_loss: 6.2481 - val_accuracy: 0.5820\n",
            "Epoch 41/50\n",
            "133/133 [==============================] - 2s 13ms/step - loss: 0.0377 - accuracy: 0.9927 - val_loss: 7.8109 - val_accuracy: 0.5893\n",
            "Epoch 42/50\n",
            "133/133 [==============================] - 2s 13ms/step - loss: 0.0400 - accuracy: 0.9916 - val_loss: 6.0965 - val_accuracy: 0.5873\n",
            "Epoch 43/50\n",
            "133/133 [==============================] - 2s 13ms/step - loss: 0.0341 - accuracy: 0.9924 - val_loss: 7.7037 - val_accuracy: 0.5833\n",
            "Epoch 44/50\n",
            "133/133 [==============================] - 2s 13ms/step - loss: 0.0601 - accuracy: 0.9909 - val_loss: 7.6334 - val_accuracy: 0.6087\n",
            "Epoch 45/50\n",
            "133/133 [==============================] - 2s 13ms/step - loss: 0.0590 - accuracy: 0.9899 - val_loss: 7.2706 - val_accuracy: 0.5987\n",
            "Epoch 46/50\n",
            "133/133 [==============================] - 2s 13ms/step - loss: 0.0442 - accuracy: 0.9913 - val_loss: 7.6704 - val_accuracy: 0.5700\n",
            "Epoch 47/50\n",
            "133/133 [==============================] - 2s 13ms/step - loss: 0.0394 - accuracy: 0.9933 - val_loss: 8.3855 - val_accuracy: 0.5907\n",
            "Epoch 48/50\n",
            "133/133 [==============================] - 2s 13ms/step - loss: 0.0652 - accuracy: 0.9887 - val_loss: 7.4500 - val_accuracy: 0.5947\n",
            "Epoch 49/50\n",
            "133/133 [==============================] - 2s 13ms/step - loss: 0.0382 - accuracy: 0.9927 - val_loss: 7.5531 - val_accuracy: 0.5907\n",
            "Epoch 50/50\n",
            "133/133 [==============================] - 2s 13ms/step - loss: 0.0404 - accuracy: 0.9918 - val_loss: 7.1010 - val_accuracy: 0.5887\n"
          ]
        }
      ],
      "source": [
        "MyCnn_model_2.compile(optimizer='RMSprop',\n",
        "              loss=tf.keras.losses.SparseCategoricalCrossentropy(from_logits=True),\n",
        "              metrics=['accuracy'])\n",
        "MyCnn_history_2 = MyCnn_model_2.fit(x_train, y_train_to20, epochs=50, batch_size=64,\n",
        "                    validation_data=(x_val, y_val_to20))"
      ]
    },
    {
      "cell_type": "markdown",
      "metadata": {
        "id": "xE_I_I1vjZg6"
      },
      "source": [
        "  \n",
        "### Βήμα 2: Αξιολόγηση των μοντέλων\n",
        "\n",
        "1. Για κάθε ένα από τα μοντέλα που εκπαιδεύσατε, απεικονίστε σε κοινό διάγραμμα την ορθότητα εκπαίδευσης και την ορθότητα επικύρωσης στο σύνολο των εποχών, για κάθε διαφορετικό συνδυασμό του βήματος 1 και επιλέξτε αυτό με την καλύτερη ορθότητα από κάθε μοντέλο (ένα από κάθε αρχιτεκτονική, συνολικά 4).\n",
        "2. Για κάθε ένα από τα μοντέλα με την καλύτερη ορθότητα (συνολικά **4**), απεικονίστε σε κοινό διάγραμμα την ορθότητα εκπαίδευσης και την ορθότητα επικύρωσης στο σύνολο των εποχών.\n",
        "3. Αξιολογήστε, αναλυτικά, τα αποτελέσματά σας ως προς τα εξής:\n",
        " - Επίδραση του πλήθους των δεδομένων/κλάσεων στην απόδοση του μοντέλου\n",
        " - Επίδραση του αλγόριθμου βελτιστοποίησης (optimizer)\n",
        " - Επίδραση του μεγέθους δέσμης (batch size)\n",
        " \n",
        "---\n",
        "\n",
        "\n"
      ]
    },
    {
      "cell_type": "markdown",
      "metadata": {
        "id": "y9W1gqcPmkaH"
      },
      "source": [
        "#### Βοηθητικές Συναρτήσεις"
      ]
    },
    {
      "cell_type": "code",
      "execution_count": 29,
      "metadata": {
        "id": "JN4qttCbjZg4"
      },
      "outputs": [],
      "source": [
        "# print graph \n",
        "def print_graph(history, model):\n",
        "    fig = plt.figure()\n",
        "    plt.plot(history.history['accuracy'], label='accuracy')\n",
        "    plt.plot(history.history['val_accuracy'], label = 'val_accuracy')\n",
        "    plt.xlabel('Epoch')\n",
        "    plt.ylabel('Accuracy')\n",
        "    plt.ylim([0, 1])\n",
        "    plt.legend(loc='lower right')\n",
        "    test_loss, test_acc = model.evaluate(x_test,  y_test_to20, verbose=2)\n",
        "    plt.show()\n",
        "def print_2_arch_together(history1, history2, name1, name2):\n",
        "  fig = plt.figure()\n",
        "  plt.plot(history1.history['accuracy'], label=name1+' accuracy')\n",
        "  plt.plot(history1.history['val_accuracy'], label = name1+' val_accuracy')\n",
        "  plt.plot(history2.history['accuracy'], label=name2+' accuracy')\n",
        "  plt.plot(history2.history['val_accuracy'], label = name2+' val_accuracy')\n",
        "  plt.xlabel('Epoch')\n",
        "  plt.ylabel('Accuracy')\n",
        "  plt.ylim([0, 1])\n",
        "  plt.legend(loc='lower right')\n",
        "  plt.show()\n",
        "def print_all_in_same_plot(mylist):\n",
        "  fig = plt.figure()\n",
        "  for (hist,name) in mylist:\n",
        "    plt.plot(hist.history['accuracy'], label=name+\" accuracy\")\n",
        "    plt.plot(hist.history['val_accuracy'], label= name+\" val_accuracy\")\n",
        "  plt.xlabel('Epoch')\n",
        "  plt.ylabel('Accuracy')\n",
        "  plt.ylim([0, 1])\n",
        "  plt.legend(loc='lower right')\n",
        "  plt.show()\n",
        "list_of_best_histAndname=[]\n"
      ]
    },
    {
      "cell_type": "markdown",
      "metadata": {
        "id": "kOMNfE4LZxMh"
      },
      "source": [
        "#### LeNet"
      ]
    },
    {
      "cell_type": "code",
      "execution_count": null,
      "metadata": {
        "colab": {
          "base_uri": "https://localhost:8080/",
          "height": 300
        },
        "id": "mVQIdyucSl81",
        "outputId": "ce66eb80-a705-4ddf-bc38-1dcaa74c20ea"
      },
      "outputs": [
        {
          "name": "stdout",
          "output_type": "stream",
          "text": [
            "63/63 - 0s - loss: 2.0268 - accuracy: 0.4510 - 173ms/epoch - 3ms/step\n"
          ]
        },
        {
          "data": {
            "image/png": "[encoded data removed]",
            "text/plain": [
              "<Figure size 432x288 with 1 Axes>"
            ]
          },
          "metadata": {
            "needs_background": "light"
          },
          "output_type": "display_data"
        }
      ],
      "source": [
        "# LeNet 1\n",
        "\n",
        "LeNet_model_1.save('LeNet_model_1.h5')\n",
        "print_graph(LeNet_history_1, LeNet_model_1)"
      ]
    },
    {
      "cell_type": "code",
      "execution_count": null,
      "metadata": {
        "colab": {
          "base_uri": "https://localhost:8080/",
          "height": 300
        },
        "id": "9CSvALXASdYV",
        "outputId": "7d5047d3-85a7-4bf9-a12b-b2114efe1391"
      },
      "outputs": [
        {
          "name": "stdout",
          "output_type": "stream",
          "text": [
            "63/63 - 0s - loss: 1.8664 - accuracy: 0.4155 - 148ms/epoch - 2ms/step\n"
          ]
        },
        {
          "data": {
            "image/png": "[encoded data removed]",
            "text/plain": [
              "<Figure size 432x288 with 1 Axes>"
            ]
          },
          "metadata": {
            "needs_background": "light"
          },
          "output_type": "display_data"
        }
      ],
      "source": [
        "# LeNet 2\n",
        "\n",
        "LeNet_model_2.save('LeNet_model_2.h5')\n",
        "print_graph(LeNet_history_2, LeNet_model_2)"
      ]
    },
    {
      "cell_type": "code",
      "execution_count": null,
      "metadata": {
        "colab": {
          "base_uri": "https://localhost:8080/",
          "height": 283
        },
        "id": "SFkeToRJi3te",
        "outputId": "7f67891a-f7d9-45f6-c116-1624727c8c52"
      },
      "outputs": [
        {
          "data": {
            "image/png": "[encoded data removed]",
            "text/plain": [
              "<Figure size 432x288 with 1 Axes>"
            ]
          },
          "metadata": {
            "needs_background": "light"
          },
          "output_type": "display_data"
        }
      ],
      "source": [
        "print_2_arch_together(LeNet_history_1, LeNet_history_2, \"LeNet1\", \"LeNet2\")"
      ]
    },
    {
      "cell_type": "markdown",
      "metadata": {
        "id": "qiFjHoSWdIUQ"
      },
      "source": [
        "Με βάση τα διαγράμματα παρατηρούμε μεγαλύτερη ακρίβεια στην 1η υλοποίηση, την οποία και επιλέγουμε."
      ]
    },
    {
      "cell_type": "code",
      "execution_count": null,
      "metadata": {
        "id": "__abZ9gApsiW"
      },
      "outputs": [],
      "source": [
        "list_of_best_histAndname.append((LeNet_history_1,'LeNet with RMSprop'))"
      ]
    },
    {
      "cell_type": "markdown",
      "metadata": {
        "id": "NSrwcYtVZ0SB"
      },
      "source": [
        "#### AlexNet"
      ]
    },
    {
      "cell_type": "code",
      "execution_count": null,
      "metadata": {
        "colab": {
          "base_uri": "https://localhost:8080/",
          "height": 300
        },
        "id": "vMqbpRUHRuQZ",
        "outputId": "78002cb0-78ab-4e43-bbef-c983790d511f"
      },
      "outputs": [
        {
          "name": "stdout",
          "output_type": "stream",
          "text": [
            "63/63 - 1s - loss: 3.2829 - accuracy: 0.0500 - 900ms/epoch - 14ms/step\n"
          ]
        },
        {
          "data": {
            "image/png": "[encoded data removed]",
            "text/plain": [
              "<Figure size 432x288 with 1 Axes>"
            ]
          },
          "metadata": {
            "needs_background": "light"
          },
          "output_type": "display_data"
        }
      ],
      "source": [
        "# AlexNet\n",
        "AlexNet_model_1.save('AlexNet_model_1.h5')\n",
        "print_graph(AlexNet_history_1, AlexNet_model_1)"
      ]
    },
    {
      "cell_type": "code",
      "execution_count": null,
      "metadata": {
        "colab": {
          "base_uri": "https://localhost:8080/",
          "height": 300
        },
        "id": "E09Dc67XSzSe",
        "outputId": "b4127a04-fa92-4070-8e85-0b8ffefa96e4"
      },
      "outputs": [
        {
          "name": "stdout",
          "output_type": "stream",
          "text": [
            "63/63 - 1s - loss: 2.0622 - accuracy: 0.4970 - 781ms/epoch - 12ms/step\n"
          ]
        },
        {
          "data": {
            "image/png": "[encoded data removed]",
            "text/plain": [
              "<Figure size 432x288 with 1 Axes>"
            ]
          },
          "metadata": {
            "needs_background": "light"
          },
          "output_type": "display_data"
        }
      ],
      "source": [
        "#AlexNet 2\n",
        "\n",
        "AlexNet_model_2.save('AlexNet_model_2.h5')\n",
        "print_graph(AlexNet_history_2, AlexNet_model_2)"
      ]
    },
    {
      "cell_type": "code",
      "execution_count": null,
      "metadata": {
        "colab": {
          "base_uri": "https://localhost:8080/",
          "height": 283
        },
        "id": "dw1pnK_KcnWf",
        "outputId": "14c38dc9-2eea-4a22-e349-460ca401fe7f"
      },
      "outputs": [
        {
          "data": {
            "image/png": "[encoded data removed]",
            "text/plain": [
              "<Figure size 432x288 with 1 Axes>"
            ]
          },
          "metadata": {
            "needs_background": "light"
          },
          "output_type": "display_data"
        }
      ],
      "source": [
        "print_2_arch_together(AlexNet_history_1, AlexNet_history_2, \"AlexNet1\", \"AlexNet2\")"
      ]
    },
    {
      "cell_type": "markdown",
      "metadata": {
        "id": "gm76xWxNdR6q"
      },
      "source": [
        "Ομοίως με προηγουμένως, επιλέγουμε την 2η υλοποίηση για το δίκτυο AlexNet"
      ]
    },
    {
      "cell_type": "code",
      "execution_count": null,
      "metadata": {
        "id": "eXCUlo42p_tP"
      },
      "outputs": [],
      "source": [
        "list_of_best_histAndname.append((AlexNet_history_2, \"AlexNet with sgd\"))"
      ]
    },
    {
      "cell_type": "markdown",
      "metadata": {
        "id": "7ee7KxePZ29m"
      },
      "source": [
        "#### VGG"
      ]
    },
    {
      "cell_type": "code",
      "execution_count": null,
      "metadata": {
        "colab": {
          "base_uri": "https://localhost:8080/",
          "height": 300
        },
        "id": "IvnALd3_SDLM",
        "outputId": "b3279ba4-c0e1-4033-c97d-19c03c279e00"
      },
      "outputs": [
        {
          "name": "stdout",
          "output_type": "stream",
          "text": [
            "63/63 - 0s - loss: 7.1753 - accuracy: 0.5335 - 426ms/epoch - 7ms/step\n"
          ]
        },
        {
          "data": {
            "image/png": "[encoded data removed]",
            "text/plain": [
              "<Figure size 432x288 with 1 Axes>"
            ]
          },
          "metadata": {
            "needs_background": "light"
          },
          "output_type": "display_data"
        }
      ],
      "source": [
        "# VGG 1\n",
        "\n",
        "VGG_model_1.save('VGG_model_1.h5')\n",
        "print_graph(VGG_history_1, VGG_model_1)"
      ]
    },
    {
      "cell_type": "code",
      "execution_count": null,
      "metadata": {
        "colab": {
          "base_uri": "https://localhost:8080/",
          "height": 300
        },
        "id": "lZ3IQEDcR4fB",
        "outputId": "6820a91b-c75d-45f9-8847-15c7bb4320d9"
      },
      "outputs": [
        {
          "name": "stdout",
          "output_type": "stream",
          "text": [
            "63/63 - 0s - loss: 3.3045 - accuracy: 0.5475 - 337ms/epoch - 5ms/step\n"
          ]
        },
        {
          "data": {
            "image/png": "[encoded data removed]",
            "text/plain": [
              "<Figure size 432x288 with 1 Axes>"
            ]
          },
          "metadata": {
            "needs_background": "light"
          },
          "output_type": "display_data"
        }
      ],
      "source": [
        "# VGG 2\n",
        "\n",
        "VGG_model_2.save('VGG_model_2.h5')\n",
        "print_graph(VGG_history_2, VGG_model_2)"
      ]
    },
    {
      "cell_type": "code",
      "execution_count": null,
      "metadata": {
        "colab": {
          "base_uri": "https://localhost:8080/",
          "height": 283
        },
        "id": "q574L-1UeIBL",
        "outputId": "0c48bc17-3e44-423b-8174-b049e432be7a"
      },
      "outputs": [
        {
          "data": {
            "image/png": "[encoded data removed]",
            "text/plain": [
              "<Figure size 432x288 with 1 Axes>"
            ]
          },
          "metadata": {
            "needs_background": "light"
          },
          "output_type": "display_data"
        }
      ],
      "source": [
        "print_2_arch_together(VGG_history_1, VGG_history_2, \"VGG1\", \"VGG2\")"
      ]
    },
    {
      "cell_type": "markdown",
      "metadata": {
        "id": "iZ8SPSV1dXUI"
      },
      "source": [
        "Επιλέγουμε την 2η υλοποίηση του VGG βάση των διαγραμμάτων"
      ]
    },
    {
      "cell_type": "code",
      "execution_count": null,
      "metadata": {
        "id": "jeWNoB7kqTGK"
      },
      "outputs": [],
      "source": [
        "list_of_best_histAndname.append((VGG_history_2, \"VGG with Adam\"))"
      ]
    },
    {
      "cell_type": "markdown",
      "metadata": {
        "id": "DeJyltrWZ6VV"
      },
      "source": [
        "#### MyCnn"
      ]
    },
    {
      "cell_type": "code",
      "execution_count": null,
      "metadata": {
        "colab": {
          "base_uri": "https://localhost:8080/",
          "height": 300
        },
        "id": "9kLHMNkqaFgG",
        "outputId": "94e55f88-626b-43e4-b789-62118730786f"
      },
      "outputs": [
        {
          "name": "stdout",
          "output_type": "stream",
          "text": [
            "63/63 - 0s - loss: 3.6670 - accuracy: 0.5765 - 246ms/epoch - 4ms/step\n"
          ]
        },
        {
          "data": {
            "image/png": "[encoded data removed]",
            "text/plain": [
              "<Figure size 432x288 with 1 Axes>"
            ]
          },
          "metadata": {
            "needs_background": "light"
          },
          "output_type": "display_data"
        }
      ],
      "source": [
        "MyCnn_model_1.save('MyCnn_model_1.h5')\n",
        "print_graph(MyCnn_history_1, MyCnn_model_1)"
      ]
    },
    {
      "cell_type": "code",
      "execution_count": null,
      "metadata": {
        "colab": {
          "base_uri": "https://localhost:8080/",
          "height": 300
        },
        "id": "NrhcHn-EaXwZ",
        "outputId": "219ad33a-e404-4f99-95fc-b150f839c91f"
      },
      "outputs": [
        {
          "name": "stdout",
          "output_type": "stream",
          "text": [
            "63/63 - 0s - loss: 6.6316 - accuracy: 0.5870 - 242ms/epoch - 4ms/step\n"
          ]
        },
        {
          "data": {
            "image/png": "[encoded data removed]",
            "text/plain": [
              "<Figure size 432x288 with 1 Axes>"
            ]
          },
          "metadata": {
            "needs_background": "light"
          },
          "output_type": "display_data"
        }
      ],
      "source": [
        "MyCnn_model_2.save('MyCnn_model_2.h5')\n",
        "print_graph(MyCnn_history_2, MyCnn_model_2)"
      ]
    },
    {
      "cell_type": "code",
      "execution_count": null,
      "metadata": {
        "colab": {
          "base_uri": "https://localhost:8080/",
          "height": 283
        },
        "id": "NbILvUFabeGW",
        "outputId": "9abc105f-eb11-4055-c528-6fecd3794754"
      },
      "outputs": [
        {
          "data": {
            "image/png": "[encoded data removed]",
            "text/plain": [
              "<Figure size 432x288 with 1 Axes>"
            ]
          },
          "metadata": {
            "needs_background": "light"
          },
          "output_type": "display_data"
        }
      ],
      "source": [
        "print_2_arch_together(MyCnn_history_1,MyCnn_history_2, \"MyCnn1\", \"MyCnn2\")"
      ]
    },
    {
      "cell_type": "markdown",
      "metadata": {
        "id": "RpDGK-fXdetl"
      },
      "source": [
        "Επιλέγουμε την 1η υλοποίηση του MyCNN βάση των διαγραμμάτων"
      ]
    },
    {
      "cell_type": "code",
      "execution_count": null,
      "metadata": {
        "id": "EoOO4f2QqoGG"
      },
      "outputs": [],
      "source": [
        "list_of_best_histAndname.append((MyCnn_history_1, \"MyCnn with adam\"))"
      ]
    },
    {
      "cell_type": "markdown",
      "metadata": {
        "id": "g6A3xWBz7Bi9"
      },
      "source": [
        "#### Συγκεντροτικά όλα"
      ]
    },
    {
      "cell_type": "code",
      "execution_count": null,
      "metadata": {
        "colab": {
          "base_uri": "https://localhost:8080/",
          "height": 283
        },
        "id": "5YoB9WAJqyUD",
        "outputId": "04254e32-e2a5-4de4-966e-69a8ee19ebe8"
      },
      "outputs": [
        {
          "data": {
            "image/png": "[encoded data removed]",
            "text/plain": [
              "<Figure size 432x288 with 1 Axes>"
            ]
          },
          "metadata": {
            "needs_background": "light"
          },
          "output_type": "display_data"
        }
      ],
      "source": [
        "print_all_in_same_plot(list_of_best_histAndname)"
      ]
    },
    {
      "cell_type": "markdown",
      "metadata": {
        "id": "6Auir_4LdimD"
      },
      "source": [
        "#### Αξιολόγηση\n",
        " - Επίδραση του πλήθους των δεδομένων/κλάσεων στην απόδοση του μοντέλου\n",
        "\n",
        "    Γενικά, αύξηση του πλήθους των κλάσεων μειώνει την απόδοση του δικτύου. Προκειμένου να μην επηρρεαστεί η απόδοση και να έχουμε μετρικές ανάλογες με τα παραπάνω νευρωνικά δίκτυα, πρέπει κατά την εκπαίδευση να αυξήσουμε τα δεδομένα και τις εποχές επηρρεάζοντας όμως σημαντικά τον χρόνο που απαιτείται για την εκπαίδευση.\n",
        "\n",
        " - Επίδραση του αλγόριθμου βελτιστοποίησης (optimizer):\n",
        "\n",
        "    Παρατηρούμε ότι, ο optimizer Adam έχει την καλύτερη απόδοση στα δύο πρώτα δίκτυα, ενώ στο VGG εξίσου καλά αποτελέσματα παρουσιάζει και ο RMSprop. Άρα δεν υπάρχει ένας αλγόριθμος που να επιδρά βέλτιστα καθολικά, αλλά εξαρτάται από την δομή και το βάθος του νευρωνικού δικτύου\n",
        "\n",
        " - Επίδραση του μεγέθους δέσμης (batch size):\n",
        "    Ο αριθμός του batch ιδανικά δεν πρέπει να είναι ούτε πολύ μεγάλος (ωστέ να μπορεί όντως το δίκτυο να \"μαθαίνει\") αλλά ούτε και πολύ μικρός για να έχει το δίκτυο ποικιλομορφία δεδομένων και να μην αυξάνεται ο χρόνος ανά εποχή. Για τα δεδομένα μας ενα καλό εύρος τιμών ειναι 50-64."
      ]
    },
    {
      "cell_type": "markdown",
      "metadata": {
        "id": "06NxMKVrt5Di"
      },
      "source": [
        "### Βήμα 3: Αξιολόγηση ορθότητας\n",
        "Αξιολογήστε την ορθότητα για το test set σας."
      ]
    },
    {
      "cell_type": "markdown",
      "metadata": {
        "id": "CZxMtL_lt6Jm"
      },
      "source": [
        "#### LeNet"
      ]
    },
    {
      "cell_type": "code",
      "execution_count": null,
      "metadata": {
        "colab": {
          "base_uri": "https://localhost:8080/"
        },
        "id": "2rQqH8s0t8xP",
        "outputId": "5b5ec387-5c12-429a-8f98-5e4c117f3944"
      },
      "outputs": [
        {
          "name": "stdout",
          "output_type": "stream",
          "text": [
            "LeNet Model1\n",
            "63/63 [==============================] - 0s 5ms/step - loss: 2.0268 - accuracy: 0.4510\n"
          ]
        },
        {
          "data": {
            "text/plain": [
              "[2.0268375873565674, 0.45100000500679016]"
            ]
          },
          "execution_count": 82,
          "metadata": {},
          "output_type": "execute_result"
        }
      ],
      "source": [
        "print(\"LeNet Model1\")\n",
        "LeNet_model_1.evaluate(x_test, y_test_to20)"
      ]
    },
    {
      "cell_type": "code",
      "execution_count": null,
      "metadata": {
        "colab": {
          "base_uri": "https://localhost:8080/"
        },
        "id": "BNOoy6ivuU-Z",
        "outputId": "d7d725d0-2518-4c29-bfa7-d7a1316f7689"
      },
      "outputs": [
        {
          "name": "stdout",
          "output_type": "stream",
          "text": [
            "LeNet Model2\n",
            "63/63 [==============================] - 0s 4ms/step - loss: 1.8664 - accuracy: 0.4155\n"
          ]
        },
        {
          "data": {
            "text/plain": [
              "[1.8664116859436035, 0.4154999852180481]"
            ]
          },
          "execution_count": 84,
          "metadata": {},
          "output_type": "execute_result"
        }
      ],
      "source": [
        "print(\"LeNet Model2\")\n",
        "LeNet_model_2.evaluate(x_test, y_test_to20)"
      ]
    },
    {
      "cell_type": "markdown",
      "metadata": {
        "id": "XfuB6ignuL-_"
      },
      "source": [
        "#### AlexNet"
      ]
    },
    {
      "cell_type": "code",
      "execution_count": null,
      "metadata": {
        "colab": {
          "base_uri": "https://localhost:8080/"
        },
        "id": "qtBb3SI7uOFu",
        "outputId": "c3fea052-09b6-48c7-b141-2a11949bfd9a"
      },
      "outputs": [
        {
          "name": "stdout",
          "output_type": "stream",
          "text": [
            "AlexNet Model 1\n",
            "63/63 [==============================] - 1s 14ms/step - loss: 3.2829 - accuracy: 0.0500\n"
          ]
        },
        {
          "data": {
            "text/plain": [
              "[3.2829339504241943, 0.05000000074505806]"
            ]
          },
          "execution_count": 83,
          "metadata": {},
          "output_type": "execute_result"
        }
      ],
      "source": [
        "print(\"AlexNet Model 1\")\n",
        "AlexNet_model_1.evaluate(x_test, y_test_to20)"
      ]
    },
    {
      "cell_type": "code",
      "execution_count": null,
      "metadata": {
        "colab": {
          "base_uri": "https://localhost:8080/"
        },
        "id": "aPS2x7pkuZAK",
        "outputId": "9f887eba-e8be-40f4-9923-9cde8f489637"
      },
      "outputs": [
        {
          "name": "stdout",
          "output_type": "stream",
          "text": [
            "AlexNet Model 2\n",
            "63/63 [==============================] - 1s 14ms/step - loss: 2.0622 - accuracy: 0.4970\n"
          ]
        },
        {
          "data": {
            "text/plain": [
              "[2.0621590614318848, 0.4970000088214874]"
            ]
          },
          "execution_count": 85,
          "metadata": {},
          "output_type": "execute_result"
        }
      ],
      "source": [
        "print(\"AlexNet Model 2\")\n",
        "AlexNet_model_2.evaluate(x_test, y_test_to20)"
      ]
    },
    {
      "cell_type": "markdown",
      "metadata": {
        "id": "tOdWj4vQucWI"
      },
      "source": [
        "#### VGG"
      ]
    },
    {
      "cell_type": "code",
      "execution_count": null,
      "metadata": {
        "colab": {
          "base_uri": "https://localhost:8080/"
        },
        "id": "rEuqFDLhueOH",
        "outputId": "980e9d30-f7ff-49df-bb64-4b4c30b102ad"
      },
      "outputs": [
        {
          "name": "stdout",
          "output_type": "stream",
          "text": [
            "VGG Model1\n",
            "63/63 [==============================] - 0s 7ms/step - loss: 7.1753 - accuracy: 0.5335\n"
          ]
        },
        {
          "data": {
            "text/plain": [
              "[7.17533540725708, 0.5335000157356262]"
            ]
          },
          "execution_count": 86,
          "metadata": {},
          "output_type": "execute_result"
        }
      ],
      "source": [
        "print(\"VGG Model1\")\n",
        "VGG_model_1.evaluate(x_test, y_test_to20)"
      ]
    },
    {
      "cell_type": "code",
      "execution_count": null,
      "metadata": {
        "colab": {
          "base_uri": "https://localhost:8080/"
        },
        "id": "X6aIWuOkuj6a",
        "outputId": "6440bc39-b746-4b08-eb16-d7aca1bd7084"
      },
      "outputs": [
        {
          "name": "stdout",
          "output_type": "stream",
          "text": [
            "VGG Model2\n",
            "63/63 [==============================] - 0s 7ms/step - loss: 3.3045 - accuracy: 0.5475\n"
          ]
        },
        {
          "data": {
            "text/plain": [
              "[3.3045241832733154, 0.5475000143051147]"
            ]
          },
          "execution_count": 87,
          "metadata": {},
          "output_type": "execute_result"
        }
      ],
      "source": [
        "print(\"VGG Model2\")\n",
        "VGG_model_2.evaluate(x_test, y_test_to20)"
      ]
    },
    {
      "cell_type": "markdown",
      "metadata": {
        "id": "_jGm52o5uwwj"
      },
      "source": [
        "#### MyCnn"
      ]
    },
    {
      "cell_type": "code",
      "execution_count": null,
      "metadata": {
        "colab": {
          "base_uri": "https://localhost:8080/"
        },
        "id": "S4joQAYIum3g",
        "outputId": "0dd97759-3a4d-4782-9395-34883689fd96"
      },
      "outputs": [
        {
          "name": "stdout",
          "output_type": "stream",
          "text": [
            "MyCnn Model1\n",
            "63/63 [==============================] - 0s 5ms/step - loss: 3.6670 - accuracy: 0.5765\n"
          ]
        },
        {
          "data": {
            "text/plain": [
              "[3.666995048522949, 0.5764999985694885]"
            ]
          },
          "execution_count": 88,
          "metadata": {},
          "output_type": "execute_result"
        }
      ],
      "source": [
        "print(\"MyCnn Model1\")\n",
        "MyCnn_model_1.evaluate(x_test, y_test_to20)"
      ]
    },
    {
      "cell_type": "code",
      "execution_count": null,
      "metadata": {
        "colab": {
          "base_uri": "https://localhost:8080/"
        },
        "id": "Rkm9ulmjuq8X",
        "outputId": "c36d690b-aa66-49a5-846a-b4c58e3dd808"
      },
      "outputs": [
        {
          "name": "stdout",
          "output_type": "stream",
          "text": [
            "MyCnn Model2\n",
            "63/63 [==============================] - 0s 5ms/step - loss: 6.6316 - accuracy: 0.5870\n"
          ]
        },
        {
          "data": {
            "text/plain": [
              "[6.631649971008301, 0.5870000123977661]"
            ]
          },
          "execution_count": 89,
          "metadata": {},
          "output_type": "execute_result"
        }
      ],
      "source": [
        "print(\"MyCnn Model2\")\n",
        "MyCnn_model_2.evaluate(x_test, y_test_to20)"
      ]
    },
    {
      "cell_type": "markdown",
      "metadata": {
        "id": "v8rhgSGOV5pm"
      },
      "source": [
        "\n",
        "## Ερώτημα 2\n",
        "---\n",
        "### Βήμα 1: Έλεγχος υπερεκπαίδευσης\n",
        "\n",
        "Για τον καλύτερο συνδυασμό που λάβατε από το Ερώτημα 1 για μοντέλο σας  (**MyCNN**) και μόνο, δοκιμάστε διάφορους συνδυασμούς των ακόλουθων τεχνικών για τον έλεγχο της υπερεκπαίδευσης (overfitting), όπως: \n",
        "- Πρόωρος τερματισμός (early stopping [tf.keras.callbacks.EarlyStopping](https://www.tensorflow.org/api_docs/python/tf/keras/callbacks/EarlyStoppinghttps://)) \n",
        "\n",
        "- Dropout ([Dropout](https://www.tensorflow.org/tutorials/images/classification#dropout))\n",
        "\n",
        "- Επαύξηση δεδομένων ([Data augmentation](https://www.tensorflow.org/tutorials/images/classification#data_augmentation), [ImageDataGenerator](https://www.tensorflow.org/api_docs/python/tf/keras/preprocessing/image/ImageDataGenerator#class_imagedatagenerator)) \n",
        "\n",
        "\\\\\n",
        ", ώστε το μοντέλο σας να γενικεύει καλύτερα.\n",
        "\n",
        "---\n",
        "### Βήμα 2: Αξιολόγηση\n",
        "Αξιολογήστε της ορθότητας για το validation και το test set σας."
      ]
    },
    {
      "cell_type": "markdown",
      "metadata": {
        "id": "jL0n7wcbswaT"
      },
      "source": [
        "#### MyCnn with Dropout"
      ]
    },
    {
      "cell_type": "code",
      "execution_count": 36,
      "metadata": {
        "colab": {
          "base_uri": "https://localhost:8080/"
        },
        "id": "A2ZDntcB7gDe",
        "outputId": "0537136b-92a1-4ccd-ca2a-06432f0732ed"
      },
      "outputs": [
        {
          "name": "stdout",
          "output_type": "stream",
          "text": [
            "Model: \"sequential_16\"\n",
            "_________________________________________________________________\n",
            " Layer (type)                Output Shape              Param #   \n",
            "=================================================================\n",
            " conv2d_45 (Conv2D)          (None, 32, 32, 50)        1400      \n",
            "                                                                 \n",
            " conv2d_46 (Conv2D)          (None, 32, 32, 75)        33825     \n",
            "                                                                 \n",
            " max_pooling2d_30 (MaxPoolin  (None, 16, 16, 75)       0         \n",
            " g2D)                                                            \n",
            "                                                                 \n",
            " dropout_32 (Dropout)        (None, 16, 16, 75)        0         \n",
            "                                                                 \n",
            " conv2d_47 (Conv2D)          (None, 16, 16, 125)       84500     \n",
            "                                                                 \n",
            " max_pooling2d_31 (MaxPoolin  (None, 8, 8, 125)        0         \n",
            " g2D)                                                            \n",
            "                                                                 \n",
            " dropout_33 (Dropout)        (None, 8, 8, 125)         0         \n",
            "                                                                 \n",
            " flatten_15 (Flatten)        (None, 8000)              0         \n",
            "                                                                 \n",
            " dense_45 (Dense)            (None, 500)               4000500   \n",
            "                                                                 \n",
            " dropout_34 (Dropout)        (None, 500)               0         \n",
            "                                                                 \n",
            " dense_46 (Dense)            (None, 250)               125250    \n",
            "                                                                 \n",
            " dropout_35 (Dropout)        (None, 250)               0         \n",
            "                                                                 \n",
            " dense_47 (Dense)            (None, 20)                5020      \n",
            "                                                                 \n",
            "=================================================================\n",
            "Total params: 4,250,495\n",
            "Trainable params: 4,250,495\n",
            "Non-trainable params: 0\n",
            "_________________________________________________________________\n"
          ]
        }
      ],
      "source": [
        "MyCnn_drop_model_1 = MyCnn(flag_for_dropout=True)\n",
        "MyCnn_drop_model_1.summary()"
      ]
    },
    {
      "cell_type": "code",
      "execution_count": 37,
      "metadata": {
        "colab": {
          "base_uri": "https://localhost:8080/"
        },
        "id": "e57oZV-9sv1E",
        "outputId": "3690e42e-9c16-4136-87f7-a524e8a23a3d"
      },
      "outputs": [
        {
          "name": "stdout",
          "output_type": "stream",
          "text": [
            "Epoch 1/50\n",
            "67/67 [==============================] - 2s 25ms/step - loss: 2.7133 - accuracy: 0.1576 - val_loss: 2.3771 - val_accuracy: 0.2760\n",
            "Epoch 2/50\n",
            "67/67 [==============================] - 1s 21ms/step - loss: 2.3191 - accuracy: 0.2802 - val_loss: 2.1446 - val_accuracy: 0.3353\n",
            "Epoch 3/50\n",
            "67/67 [==============================] - 1s 22ms/step - loss: 2.0669 - accuracy: 0.3562 - val_loss: 1.8775 - val_accuracy: 0.4413\n",
            "Epoch 4/50\n",
            "67/67 [==============================] - 1s 22ms/step - loss: 1.8652 - accuracy: 0.4204 - val_loss: 1.7059 - val_accuracy: 0.4787\n",
            "Epoch 5/50\n",
            "67/67 [==============================] - 1s 21ms/step - loss: 1.6921 - accuracy: 0.4766 - val_loss: 1.6208 - val_accuracy: 0.5207\n",
            "Epoch 6/50\n",
            "67/67 [==============================] - 1s 22ms/step - loss: 1.5504 - accuracy: 0.5169 - val_loss: 1.5241 - val_accuracy: 0.5213\n",
            "Epoch 7/50\n",
            "67/67 [==============================] - 1s 22ms/step - loss: 1.4186 - accuracy: 0.5534 - val_loss: 1.4894 - val_accuracy: 0.5500\n",
            "Epoch 8/50\n",
            "67/67 [==============================] - 1s 21ms/step - loss: 1.2966 - accuracy: 0.6014 - val_loss: 1.4152 - val_accuracy: 0.5680\n",
            "Epoch 9/50\n",
            "67/67 [==============================] - 1s 21ms/step - loss: 1.1549 - accuracy: 0.6333 - val_loss: 1.3377 - val_accuracy: 0.6007\n",
            "Epoch 10/50\n",
            "67/67 [==============================] - 1s 22ms/step - loss: 1.0351 - accuracy: 0.6695 - val_loss: 1.3646 - val_accuracy: 0.6040\n",
            "Epoch 11/50\n",
            "67/67 [==============================] - 1s 21ms/step - loss: 0.9320 - accuracy: 0.7001 - val_loss: 1.3260 - val_accuracy: 0.6227\n",
            "Epoch 12/50\n",
            "67/67 [==============================] - 1s 22ms/step - loss: 0.8176 - accuracy: 0.7379 - val_loss: 1.3316 - val_accuracy: 0.6107\n",
            "Epoch 13/50\n",
            "67/67 [==============================] - 1s 21ms/step - loss: 0.7372 - accuracy: 0.7619 - val_loss: 1.3314 - val_accuracy: 0.6220\n",
            "Epoch 14/50\n",
            "67/67 [==============================] - 1s 21ms/step - loss: 0.6250 - accuracy: 0.7971 - val_loss: 1.3789 - val_accuracy: 0.6253\n",
            "Epoch 15/50\n",
            "67/67 [==============================] - 1s 21ms/step - loss: 0.6003 - accuracy: 0.8085 - val_loss: 1.4175 - val_accuracy: 0.6340\n",
            "Epoch 16/50\n",
            "67/67 [==============================] - 1s 22ms/step - loss: 0.5143 - accuracy: 0.8327 - val_loss: 1.4732 - val_accuracy: 0.6267\n",
            "Epoch 17/50\n",
            "67/67 [==============================] - 1s 22ms/step - loss: 0.4750 - accuracy: 0.8452 - val_loss: 1.5199 - val_accuracy: 0.6247\n",
            "Epoch 18/50\n",
            "67/67 [==============================] - 1s 22ms/step - loss: 0.4321 - accuracy: 0.8627 - val_loss: 1.5385 - val_accuracy: 0.6233\n",
            "Epoch 19/50\n",
            "67/67 [==============================] - 1s 21ms/step - loss: 0.3798 - accuracy: 0.8751 - val_loss: 1.5351 - val_accuracy: 0.6307\n",
            "Epoch 20/50\n",
            "67/67 [==============================] - 1s 21ms/step - loss: 0.3561 - accuracy: 0.8814 - val_loss: 1.5924 - val_accuracy: 0.6280\n",
            "Epoch 21/50\n",
            "67/67 [==============================] - 1s 21ms/step - loss: 0.3431 - accuracy: 0.8871 - val_loss: 1.5128 - val_accuracy: 0.6333\n",
            "Epoch 22/50\n",
            "67/67 [==============================] - 1s 21ms/step - loss: 0.2781 - accuracy: 0.9120 - val_loss: 1.5982 - val_accuracy: 0.6507\n",
            "Epoch 23/50\n",
            "67/67 [==============================] - 1s 21ms/step - loss: 0.2976 - accuracy: 0.9015 - val_loss: 1.6382 - val_accuracy: 0.6347\n",
            "Epoch 24/50\n",
            "67/67 [==============================] - 1s 22ms/step - loss: 0.2888 - accuracy: 0.9079 - val_loss: 1.5332 - val_accuracy: 0.6467\n",
            "Epoch 25/50\n",
            "67/67 [==============================] - 1s 21ms/step - loss: 0.2539 - accuracy: 0.9160 - val_loss: 1.6479 - val_accuracy: 0.6387\n",
            "Epoch 26/50\n",
            "67/67 [==============================] - 1s 22ms/step - loss: 0.2256 - accuracy: 0.9238 - val_loss: 1.6673 - val_accuracy: 0.6487\n",
            "Epoch 27/50\n",
            "67/67 [==============================] - 1s 21ms/step - loss: 0.2146 - accuracy: 0.9341 - val_loss: 1.6322 - val_accuracy: 0.6420\n",
            "Epoch 28/50\n",
            "67/67 [==============================] - 1s 22ms/step - loss: 0.2112 - accuracy: 0.9324 - val_loss: 1.7181 - val_accuracy: 0.6407\n",
            "Epoch 29/50\n",
            "67/67 [==============================] - 2s 22ms/step - loss: 0.1991 - accuracy: 0.9354 - val_loss: 1.7982 - val_accuracy: 0.6353\n",
            "Epoch 30/50\n",
            "67/67 [==============================] - 2s 23ms/step - loss: 0.1945 - accuracy: 0.9346 - val_loss: 1.8349 - val_accuracy: 0.6287\n",
            "Epoch 31/50\n",
            "67/67 [==============================] - 1s 21ms/step - loss: 0.1834 - accuracy: 0.9402 - val_loss: 1.7577 - val_accuracy: 0.6347\n",
            "Epoch 32/50\n",
            "67/67 [==============================] - 1s 22ms/step - loss: 0.1655 - accuracy: 0.9448 - val_loss: 1.7967 - val_accuracy: 0.6467\n",
            "Epoch 33/50\n",
            "67/67 [==============================] - 1s 22ms/step - loss: 0.1729 - accuracy: 0.9438 - val_loss: 1.6881 - val_accuracy: 0.6507\n",
            "Epoch 34/50\n",
            "67/67 [==============================] - 1s 22ms/step - loss: 0.1639 - accuracy: 0.9492 - val_loss: 1.6797 - val_accuracy: 0.6633\n",
            "Epoch 35/50\n",
            "67/67 [==============================] - 1s 22ms/step - loss: 0.1572 - accuracy: 0.9520 - val_loss: 1.6981 - val_accuracy: 0.6480\n",
            "Epoch 36/50\n",
            "67/67 [==============================] - 2s 22ms/step - loss: 0.1653 - accuracy: 0.9458 - val_loss: 1.7033 - val_accuracy: 0.6393\n",
            "Epoch 37/50\n",
            "67/67 [==============================] - 1s 21ms/step - loss: 0.1296 - accuracy: 0.9574 - val_loss: 1.8245 - val_accuracy: 0.6427\n",
            "Epoch 38/50\n",
            "67/67 [==============================] - 1s 22ms/step - loss: 0.1430 - accuracy: 0.9552 - val_loss: 1.7552 - val_accuracy: 0.6433\n",
            "Epoch 39/50\n",
            "67/67 [==============================] - 1s 22ms/step - loss: 0.1506 - accuracy: 0.9513 - val_loss: 1.7707 - val_accuracy: 0.6553\n",
            "Epoch 40/50\n",
            "67/67 [==============================] - 2s 23ms/step - loss: 0.1258 - accuracy: 0.9598 - val_loss: 1.9256 - val_accuracy: 0.6433\n",
            "Epoch 41/50\n",
            "67/67 [==============================] - 1s 22ms/step - loss: 0.1489 - accuracy: 0.9524 - val_loss: 1.8291 - val_accuracy: 0.6420\n",
            "Epoch 42/50\n",
            "67/67 [==============================] - 2s 23ms/step - loss: 0.1329 - accuracy: 0.9582 - val_loss: 1.9354 - val_accuracy: 0.6440\n",
            "Epoch 43/50\n",
            "67/67 [==============================] - 2s 24ms/step - loss: 0.1430 - accuracy: 0.9575 - val_loss: 1.8543 - val_accuracy: 0.6393\n",
            "Epoch 44/50\n",
            "67/67 [==============================] - 2s 23ms/step - loss: 0.1288 - accuracy: 0.9593 - val_loss: 1.8320 - val_accuracy: 0.6347\n",
            "Epoch 45/50\n",
            "67/67 [==============================] - 1s 22ms/step - loss: 0.1165 - accuracy: 0.9627 - val_loss: 1.9300 - val_accuracy: 0.6393\n",
            "Epoch 46/50\n",
            "67/67 [==============================] - 1s 22ms/step - loss: 0.1228 - accuracy: 0.9611 - val_loss: 1.8466 - val_accuracy: 0.6487\n",
            "Epoch 47/50\n",
            "67/67 [==============================] - 2s 23ms/step - loss: 0.1241 - accuracy: 0.9607 - val_loss: 1.8217 - val_accuracy: 0.6293\n",
            "Epoch 48/50\n",
            "67/67 [==============================] - 1s 22ms/step - loss: 0.1240 - accuracy: 0.9606 - val_loss: 1.9353 - val_accuracy: 0.6340\n",
            "Epoch 49/50\n",
            "67/67 [==============================] - 1s 21ms/step - loss: 0.1226 - accuracy: 0.9605 - val_loss: 1.8332 - val_accuracy: 0.6427\n",
            "Epoch 50/50\n",
            "67/67 [==============================] - 1s 21ms/step - loss: 0.1071 - accuracy: 0.9646 - val_loss: 1.8190 - val_accuracy: 0.6507\n"
          ]
        }
      ],
      "source": [
        "\n",
        "\n",
        "MyCnn_drop_model_1.compile(optimizer='Adam',\n",
        "              loss=tf.keras.losses.SparseCategoricalCrossentropy(from_logits=True),\n",
        "              metrics=['accuracy'])\n",
        "MyCnn_drop_history_1 = MyCnn_drop_model_1.fit(x_train, y_train_to20, epochs=50, batch_size=128,\n",
        "                    validation_data=(x_val, y_val_to20))"
      ]
    },
    {
      "cell_type": "markdown",
      "metadata": {
        "id": "U4KPB-y1Ih_P"
      },
      "source": [
        "#### MyCnn with early and augmentation"
      ]
    },
    {
      "cell_type": "code",
      "execution_count": 22,
      "metadata": {
        "colab": {
          "base_uri": "https://localhost:8080/"
        },
        "id": "98Fp5ALJIiqv",
        "outputId": "2920e16e-207a-4d49-e267-affb08e4f934"
      },
      "outputs": [
        {
          "name": "stdout",
          "output_type": "stream",
          "text": [
            "Epoch 1/50\n",
            "67/67 [==============================] - 3s 25ms/step - loss: 2.6123 - accuracy: 0.1849 - val_loss: 2.1905 - val_accuracy: 0.3307\n",
            "Epoch 2/50\n",
            "67/67 [==============================] - 1s 22ms/step - loss: 2.0780 - accuracy: 0.3509 - val_loss: 1.9305 - val_accuracy: 0.4040\n",
            "Epoch 3/50\n",
            "67/67 [==============================] - 2s 23ms/step - loss: 1.8755 - accuracy: 0.4098 - val_loss: 1.7274 - val_accuracy: 0.4533\n",
            "Epoch 4/50\n",
            "67/67 [==============================] - 2s 23ms/step - loss: 1.7201 - accuracy: 0.4606 - val_loss: 1.6662 - val_accuracy: 0.4720\n",
            "Epoch 5/50\n",
            "67/67 [==============================] - 2s 23ms/step - loss: 1.6072 - accuracy: 0.4894 - val_loss: 1.5858 - val_accuracy: 0.5073\n",
            "Epoch 6/50\n",
            "67/67 [==============================] - 2s 23ms/step - loss: 1.5250 - accuracy: 0.5180 - val_loss: 1.4734 - val_accuracy: 0.5420\n",
            "Epoch 7/50\n",
            "67/67 [==============================] - 2s 23ms/step - loss: 1.4116 - accuracy: 0.5585 - val_loss: 1.4801 - val_accuracy: 0.5407\n",
            "Epoch 8/50\n",
            "67/67 [==============================] - 1s 22ms/step - loss: 1.3166 - accuracy: 0.5884 - val_loss: 1.4335 - val_accuracy: 0.5600\n",
            "Epoch 9/50\n",
            "67/67 [==============================] - 1s 22ms/step - loss: 1.2696 - accuracy: 0.5961 - val_loss: 1.3731 - val_accuracy: 0.5747\n",
            "Epoch 10/50\n",
            "67/67 [==============================] - 1s 22ms/step - loss: 1.1752 - accuracy: 0.6299 - val_loss: 1.3705 - val_accuracy: 0.5813\n",
            "Epoch 11/50\n",
            "67/67 [==============================] - 2s 23ms/step - loss: 1.0994 - accuracy: 0.6519 - val_loss: 1.3298 - val_accuracy: 0.5960\n",
            "Epoch 12/50\n",
            "67/67 [==============================] - 1s 22ms/step - loss: 1.0667 - accuracy: 0.6654 - val_loss: 1.3695 - val_accuracy: 0.5933\n",
            "Epoch 13/50\n",
            "67/67 [==============================] - 2s 23ms/step - loss: 0.9855 - accuracy: 0.6834 - val_loss: 1.3932 - val_accuracy: 0.5933\n",
            "Epoch 14/50\n",
            "67/67 [==============================] - 2s 23ms/step - loss: 0.9213 - accuracy: 0.6987 - val_loss: 1.3297 - val_accuracy: 0.6087\n",
            "Epoch 15/50\n",
            "67/67 [==============================] - 1s 22ms/step - loss: 0.8553 - accuracy: 0.7213 - val_loss: 1.6140 - val_accuracy: 0.5727\n",
            "Epoch 16/50\n",
            "67/67 [==============================] - 1s 22ms/step - loss: 0.8395 - accuracy: 0.7307 - val_loss: 1.5484 - val_accuracy: 0.5713\n",
            "Epoch 17/50\n",
            "67/67 [==============================] - 1s 22ms/step - loss: 0.7832 - accuracy: 0.7471 - val_loss: 1.3777 - val_accuracy: 0.6247\n",
            "Epoch 18/50\n",
            "67/67 [==============================] - 2s 23ms/step - loss: 0.7292 - accuracy: 0.7628 - val_loss: 1.4761 - val_accuracy: 0.6060\n",
            "Epoch 19/50\n",
            "67/67 [==============================] - 1s 22ms/step - loss: 0.6784 - accuracy: 0.7774 - val_loss: 1.4484 - val_accuracy: 0.6120\n",
            "Epoch 20/50\n",
            "67/67 [==============================] - 1s 22ms/step - loss: 0.6308 - accuracy: 0.7968 - val_loss: 1.4333 - val_accuracy: 0.6167\n"
          ]
        }
      ],
      "source": [
        "def early_callback_fun(mon, patien): \n",
        "  return tf.keras.callbacks.EarlyStopping(monitor=mon, patience=patien, restore_best_weights=True)\n",
        "\n",
        "MyCnn_augmentation_model_1 = MyCnn(flag_for_data_augmentation=True)\n",
        "\n",
        "MyCnn_augmentation_model_1.compile(optimizer='Adam',\n",
        "              loss=tf.keras.losses.SparseCategoricalCrossentropy(from_logits=True),\n",
        "              metrics=['accuracy'])\n",
        "MyCnn_augmentation_history_1 = MyCnn_augmentation_model_1.fit(x_train, y_train_to20, epochs=50, batch_size=128,\n",
        "                    validation_data=(x_val, y_val_to20) ,callbacks=[early_callback_fun('val_accuracy',3)])"
      ]
    },
    {
      "cell_type": "code",
      "execution_count": 30,
      "metadata": {
        "colab": {
          "base_uri": "https://localhost:8080/",
          "height": 301
        },
        "id": "x_-NF68pLFpm",
        "outputId": "8bf4eb7e-7794-4ded-fabd-37d5d83696e4"
      },
      "outputs": [
        {
          "name": "stdout",
          "output_type": "stream",
          "text": [
            "63/63 - 0s - loss: 1.2636 - accuracy: 0.6350 - 404ms/epoch - 6ms/step\n"
          ]
        },
        {
          "data": {
            "image/png": "[encoded data removed]",
            "text/plain": [
              "<Figure size 432x288 with 1 Axes>"
            ]
          },
          "metadata": {
            "needs_background": "light"
          },
          "output_type": "display_data"
        }
      ],
      "source": [
        "print_graph(MyCnn_augmentation_history_1, MyCnn_augmentation_model_1)"
      ]
    },
    {
      "cell_type": "markdown",
      "metadata": {
        "id": "XrfYT_Miu1Re"
      },
      "source": [
        "#### MyCnn with early, Dropout and augmentation\n"
      ]
    },
    {
      "cell_type": "code",
      "execution_count": 32,
      "metadata": {
        "colab": {
          "base_uri": "https://localhost:8080/"
        },
        "id": "UTTq9E5D9lWf",
        "outputId": "dc8c374f-afc6-4e2c-8926-056c7f837b37"
      },
      "outputs": [
        {
          "name": "stdout",
          "output_type": "stream",
          "text": [
            "Epoch 1/50\n",
            "133/133 [==============================] - 3s 15ms/step - loss: 2.7366 - accuracy: 0.1356 - val_loss: 2.4544 - val_accuracy: 0.2453\n",
            "Epoch 2/50\n",
            "133/133 [==============================] - 2s 14ms/step - loss: 2.3831 - accuracy: 0.2504 - val_loss: 2.0918 - val_accuracy: 0.3587\n",
            "Epoch 3/50\n",
            "133/133 [==============================] - 2s 14ms/step - loss: 2.1846 - accuracy: 0.3180 - val_loss: 1.9184 - val_accuracy: 0.4067\n",
            "Epoch 4/50\n",
            "133/133 [==============================] - 2s 14ms/step - loss: 2.0355 - accuracy: 0.3615 - val_loss: 1.8187 - val_accuracy: 0.4273\n",
            "Epoch 5/50\n",
            "133/133 [==============================] - 2s 14ms/step - loss: 1.9526 - accuracy: 0.3953 - val_loss: 1.7739 - val_accuracy: 0.4387\n",
            "Epoch 6/50\n",
            "133/133 [==============================] - 2s 14ms/step - loss: 1.8481 - accuracy: 0.4240 - val_loss: 1.6725 - val_accuracy: 0.4740\n",
            "Epoch 7/50\n",
            "133/133 [==============================] - 2s 14ms/step - loss: 1.7853 - accuracy: 0.4452 - val_loss: 1.6300 - val_accuracy: 0.4967\n",
            "Epoch 8/50\n",
            "133/133 [==============================] - 2s 14ms/step - loss: 1.7195 - accuracy: 0.4660 - val_loss: 1.5573 - val_accuracy: 0.5127\n",
            "Epoch 9/50\n",
            "133/133 [==============================] - 2s 14ms/step - loss: 1.6706 - accuracy: 0.4802 - val_loss: 1.5147 - val_accuracy: 0.5327\n",
            "Epoch 10/50\n",
            "133/133 [==============================] - 2s 14ms/step - loss: 1.6071 - accuracy: 0.5025 - val_loss: 1.5212 - val_accuracy: 0.5400\n",
            "Epoch 11/50\n",
            "133/133 [==============================] - 2s 14ms/step - loss: 1.5814 - accuracy: 0.5091 - val_loss: 1.4209 - val_accuracy: 0.5573\n",
            "Epoch 12/50\n",
            "133/133 [==============================] - 2s 14ms/step - loss: 1.5073 - accuracy: 0.5260 - val_loss: 1.4851 - val_accuracy: 0.5327\n",
            "Epoch 13/50\n",
            "133/133 [==============================] - 2s 14ms/step - loss: 1.4940 - accuracy: 0.5347 - val_loss: 1.4475 - val_accuracy: 0.5447\n",
            "Epoch 14/50\n",
            "133/133 [==============================] - 2s 14ms/step - loss: 1.4326 - accuracy: 0.5520 - val_loss: 1.4139 - val_accuracy: 0.5720\n",
            "Epoch 15/50\n",
            "133/133 [==============================] - 2s 14ms/step - loss: 1.3963 - accuracy: 0.5614 - val_loss: 1.3625 - val_accuracy: 0.5847\n",
            "Epoch 16/50\n",
            "133/133 [==============================] - 2s 14ms/step - loss: 1.3697 - accuracy: 0.5754 - val_loss: 1.3725 - val_accuracy: 0.5807\n",
            "Epoch 17/50\n",
            "133/133 [==============================] - 2s 14ms/step - loss: 1.3413 - accuracy: 0.5795 - val_loss: 1.2754 - val_accuracy: 0.6133\n",
            "Epoch 18/50\n",
            "133/133 [==============================] - 2s 14ms/step - loss: 1.3163 - accuracy: 0.5856 - val_loss: 1.3271 - val_accuracy: 0.5907\n",
            "Epoch 19/50\n",
            "133/133 [==============================] - 2s 14ms/step - loss: 1.2882 - accuracy: 0.5958 - val_loss: 1.2668 - val_accuracy: 0.6147\n",
            "Epoch 20/50\n",
            "133/133 [==============================] - 2s 14ms/step - loss: 1.2753 - accuracy: 0.5951 - val_loss: 1.2664 - val_accuracy: 0.6127\n",
            "Epoch 21/50\n",
            "133/133 [==============================] - 2s 14ms/step - loss: 1.2593 - accuracy: 0.6052 - val_loss: 1.2792 - val_accuracy: 0.6120\n",
            "Epoch 22/50\n",
            "133/133 [==============================] - 2s 14ms/step - loss: 1.2181 - accuracy: 0.6151 - val_loss: 1.2341 - val_accuracy: 0.6167\n",
            "Epoch 23/50\n",
            "133/133 [==============================] - 2s 17ms/step - loss: 1.2042 - accuracy: 0.6226 - val_loss: 1.2832 - val_accuracy: 0.6213\n",
            "Epoch 24/50\n",
            "133/133 [==============================] - 2s 14ms/step - loss: 1.1747 - accuracy: 0.6279 - val_loss: 1.2078 - val_accuracy: 0.6273\n",
            "Epoch 25/50\n",
            "133/133 [==============================] - 2s 14ms/step - loss: 1.1440 - accuracy: 0.6372 - val_loss: 1.2555 - val_accuracy: 0.6153\n",
            "Epoch 26/50\n",
            "133/133 [==============================] - 2s 14ms/step - loss: 1.1576 - accuracy: 0.6294 - val_loss: 1.2165 - val_accuracy: 0.6233\n",
            "Epoch 27/50\n",
            "133/133 [==============================] - 2s 14ms/step - loss: 1.1292 - accuracy: 0.6424 - val_loss: 1.1847 - val_accuracy: 0.6367\n",
            "Epoch 28/50\n",
            "133/133 [==============================] - 2s 14ms/step - loss: 1.0994 - accuracy: 0.6525 - val_loss: 1.1483 - val_accuracy: 0.6527\n",
            "Epoch 29/50\n",
            "133/133 [==============================] - 2s 14ms/step - loss: 1.0863 - accuracy: 0.6548 - val_loss: 1.2166 - val_accuracy: 0.6327\n",
            "Epoch 30/50\n",
            "133/133 [==============================] - 2s 14ms/step - loss: 1.0896 - accuracy: 0.6573 - val_loss: 1.2050 - val_accuracy: 0.6340\n",
            "Epoch 31/50\n",
            "133/133 [==============================] - 2s 14ms/step - loss: 1.0627 - accuracy: 0.6682 - val_loss: 1.2121 - val_accuracy: 0.6247\n",
            "Epoch 32/50\n",
            "133/133 [==============================] - 2s 14ms/step - loss: 1.0120 - accuracy: 0.6731 - val_loss: 1.2576 - val_accuracy: 0.6313\n",
            "Epoch 33/50\n",
            "133/133 [==============================] - 2s 14ms/step - loss: 1.0119 - accuracy: 0.6776 - val_loss: 1.1989 - val_accuracy: 0.6413\n",
            "Epoch 34/50\n",
            "133/133 [==============================] - 2s 14ms/step - loss: 1.0041 - accuracy: 0.6820 - val_loss: 1.1907 - val_accuracy: 0.6380\n",
            "Epoch 35/50\n",
            "133/133 [==============================] - 2s 14ms/step - loss: 0.9943 - accuracy: 0.6815 - val_loss: 1.1789 - val_accuracy: 0.6560\n",
            "Epoch 36/50\n",
            "133/133 [==============================] - 2s 16ms/step - loss: 0.9891 - accuracy: 0.6828 - val_loss: 1.1754 - val_accuracy: 0.6367\n",
            "Epoch 36: early stopping\n"
          ]
        }
      ],
      "source": [
        "def early_callback_fun(mon, patien, verb = 0, mod='auto', restorebw = False): \n",
        "  return tf.keras.callbacks.EarlyStopping(monitor=mon, patience=patien, restore_best_weights=restorebw, verbose=verb, mode=mod)\n",
        "\n",
        "MyCnn_drop_and_augmentation_model_1 = MyCnn(flag_for_data_augmentation=True, flag_for_dropout=True)\n",
        "\n",
        "MyCnn_drop_and_augmentation_model_1.compile(optimizer='Adam',\n",
        "              loss=tf.keras.losses.SparseCategoricalCrossentropy(from_logits=True),\n",
        "              metrics=['accuracy'])\n",
        "MyCnn_drop_and_augmentation_history_1 = MyCnn_drop_and_augmentation_model_1.fit(x_train, y_train_to20, epochs=50, batch_size=64,\n",
        "                    validation_data=(x_val, y_val_to20) ,callbacks=[early_callback_fun('val_loss',patien = 8,verb = 1, mod='min')])"
      ]
    },
    {
      "cell_type": "code",
      "execution_count": 33,
      "metadata": {
        "colab": {
          "base_uri": "https://localhost:8080/",
          "height": 301
        },
        "id": "AgbUvqRILWTn",
        "outputId": "447f10f2-ca06-47ee-e464-428d6f26c197"
      },
      "outputs": [
        {
          "name": "stdout",
          "output_type": "stream",
          "text": [
            "63/63 - 0s - loss: 1.1182 - accuracy: 0.6585 - 344ms/epoch - 5ms/step\n"
          ]
        },
        {
          "data": {
            "image/png": "[encoded data removed]",
            "text/plain": [
              "<Figure size 432x288 with 1 Axes>"
            ]
          },
          "metadata": {
            "needs_background": "light"
          },
          "output_type": "display_data"
        }
      ],
      "source": [
        "print_graph(MyCnn_drop_and_augmentation_history_1, MyCnn_drop_and_augmentation_model_1)"
      ]
    },
    {
      "cell_type": "markdown",
      "metadata": {
        "id": "0K8TWNZiNiyY"
      },
      "source": [
        "### Αποτελέσματα"
      ]
    },
    {
      "cell_type": "code",
      "execution_count": 39,
      "metadata": {
        "colab": {
          "base_uri": "https://localhost:8080/",
          "height": 283
        },
        "id": "WY5jpYPoMJ-i",
        "outputId": "44a89049-4fbc-4443-f108-524fd58be4f8"
      },
      "outputs": [
        {
          "data": {
            "image/png": "[encoded data removed]",
            "text/plain": [
              "<Figure size 432x288 with 1 Axes>"
            ]
          },
          "metadata": {
            "needs_background": "light"
          },
          "output_type": "display_data"
        }
      ],
      "source": [
        "print_all_in_same_plot([(MyCnn_drop_and_augmentation_history_1, \"MyCnn with d, a and e\"), (MyCnn_augmentation_history_1, \"MyCnn with a and e\"), (MyCnn_drop_history_1, \"MyCnn with d\")])"
      ]
    },
    {
      "cell_type": "markdown",
      "metadata": {
        "id": "jTxKRNEHWfGs"
      },
      "source": [
        "## Ερώτημα 3\n",
        "---\n",
        "### Βήμα 1: Μεταφορά γνώσης\n",
        "Εφαρμόστε μεταφορά γνώσης (transfer learning) στο δικό σας μοντέλο (**MyCNN**), που αξιολογήσατε ως καλύτερο προς την ορθότητα στην αντιμετώπιση της υπερεκπαίδεσης. \n",
        "\n",
        "Για το transfer learning, επιλέξτε το [VGG16](https://www.tensorflow.org/api_docs/python/tf/keras/applications/vgg16) για μεταφορά μάθησης.\n",
        "\n",
        "1. \"Παγώστε\" τη συνελικτική βάση και εκπαιδεύστε την κεφαλή ταξινόμησης (classification head - σημαία trainable = False).  \n",
        "\n",
        "2. Εκπαιδέστε μόνο ένα ποσοστό των επιπέδων, το οποίο βρίσκεται προς την έξοδο του δικτύου. Οι σημαίες trainable εδώ θα πρέπει να οριστούν ανά επίπεδο.\n",
        "\n",
        "3. Αξιολογήστε τα αποτελέσματά σας, βάσει της ορθότητας του validation set και του test set σας."
      ]
    },
    {
      "cell_type": "markdown",
      "metadata": {
        "id": "JL2sg4IdNfU0"
      },
      "source": [
        "### Βήμα 1\n"
      ]
    },
    {
      "cell_type": "code",
      "execution_count": 50,
      "metadata": {
        "id": "KjWzzE8_NnrW"
      },
      "outputs": [],
      "source": [
        "# Pretrained Model and Freeze Weights\n",
        "VGG16_pretrained_model = tf.keras.applications.VGG16(\n",
        "    include_top=False, weights='imagenet', input_tensor=None, input_shape=(32,32,3),\n",
        "    pooling=max, classes=20\n",
        ")\n",
        "VGG16_pretrained_model.trainable=False "
      ]
    },
    {
      "cell_type": "markdown",
      "metadata": {
        "id": "2_Vmh0CyN8Aw"
      },
      "source": [
        "#### Δημιουργία νέου μοντέλου με βάση το MYCNN και με transfer learning"
      ]
    },
    {
      "cell_type": "code",
      "execution_count": 54,
      "metadata": {
        "id": "AQYL1MvFNu0P"
      },
      "outputs": [],
      "source": [
        "def MyCNN2_with_transfer_learning():\n",
        "  model = models.Sequential()\n",
        "  model.add(VGG16_pretrained_model)\n",
        "  model.add(layers.Flatten())\n",
        "  model.add(layers.Dense(2048, activation='relu'))\n",
        "  model.add(layers.Dense(200, activation='relu'))\n",
        "  model.add(layers.Dropout(0.5))\n",
        "  model.add(layers.Dropout(0.3))\n",
        "  model.add(layers.Dense(20))\n",
        "  return model"
      ]
    },
    {
      "cell_type": "markdown",
      "metadata": {
        "id": "GV5GckAqPDf4"
      },
      "source": [
        "#### Summary"
      ]
    },
    {
      "cell_type": "code",
      "execution_count": 53,
      "metadata": {
        "colab": {
          "base_uri": "https://localhost:8080/"
        },
        "id": "kGQb505ePC3Q",
        "outputId": "5a30bd23-311d-4904-ca0e-f79e69237d36"
      },
      "outputs": [
        {
          "name": "stdout",
          "output_type": "stream",
          "text": [
            "Functional output shape: \t (1, 1, 1, 512)\n",
            "Flatten output shape: \t (1, 512)\n",
            "Dense output shape: \t (1, 2048)\n",
            "Dense output shape: \t (1, 200)\n",
            "Dropout output shape: \t (1, 200)\n",
            "Dropout output shape: \t (1, 200)\n",
            "Dense output shape: \t (1, 20)\n",
            "Model: \"sequential_28\"\n",
            "_________________________________________________________________\n",
            " Layer (type)                Output Shape              Param #   \n",
            "=================================================================\n",
            " vgg16 (Functional)          (None, 1, 1, 512)         14714688  \n",
            "                                                                 \n",
            " flatten_27 (Flatten)        (None, 512)               0         \n",
            "                                                                 \n",
            " dense_77 (Dense)            (None, 2048)              1050624   \n",
            "                                                                 \n",
            " dense_78 (Dense)            (None, 200)               409800    \n",
            "                                                                 \n",
            " dropout_54 (Dropout)        (None, 200)               0         \n",
            "                                                                 \n",
            " dropout_55 (Dropout)        (None, 200)               0         \n",
            "                                                                 \n",
            " dense_79 (Dense)            (None, 20)                4020      \n",
            "                                                                 \n",
            "=================================================================\n",
            "Total params: 16,179,132\n",
            "Trainable params: 1,464,444\n",
            "Non-trainable params: 14,714,688\n",
            "_________________________________________________________________\n"
          ]
        }
      ],
      "source": [
        "X = tf.random.uniform((1, 32, 32, 3)) \n",
        "for layer in MyCNN2_with_transfer_learning().layers:\n",
        "    X = layer(X)\n",
        "    print(layer.__class__.__name__, 'output shape: \\t', X.shape)\n",
        "MyCnn2 = MyCNN2_with_transfer_learning()\n",
        "MyCnn2.summary()\n"
      ]
    },
    {
      "cell_type": "markdown",
      "metadata": {
        "id": "S05l1WDSQPR2"
      },
      "source": [
        "#### Εκπαίδευση"
      ]
    },
    {
      "cell_type": "code",
      "execution_count": 55,
      "metadata": {
        "colab": {
          "base_uri": "https://localhost:8080/"
        },
        "id": "MRonqwOEQS-6",
        "outputId": "83fb792e-2fc5-4f8f-af67-4e434ca496d7"
      },
      "outputs": [
        {
          "name": "stdout",
          "output_type": "stream",
          "text": [
            "Epoch 1/50\n",
            "133/133 [==============================] - 4s 23ms/step - loss: 2.4289 - accuracy: 0.2645 - val_loss: 1.8504 - val_accuracy: 0.4580\n",
            "Epoch 2/50\n",
            "133/133 [==============================] - 2s 15ms/step - loss: 1.9670 - accuracy: 0.4046 - val_loss: 1.6507 - val_accuracy: 0.5167\n",
            "Epoch 3/50\n",
            "133/133 [==============================] - 2s 15ms/step - loss: 1.7471 - accuracy: 0.4712 - val_loss: 1.5198 - val_accuracy: 0.5500\n",
            "Epoch 4/50\n",
            "133/133 [==============================] - 2s 15ms/step - loss: 1.6161 - accuracy: 0.5086 - val_loss: 1.4674 - val_accuracy: 0.5587\n",
            "Epoch 5/50\n",
            "133/133 [==============================] - 2s 15ms/step - loss: 1.4894 - accuracy: 0.5436 - val_loss: 1.4427 - val_accuracy: 0.5600\n",
            "Epoch 6/50\n",
            "133/133 [==============================] - 2s 15ms/step - loss: 1.4116 - accuracy: 0.5627 - val_loss: 1.4271 - val_accuracy: 0.5720\n",
            "Epoch 7/50\n",
            "133/133 [==============================] - 2s 15ms/step - loss: 1.3199 - accuracy: 0.5907 - val_loss: 1.4058 - val_accuracy: 0.5660\n",
            "Epoch 8/50\n",
            "133/133 [==============================] - 2s 15ms/step - loss: 1.2475 - accuracy: 0.6118 - val_loss: 1.3790 - val_accuracy: 0.5760\n",
            "Epoch 9/50\n",
            "133/133 [==============================] - 2s 15ms/step - loss: 1.1464 - accuracy: 0.6396 - val_loss: 1.3781 - val_accuracy: 0.5880\n",
            "Epoch 10/50\n",
            "133/133 [==============================] - 2s 15ms/step - loss: 1.0922 - accuracy: 0.6568 - val_loss: 1.3946 - val_accuracy: 0.5873\n",
            "Epoch 11/50\n",
            "133/133 [==============================] - 2s 15ms/step - loss: 0.9998 - accuracy: 0.6856 - val_loss: 1.4403 - val_accuracy: 0.5780\n",
            "Epoch 12/50\n",
            "133/133 [==============================] - 2s 15ms/step - loss: 0.9298 - accuracy: 0.7082 - val_loss: 1.4244 - val_accuracy: 0.5873\n",
            "Epoch 13/50\n",
            "133/133 [==============================] - 2s 15ms/step - loss: 0.8724 - accuracy: 0.7239 - val_loss: 1.4276 - val_accuracy: 0.5953\n",
            "Epoch 14/50\n",
            "133/133 [==============================] - 2s 15ms/step - loss: 0.8100 - accuracy: 0.7453 - val_loss: 1.4178 - val_accuracy: 0.6007\n",
            "Epoch 15/50\n",
            "133/133 [==============================] - 2s 15ms/step - loss: 0.7434 - accuracy: 0.7682 - val_loss: 1.4402 - val_accuracy: 0.6000\n",
            "Epoch 16/50\n",
            "133/133 [==============================] - 2s 15ms/step - loss: 0.6830 - accuracy: 0.7879 - val_loss: 1.5503 - val_accuracy: 0.5873\n",
            "Epoch 17/50\n",
            "133/133 [==============================] - 2s 15ms/step - loss: 0.6152 - accuracy: 0.8062 - val_loss: 1.5296 - val_accuracy: 0.5907\n",
            "Epoch 17: early stopping\n"
          ]
        }
      ],
      "source": [
        "def early_callback_fun(mon, patien, verb = 0, mod='auto', restorebw = False): \n",
        "  return tf.keras.callbacks.EarlyStopping(monitor=mon, patience=patien, restore_best_weights=restorebw, verbose=verb, mode=mod)\n",
        "\n",
        "MyCnn2_transf_model_1 = MyCNN2_with_transfer_learning()\n",
        "\n",
        "MyCnn2_transf_model_1.compile(optimizer='Adam',\n",
        "              loss=tf.keras.losses.SparseCategoricalCrossentropy(from_logits=True),\n",
        "              metrics=['accuracy'])\n",
        "MyCnn2_transf_history_1 = MyCnn2_transf_model_1.fit(x_train, y_train_to20, epochs=50, batch_size=64,\n",
        "                    validation_data=(x_val, y_val_to20) ,callbacks=[early_callback_fun('val_loss',patien = 8,verb = 1, mod='min')])"
      ]
    },
    {
      "cell_type": "markdown",
      "metadata": {
        "id": "QxLlO0q3Qf8x"
      },
      "source": [
        "### Βήμα 2"
      ]
    },
    {
      "cell_type": "code",
      "execution_count": 77,
      "metadata": {
        "colab": {
          "base_uri": "https://localhost:8080/"
        },
        "id": "pay23yE_XSSR",
        "outputId": "0ffec005-5954-420a-bfa4-f7c5d37c8c1d"
      },
      "outputs": [
        {
          "name": "stdout",
          "output_type": "stream",
          "text": [
            "1 InputLayer output shape: \t (1, 32, 32, 3)\n",
            "2 Conv2D output shape: \t (1, 32, 32, 64)\n",
            "3 Conv2D output shape: \t (1, 32, 32, 64)\n",
            "4 MaxPooling2D output shape: \t (1, 16, 16, 64)\n",
            "5 Conv2D output shape: \t (1, 16, 16, 128)\n",
            "6 Conv2D output shape: \t (1, 16, 16, 128)\n",
            "7 MaxPooling2D output shape: \t (1, 8, 8, 128)\n",
            "8 Conv2D output shape: \t (1, 8, 8, 256)\n",
            "9 Conv2D output shape: \t (1, 8, 8, 256)\n",
            "10 Conv2D output shape: \t (1, 8, 8, 256)\n",
            "11 MaxPooling2D output shape: \t (1, 4, 4, 256)\n",
            "12 Conv2D output shape: \t (1, 4, 4, 512)\n",
            "13 Conv2D output shape: \t (1, 4, 4, 512)\n",
            "14 Conv2D output shape: \t (1, 4, 4, 512)\n",
            "15 MaxPooling2D output shape: \t (1, 2, 2, 512)\n",
            "16 Conv2D output shape: \t (1, 2, 2, 512)\n",
            "17 Conv2D output shape: \t (1, 2, 2, 512)\n",
            "18 Conv2D output shape: \t (1, 2, 2, 512)\n",
            "19 MaxPooling2D output shape: \t (1, 1, 1, 512)\n"
          ]
        }
      ],
      "source": [
        "VGG16_pretrained_model_2 = tf.keras.applications.VGG16(input_shape=(32,32,3), include_top=False)\n",
        "\n",
        "\n",
        "X = tf.random.uniform((1, 32, 32, 3)) \n",
        "i = 1\n",
        "for layer in VGG16_pretrained_model_2.layers:\n",
        "    X = layer(X)\n",
        "    print(i,layer.__class__.__name__, 'output shape: \\t', X.shape)\n",
        "    i+=1"
      ]
    },
    {
      "cell_type": "code",
      "execution_count": 78,
      "metadata": {
        "colab": {
          "base_uri": "https://localhost:8080/"
        },
        "id": "Ua5vtuMtQjhN",
        "outputId": "2f6ebc32-6064-4d9f-fa5f-467cbfd799b9"
      },
      "outputs": [
        {
          "name": "stdout",
          "output_type": "stream",
          "text": [
            "layer:  1  is NOT trainable\n",
            "layer:  2  is NOT trainable\n",
            "layer:  3  is NOT trainable\n",
            "layer:  4  is NOT trainable\n",
            "layer:  5  is NOT trainable\n",
            "layer:  6  is NOT trainable\n",
            "layer:  7  is NOT trainable\n",
            "layer:  8  is NOT trainable\n",
            "layer:  9  is trainable\n",
            "layer:  10  is trainable\n",
            "layer:  11  is trainable\n",
            "layer:  12  is trainable\n",
            "layer:  13  is trainable\n",
            "layer:  14  is trainable\n",
            "layer:  15  is trainable\n",
            "layer:  16  is trainable\n",
            "layer:  17  is trainable\n",
            "layer:  18  is trainable\n",
            "layer:  19  is trainable\n"
          ]
        }
      ],
      "source": [
        "for i,layer in enumerate(VGG16_pretrained_model_2.layers):\n",
        "  if(i <=7):\n",
        "    layer.trainable=False\n",
        "    print(\"layer: \",i+1, \" is NOT trainable\")\n",
        "  else:\n",
        "    print(\"layer: \",i+1, \" is trainable\")"
      ]
    },
    {
      "cell_type": "code",
      "execution_count": 83,
      "metadata": {
        "colab": {
          "base_uri": "https://localhost:8080/"
        },
        "id": "vEryLkFyZHZg",
        "outputId": "a0fcfaea-e43f-4f03-f389-d64e33d7d816"
      },
      "outputs": [
        {
          "name": "stdout",
          "output_type": "stream",
          "text": [
            "Functional output shape: \t (1, 1, 1, 512)\n",
            "Flatten output shape: \t (1, 512)\n",
            "Dense output shape: \t (1, 2048)\n",
            "LeakyReLU output shape: \t (1, 2048)\n",
            "Dropout output shape: \t (1, 2048)\n",
            "LeakyReLU output shape: \t (1, 2048)\n",
            "Dropout output shape: \t (1, 2048)\n",
            "Dense output shape: \t (1, 20)\n",
            "Dropout output shape: \t (1, 20)\n"
          ]
        }
      ],
      "source": [
        "def MyCNN2_with_transfer_learning_2():\n",
        "  model = models.Sequential()\n",
        "  model.add(VGG16_pretrained_model_2)\n",
        "  model.add(layers.Flatten())\n",
        "  model.add(layers.Dense(2048))\n",
        "  model.add(tf.keras.layers.LeakyReLU())\n",
        "  model.add(layers.Dropout(0.3))\n",
        "  model.add(tf.keras.layers.LeakyReLU())\n",
        "  model.add(layers.Dropout(0.18))\n",
        "  model.add(layers.Dense(20))\n",
        "  model.add(layers.Dropout(0.2))\n",
        "  return model\n",
        "\n",
        "X = tf.random.uniform((1, 32, 32, 3)) \n",
        "for layer in MyCNN2_with_transfer_learning_2().layers:\n",
        "    X = layer(X)\n",
        "    print(layer.__class__.__name__, 'output shape: \\t', X.shape)"
      ]
    },
    {
      "cell_type": "code",
      "execution_count": 84,
      "metadata": {
        "colab": {
          "base_uri": "https://localhost:8080/"
        },
        "id": "kOOOPU95ZfPB",
        "outputId": "de265aa6-7b33-4aed-c053-1141fb2365ed"
      },
      "outputs": [
        {
          "name": "stdout",
          "output_type": "stream",
          "text": [
            "Epoch 1/50\n",
            "67/67 [==============================] - 4s 49ms/step - loss: 2.9964 - accuracy: 0.0499 - val_loss: 2.9980 - val_accuracy: 0.0433\n",
            "Epoch 2/50\n",
            "67/67 [==============================] - 3s 45ms/step - loss: 2.9964 - accuracy: 0.0513 - val_loss: 2.9976 - val_accuracy: 0.0467\n",
            "Epoch 3/50\n",
            "67/67 [==============================] - 3s 45ms/step - loss: 2.9964 - accuracy: 0.0486 - val_loss: 2.9987 - val_accuracy: 0.0407\n",
            "Epoch 4/50\n",
            "67/67 [==============================] - 4s 53ms/step - loss: 2.9965 - accuracy: 0.0513 - val_loss: 2.9984 - val_accuracy: 0.0440\n",
            "Epoch 5/50\n",
            "67/67 [==============================] - 3s 45ms/step - loss: 2.9964 - accuracy: 0.0501 - val_loss: 2.9990 - val_accuracy: 0.0407\n",
            "Epoch 6/50\n",
            "67/67 [==============================] - 3s 45ms/step - loss: 2.9966 - accuracy: 0.0494 - val_loss: 2.9979 - val_accuracy: 0.0453\n",
            "Epoch 7/50\n",
            "67/67 [==============================] - 3s 44ms/step - loss: 2.9964 - accuracy: 0.0458 - val_loss: 2.9983 - val_accuracy: 0.0513\n",
            "Epoch 8/50\n",
            "67/67 [==============================] - 3s 44ms/step - loss: 2.9965 - accuracy: 0.0478 - val_loss: 2.9975 - val_accuracy: 0.0407\n",
            "Epoch 9/50\n",
            "67/67 [==============================] - 3s 44ms/step - loss: 2.9960 - accuracy: 0.0498 - val_loss: 2.9978 - val_accuracy: 0.0407\n",
            "Epoch 10/50\n",
            "67/67 [==============================] - 3s 44ms/step - loss: 2.9964 - accuracy: 0.0474 - val_loss: 2.9973 - val_accuracy: 0.0433\n",
            "Epoch 11/50\n",
            "67/67 [==============================] - 3s 44ms/step - loss: 2.9965 - accuracy: 0.0520 - val_loss: 2.9966 - val_accuracy: 0.0433\n",
            "Epoch 12/50\n",
            "67/67 [==============================] - 3s 44ms/step - loss: 2.9966 - accuracy: 0.0509 - val_loss: 2.9979 - val_accuracy: 0.0433\n",
            "Epoch 13/50\n",
            "67/67 [==============================] - 3s 44ms/step - loss: 2.9967 - accuracy: 0.0467 - val_loss: 2.9968 - val_accuracy: 0.0453\n",
            "Epoch 14/50\n",
            "67/67 [==============================] - 3s 44ms/step - loss: 2.9963 - accuracy: 0.0475 - val_loss: 2.9971 - val_accuracy: 0.0433\n",
            "Epoch 15/50\n",
            "67/67 [==============================] - 3s 44ms/step - loss: 2.9963 - accuracy: 0.0499 - val_loss: 2.9971 - val_accuracy: 0.0407\n",
            "Epoch 16/50\n",
            "67/67 [==============================] - 3s 44ms/step - loss: 2.9962 - accuracy: 0.0488 - val_loss: 2.9980 - val_accuracy: 0.0407\n",
            "Epoch 17/50\n",
            "67/67 [==============================] - 3s 44ms/step - loss: 2.9961 - accuracy: 0.0521 - val_loss: 2.9980 - val_accuracy: 0.0407\n",
            "Epoch 17: early stopping\n"
          ]
        }
      ],
      "source": [
        "def early_callback_fun(mon, patien, verb = 0, mod='auto', restorebw = False): \n",
        "  return tf.keras.callbacks.EarlyStopping(monitor=mon, patience=patien, restore_best_weights=restorebw, verbose=verb, mode=mod)\n",
        "\n",
        "MyCnn2_transf_model_2 = MyCNN2_with_transfer_learning_2()\n",
        "\n",
        "MyCnn2_transf_model_2.compile(optimizer='Adam',\n",
        "              loss=tf.keras.losses.SparseCategoricalCrossentropy(from_logits=True),\n",
        "              metrics=['accuracy'])\n",
        "MyCnn2_transf_history_2 = MyCnn2_transf_model_2.fit(x_train, y_train_to20, epochs=50, batch_size=128,\n",
        "                    validation_data=(x_val, y_val_to20) ,callbacks=[early_callback_fun('loss',patien = 8,verb = 1, mod='min')])"
      ]
    },
    {
      "cell_type": "markdown",
      "metadata": {
        "id": "COloAQYiQkFk"
      },
      "source": [
        "### Bήμα 3"
      ]
    },
    {
      "cell_type": "markdown",
      "metadata": {
        "id": "BOCCUK7JQMPJ"
      },
      "source": [
        "#### Αξιολόγηση\n"
      ]
    },
    {
      "cell_type": "code",
      "execution_count": 85,
      "metadata": {
        "colab": {
          "base_uri": "https://localhost:8080/",
          "height": 301
        },
        "id": "UC9RdjHpQOUr",
        "outputId": "d13a3ded-81e2-49f0-c8f6-2b6bdabf9491"
      },
      "outputs": [
        {
          "name": "stdout",
          "output_type": "stream",
          "text": [
            "63/63 - 1s - loss: 2.9960 - accuracy: 0.0500 - 607ms/epoch - 10ms/step\n"
          ]
        },
        {
          "data": {
            "image/png": "[encoded data removed]",
            "text/plain": [
              "<Figure size 432x288 with 1 Axes>"
            ]
          },
          "metadata": {
            "needs_background": "light"
          },
          "output_type": "display_data"
        }
      ],
      "source": [
        "print_graph(MyCnn2_transf_history_2, MyCnn2_transf_model_2)"
      ]
    },
    {
      "cell_type": "code",
      "execution_count": 86,
      "metadata": {
        "colab": {
          "base_uri": "https://localhost:8080/",
          "height": 283
        },
        "id": "VkRDRMthbAag",
        "outputId": "623f8c38-73b2-433d-99b2-ded23fa9c89f"
      },
      "outputs": [
        {
          "data": {
            "image/png": "[encoded data removed]",
            "text/plain": [
              "<Figure size 432x288 with 1 Axes>"
            ]
          },
          "metadata": {
            "needs_background": "light"
          },
          "output_type": "display_data"
        }
      ],
      "source": [
        "print_all_in_same_plot([(MyCnn2_transf_history_2, \"MyCnn2 with transf 2\"), (MyCnn2_transf_history_1, \"MyCnn2 with transf 1\")])"
      ]
    },
    {
      "cell_type": "markdown",
      "metadata": {
        "id": "M_T6Y9EJDuOu"
      },
      "source": [
        "## Διαχείριση μνήμης (TFRecord)\n",
        "\n",
        "Η φόρτωση δεδομένων με τον τρόπο που το κάναμε παραπάνω στο απλό παράδειγμα υλοποίησης είναι πολύ βολική αλλά δεν είναι αποτελεσματική ως προς τη διαχείριση της μνήμης. Συγκεκριμένα, με τον τρόπο αυτό, τα δεδομένα αποθηκεύονται απευθείας σε μεταβλητές, οι οποίες όλες μαζί καταλαμβάνουν τη RAM της CPU ή της GPU, κάτι που κάνει αδύνατη τη διαχείριση μεγάλων datasets ή τον μεταχηματισμό των δεδομένων όπως όταν κάνουμε αύξηση δεδομένων (data augmentation).\n",
        "\n",
        "Για να παρακαμφθεί αυτό το πρόβλημα, υπάρχει η δυνατότητα της σειριοποίησης των δεδομένων (serialization) και της αποθήκευσής τους σε αρχεία μεσαίου μεγέθους (κάποιων MB) τα οποία μπορούν να αναγνωστούν γραμμικά.\n",
        "\n",
        "Το φορμάτ TFRecord επιτρέπει την αποθήκευση σειράς δυαδικών εγγραφών. Διαβάστε σχετικά για το [TFRecord and tf.Example](https://www.tensorflow.org/tutorials/load_data/tfrecord) και [tf.data: Build TensorFlow input pipelines](https://www.tensorflow.org/guide/data). \n",
        "\n",
        "Σημειώνεται ότι με τη μέθοδο αυτή πρέπει να γίνει import η `tensorflow_datasets` και να χρησιμοποιήσουμε την `tfds.load` ώστε να αποθηκευθεί το σύνολο δεδομένων σε αρχεία tfrecord στο δίσκο (δείτε [εδώ](https://colab.research.google.com/github/tensorflow/datasets/blob/master/docs/overview.ipynb) ένα παράδειγμα). Φυσικά μπορούμε να μετατρέψουμε και τα πρωτογενή δεδομένα (raw data) του dataset όπως αρχεία jpg σε φορματ tfrecord όπως [εδώ](https://towardsdatascience.com/working-with-tfrecords-and-tf-train-example-36d111b3ff4d).\n"
      ]
    }
  ],
  "metadata": {
    "accelerator": "GPU",
    "colab": {
      "name": "2η_Ομαδική_Άσκηση.ipynb",
      "provenance": [],
      "toc_visible": true
    },
    "interpreter": {
      "hash": "6605cacf7427ce5e1d20d0f8d1af538fb4f7d781cf70596898a52975d0ae077a"
    },
    "kernelspec": {
      "display_name": "Python 3.6.13 ('directml')",
      "language": "python",
      "name": "python3"
    },
    "language_info": {
      "codemirror_mode": {
        "name": "ipython",
        "version": 3
      },
      "file_extension": ".py",
      "mimetype": "text/x-python",
      "name": "python",
      "nbconvert_exporter": "python",
      "pygments_lexer": "ipython3",
      "version": "3.6.13"
    }
  },
  "nbformat": 4,
  "nbformat_minor": 0
}
