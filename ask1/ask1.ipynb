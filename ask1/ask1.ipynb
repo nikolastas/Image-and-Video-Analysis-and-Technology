{
 "cells": [
  {
   "cell_type": "markdown",
   "metadata": {},
   "source": [
    "Ομάδα 88\n",
    "Ναταλία-Μαρία Γρηγοριάδου 03118940\n",
    "Νικόλαος Τασιόπουλος 03118858 "
   ]
  },
  {
   "cell_type": "markdown",
   "metadata": {},
   "source": [
    "Ερώτηση :"
   ]
  }
 ],
 "metadata": {
  "language_info": {
   "name": "python"
  },
  "orig_nbformat": 4
 },
 "nbformat": 4,
 "nbformat_minor": 2
}
