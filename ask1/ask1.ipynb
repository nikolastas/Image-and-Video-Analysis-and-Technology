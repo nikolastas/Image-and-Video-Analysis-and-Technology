{
 "cells": [
  {
   "cell_type": "markdown",
   "metadata": {},
   "source": [
    "Ομάδα 88\n",
    "\n",
    "Ναταλία-Μαρία Γρηγοριάδου 03118940\n",
    "\n",
    "Νικόλαος Τασιόπουλος 03118858 "
   ]
  },
  {
   "cell_type": "markdown",
   "metadata": {},
   "source": [
    "ΘΕΩΡΗΤΙΚΟ ΜΕΡΟΣ:\n",
    "\n",
    "α) Στην απεικόνιση μίας εικόνας η τιμή του κάθε pixel δεν είναι τυχαία. Παρατηρούμε ότι υπάρχει συσχέτιση με τα γειτονικά πίξελ. Αυτό σημαίνει ότι ένα μεγάλο κομμάτι της πληροφορίας της εικόνας είναι επαναλαμβανόμενο άρα και περιττό καθιστώντας την κωδικοποίηση της εικόνας μη αποδοτική. Το πρόβλημα που θίγει το άρθρο αφορά το πως μπορούμε να μειώσουμε την κωδικοποιημένη αναπαράσταση της εικόνας (με δυνατότητα ανακατασκευής της αρχικής), προβλέποντας την τιμή των πίξελ με βάση τα γειτονικά τους. Στο άρθρο εισάγεται ένας νέος τρόπος κωδικοποιήσης της εικόνας, ο οποίος αξιοποιεί τα πλεονεκτήματα των προγενέστερών του μεθόδων (predictive and transform), αυτός της Laplacian πυραμίδας. Τα επίπεδα της Laplacian πυραμίδας βασίζονται στα επίπεδα της Gaussian πυραμίδας (τα οποία μπορούμε να δούμε ως το αποτέλεσμα της εφαρμογής ενός βαθυπερατού φίλτρου στο προηγούμενο επίπεδο), κωδικοποιώντας όμως το σφάλμα μεταξύ των διαδοχικών επιπέδων (το οποίο μπορούμε να δούμε ως το αποτέλεσμα της εφαρμογής ενός ζωνοπερατού φίλτρου στο προηγούμενο επίπεδο).\n",
    "\n",
    "β) Τα επίπεδα της Gaussian πυραμίδας σχηματίζονται εφαρμόζοντας επαναληπτικά συνέλιξη στην εικόνα με μια συνάρτηση βάρους που προσομοιάζει την Gaussian πιθανοτική κατανομή.\n",
    "To Gaussian filter ουσιαστικά χρησιμοποιείται για να πάρουμε πληροφορία απο όλα τα γειτονικά πιξελ και η υποδειγματοληψία χρησιμοποιείται για να παραλείψουμε μερικά γειτονικά με σκοπό την μείωση της επαναλαμβανόμενης πληροφορίας.\n",
    "\n",
    "γ) Ο στόχος μας είναι η κωδικοποίηση της εικόνας χωρίς επανάληψη περιττής πληροφορίας. Και στις δύο πυραμίδες αυτό επιτυγχάνεται. στην Laplacian, όμως κωδικοποιούμε το σφάλμα μεταξύ των δύο επιπέδων της Gaussian πυραμίδας. Αυτό έχει ως αποτέλεσμα να μειώνεται η συσχέτιση μεταξύ των πίξελ. Οι κωδικοποιημένες τιμές είναι πολύ μικρές (κοντά στο 0) μειώνοντας έτσι σημαντικά την εντροπία.\n",
    "\n",
    "Μέσω της λαπλασιανής κωδικοποιούμε και το error image ως την διαφορά των επιπέδων gi-expand(gi+1) (για αυτο ειναι καλυτερη απο την gaussian)\n",
    "\n",
    "δ)\n",
    "Με δοσμένη την λαπλασιανή πυραμίδα για να ανακατασκευάσουμε τέλεια την αρχική εικόνα μπορουμε να κάνουμε expand όλα τα επίπεδα της πυραμίδας και να τα φέρουμε στο αρχικό μέγεθος (της εικόνας στην βάση της πυραμίδας) και να προσθέσουμε τις νεες εικονες ή πιο αποτελεσματικά, ξεκινώντας απο την κορυφή της πυραμίδας, κάνουμε εξπαντ και προσθέτουμε στο αμέσως επόμενο επίπεδο. σε αυτο που θα προκύψει ξανα κάνουμε εξπαντ και προσθέτουμε στο επόμενο επίπεδο και επαναλαμβάνουμε μέχρι να ανακτηθεί η εικόνα. (Υπάρχουν διαφορές με την αρχική εικόνα αλλα δεν ειναι αντιληπτες απο το ανθρώπινο μάτι.)"
   ]
  },
  {
   "cell_type": "code",
   "execution_count": 40,
   "metadata": {},
   "outputs": [],
   "source": [
    "import numpy as np\n",
    "import urllib\n",
    "import cv2\n",
    "from matplotlib import pyplot as plt\n",
    "from skimage import data as skdata"
   ]
  },
  {
   "cell_type": "code",
   "execution_count": 22,
   "metadata": {},
   "outputs": [
    {
     "name": "stdout",
     "output_type": "stream",
     "text": [
      "[[0.     0.     0.     0.     0.    ]\n",
      " [0.     0.0625 0.0625 0.0625 0.    ]\n",
      " [0.     0.0625 0.0625 0.0625 0.    ]\n",
      " [0.     0.0625 0.0625 0.0625 0.    ]\n",
      " [0.     0.     0.     0.     0.    ]]\n"
     ]
    }
   ],
   "source": [
    "# Εργαστηριακό μέρος \n",
    "# a)\n",
    "def Gkernel(a):\n",
    "    c= 1/4-a\n",
    "    b=1/4\n",
    "    arr = np.array([[c], [b], [a], [b], [c]])\n",
    "    return arr@arr.T #multiply arrays and return the result\n",
    "\n",
    "h = Gkernel(1/4)\n",
    "print(h)"
   ]
  },
  {
   "cell_type": "code",
   "execution_count": 23,
   "metadata": {},
   "outputs": [],
   "source": [
    "# b)\n",
    "\n",
    "def Greduce(I,h):\n",
    "    # downsample the image by 2 and return the result\n",
    "    return cv2.filter2D(I,-1,h)[0::2, 0::2]"
   ]
  },
  {
   "cell_type": "code",
   "execution_count": 24,
   "metadata": {},
   "outputs": [],
   "source": [
    "# c)\n",
    "def GaussianPyramid(I,a, levels):\n",
    "    # build a Gaussian pyramid on I and return the result\n",
    "    h=Gkernel(a)\n",
    "    G = [I]\n",
    "    for i in range(levels):\n",
    "        G.append(Greduce(G[i],h))\n",
    "    return G\n",
    "\n"
   ]
  },
  {
   "cell_type": "code",
   "execution_count": 25,
   "metadata": {},
   "outputs": [],
   "source": [
    "# d)\n",
    "def Gexpand(I,h):\n",
    "    # expand the image by 2 and return the result\n",
    "    return cv2.filter2D(I,-1,h)[::2, ::2]"
   ]
  },
  {
   "cell_type": "code",
   "execution_count": 26,
   "metadata": {},
   "outputs": [],
   "source": [
    "# e)\n",
    "\n",
    "def LaplassianPyramid(G,a, levels):\n",
    "    # build a Laplassian pyramid on G and return the result\n",
    "    h=Gkernel(a)\n",
    "    L = [G[levels-1]]\n",
    "    for i in range(levels-1,0,-1):\n",
    "        L.append(Gexpand(L[i],h)+G[i-1])\n",
    "    return L"
   ]
  },
  {
   "cell_type": "code",
   "execution_count": 27,
   "metadata": {},
   "outputs": [],
   "source": [
    "# f)\n",
    "def LaplassianReconstruct(L,a, levels):\n",
    "    # reconstruct the image from its Laplassian pyramid and return the result\n",
    "    h=Gkernel(a)\n",
    "    for i in range(levels-1):\n",
    "        L[i] = Gexpand(L[i],h) + L[i+1]\n",
    "    return L[0]"
   ]
  },
  {
   "cell_type": "code",
   "execution_count": 28,
   "metadata": {},
   "outputs": [],
   "source": [
    "# g)\n",
    "\n",
    "def LaplassianQuantize(L,a, levels):\n",
    "    # quantize the Laplassian pyramid and return the result\n",
    "    h=Gkernel(a)\n",
    "    for i in range(levels-1):\n",
    "        L[i] = Gexpand(L[i],h) + L[i+1]\n",
    "    return L[0]"
   ]
  },
  {
   "cell_type": "code",
   "execution_count": 43,
   "metadata": {},
   "outputs": [],
   "source": [
    "# Δοκιμές Αλγορίθμου\n",
    "\n",
    "# α)\n",
    "#load Lena\n",
    "Lena_HTTP = urllib.request.urlopen('http://www.image.ntua.gr/~tpar/LABimage/lena.png')\n",
    "Lena_arr = np.asanyarray(bytearray(Lena_HTTP.read()), dtype=np.uint8)\n",
    "Lena_BGR = cv2.imdecode(Lena_arr,-1)\n",
    "Lena_RGB = cv2.cvtColor(Lena_BGR, cv2.COLOR_BGR2RGB)\n",
    "\n",
    "\n",
    "#load Camera\n",
    "Camera = skdata.camera()\n",
    "Camera_RGB = cv2.cvtColor(Camera, cv2.COLOR_BGR2RGB)\n",
    "Camera_BGR = cv2.cvtColor(Camera_RGB, cv2.COLOR_RGB2BGR)\n",
    "\n"
   ]
  },
  {
   "cell_type": "code",
   "execution_count": 45,
   "metadata": {},
   "outputs": [
    {
     "ename": "IndexError",
     "evalue": "list index out of range",
     "output_type": "error",
     "traceback": [
      "\u001b[1;31m---------------------------------------------------------------------------\u001b[0m",
      "\u001b[1;31mIndexError\u001b[0m                                Traceback (most recent call last)",
      "\u001b[1;32mc:\\Users\\User\\coding\\image&video\\ask1\\ask1.ipynb Cell 12'\u001b[0m in \u001b[0;36m<cell line: 4>\u001b[1;34m()\u001b[0m\n\u001b[0;32m      <a href='vscode-notebook-cell:/c%3A/Users/User/coding/image%26video/ask1/ask1.ipynb#ch0000013?line=0'>1</a>\u001b[0m a \u001b[39m=\u001b[39m \u001b[39m4\u001b[39m\u001b[39m/\u001b[39m\u001b[39m10\u001b[39m\n\u001b[0;32m      <a href='vscode-notebook-cell:/c%3A/Users/User/coding/image%26video/ask1/ask1.ipynb#ch0000013?line=1'>2</a>\u001b[0m depth\u001b[39m=\u001b[39m\u001b[39m10\u001b[39m\n\u001b[1;32m----> <a href='vscode-notebook-cell:/c%3A/Users/User/coding/image%26video/ask1/ask1.ipynb#ch0000013?line=3'>4</a>\u001b[0m Lena_Lapl \u001b[39m=\u001b[39m LaplassianPyramid(Lena_RGB,a,depth)\n\u001b[0;32m      <a href='vscode-notebook-cell:/c%3A/Users/User/coding/image%26video/ask1/ask1.ipynb#ch0000013?line=4'>5</a>\u001b[0m Camera_Lapl \u001b[39m=\u001b[39m LaplassianPyramid(Camera_RGB,a,depth)\n\u001b[0;32m      <a href='vscode-notebook-cell:/c%3A/Users/User/coding/image%26video/ask1/ask1.ipynb#ch0000013?line=6'>7</a>\u001b[0m \u001b[39mfor\u001b[39;00m i \u001b[39min\u001b[39;00m \u001b[39mrange\u001b[39m(depth\u001b[39m-\u001b[39m\u001b[39m1\u001b[39m):\n",
      "\u001b[1;32mc:\\Users\\User\\coding\\image&video\\ask1\\ask1.ipynb Cell 8'\u001b[0m in \u001b[0;36mLaplassianPyramid\u001b[1;34m(G, a, levels)\u001b[0m\n\u001b[0;32m      <a href='vscode-notebook-cell:/c%3A/Users/User/coding/image%26video/ask1/ask1.ipynb#ch0000007?line=5'>6</a>\u001b[0m L \u001b[39m=\u001b[39m [G[levels\u001b[39m-\u001b[39m\u001b[39m1\u001b[39m]]\n\u001b[0;32m      <a href='vscode-notebook-cell:/c%3A/Users/User/coding/image%26video/ask1/ask1.ipynb#ch0000007?line=6'>7</a>\u001b[0m \u001b[39mfor\u001b[39;00m i \u001b[39min\u001b[39;00m \u001b[39mrange\u001b[39m(levels\u001b[39m-\u001b[39m\u001b[39m1\u001b[39m,\u001b[39m0\u001b[39m,\u001b[39m-\u001b[39m\u001b[39m1\u001b[39m):\n\u001b[1;32m----> <a href='vscode-notebook-cell:/c%3A/Users/User/coding/image%26video/ask1/ask1.ipynb#ch0000007?line=7'>8</a>\u001b[0m     L\u001b[39m.\u001b[39mappend(Gexpand(L[i],h)\u001b[39m+\u001b[39mG[i\u001b[39m-\u001b[39m\u001b[39m1\u001b[39m])\n\u001b[0;32m      <a href='vscode-notebook-cell:/c%3A/Users/User/coding/image%26video/ask1/ask1.ipynb#ch0000007?line=8'>9</a>\u001b[0m \u001b[39mreturn\u001b[39;00m L\n",
      "\u001b[1;31mIndexError\u001b[0m: list index out of range"
     ]
    }
   ],
   "source": [
    "a = 4/10\n",
    "depth=10\n",
    "\n",
    "Lena_Lapl = LaplassianPyramid(Lena_RGB,a,depth)\n",
    "Camera_Lapl = LaplassianPyramid(Camera_RGB,a,depth)\n",
    "\n",
    "for i in range(depth):\n",
    "    plt.subplot(1,depth,i+1)\n",
    "    plt.imshow(Lena_Lapl[i],cmap='gray')\n",
    "    plt.axis('off')"
   ]
  }
 ],
 "metadata": {
  "interpreter": {
   "hash": "2be5faf79681da6f2a61fdfdd5405d65d042280f7fba6178067603e3a2925119"
  },
  "kernelspec": {
   "display_name": "Python 3.10.2 64-bit",
   "language": "python",
   "name": "python3"
  },
  "language_info": {
   "codemirror_mode": {
    "name": "ipython",
    "version": 3
   },
   "file_extension": ".py",
   "mimetype": "text/x-python",
   "name": "python",
   "nbconvert_exporter": "python",
   "pygments_lexer": "ipython3",
   "version": "3.10.2"
  },
  "orig_nbformat": 4
 },
 "nbformat": 4,
 "nbformat_minor": 2
}
